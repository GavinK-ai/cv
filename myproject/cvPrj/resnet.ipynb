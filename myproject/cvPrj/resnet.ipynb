{
 "cells": [
  {
   "cell_type": "code",
   "execution_count": 1,
   "metadata": {},
   "outputs": [
    {
     "name": "stdout",
     "output_type": "stream",
     "text": [
      "Found 703 validated image filenames belonging to 2 classes.\n",
      "Found 325 validated image filenames belonging to 2 classes.\n",
      "Epoch 1/10\n",
      "22/22 [==============================] - 81s 4s/step - loss: 0.8612 - accuracy: 0.8094\n",
      "Epoch 2/10\n",
      "22/22 [==============================] - 80s 4s/step - loss: 0.1670 - accuracy: 0.9431\n",
      "Epoch 3/10\n",
      "22/22 [==============================] - 80s 4s/step - loss: 0.1166 - accuracy: 0.9602\n",
      "Epoch 4/10\n",
      "22/22 [==============================] - 81s 4s/step - loss: 0.0799 - accuracy: 0.9772\n",
      "Epoch 5/10\n",
      "22/22 [==============================] - 82s 4s/step - loss: 0.0492 - accuracy: 0.9872\n",
      "Epoch 6/10\n",
      "22/22 [==============================] - 82s 4s/step - loss: 0.0471 - accuracy: 0.9844\n",
      "Epoch 7/10\n",
      "22/22 [==============================] - 81s 4s/step - loss: 0.0106 - accuracy: 0.9986\n",
      "Epoch 8/10\n",
      "22/22 [==============================] - 79s 4s/step - loss: 0.0052 - accuracy: 1.0000\n",
      "Epoch 9/10\n",
      "22/22 [==============================] - 80s 4s/step - loss: 0.0030 - accuracy: 1.0000\n",
      "Epoch 10/10\n",
      "22/22 [==============================] - 82s 4s/step - loss: 0.0021 - accuracy: 1.0000\n"
     ]
    },
    {
     "data": {
      "image/png": "[encoded data removed]",
      "text/plain": [
       "<Figure size 432x288 with 1 Axes>"
      ]
     },
     "metadata": {
      "needs_background": "light"
     },
     "output_type": "display_data"
    },
    {
     "data": {
      "image/png": "[encoded data removed]",
      "text/plain": [
       "<Figure size 432x288 with 1 Axes>"
      ]
     },
     "metadata": {
      "needs_background": "light"
     },
     "output_type": "display_data"
    },
    {
     "data": {
      "image/png": "[encoded data removed]",
      "text/plain": [
       "<Figure size 432x288 with 1 Axes>"
      ]
     },
     "metadata": {
      "needs_background": "light"
     },
     "output_type": "display_data"
    },
    {
     "name": "stdout",
     "output_type": "stream",
     "text": [
      "Test Accuracy\n",
      "11/11 [==============================] - 41s 4s/step - loss: 0.7255 - accuracy: 0.8123\n"
     ]
    },
    {
     "ename": "NameError",
     "evalue": "name 'test_acc' is not defined",
     "output_type": "error",
     "traceback": [
      "\u001b[1;31m---------------------------------------------------------------------------\u001b[0m",
      "\u001b[1;31mNameError\u001b[0m                                 Traceback (most recent call last)",
      "\u001b[1;32m~\\AppData\\Local\\Temp/ipykernel_4840/2516166745.py\u001b[0m in \u001b[0;36m<module>\u001b[1;34m\u001b[0m\n\u001b[0;32m     90\u001b[0m \u001b[0mmodel\u001b[0m\u001b[1;33m.\u001b[0m\u001b[0mevaluate\u001b[0m\u001b[1;33m(\u001b[0m\u001b[0mtest_image\u001b[0m\u001b[1;33m)\u001b[0m\u001b[1;33m\u001b[0m\u001b[1;33m\u001b[0m\u001b[0m\n\u001b[0;32m     91\u001b[0m \u001b[1;33m\u001b[0m\u001b[0m\n\u001b[1;32m---> 92\u001b[1;33m \u001b[1;32mif\u001b[0m \u001b[0mtest_acc\u001b[0m \u001b[1;33m>\u001b[0m \u001b[1;36m0.8\u001b[0m\u001b[1;33m:\u001b[0m\u001b[1;33m\u001b[0m\u001b[1;33m\u001b[0m\u001b[0m\n\u001b[0m\u001b[0;32m     93\u001b[0m     \u001b[0msavedFile\u001b[0m \u001b[1;33m=\u001b[0m \u001b[1;34mf'resnet/cv_image_resnet_{(test_acc*100):.0f}.pt'\u001b[0m\u001b[1;33m\u001b[0m\u001b[1;33m\u001b[0m\u001b[0m\n\u001b[0;32m     94\u001b[0m     \u001b[0mtorch\u001b[0m\u001b[1;33m.\u001b[0m\u001b[0msave\u001b[0m\u001b[1;33m(\u001b[0m\u001b[0mmodel\u001b[0m\u001b[1;33m.\u001b[0m\u001b[0mstate_dict\u001b[0m\u001b[1;33m(\u001b[0m\u001b[1;33m)\u001b[0m\u001b[1;33m,\u001b[0m \u001b[0msavedFile\u001b[0m\u001b[1;33m)\u001b[0m\u001b[1;33m\u001b[0m\u001b[1;33m\u001b[0m\u001b[0m\n",
      "\u001b[1;31mNameError\u001b[0m: name 'test_acc' is not defined"
     ]
    }
   ],
   "source": [
    "import copy\n",
    "import glob\n",
    "import os\n",
    "import time\n",
    "from pathlib import Path\n",
    "import pandas as pd\n",
    "import cv2 as cv\n",
    "import matplotlib.pyplot as plt\n",
    "import numpy as np\n",
    "import tensorflow as tf\n",
    "from keras.models import Model\n",
    "from sklearn.model_selection import train_test_split\n",
    "from tensorflow import keras\n",
    "from tensorflow.keras.applications import ResNet50\n",
    "from tensorflow.keras.applications.resnet50 import preprocess_input\n",
    "from tensorflow.keras.layers import Conv2D, Dense, Dropout, Flatten\n",
    "from tensorflow.keras.preprocessing.image import ImageDataGenerator\n",
    "\n",
    "from data_process import (add_noise, create_data, flip, greyscale,\n",
    "                          normalization, rotate, process)\n",
    "\n",
    "\n",
    "train_path = 'dataset/training_data'\n",
    "test_path = 'dataset/testing_data'\n",
    "\n",
    "df_train = process(train_path)\n",
    "df_test = process(test_path)\n",
    "\n",
    "EPOCHS = 10\n",
    "BATCH_SIZE = 32\n",
    "RANDOM_SEED = 42\n",
    "\n",
    "train_generator = ImageDataGenerator(preprocessing_function=preprocess_input)\n",
    "test_generator = ImageDataGenerator(preprocessing_function=preprocess_input)\n",
    "\n",
    "train_image = train_generator.flow_from_dataframe(dataframe=df_train,\n",
    "                                                  x_col='filepaths',\n",
    "                                                  y_col='labels',\n",
    "                                                  target_size=(224, 224),\n",
    "                                                  batch_size=BATCH_SIZE,\n",
    "                                                  subset='training',\n",
    "                                                  random_seed=RANDOM_SEED)\n",
    "\n",
    "test_image = test_generator.flow_from_dataframe(dataframe=df_test,\n",
    "                                                x_col='filepaths',\n",
    "                                                y_col='labels',\n",
    "                                                target_size=(224, 224),\n",
    "                                                batch_size=BATCH_SIZE,\n",
    "                                                random_seed=RANDOM_SEED\n",
    "                                                )\n",
    "\n",
    "pretrained_model = ResNet50(\n",
    "    input_shape=(224, 224, 3),\n",
    "    include_top=False,\n",
    "    weights='imagenet',\n",
    "    pooling='max'\n",
    ")\n",
    "pretrained_model.trainable = False  # We don't want to train again the resnet\n",
    "\n",
    "inputs = pretrained_model.input\n",
    "\n",
    "x = Dense(120, activation='relu')(pretrained_model.output)\n",
    "x = Dense(120, activation='relu')(x)  # adding some custom layers of our coice\n",
    "\n",
    "outputs = Dense(2, activation='sigmoid')(x)\n",
    "# output choice\n",
    "model = Model(inputs=inputs, outputs=outputs)\n",
    "\n",
    "model.compile(\n",
    "    optimizer='adam',\n",
    "    loss='binary_crossentropy',\n",
    "    metrics=['accuracy']\n",
    ")\n",
    "\n",
    "mo_fit = model.fit(train_image, epochs=EPOCHS)\n",
    "\n",
    "train_acc = mo_fit.history\n",
    "\n",
    "plt.subplot(1,2,1)\n",
    "plt.title(\"Accuracy\")\n",
    "pd.DataFrame(mo_fit.history)[['accuracy']].plot()\n",
    "\n",
    "plt.subplot(1,2,2)\n",
    "plt.title(\"Loss\")\n",
    "pd.DataFrame(mo_fit.history)[['loss']].plot()\n",
    "\n",
    "plt.show()\n",
    "\n",
    "print('Test Accuracy')\n",
    "model.evaluate(test_image)\n",
    "\n",
    "if test_acc > 0.8:\n",
    "    savedFile = f'resnet/cv_image_resnet_{(test_acc*100):.0f}.pt'\n",
    "    torch.save(model.state_dict(), savedFile)\n",
    "    print(\"Export Path = \"+savedFile)\n"
   ]
  },
  {
   "cell_type": "code",
   "execution_count": 2,
   "metadata": {},
   "outputs": [
    {
     "data": {
      "text/plain": [
       "{'loss': [0.8612356781959534,\n",
       "  0.1669626086950302,\n",
       "  0.11656492948532104,\n",
       "  0.07989806681871414,\n",
       "  0.04920986667275429,\n",
       "  0.04706142470240593,\n",
       "  0.010606659576296806,\n",
       "  0.0052194674499332905,\n",
       "  0.0029860164504498243,\n",
       "  0.0021252369042485952],\n",
       " 'accuracy': [0.8093883395195007,\n",
       "  0.9431009888648987,\n",
       "  0.9601706862449646,\n",
       "  0.9772403836250305,\n",
       "  0.9871976971626282,\n",
       "  0.9843527674674988,\n",
       "  0.9985775351524353,\n",
       "  1.0,\n",
       "  1.0,\n",
       "  1.0]}"
      ]
     },
     "execution_count": 2,
     "metadata": {},
     "output_type": "execute_result"
    }
   ],
   "source": [
    "mo_fit.history"
   ]
  },
  {
   "cell_type": "code",
   "execution_count": 3,
   "metadata": {},
   "outputs": [
    {
     "data": {
      "text/plain": [
       "<function eval(source, globals=None, locals=None, /)>"
      ]
     },
     "execution_count": 3,
     "metadata": {},
     "output_type": "execute_result"
    }
   ],
   "source": [
    "eval"
   ]
  },
  {
   "cell_type": "code",
   "execution_count": 5,
   "metadata": {},
   "outputs": [
    {
     "name": "stdout",
     "output_type": "stream",
     "text": [
      "11/11 [==============================] - 38s 3s/step - loss: 0.7255 - accuracy: 0.8123\n"
     ]
    }
   ],
   "source": [
    "test_result = model.evaluate(test_image)"
   ]
  },
  {
   "cell_type": "code",
   "execution_count": 6,
   "metadata": {},
   "outputs": [
    {
     "data": {
      "text/plain": [
       "[0.7254683971405029, 0.8123077154159546]"
      ]
     },
     "execution_count": 6,
     "metadata": {},
     "output_type": "execute_result"
    }
   ],
   "source": [
    "test_result"
   ]
  },
  {
   "cell_type": "code",
   "execution_count": 15,
   "metadata": {},
   "outputs": [
    {
     "name": "stdout",
     "output_type": "stream",
     "text": [
      "INFO:tensorflow:Assets written to: resnet_model\\assets\n"
     ]
    },
    {
     "name": "stderr",
     "output_type": "stream",
     "text": [
      "C:\\SDK\\Python39\\lib\\site-packages\\keras\\engine\\functional.py:1410: CustomMaskWarning: Custom mask layers require a config and must override get_config. When loading, the custom mask layer must be passed to the custom_objects argument.\n",
      "  layer_config = serialize_layer_fn(layer)\n",
      "C:\\SDK\\Python39\\lib\\site-packages\\keras\\saving\\saved_model\\layer_serialization.py:112: CustomMaskWarning: Custom mask layers require a config and must override get_config. When loading, the custom mask layer must be passed to the custom_objects argument.\n",
      "  return generic_utils.serialize_keras_object(obj)\n"
     ]
    }
   ],
   "source": [
    "#import torch\n",
    "#savedFile = f'resnet/cv_image_resnet_{(test_result[1]*100):.0f}.pt'\n",
    "#print(\"[INFO] serializing network to '{}'...\".format(args[\"model\"]))\n",
    "model.save('resnet_model')"
   ]
  },
  {
   "cell_type": "code",
   "execution_count": 17,
   "metadata": {},
   "outputs": [
    {
     "name": "stdout",
     "output_type": "stream",
     "text": [
      "INFO:tensorflow:Assets written to: resnet/cv_image_resnet_81.pt\\assets\n"
     ]
    },
    {
     "name": "stderr",
     "output_type": "stream",
     "text": [
      "C:\\SDK\\Python39\\lib\\site-packages\\keras\\engine\\functional.py:1410: CustomMaskWarning: Custom mask layers require a config and must override get_config. When loading, the custom mask layer must be passed to the custom_objects argument.\n",
      "  layer_config = serialize_layer_fn(layer)\n",
      "C:\\SDK\\Python39\\lib\\site-packages\\keras\\saving\\saved_model\\layer_serialization.py:112: CustomMaskWarning: Custom mask layers require a config and must override get_config. When loading, the custom mask layer must be passed to the custom_objects argument.\n",
      "  return generic_utils.serialize_keras_object(obj)\n"
     ]
    }
   ],
   "source": [
    "savedFile = f'resnet/cv_image_resnet_{(test_result[1]*100):.0f}.pt'\n",
    "model.save(savedFile)"
   ]
  },
  {
   "cell_type": "code",
   "execution_count": null,
   "metadata": {},
   "outputs": [],
   "source": []
  }
 ],
 "metadata": {
  "interpreter": {
   "hash": "b5572384fec6d310c574784c4ff4f3df12c5eb2938d77a1833302b0cb155924f"
  },
  "kernelspec": {
   "display_name": "Python 3.9.8 64-bit",
   "language": "python",
   "name": "python3"
  },
  "language_info": {
   "codemirror_mode": {
    "name": "ipython",
    "version": 3
   },
   "file_extension": ".py",
   "mimetype": "text/x-python",
   "name": "python",
   "nbconvert_exporter": "python",
   "pygments_lexer": "ipython3",
   "version": "3.9.8"
  },
  "orig_nbformat": 4
 },
 "nbformat": 4,
 "nbformat_minor": 2
}
