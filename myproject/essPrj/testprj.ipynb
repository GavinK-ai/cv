{
 "cells": [
  {
   "cell_type": "code",
   "execution_count": 1,
   "metadata": {},
   "outputs": [],
   "source": [
    "import numpy as np\n",
    "import cv2 as cv\n",
    "import matplotlib.pyplot as plt\n",
    "import os"
   ]
  },
  {
   "cell_type": "code",
   "execution_count": 4,
   "metadata": {},
   "outputs": [],
   "source": [
    "imgFile = 'shapes3.png'\n",
    "rawImg = cv.imread(imgFile)\n",
    "gry = cv.cvtColor(rawImg, cv.COLOR_BGR2GRAY)\n",
    "ret, threshImg = cv.threshold(gry, 50, 255, cv.THRESH_BINARY)\n",
    "contours, hierarchy = cv.findContours(threshImg, cv.RETR_EXTERNAL, cv.CHAIN_APPROX_NONE)"
   ]
  },
  {
   "cell_type": "code",
   "execution_count": 6,
   "metadata": {},
   "outputs": [
    {
     "name": "stdout",
     "output_type": "stream",
     "text": [
      "contour: (14, 1, 2) (14, 2)\n",
      "contour: (16, 1, 2) (16, 2)\n"
     ]
    }
   ],
   "source": [
    "imgApproxPolyDP = rawImg.copy()\n",
    "for contour in contours:\n",
    "    perimeter = cv.arcLength(contour, True)\n",
    "    epsilon = 0.01 * perimeter\n",
    "    approxPolyDP = cv.approxPolyDP(contour, epsilon, True)\n",
    "\n",
    "    color = (0, 255, 255)\n",
    "    thickness = 5\n",
    "    # draw line\n",
    "    for approx in approxPolyDP:\n",
    "        cv.drawContours(imgApproxPolyDP, [approx], 0, color, thickness)\n",
    "    color = (255, 0, 0)\n",
    "    thickness = 5\n",
    "    # draw points\n",
    "    for approx in [approxPolyDP]:\n",
    "        # draw points\n",
    "        squeeze = np.squeeze(approx)\n",
    "        print(\"contour:\", approx.shape, squeeze.shape)\n",
    "        for p in squeeze:\n",
    "            pp = tuple(p.reshape(1, -1)[0])\n",
    "            cv.circle(imgApproxPolyDP, pp, 10, color, -1)\n",
    "\n",
    "    # determine shape\n",
    "    verticeNumber = len(approxPolyDP)\n",
    "    if verticeNumber == 3:\n",
    "        vertice_shape = (verticeNumber, \"Triangle\")\n",
    "    elif verticeNumber == 4:\n",
    "        # get aspect ratio\n",
    "        x, y, width, height = cv.boundingRect(approxPolyDP)\n",
    "        aspectRatio = float(width) / height\n",
    "        print(aspectRatio)\n",
    "        if 0.90 < aspectRatio < 1.1:\n",
    "            vertice_shape = (verticeNumber, \"Square\")\n",
    "        else:\n",
    "            vertice_shape = (verticeNumber, \"Rectangle\")\n",
    "    elif verticeNumber == 5:\n",
    "        vertice_shape = (verticeNumber, \"Pentagon\")\n",
    "    elif verticeNumber == 6:\n",
    "        vertice_shape = (verticeNumber, \"Hexagon\")\n",
    "    elif verticeNumber == 7:\n",
    "        vertice_shape = (verticeNumber, \"Heptagon\")\n",
    "    elif verticeNumber == 8:\n",
    "        vertice_shape = (verticeNumber, \"Octagon\")\n",
    "    elif verticeNumber == 9:\n",
    "        vertice_shape = (verticeNumber, \"Nonagon\")\n",
    "    elif verticeNumber == 10:\n",
    "        vertice_shape = (verticeNumber, \"Decagon\")\n",
    "    else:\n",
    "        vertice_shape = (verticeNumber, \"Circle\")\n",
    "\n",
    "    # write shape\n",
    "    # Compute the moment of contour:\n",
    "    M = cv.moments(contour)\n",
    "\n",
    "    # The center or centroid can be calculated as follows:\n",
    "    cX = int(M[\"m10\"] / M[\"m00\"])\n",
    "    cY = int(M[\"m01\"] / M[\"m00\"])\n",
    "\n",
    "    # Get the position to draw:\n",
    "    text = vertice_shape[1]+\n",
    "    fontFace = cv.FONT_HERSHEY_SIMPLEX\n",
    "    fontScale = 1\n",
    "    thickness = 2\n",
    "    text_size = cv.getTextSize(text, fontFace, fontScale, thickness)[0]\n",
    "\n",
    "    text_x = cX - text_size[0] / 2\n",
    "    text_x = round(text_x)\n",
    "    text_y = cY + text_size[1] / 2\n",
    "    text_y = round(text_y)\n",
    "\n",
    "    # Write the ordering of the shape on the center of shapes\n",
    "    color = (0,0,0)\n",
    "    result = cv.putText(\n",
    "        imgApproxPolyDP, text, (text_x, text_y), fontFace, fontScale, color, thickness\n",
    "    )"
   ]
  },
  {
   "cell_type": "code",
   "execution_count": 8,
   "metadata": {},
   "outputs": [],
   "source": [
    "verticeNumber = len(approxPolyDP)\n",
    "if verticeNumber == 3:\n",
    "    vertice_shape = (verticeNumber, \"Triangle\")\n",
    "elif verticeNumber == 4:\n",
    "    # get aspect ratio\n",
    "    x, y, width, height = cv.boundingRect(approxPolyDP)\n",
    "    aspectRatio = float(width) / height\n",
    "    print(aspectRatio)\n",
    "    if 0.90 < aspectRatio < 1.1:\n",
    "        vertice_shape = (verticeNumber, \"Square\")\n",
    "    else:\n",
    "        vertice_shape = (verticeNumber, \"Rectangle\")\n",
    "elif verticeNumber == 5:\n",
    "    vertice_shape = (verticeNumber, \"Pentagon\")\n",
    "elif verticeNumber == 6:\n",
    "    vertice_shape = (verticeNumber, \"Hexagon\")\n",
    "elif verticeNumber == 7:\n",
    "    vertice_shape = (verticeNumber, \"Heptagon\")\n",
    "elif verticeNumber == 8:\n",
    "    vertice_shape = (verticeNumber, \"Octagon\")\n",
    "elif verticeNumber == 9:\n",
    "    vertice_shape = (verticeNumber, \"Nonagon\")\n",
    "elif verticeNumber == 10:\n",
    "    vertice_shape = (verticeNumber, \"Decagon\")\n",
    "else:\n",
    "    vertice_shape = (verticeNumber, \"Circle\")"
   ]
  },
  {
   "cell_type": "code",
   "execution_count": 12,
   "metadata": {},
   "outputs": [
    {
     "data": {
      "text/plain": [
       "[4636.0, 37004.0]"
      ]
     },
     "execution_count": 12,
     "metadata": {},
     "output_type": "execute_result"
    }
   ],
   "source": [
    "contours_sizes = [cv.contourArea(contour) for contour in contours]\n",
    "contours_sizes"
   ]
  },
  {
   "cell_type": "code",
   "execution_count": 18,
   "metadata": {},
   "outputs": [
    {
     "name": "stdout",
     "output_type": "stream",
     "text": [
      "contour: (14, 1, 2) (14, 2)\n",
      "contour: (16, 1, 2) (16, 2)\n",
      "contour: (14, 1, 2) (14, 2)\n",
      "contour: (16, 1, 2) (16, 2)\n"
     ]
    }
   ],
   "source": [
    "size_shape_list = zip(contours_sizes, contours)\n",
    "sorted_size_shape_list = sorted(size_shape_list, key=lambda x: x[0])\n",
    "for i, (size, contour) in enumerate(sorted_size_shape_list):\n",
    "\n",
    "    imgApproxPolyDP = rawImg.copy()\n",
    "    for contour in contours:\n",
    "        perimeter = cv.arcLength(contour, True)\n",
    "        epsilon = 0.01 * perimeter\n",
    "        approxPolyDP = cv.approxPolyDP(contour, epsilon, True)\n",
    "\n",
    "        color = (0, 255, 255)\n",
    "        thickness = 5\n",
    "        # draw line\n",
    "        for approx in approxPolyDP:\n",
    "            cv.drawContours(imgApproxPolyDP, [approx], 0, color, thickness)\n",
    "        color = (255, 0, 0)\n",
    "        thickness = 5\n",
    "        # draw points\n",
    "        for approx in [approxPolyDP]:\n",
    "            # draw points\n",
    "            squeeze = np.squeeze(approx)\n",
    "            print(\"contour:\", approx.shape, squeeze.shape)\n",
    "            for p in squeeze:\n",
    "                pp = tuple(p.reshape(1, -1)[0])\n",
    "                cv.circle(imgApproxPolyDP, pp, 10, color, -1)\n",
    "\n",
    "        # determine shape\n",
    "        verticeNumber = len(approxPolyDP)\n",
    "        if verticeNumber == 3:\n",
    "            vertice_shape = (verticeNumber, \"Triangle\")\n",
    "        elif verticeNumber == 4:\n",
    "            # get aspect ratio\n",
    "            x, y, width, height = cv.boundingRect(approxPolyDP)\n",
    "            aspectRatio = float(width) / height\n",
    "            print(aspectRatio)\n",
    "            if 0.90 < aspectRatio < 1.1:\n",
    "                vertice_shape = (verticeNumber, \"Square\")\n",
    "            else:\n",
    "                vertice_shape = (verticeNumber, \"Rectangle\")\n",
    "        elif verticeNumber == 5:\n",
    "            vertice_shape = (verticeNumber, \"Pentagon\")\n",
    "        elif verticeNumber == 6:\n",
    "            vertice_shape = (verticeNumber, \"Hexagon\")\n",
    "        elif verticeNumber == 7:\n",
    "            vertice_shape = (verticeNumber, \"Heptagon\")\n",
    "        elif verticeNumber == 8:\n",
    "            vertice_shape = (verticeNumber, \"Octagon\")\n",
    "        elif verticeNumber == 9:\n",
    "            vertice_shape = (verticeNumber, \"Nonagon\")\n",
    "        elif verticeNumber == 10:\n",
    "            vertice_shape = (verticeNumber, \"Decagon\")\n",
    "        else:\n",
    "            vertice_shape = (verticeNumber, \"Circle\")\n",
    "\n",
    "        # write shape\n",
    "        # Compute the moment of contour:\n",
    "        M = cv.moments(contour)\n",
    "\n",
    "        # The center or centroid can be calculated as follows:\n",
    "        cX = int(M[\"m10\"] / M[\"m00\"])\n",
    "        cY = int(M[\"m01\"] / M[\"m00\"])\n",
    "\n",
    "        # Get the position to draw:\n",
    "        text = vertice_shape[1]+str(i)\n",
    "        fontFace = cv.FONT_HERSHEY_SIMPLEX\n",
    "        fontScale = 1\n",
    "        thickness = 2\n",
    "        text_size = cv.getTextSize(text, fontFace, fontScale, thickness)[0]\n",
    "\n",
    "        text_x = cX - text_size[0] / 2\n",
    "        text_x = round(text_x)\n",
    "        text_y = cY + text_size[1] / 2\n",
    "        text_y = round(text_y)\n",
    "\n",
    "        # Write the ordering of the shape on the center of shapes\n",
    "        color = (0,0,0)\n",
    "        result = cv.putText(\n",
    "            imgApproxPolyDP, text, (text_x, text_y), fontFace, fontScale, color, thickness\n",
    ")"
   ]
  },
  {
   "cell_type": "code",
   "execution_count": 19,
   "metadata": {},
   "outputs": [
    {
     "data": {
      "image/png": "[encoded data removed]",
      "text/plain": [
       "<Figure size 432x288 with 1 Axes>"
      ]
     },
     "metadata": {
      "needs_background": "light"
     },
     "output_type": "display_data"
    }
   ],
   "source": [
    "imgRGB = result[:,:,::-1]\n",
    "plt.imshow(imgRGB)\n",
    "plt.show()"
   ]
  }
 ],
 "metadata": {
  "interpreter": {
   "hash": "b5572384fec6d310c574784c4ff4f3df12c5eb2938d77a1833302b0cb155924f"
  },
  "kernelspec": {
   "display_name": "Python 3.9.8 64-bit",
   "language": "python",
   "name": "python3"
  },
  "language_info": {
   "codemirror_mode": {
    "name": "ipython",
    "version": 3
   },
   "file_extension": ".py",
   "mimetype": "text/x-python",
   "name": "python",
   "nbconvert_exporter": "python",
   "pygments_lexer": "ipython3",
   "version": "3.9.8"
  },
  "orig_nbformat": 4
 },
 "nbformat": 4,
 "nbformat_minor": 2
}
