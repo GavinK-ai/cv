{
 "cells": [
  {
   "cell_type": "code",
   "execution_count": null,
   "metadata": {},
   "outputs": [],
   "source": []
  },
  {
   "cell_type": "markdown",
   "metadata": {},
   "source": [
    "# Chapter 32"
   ]
  },
  {
   "cell_type": "markdown",
   "metadata": {},
   "source": [
    "# Introduction to PyTorch"
   ]
  },
  {
   "cell_type": "markdown",
   "metadata": {},
   "source": [
    "## Installing PyTorch and tools"
   ]
  },
  {
   "cell_type": "markdown",
   "metadata": {},
   "source": [
    "[https://pytorch.org/get-started/locally/](https://pytorch.org/get-started/locally/)"
   ]
  },
  {
   "cell_type": "markdown",
   "metadata": {},
   "source": [
    "### Windows\n",
    "\n",
    "`pip3 install torch==1.10.0+cu102 torchvision==0.11.1+cu102 torchaudio===0.10.0+cu102 -f https://download.pytorch.org/whl/cu102/torch_stable.html`"
   ]
  },
  {
   "cell_type": "markdown",
   "metadata": {},
   "source": [
    "### MacOS   \n",
    "\n",
    "**MacOS Binaries dont support CUDA, install from source if CUDA is needed**   \n",
    "`pip3 install torch torchvision torchaudio`"
   ]
  },
  {
   "cell_type": "markdown",
   "metadata": {},
   "source": [
    "## Verifying PyTorch"
   ]
  },
  {
   "cell_type": "code",
   "execution_count": 174,
   "metadata": {},
   "outputs": [
    {
     "data": {
      "text/plain": [
       "'1.10.0+cu102'"
      ]
     },
     "execution_count": 174,
     "metadata": {},
     "output_type": "execute_result"
    }
   ],
   "source": [
    "import torch\n",
    "\n",
    "torch.__version__"
   ]
  },
  {
   "cell_type": "code",
   "execution_count": 175,
   "metadata": {},
   "outputs": [
    {
     "name": "stdout",
     "output_type": "stream",
     "text": [
      "tensor([[0.7119, 0.3197, 0.7191],\n",
      "        [0.2349, 0.8828, 0.1977],\n",
      "        [0.4575, 0.8050, 0.6880],\n",
      "        [0.2720, 0.9867, 0.2801],\n",
      "        [0.6803, 0.4641, 0.5783]])\n"
     ]
    }
   ],
   "source": [
    "import torch\n",
    "\n",
    "x = torch.rand(5, 3)\n",
    "print(x)"
   ]
  },
  {
   "cell_type": "code",
   "execution_count": 176,
   "metadata": {},
   "outputs": [
    {
     "data": {
      "text/plain": [
       "'0.11.1+cu102'"
      ]
     },
     "execution_count": 176,
     "metadata": {},
     "output_type": "execute_result"
    }
   ],
   "source": [
    "import torchvision\n",
    "\n",
    "torchvision.__version__"
   ]
  },
  {
   "cell_type": "markdown",
   "metadata": {},
   "source": [
    "## Check for GPU and CUDA Enabled"
   ]
  },
  {
   "cell_type": "code",
   "execution_count": 177,
   "metadata": {},
   "outputs": [
    {
     "data": {
      "text/plain": [
       "True"
      ]
     },
     "execution_count": 177,
     "metadata": {},
     "output_type": "execute_result"
    }
   ],
   "source": [
    "import torch\n",
    "torch.cuda.is_available()"
   ]
  },
  {
   "cell_type": "code",
   "execution_count": 178,
   "metadata": {},
   "outputs": [
    {
     "data": {
      "text/plain": [
       "0"
      ]
     },
     "execution_count": 178,
     "metadata": {},
     "output_type": "execute_result"
    }
   ],
   "source": [
    "import torch\n",
    "torch.cuda.current_device()"
   ]
  },
  {
   "cell_type": "markdown",
   "metadata": {},
   "source": [
    "## Install Other Tools or packages"
   ]
  },
  {
   "cell_type": "code",
   "execution_count": 179,
   "metadata": {},
   "outputs": [],
   "source": [
    "!pip install -q matplotlib\n",
    "!pip install -q pandas\n"
   ]
  },
  {
   "cell_type": "code",
   "execution_count": 180,
   "metadata": {},
   "outputs": [
    {
     "data": {
      "text/plain": [
       "'3.2.2'"
      ]
     },
     "execution_count": 180,
     "metadata": {},
     "output_type": "execute_result"
    }
   ],
   "source": [
    "import matplotlib.pyplot \n",
    "\n",
    "#matplotlib._get_version()\n",
    "matplotlib.__version__"
   ]
  },
  {
   "cell_type": "code",
   "execution_count": 181,
   "metadata": {},
   "outputs": [
    {
     "data": {
      "text/plain": [
       "'1.3.4'"
      ]
     },
     "execution_count": 181,
     "metadata": {},
     "output_type": "execute_result"
    }
   ],
   "source": [
    "import pandas \n",
    "pandas.__version__"
   ]
  },
  {
   "cell_type": "markdown",
   "metadata": {},
   "source": [
    "## QuickStart From PyTorch Website"
   ]
  },
  {
   "cell_type": "code",
   "execution_count": 182,
   "metadata": {},
   "outputs": [],
   "source": [
    "import torch\n",
    "from torch import nn\n",
    "from torch.utils.data import DataLoader\n",
    "from torchvision import datasets\n",
    "from torchvision.transforms import ToTensor, Lambda, Compose\n",
    "import matplotlib.pyplot as plt\n",
    "import numpy as np\n",
    "import random\n"
   ]
  },
  {
   "cell_type": "markdown",
   "metadata": {},
   "source": []
  },
  {
   "cell_type": "code",
   "execution_count": 183,
   "metadata": {},
   "outputs": [],
   "source": [
    "# # Download training data from open datasets.\n",
    "# training_data = datasets.FashionMNIST(\n",
    "#     root=\"data\",\n",
    "#     train=True,\n",
    "#     download=True,\n",
    "#     transform=ToTensor(),\n",
    "# )\n",
    "\n",
    "# # Download test data from open datasets.\n",
    "# test_data = datasets.FashionMNIST(\n",
    "#     root=\"data\",\n",
    "#     train=False,\n",
    "#     download=True,\n",
    "#     transform=ToTensor(),\n",
    "# )# Download training data from open datasets.\n",
    "# training_data = datasets.FashionMNIST(\n",
    "#     root=\"data\",\n",
    "#     train=True,\n",
    "#     download=True,\n",
    "#     transform=ToTensor(),\n",
    "# )\n",
    "\n",
    "# # Download test data from open datasets.\n",
    "# test_data = datasets.FashionMNIST(\n",
    "#     root=\"data\",\n",
    "#     train=False,\n",
    "#     download=True,\n",
    "#     transform=ToTensor(),\n",
    "# )"
   ]
  },
  {
   "cell_type": "code",
   "execution_count": 184,
   "metadata": {},
   "outputs": [],
   "source": [
    "# import os\n",
    "# import pandas as pd\n",
    "# from torchvision.io import read_image\n",
    "# import torch\n",
    "# from torch.utils.data import Dataset\n",
    "# from torchvision import datasets\n",
    "# from torchvision.transforms import ToTensor\n",
    "# import matplotlib.pyplot as plt\n",
    "# import torchvision.transforms as transforms\n",
    "\n",
    "# class CustomImageDataset(Dataset):\n",
    "#     def __init__(self, annotations_file, img_dir, transform=None, target_transform=None):\n",
    "#         self.img_labels = pd.read_csv(annotations_file)\n",
    "#         self.img_dir = img_dir\n",
    "#         self.transform = transform\n",
    "#         self.target_transform = target_transform\n",
    "\n",
    "#     def __len__(self):\n",
    "#         return len(self.img_labels)\n",
    "\n",
    "#     def __getitem__(self, idx):\n",
    "#         img_path = os.path.join(self.img_dir, self.img_labels.iloc[idx, 0])\n",
    "#         image = read_image(img_path)\n",
    "#         label = self.img_labels.iloc[idx, 1]\n",
    "#         if self.transform:\n",
    "#             image = self.transform(image)\n",
    "#         if self.target_transform:\n",
    "#             label = self.target_transform(label)\n",
    "#         return image, label\n",
    "\n",
    "# csvFile = 'pytorch_dataset.csv'\n",
    "# rootDir = 'pytorch_dataset'\n",
    "# dataset = CustomImageDataset(csvFile,rootDir, transform = transforms.ToTensor())"
   ]
  },
  {
   "cell_type": "code",
   "execution_count": 185,
   "metadata": {},
   "outputs": [
    {
     "name": "stdout",
     "output_type": "stream",
     "text": [
      "object\n",
      "int64\n",
      "<U10\n"
     ]
    }
   ],
   "source": [
    "testdatasetFileName = \"master_dataset.npz\"\n",
    "\n",
    "\n",
    "with np.load(testdatasetFileName, allow_pickle=True) as data:\n",
    "    dataImages = data['images']\n",
    "    dataLabels = data['labels'].astype('int64')\n",
    "    dataLabelNames = data['labelnames']\n",
    "\n",
    "\n",
    "print(dataImages.dtype)\n",
    "print(dataLabels.dtype)\n",
    "print(dataLabelNames.dtype)\n"
   ]
  },
  {
   "cell_type": "code",
   "execution_count": null,
   "metadata": {},
   "outputs": [],
   "source": []
  },
  {
   "cell_type": "code",
   "execution_count": 186,
   "metadata": {},
   "outputs": [
    {
     "data": {
      "text/plain": [
       "(dtype('uint8'), dtype('uint8'), (423, 200, 200, 3))"
      ]
     },
     "execution_count": 186,
     "metadata": {},
     "output_type": "execute_result"
    }
   ],
   "source": [
    "import cv2 as cv\n",
    "\n",
    "desiredShape = (200, 200, 3)\n",
    "\n",
    "N = len(dataImages)\n",
    "shape = (N, desiredShape[0], desiredShape[1], desiredShape[2])\n",
    "\n",
    "y = np.empty(shape, dtype='uint8')\n",
    "\n",
    "for i in range(N):\n",
    "    y[i] = cv.resize(dataImages[i], [200,200], interpolation=cv.INTER_NEAREST)\n",
    "\n",
    "dataImages = y\n",
    "\n",
    "dataImages.dtype, y.dtype, y.shape"
   ]
  },
  {
   "cell_type": "code",
   "execution_count": 187,
   "metadata": {},
   "outputs": [
    {
     "data": {
      "text/plain": [
       "(dtype('uint8'), (423, 200, 200, 3))"
      ]
     },
     "execution_count": 187,
     "metadata": {},
     "output_type": "execute_result"
    }
   ],
   "source": [
    "dataImages.dtype,dataImages.shape\n"
   ]
  },
  {
   "cell_type": "code",
   "execution_count": 188,
   "metadata": {},
   "outputs": [],
   "source": [
    "dataImages = dataImages / 255.0"
   ]
  },
  {
   "cell_type": "code",
   "execution_count": 189,
   "metadata": {},
   "outputs": [
    {
     "data": {
      "text/plain": [
       "dtype('float64')"
      ]
     },
     "execution_count": 189,
     "metadata": {},
     "output_type": "execute_result"
    }
   ],
   "source": [
    "dataImages.dtype"
   ]
  },
  {
   "cell_type": "code",
   "execution_count": 190,
   "metadata": {},
   "outputs": [],
   "source": [
    "dataset = torch.tensor(dataImages)\n",
    "\n",
    "all_data = []\n",
    "for i in range(len(dataset)):\n",
    "    all_data.append([dataset[i],dataLabels[i]])\n",
    "\n",
    "\n",
    "random.shuffle(all_data)\n",
    "\n"
   ]
  },
  {
   "cell_type": "code",
   "execution_count": 191,
   "metadata": {},
   "outputs": [],
   "source": [
    "train_split = int(len(all_data)*0.75)\n",
    "test_spilt = len(all_data)-train_split\n",
    "training_data, test_data = torch.utils.data.random_split(all_data,[train_split,test_spilt])"
   ]
  },
  {
   "cell_type": "markdown",
   "metadata": {},
   "source": []
  },
  {
   "cell_type": "code",
   "execution_count": 192,
   "metadata": {},
   "outputs": [
    {
     "data": {
      "text/plain": [
       "(317, 106)"
      ]
     },
     "execution_count": 192,
     "metadata": {},
     "output_type": "execute_result"
    }
   ],
   "source": [
    "len(training_data), len(test_data)"
   ]
  },
  {
   "cell_type": "code",
   "execution_count": 193,
   "metadata": {},
   "outputs": [],
   "source": [
    "classes = {0: 'afiq', 1: 'azureen', 2: 'gavin', 3: 'goke',  4: 'inamul', 5: 'jincheng', 6: 'mahmuda', 7: 'numan', 8: 'saseendran'}"
   ]
  },
  {
   "cell_type": "code",
   "execution_count": 194,
   "metadata": {},
   "outputs": [
    {
     "name": "stdout",
     "output_type": "stream",
     "text": [
      "torch.Size([200, 200, 3])\n",
      "torch.Size([200, 200, 3])\n",
      "1\n"
     ]
    }
   ],
   "source": [
    "X, y = training_data[0]\n",
    "print(X.shape)\n",
    "print(X.squeeze().shape)\n",
    "print(y)\n"
   ]
  },
  {
   "cell_type": "code",
   "execution_count": 195,
   "metadata": {},
   "outputs": [
    {
     "data": {
      "text/plain": [
       "torch.float64"
      ]
     },
     "execution_count": 195,
     "metadata": {},
     "output_type": "execute_result"
    }
   ],
   "source": [
    "X.dtype"
   ]
  },
  {
   "cell_type": "code",
   "execution_count": 196,
   "metadata": {},
   "outputs": [
    {
     "data": {
      "image/png": "[encoded data removed]",
      "text/plain": [
       "<Figure size 432x288 with 1 Axes>"
      ]
     },
     "metadata": {
      "needs_background": "light"
     },
     "output_type": "display_data"
    }
   ],
   "source": [
    "import matplotlib.pyplot as plt\n",
    "\n",
    "img = X.squeeze()\n",
    "plt.imshow(img)#, cmap=\"gray\")\n",
    "plt.title(f\"{y}: {classes[y]}\")\n",
    "plt.show()"
   ]
  },
  {
   "cell_type": "code",
   "execution_count": 197,
   "metadata": {},
   "outputs": [
    {
     "name": "stdout",
     "output_type": "stream",
     "text": [
      "torch.Size([200, 200, 3])\n",
      "torch.Size([200, 200, 3])\n",
      "4\n"
     ]
    },
    {
     "data": {
      "image/png": "[encoded data removed]",
      "text/plain": [
       "<Figure size 432x288 with 1 Axes>"
      ]
     },
     "metadata": {
      "needs_background": "light"
     },
     "output_type": "display_data"
    }
   ],
   "source": [
    "import matplotlib.pyplot as plt\n",
    "\n",
    "\n",
    "X, y = test_data[33]\n",
    "print(X.shape)\n",
    "print(X.squeeze().shape)\n",
    "print(y)\n",
    "\n",
    "img = X.squeeze()\n",
    "plt.imshow(img)#, cmap=\"gray\")\n",
    "plt.title(f\"{y}: {classes[y]}\")\n",
    "plt.show()"
   ]
  },
  {
   "cell_type": "markdown",
   "metadata": {},
   "source": [
    "### Dataloader"
   ]
  },
  {
   "cell_type": "code",
   "execution_count": 198,
   "metadata": {},
   "outputs": [
    {
     "name": "stdout",
     "output_type": "stream",
     "text": [
      "Shape of X [N, C, H, W]:  torch.Size([20, 200, 200, 3])\n",
      "Shape of y:  torch.Size([20]) torch.int64\n"
     ]
    }
   ],
   "source": [
    "batch_size = 20\n",
    "\n",
    "# Create data loaders.\n",
    "train_dataloader = DataLoader(training_data, batch_size=batch_size)\n",
    "test_dataloader = DataLoader(test_data, batch_size=batch_size)\n",
    "\n",
    "for X, y in test_dataloader:\n",
    "    print(\"Shape of X [N, C, H, W]: \", X.shape)\n",
    "    print(\"Shape of y: \", y.shape, y.dtype)\n",
    "    break"
   ]
  },
  {
   "cell_type": "markdown",
   "metadata": {},
   "source": [
    "### Create Model"
   ]
  },
  {
   "cell_type": "code",
   "execution_count": 199,
   "metadata": {},
   "outputs": [
    {
     "name": "stdout",
     "output_type": "stream",
     "text": [
      "Using cpu device\n",
      "NeuralNetwork(\n",
      "  (flatten): Flatten(start_dim=1, end_dim=-1)\n",
      "  (linear_relu_stack): Sequential(\n",
      "    (0): Linear(in_features=120000, out_features=512, bias=True)\n",
      "    (1): ReLU()\n",
      "    (2): Linear(in_features=512, out_features=512, bias=True)\n",
      "    (3): ReLU()\n",
      "    (4): Linear(in_features=512, out_features=512, bias=True)\n",
      "    (5): ReLU()\n",
      "    (6): Linear(in_features=512, out_features=9, bias=True)\n",
      "  )\n",
      ")\n"
     ]
    }
   ],
   "source": [
    "import torch\n",
    "\n",
    "# Get cpu or gpu device for training.\n",
    "#device = \"cuda\" if torch.cuda.is_available() else \"cpu\"\n",
    "device = \"cpu\"\n",
    "print(f\"Using {device} device\")\n",
    "\n",
    "input_size = 3*200*200\n",
    "output_size = 9\n",
    "# Define model\n",
    "class NeuralNetwork(nn.Module):\n",
    "    def __init__(self):\n",
    "        super(NeuralNetwork, self).__init__()\n",
    "        self.flatten = nn.Flatten()\n",
    "        self.linear_relu_stack = nn.Sequential(\n",
    "            nn.Linear(input_size, 512),\n",
    "            nn.ReLU(),\n",
    "            nn.Linear(512, 512),\n",
    "            nn.ReLU(),\n",
    "            nn.Linear(512, 512),\n",
    "            nn.ReLU(),\n",
    "            nn.Linear(512, output_size)\n",
    "        )\n",
    "\n",
    "    def forward(self, x):\n",
    "        x = self.flatten(x)\n",
    "        logits = self.linear_relu_stack(x)\n",
    "        return logits\n",
    "\n",
    "model = NeuralNetwork().to(device)\n",
    "print(model)"
   ]
  },
  {
   "cell_type": "markdown",
   "metadata": {},
   "source": [
    "### Model Parameter"
   ]
  },
  {
   "cell_type": "code",
   "execution_count": 200,
   "metadata": {},
   "outputs": [],
   "source": [
    "loss_fn = nn.CrossEntropyLoss()\n",
    "optimizer = torch.optim.SGD(model.parameters(), lr=1e-3)"
   ]
  },
  {
   "cell_type": "markdown",
   "metadata": {},
   "source": []
  },
  {
   "cell_type": "code",
   "execution_count": 201,
   "metadata": {},
   "outputs": [],
   "source": [
    "def train(dataloader, model, loss_fn, optimizer):\n",
    "    size = len(dataloader.dataset)\n",
    "    model.train()\n",
    "    for batch, (X, y) in enumerate(dataloader):\n",
    "        X, y = X.to(device), y.to(device)\n",
    "\n",
    "        # Compute prediction error\n",
    "        pred = model(X.float())\n",
    "        loss = loss_fn(pred, y)\n",
    "\n",
    "        # Backpropagation\n",
    "        optimizer.zero_grad()\n",
    "        loss.backward()\n",
    "        optimizer.step()\n",
    "\n",
    "        if batch % 100 == 0:\n",
    "            loss, current = loss.item(), batch * len(X)\n",
    "            print(f\"loss: {loss:>7f}  [{current:>5d}/{size:>5d}]\")\n",
    "\n",
    "    return loss, current "
   ]
  },
  {
   "cell_type": "markdown",
   "metadata": {},
   "source": []
  },
  {
   "cell_type": "code",
   "execution_count": 202,
   "metadata": {},
   "outputs": [],
   "source": [
    "def test(dataloader, model, loss_fn):\n",
    "    size = len(dataloader.dataset)\n",
    "    num_batches = len(dataloader)\n",
    "    model.eval()\n",
    "    test_loss, correct = 0, 0\n",
    "    with torch.no_grad():\n",
    "        for X, y in dataloader:\n",
    "            X, y = X.to(device), y.to(device)\n",
    "            pred = model(X.float())\n",
    "            test_loss += loss_fn(pred, y).item()\n",
    "            correct += (pred.argmax(1) == y).type(torch.float).sum().item()\n",
    "    test_loss /= num_batches\n",
    "    correct /= size\n",
    "    print(f\"Test Error: \\n Accuracy: {(100*correct):>0.1f}%, Avg loss: {test_loss:>8f} \\n\")\n",
    "\n",
    "    return test_loss, correct"
   ]
  },
  {
   "cell_type": "markdown",
   "metadata": {},
   "source": [
    "### Train"
   ]
  },
  {
   "cell_type": "code",
   "execution_count": 203,
   "metadata": {},
   "outputs": [
    {
     "name": "stdout",
     "output_type": "stream",
     "text": [
      "Epoch 1\n",
      "-------------------------------\n",
      "loss: 2.209985  [    0/  317]\n",
      "Test Error: \n",
      " Accuracy: 14.2%, Avg loss: 2.162181 \n",
      "\n",
      "Epoch 2\n",
      "-------------------------------\n",
      "loss: 2.178174  [    0/  317]\n",
      "Test Error: \n",
      " Accuracy: 14.2%, Avg loss: 2.137294 \n",
      "\n",
      "Epoch 3\n",
      "-------------------------------\n",
      "loss: 2.150523  [    0/  317]\n",
      "Test Error: \n",
      " Accuracy: 15.1%, Avg loss: 2.111587 \n",
      "\n",
      "Epoch 4\n",
      "-------------------------------\n",
      "loss: 2.120457  [    0/  317]\n",
      "Test Error: \n",
      " Accuracy: 16.0%, Avg loss: 2.083787 \n",
      "\n",
      "Epoch 5\n",
      "-------------------------------\n",
      "loss: 2.089541  [    0/  317]\n",
      "Test Error: \n",
      " Accuracy: 20.8%, Avg loss: 2.055654 \n",
      "\n",
      "Epoch 6\n",
      "-------------------------------\n",
      "loss: 2.058464  [    0/  317]\n",
      "Test Error: \n",
      " Accuracy: 24.5%, Avg loss: 2.026853 \n",
      "\n",
      "Epoch 7\n",
      "-------------------------------\n",
      "loss: 2.026183  [    0/  317]\n",
      "Test Error: \n",
      " Accuracy: 27.4%, Avg loss: 1.997671 \n",
      "\n",
      "Epoch 8\n",
      "-------------------------------\n",
      "loss: 1.992906  [    0/  317]\n",
      "Test Error: \n",
      " Accuracy: 33.0%, Avg loss: 1.967864 \n",
      "\n",
      "Epoch 9\n",
      "-------------------------------\n",
      "loss: 1.958452  [    0/  317]\n",
      "Test Error: \n",
      " Accuracy: 35.8%, Avg loss: 1.937625 \n",
      "\n",
      "Epoch 10\n",
      "-------------------------------\n",
      "loss: 1.921722  [    0/  317]\n",
      "Test Error: \n",
      " Accuracy: 36.8%, Avg loss: 1.907142 \n",
      "\n",
      "Epoch 11\n",
      "-------------------------------\n",
      "loss: 1.883076  [    0/  317]\n",
      "Test Error: \n",
      " Accuracy: 38.7%, Avg loss: 1.876370 \n",
      "\n",
      "Epoch 12\n",
      "-------------------------------\n",
      "loss: 1.843366  [    0/  317]\n",
      "Test Error: \n",
      " Accuracy: 41.5%, Avg loss: 1.845335 \n",
      "\n",
      "Epoch 13\n",
      "-------------------------------\n",
      "loss: 1.801989  [    0/  317]\n",
      "Test Error: \n",
      " Accuracy: 44.3%, Avg loss: 1.813265 \n",
      "\n",
      "Epoch 14\n",
      "-------------------------------\n",
      "loss: 1.758862  [    0/  317]\n",
      "Test Error: \n",
      " Accuracy: 44.3%, Avg loss: 1.780316 \n",
      "\n",
      "Epoch 15\n",
      "-------------------------------\n",
      "loss: 1.714086  [    0/  317]\n"
     ]
    },
    {
     "ename": "KeyboardInterrupt",
     "evalue": "",
     "output_type": "error",
     "traceback": [
      "\u001b[1;31m---------------------------------------------------------------------------\u001b[0m",
      "\u001b[1;31mKeyboardInterrupt\u001b[0m                         Traceback (most recent call last)",
      "\u001b[1;32m~\\AppData\\Local\\Temp/ipykernel_13848/2163835926.py\u001b[0m in \u001b[0;36m<module>\u001b[1;34m\u001b[0m\n\u001b[0;32m      2\u001b[0m \u001b[1;32mfor\u001b[0m \u001b[0mt\u001b[0m \u001b[1;32min\u001b[0m \u001b[0mrange\u001b[0m\u001b[1;33m(\u001b[0m\u001b[0mepochs\u001b[0m\u001b[1;33m)\u001b[0m\u001b[1;33m:\u001b[0m\u001b[1;33m\u001b[0m\u001b[1;33m\u001b[0m\u001b[0m\n\u001b[0;32m      3\u001b[0m     \u001b[0mprint\u001b[0m\u001b[1;33m(\u001b[0m\u001b[1;34mf\"Epoch {t+1}\\n-------------------------------\"\u001b[0m\u001b[1;33m)\u001b[0m\u001b[1;33m\u001b[0m\u001b[1;33m\u001b[0m\u001b[0m\n\u001b[1;32m----> 4\u001b[1;33m     \u001b[0mtrain\u001b[0m\u001b[1;33m(\u001b[0m\u001b[0mtrain_dataloader\u001b[0m\u001b[1;33m,\u001b[0m \u001b[0mmodel\u001b[0m\u001b[1;33m,\u001b[0m \u001b[0mloss_fn\u001b[0m\u001b[1;33m,\u001b[0m \u001b[0moptimizer\u001b[0m\u001b[1;33m)\u001b[0m\u001b[1;33m\u001b[0m\u001b[1;33m\u001b[0m\u001b[0m\n\u001b[0m\u001b[0;32m      5\u001b[0m     \u001b[0mtest\u001b[0m\u001b[1;33m(\u001b[0m\u001b[0mtest_dataloader\u001b[0m\u001b[1;33m,\u001b[0m \u001b[0mmodel\u001b[0m\u001b[1;33m,\u001b[0m \u001b[0mloss_fn\u001b[0m\u001b[1;33m)\u001b[0m\u001b[1;33m\u001b[0m\u001b[1;33m\u001b[0m\u001b[0m\n\u001b[0;32m      6\u001b[0m \u001b[0mprint\u001b[0m\u001b[1;33m(\u001b[0m\u001b[1;34m\"Done!\"\u001b[0m\u001b[1;33m)\u001b[0m\u001b[1;33m\u001b[0m\u001b[1;33m\u001b[0m\u001b[0m\n",
      "\u001b[1;32m~\\AppData\\Local\\Temp/ipykernel_13848/3901080999.py\u001b[0m in \u001b[0;36mtrain\u001b[1;34m(dataloader, model, loss_fn, optimizer)\u001b[0m\n\u001b[0;32m      6\u001b[0m \u001b[1;33m\u001b[0m\u001b[0m\n\u001b[0;32m      7\u001b[0m         \u001b[1;31m# Compute prediction error\u001b[0m\u001b[1;33m\u001b[0m\u001b[1;33m\u001b[0m\u001b[0m\n\u001b[1;32m----> 8\u001b[1;33m         \u001b[0mpred\u001b[0m \u001b[1;33m=\u001b[0m \u001b[0mmodel\u001b[0m\u001b[1;33m(\u001b[0m\u001b[0mX\u001b[0m\u001b[1;33m.\u001b[0m\u001b[0mfloat\u001b[0m\u001b[1;33m(\u001b[0m\u001b[1;33m)\u001b[0m\u001b[1;33m)\u001b[0m\u001b[1;33m\u001b[0m\u001b[1;33m\u001b[0m\u001b[0m\n\u001b[0m\u001b[0;32m      9\u001b[0m         \u001b[0mloss\u001b[0m \u001b[1;33m=\u001b[0m \u001b[0mloss_fn\u001b[0m\u001b[1;33m(\u001b[0m\u001b[0mpred\u001b[0m\u001b[1;33m,\u001b[0m \u001b[0my\u001b[0m\u001b[1;33m)\u001b[0m\u001b[1;33m\u001b[0m\u001b[1;33m\u001b[0m\u001b[0m\n\u001b[0;32m     10\u001b[0m \u001b[1;33m\u001b[0m\u001b[0m\n",
      "\u001b[1;32mC:\\SDK\\Python39\\lib\\site-packages\\torch\\nn\\modules\\module.py\u001b[0m in \u001b[0;36m_call_impl\u001b[1;34m(self, *input, **kwargs)\u001b[0m\n\u001b[0;32m   1100\u001b[0m         if not (self._backward_hooks or self._forward_hooks or self._forward_pre_hooks or _global_backward_hooks\n\u001b[0;32m   1101\u001b[0m                 or _global_forward_hooks or _global_forward_pre_hooks):\n\u001b[1;32m-> 1102\u001b[1;33m             \u001b[1;32mreturn\u001b[0m \u001b[0mforward_call\u001b[0m\u001b[1;33m(\u001b[0m\u001b[1;33m*\u001b[0m\u001b[0minput\u001b[0m\u001b[1;33m,\u001b[0m \u001b[1;33m**\u001b[0m\u001b[0mkwargs\u001b[0m\u001b[1;33m)\u001b[0m\u001b[1;33m\u001b[0m\u001b[1;33m\u001b[0m\u001b[0m\n\u001b[0m\u001b[0;32m   1103\u001b[0m         \u001b[1;31m# Do not call functions when jit is used\u001b[0m\u001b[1;33m\u001b[0m\u001b[1;33m\u001b[0m\u001b[0m\n\u001b[0;32m   1104\u001b[0m         \u001b[0mfull_backward_hooks\u001b[0m\u001b[1;33m,\u001b[0m \u001b[0mnon_full_backward_hooks\u001b[0m \u001b[1;33m=\u001b[0m \u001b[1;33m[\u001b[0m\u001b[1;33m]\u001b[0m\u001b[1;33m,\u001b[0m \u001b[1;33m[\u001b[0m\u001b[1;33m]\u001b[0m\u001b[1;33m\u001b[0m\u001b[1;33m\u001b[0m\u001b[0m\n",
      "\u001b[1;32m~\\AppData\\Local\\Temp/ipykernel_13848/4066324129.py\u001b[0m in \u001b[0;36mforward\u001b[1;34m(self, x)\u001b[0m\n\u001b[0;32m     25\u001b[0m     \u001b[1;32mdef\u001b[0m \u001b[0mforward\u001b[0m\u001b[1;33m(\u001b[0m\u001b[0mself\u001b[0m\u001b[1;33m,\u001b[0m \u001b[0mx\u001b[0m\u001b[1;33m)\u001b[0m\u001b[1;33m:\u001b[0m\u001b[1;33m\u001b[0m\u001b[1;33m\u001b[0m\u001b[0m\n\u001b[0;32m     26\u001b[0m         \u001b[0mx\u001b[0m \u001b[1;33m=\u001b[0m \u001b[0mself\u001b[0m\u001b[1;33m.\u001b[0m\u001b[0mflatten\u001b[0m\u001b[1;33m(\u001b[0m\u001b[0mx\u001b[0m\u001b[1;33m)\u001b[0m\u001b[1;33m\u001b[0m\u001b[1;33m\u001b[0m\u001b[0m\n\u001b[1;32m---> 27\u001b[1;33m         \u001b[0mlogits\u001b[0m \u001b[1;33m=\u001b[0m \u001b[0mself\u001b[0m\u001b[1;33m.\u001b[0m\u001b[0mlinear_relu_stack\u001b[0m\u001b[1;33m(\u001b[0m\u001b[0mx\u001b[0m\u001b[1;33m)\u001b[0m\u001b[1;33m\u001b[0m\u001b[1;33m\u001b[0m\u001b[0m\n\u001b[0m\u001b[0;32m     28\u001b[0m         \u001b[1;32mreturn\u001b[0m \u001b[0mlogits\u001b[0m\u001b[1;33m\u001b[0m\u001b[1;33m\u001b[0m\u001b[0m\n\u001b[0;32m     29\u001b[0m \u001b[1;33m\u001b[0m\u001b[0m\n",
      "\u001b[1;32mC:\\SDK\\Python39\\lib\\site-packages\\torch\\nn\\modules\\module.py\u001b[0m in \u001b[0;36m_call_impl\u001b[1;34m(self, *input, **kwargs)\u001b[0m\n\u001b[0;32m   1100\u001b[0m         if not (self._backward_hooks or self._forward_hooks or self._forward_pre_hooks or _global_backward_hooks\n\u001b[0;32m   1101\u001b[0m                 or _global_forward_hooks or _global_forward_pre_hooks):\n\u001b[1;32m-> 1102\u001b[1;33m             \u001b[1;32mreturn\u001b[0m \u001b[0mforward_call\u001b[0m\u001b[1;33m(\u001b[0m\u001b[1;33m*\u001b[0m\u001b[0minput\u001b[0m\u001b[1;33m,\u001b[0m \u001b[1;33m**\u001b[0m\u001b[0mkwargs\u001b[0m\u001b[1;33m)\u001b[0m\u001b[1;33m\u001b[0m\u001b[1;33m\u001b[0m\u001b[0m\n\u001b[0m\u001b[0;32m   1103\u001b[0m         \u001b[1;31m# Do not call functions when jit is used\u001b[0m\u001b[1;33m\u001b[0m\u001b[1;33m\u001b[0m\u001b[0m\n\u001b[0;32m   1104\u001b[0m         \u001b[0mfull_backward_hooks\u001b[0m\u001b[1;33m,\u001b[0m \u001b[0mnon_full_backward_hooks\u001b[0m \u001b[1;33m=\u001b[0m \u001b[1;33m[\u001b[0m\u001b[1;33m]\u001b[0m\u001b[1;33m,\u001b[0m \u001b[1;33m[\u001b[0m\u001b[1;33m]\u001b[0m\u001b[1;33m\u001b[0m\u001b[1;33m\u001b[0m\u001b[0m\n",
      "\u001b[1;32mC:\\SDK\\Python39\\lib\\site-packages\\torch\\nn\\modules\\container.py\u001b[0m in \u001b[0;36mforward\u001b[1;34m(self, input)\u001b[0m\n\u001b[0;32m    139\u001b[0m     \u001b[1;32mdef\u001b[0m \u001b[0mforward\u001b[0m\u001b[1;33m(\u001b[0m\u001b[0mself\u001b[0m\u001b[1;33m,\u001b[0m \u001b[0minput\u001b[0m\u001b[1;33m)\u001b[0m\u001b[1;33m:\u001b[0m\u001b[1;33m\u001b[0m\u001b[1;33m\u001b[0m\u001b[0m\n\u001b[0;32m    140\u001b[0m         \u001b[1;32mfor\u001b[0m \u001b[0mmodule\u001b[0m \u001b[1;32min\u001b[0m \u001b[0mself\u001b[0m\u001b[1;33m:\u001b[0m\u001b[1;33m\u001b[0m\u001b[1;33m\u001b[0m\u001b[0m\n\u001b[1;32m--> 141\u001b[1;33m             \u001b[0minput\u001b[0m \u001b[1;33m=\u001b[0m \u001b[0mmodule\u001b[0m\u001b[1;33m(\u001b[0m\u001b[0minput\u001b[0m\u001b[1;33m)\u001b[0m\u001b[1;33m\u001b[0m\u001b[1;33m\u001b[0m\u001b[0m\n\u001b[0m\u001b[0;32m    142\u001b[0m         \u001b[1;32mreturn\u001b[0m \u001b[0minput\u001b[0m\u001b[1;33m\u001b[0m\u001b[1;33m\u001b[0m\u001b[0m\n\u001b[0;32m    143\u001b[0m \u001b[1;33m\u001b[0m\u001b[0m\n",
      "\u001b[1;32mC:\\SDK\\Python39\\lib\\site-packages\\torch\\nn\\modules\\module.py\u001b[0m in \u001b[0;36m_call_impl\u001b[1;34m(self, *input, **kwargs)\u001b[0m\n\u001b[0;32m   1100\u001b[0m         if not (self._backward_hooks or self._forward_hooks or self._forward_pre_hooks or _global_backward_hooks\n\u001b[0;32m   1101\u001b[0m                 or _global_forward_hooks or _global_forward_pre_hooks):\n\u001b[1;32m-> 1102\u001b[1;33m             \u001b[1;32mreturn\u001b[0m \u001b[0mforward_call\u001b[0m\u001b[1;33m(\u001b[0m\u001b[1;33m*\u001b[0m\u001b[0minput\u001b[0m\u001b[1;33m,\u001b[0m \u001b[1;33m**\u001b[0m\u001b[0mkwargs\u001b[0m\u001b[1;33m)\u001b[0m\u001b[1;33m\u001b[0m\u001b[1;33m\u001b[0m\u001b[0m\n\u001b[0m\u001b[0;32m   1103\u001b[0m         \u001b[1;31m# Do not call functions when jit is used\u001b[0m\u001b[1;33m\u001b[0m\u001b[1;33m\u001b[0m\u001b[0m\n\u001b[0;32m   1104\u001b[0m         \u001b[0mfull_backward_hooks\u001b[0m\u001b[1;33m,\u001b[0m \u001b[0mnon_full_backward_hooks\u001b[0m \u001b[1;33m=\u001b[0m \u001b[1;33m[\u001b[0m\u001b[1;33m]\u001b[0m\u001b[1;33m,\u001b[0m \u001b[1;33m[\u001b[0m\u001b[1;33m]\u001b[0m\u001b[1;33m\u001b[0m\u001b[1;33m\u001b[0m\u001b[0m\n",
      "\u001b[1;32mC:\\SDK\\Python39\\lib\\site-packages\\torch\\nn\\modules\\linear.py\u001b[0m in \u001b[0;36mforward\u001b[1;34m(self, input)\u001b[0m\n\u001b[0;32m    101\u001b[0m \u001b[1;33m\u001b[0m\u001b[0m\n\u001b[0;32m    102\u001b[0m     \u001b[1;32mdef\u001b[0m \u001b[0mforward\u001b[0m\u001b[1;33m(\u001b[0m\u001b[0mself\u001b[0m\u001b[1;33m,\u001b[0m \u001b[0minput\u001b[0m\u001b[1;33m:\u001b[0m \u001b[0mTensor\u001b[0m\u001b[1;33m)\u001b[0m \u001b[1;33m->\u001b[0m \u001b[0mTensor\u001b[0m\u001b[1;33m:\u001b[0m\u001b[1;33m\u001b[0m\u001b[1;33m\u001b[0m\u001b[0m\n\u001b[1;32m--> 103\u001b[1;33m         \u001b[1;32mreturn\u001b[0m \u001b[0mF\u001b[0m\u001b[1;33m.\u001b[0m\u001b[0mlinear\u001b[0m\u001b[1;33m(\u001b[0m\u001b[0minput\u001b[0m\u001b[1;33m,\u001b[0m \u001b[0mself\u001b[0m\u001b[1;33m.\u001b[0m\u001b[0mweight\u001b[0m\u001b[1;33m,\u001b[0m \u001b[0mself\u001b[0m\u001b[1;33m.\u001b[0m\u001b[0mbias\u001b[0m\u001b[1;33m)\u001b[0m\u001b[1;33m\u001b[0m\u001b[1;33m\u001b[0m\u001b[0m\n\u001b[0m\u001b[0;32m    104\u001b[0m \u001b[1;33m\u001b[0m\u001b[0m\n\u001b[0;32m    105\u001b[0m     \u001b[1;32mdef\u001b[0m \u001b[0mextra_repr\u001b[0m\u001b[1;33m(\u001b[0m\u001b[0mself\u001b[0m\u001b[1;33m)\u001b[0m \u001b[1;33m->\u001b[0m \u001b[0mstr\u001b[0m\u001b[1;33m:\u001b[0m\u001b[1;33m\u001b[0m\u001b[1;33m\u001b[0m\u001b[0m\n",
      "\u001b[1;32mC:\\SDK\\Python39\\lib\\site-packages\\torch\\nn\\functional.py\u001b[0m in \u001b[0;36mlinear\u001b[1;34m(input, weight, bias)\u001b[0m\n\u001b[0;32m   1846\u001b[0m     \u001b[1;32mif\u001b[0m \u001b[0mhas_torch_function_variadic\u001b[0m\u001b[1;33m(\u001b[0m\u001b[0minput\u001b[0m\u001b[1;33m,\u001b[0m \u001b[0mweight\u001b[0m\u001b[1;33m,\u001b[0m \u001b[0mbias\u001b[0m\u001b[1;33m)\u001b[0m\u001b[1;33m:\u001b[0m\u001b[1;33m\u001b[0m\u001b[1;33m\u001b[0m\u001b[0m\n\u001b[0;32m   1847\u001b[0m         \u001b[1;32mreturn\u001b[0m \u001b[0mhandle_torch_function\u001b[0m\u001b[1;33m(\u001b[0m\u001b[0mlinear\u001b[0m\u001b[1;33m,\u001b[0m \u001b[1;33m(\u001b[0m\u001b[0minput\u001b[0m\u001b[1;33m,\u001b[0m \u001b[0mweight\u001b[0m\u001b[1;33m,\u001b[0m \u001b[0mbias\u001b[0m\u001b[1;33m)\u001b[0m\u001b[1;33m,\u001b[0m \u001b[0minput\u001b[0m\u001b[1;33m,\u001b[0m \u001b[0mweight\u001b[0m\u001b[1;33m,\u001b[0m \u001b[0mbias\u001b[0m\u001b[1;33m=\u001b[0m\u001b[0mbias\u001b[0m\u001b[1;33m)\u001b[0m\u001b[1;33m\u001b[0m\u001b[1;33m\u001b[0m\u001b[0m\n\u001b[1;32m-> 1848\u001b[1;33m     \u001b[1;32mreturn\u001b[0m \u001b[0mtorch\u001b[0m\u001b[1;33m.\u001b[0m\u001b[0m_C\u001b[0m\u001b[1;33m.\u001b[0m\u001b[0m_nn\u001b[0m\u001b[1;33m.\u001b[0m\u001b[0mlinear\u001b[0m\u001b[1;33m(\u001b[0m\u001b[0minput\u001b[0m\u001b[1;33m,\u001b[0m \u001b[0mweight\u001b[0m\u001b[1;33m,\u001b[0m \u001b[0mbias\u001b[0m\u001b[1;33m)\u001b[0m\u001b[1;33m\u001b[0m\u001b[1;33m\u001b[0m\u001b[0m\n\u001b[0m\u001b[0;32m   1849\u001b[0m \u001b[1;33m\u001b[0m\u001b[0m\n\u001b[0;32m   1850\u001b[0m \u001b[1;33m\u001b[0m\u001b[0m\n",
      "\u001b[1;31mKeyboardInterrupt\u001b[0m: "
     ]
    }
   ],
   "source": [
    "epochs = 30\n",
    "for t in range(epochs):\n",
    "    print(f\"Epoch {t+1}\\n-------------------------------\")\n",
    "    train(train_dataloader, model, loss_fn, optimizer)\n",
    "    test(test_dataloader, model, loss_fn)\n",
    "print(\"Done!\")"
   ]
  },
  {
   "cell_type": "markdown",
   "metadata": {},
   "source": [
    "### Save Model"
   ]
  },
  {
   "cell_type": "code",
   "execution_count": 204,
   "metadata": {},
   "outputs": [
    {
     "name": "stdout",
     "output_type": "stream",
     "text": [
      "Saved PyTorch Model State to model.pth\n"
     ]
    }
   ],
   "source": [
    "torch.save(model.state_dict(), \"model.pth\")\n",
    "print(\"Saved PyTorch Model State to model.pth\")"
   ]
  },
  {
   "cell_type": "markdown",
   "metadata": {},
   "source": [
    "### Load Model"
   ]
  },
  {
   "cell_type": "code",
   "execution_count": 205,
   "metadata": {},
   "outputs": [
    {
     "data": {
      "text/plain": [
       "<All keys matched successfully>"
      ]
     },
     "execution_count": 205,
     "metadata": {},
     "output_type": "execute_result"
    }
   ],
   "source": [
    "model = NeuralNetwork()\n",
    "model.load_state_dict(torch.load(\"model.pth\"))"
   ]
  },
  {
   "cell_type": "code",
   "execution_count": 160,
   "metadata": {},
   "outputs": [
    {
     "name": "stdout",
     "output_type": "stream",
     "text": [
      "Predicted: \"goke\", Actual: \"azureen\"\n"
     ]
    }
   ],
   "source": [
    "i = 45\n",
    "model.eval()\n",
    "x, y = test_data[i][0], test_data[i][1]\n",
    "x=x.view(1,-1)\n",
    "#print(x.dtype,x.shape)\n",
    "with torch.no_grad():\n",
    "    pred = model(x.float())\n",
    "    predicted, actual = classes[pred[0].argmax(0).item()], classes[y]\n",
    "    print(f'Predicted: \"{predicted}\", Actual: \"{actual}\"')"
   ]
  },
  {
   "cell_type": "code",
   "execution_count": 173,
   "metadata": {},
   "outputs": [
    {
     "name": "stdout",
     "output_type": "stream",
     "text": [
      "simulation 1... loss: 2.213589  [    0/  317]\n",
      "Test Error: \n",
      " Accuracy: 38.7%, Avg loss: 2.171415 \n",
      "\n",
      "loss: 2.175574  [    0/  317]\n",
      "Test Error: \n",
      " Accuracy: 49.1%, Avg loss: 2.150776 \n",
      "\n",
      "loss: 2.148128  [    0/  317]\n",
      "Test Error: \n",
      " Accuracy: 46.2%, Avg loss: 2.129598 \n",
      "\n",
      "loss: 2.119854  [    0/  317]\n",
      "Test Error: \n",
      " Accuracy: 44.3%, Avg loss: 2.107110 \n",
      "\n",
      "loss: 2.090430  [    0/  317]\n",
      "Test Error: \n",
      " Accuracy: 46.2%, Avg loss: 2.083668 \n",
      "\n",
      "loss: 2.059077  [    0/  317]\n",
      "Test Error: \n",
      " Accuracy: 46.2%, Avg loss: 2.058839 \n",
      "\n",
      "loss: 2.024928  [    0/  317]\n",
      "Test Error: \n",
      " Accuracy: 43.4%, Avg loss: 2.032746 \n",
      "\n",
      "loss: 1.987728  [    0/  317]\n",
      "Test Error: \n",
      " Accuracy: 43.4%, Avg loss: 2.005561 \n",
      "\n",
      "loss: 1.948356  [    0/  317]\n",
      "Test Error: \n",
      " Accuracy: 42.5%, Avg loss: 1.977363 \n",
      "\n",
      "loss: 1.906676  [    0/  317]\n",
      "Test Error: \n",
      " Accuracy: 40.6%, Avg loss: 1.948104 \n",
      "\n",
      "loss: 1.863337  [    0/  317]\n",
      "Test Error: \n",
      " Accuracy: 42.5%, Avg loss: 1.917879 \n",
      "\n",
      "loss: 1.819356  [    0/  317]\n",
      "Test Error: \n",
      " Accuracy: 50.0%, Avg loss: 1.886161 \n",
      "\n",
      "loss: 1.774362  [    0/  317]\n",
      "Test Error: \n",
      " Accuracy: 53.8%, Avg loss: 1.853284 \n",
      "\n",
      "loss: 1.729265  [    0/  317]\n",
      "Test Error: \n",
      " Accuracy: 56.6%, Avg loss: 1.819534 \n",
      "\n",
      "loss: 1.684689  [    0/  317]\n",
      "Test Error: \n",
      " Accuracy: 58.5%, Avg loss: 1.784672 \n",
      "\n",
      "loss: 1.640343  [    0/  317]\n",
      "Test Error: \n",
      " Accuracy: 61.3%, Avg loss: 1.748857 \n",
      "\n",
      "loss: 1.595774  [    0/  317]\n",
      "Test Error: \n",
      " Accuracy: 65.1%, Avg loss: 1.711776 \n",
      "\n",
      "loss: 1.551915  [    0/  317]\n",
      "Test Error: \n",
      " Accuracy: 67.0%, Avg loss: 1.673958 \n",
      "\n",
      "loss: 1.507949  [    0/  317]\n",
      "Test Error: \n",
      " Accuracy: 67.0%, Avg loss: 1.635120 \n",
      "\n",
      "loss: 1.464881  [    0/  317]\n",
      "Test Error: \n",
      " Accuracy: 67.0%, Avg loss: 1.596028 \n",
      "\n",
      "loss: 1.421980  [    0/  317]\n",
      "Test Error: \n",
      " Accuracy: 67.9%, Avg loss: 1.556390 \n",
      "\n",
      "loss: 1.379976  [    0/  317]\n",
      "Test Error: \n",
      " Accuracy: 71.7%, Avg loss: 1.516524 \n",
      "\n",
      "loss: 1.338236  [    0/  317]\n",
      "Test Error: \n",
      " Accuracy: 72.6%, Avg loss: 1.476313 \n",
      "\n",
      "loss: 1.297484  [    0/  317]\n",
      "Test Error: \n",
      " Accuracy: 71.7%, Avg loss: 1.436120 \n",
      "\n",
      "loss: 1.257145  [    0/  317]\n",
      "Test Error: \n",
      " Accuracy: 71.7%, Avg loss: 1.396188 \n",
      "\n",
      "loss: 1.217723  [    0/  317]\n",
      "Test Error: \n",
      " Accuracy: 71.7%, Avg loss: 1.356440 \n",
      "\n",
      "loss: 1.179513  [    0/  317]\n",
      "Test Error: \n",
      " Accuracy: 73.6%, Avg loss: 1.317131 \n",
      "\n",
      "loss: 1.142139  [    0/  317]\n",
      "Test Error: \n",
      " Accuracy: 73.6%, Avg loss: 1.278282 \n",
      "\n",
      "loss: 1.105689  [    0/  317]\n",
      "Test Error: \n",
      " Accuracy: 75.5%, Avg loss: 1.239972 \n",
      "\n",
      "loss: 1.070318  [    0/  317]\n",
      "Test Error: \n",
      " Accuracy: 76.4%, Avg loss: 1.202546 \n",
      "\n",
      ".\n",
      "simulation 2... loss: 1.035916  [    0/  317]\n",
      "Test Error: \n",
      " Accuracy: 77.4%, Avg loss: 1.165645 \n",
      "\n",
      "loss: 1.002780  [    0/  317]\n",
      "Test Error: \n",
      " Accuracy: 78.3%, Avg loss: 1.129615 \n",
      "\n",
      "loss: 0.970696  [    0/  317]\n",
      "Test Error: \n",
      " Accuracy: 81.1%, Avg loss: 1.094335 \n",
      "\n",
      "loss: 0.940069  [    0/  317]\n",
      "Test Error: \n",
      " Accuracy: 81.1%, Avg loss: 1.060100 \n",
      "\n",
      "loss: 0.910592  [    0/  317]\n",
      "Test Error: \n",
      " Accuracy: 84.0%, Avg loss: 1.026887 \n",
      "\n",
      "loss: 0.882180  [    0/  317]\n",
      "Test Error: \n",
      " Accuracy: 84.9%, Avg loss: 0.994621 \n",
      "\n",
      "loss: 0.855110  [    0/  317]\n",
      "Test Error: \n",
      " Accuracy: 84.9%, Avg loss: 0.963449 \n",
      "\n",
      "loss: 0.828951  [    0/  317]\n",
      "Test Error: \n",
      " Accuracy: 84.9%, Avg loss: 0.933401 \n",
      "\n",
      "loss: 0.803954  [    0/  317]\n",
      "Test Error: \n",
      " Accuracy: 84.9%, Avg loss: 0.904472 \n",
      "\n",
      "loss: 0.779854  [    0/  317]\n",
      "Test Error: \n",
      " Accuracy: 85.8%, Avg loss: 0.876786 \n",
      "\n",
      "loss: 0.756698  [    0/  317]\n",
      "Test Error: \n",
      " Accuracy: 87.7%, Avg loss: 0.850141 \n",
      "\n",
      "loss: 0.734599  [    0/  317]\n",
      "Test Error: \n",
      " Accuracy: 88.7%, Avg loss: 0.824557 \n",
      "\n",
      "loss: 0.713322  [    0/  317]\n",
      "Test Error: \n",
      " Accuracy: 89.6%, Avg loss: 0.799931 \n",
      "\n",
      "loss: 0.693028  [    0/  317]\n",
      "Test Error: \n",
      " Accuracy: 90.6%, Avg loss: 0.776419 \n",
      "\n",
      "loss: 0.673822  [    0/  317]\n",
      "Test Error: \n",
      " Accuracy: 90.6%, Avg loss: 0.754014 \n",
      "\n",
      "loss: 0.655268  [    0/  317]\n",
      "Test Error: \n",
      " Accuracy: 89.6%, Avg loss: 0.732610 \n",
      "\n",
      "loss: 0.637417  [    0/  317]\n",
      "Test Error: \n",
      " Accuracy: 89.6%, Avg loss: 0.712209 \n",
      "\n",
      "loss: 0.620475  [    0/  317]\n",
      "Test Error: \n",
      " Accuracy: 89.6%, Avg loss: 0.692858 \n",
      "\n",
      "loss: 0.604093  [    0/  317]\n",
      "Test Error: \n",
      " Accuracy: 90.6%, Avg loss: 0.674405 \n",
      "\n",
      "loss: 0.588355  [    0/  317]\n",
      "Test Error: \n",
      " Accuracy: 90.6%, Avg loss: 0.656723 \n",
      "\n",
      "loss: 0.573273  [    0/  317]\n",
      "Test Error: \n",
      " Accuracy: 90.6%, Avg loss: 0.639913 \n",
      "\n",
      "loss: 0.558877  [    0/  317]\n",
      "Test Error: \n",
      " Accuracy: 90.6%, Avg loss: 0.623737 \n",
      "\n",
      "loss: 0.545001  [    0/  317]\n",
      "Test Error: \n",
      " Accuracy: 91.5%, Avg loss: 0.608456 \n",
      "\n",
      "loss: 0.531644  [    0/  317]\n",
      "Test Error: \n",
      " Accuracy: 91.5%, Avg loss: 0.593812 \n",
      "\n",
      "loss: 0.518626  [    0/  317]\n",
      "Test Error: \n",
      " Accuracy: 92.5%, Avg loss: 0.579806 \n",
      "\n",
      "loss: 0.506177  [    0/  317]\n",
      "Test Error: \n",
      " Accuracy: 93.4%, Avg loss: 0.566472 \n",
      "\n",
      "loss: 0.494052  [    0/  317]\n",
      "Test Error: \n",
      " Accuracy: 93.4%, Avg loss: 0.553634 \n",
      "\n",
      "loss: 0.482506  [    0/  317]\n",
      "Test Error: \n",
      " Accuracy: 94.3%, Avg loss: 0.541339 \n",
      "\n",
      "loss: 0.471227  [    0/  317]\n",
      "Test Error: \n",
      " Accuracy: 94.3%, Avg loss: 0.529574 \n",
      "\n",
      "loss: 0.460371  [    0/  317]\n",
      "Test Error: \n",
      " Accuracy: 94.3%, Avg loss: 0.518338 \n",
      "\n",
      ".\n",
      "simulation 3... loss: 0.449821  [    0/  317]\n",
      "Test Error: \n",
      " Accuracy: 94.3%, Avg loss: 0.507595 \n",
      "\n",
      "loss: 0.439595  [    0/  317]\n",
      "Test Error: \n",
      " Accuracy: 94.3%, Avg loss: 0.497110 \n",
      "\n",
      "loss: 0.429888  [    0/  317]\n",
      "Test Error: \n",
      " Accuracy: 94.3%, Avg loss: 0.487226 \n",
      "\n",
      "loss: 0.420407  [    0/  317]\n",
      "Test Error: \n",
      " Accuracy: 94.3%, Avg loss: 0.477747 \n",
      "\n",
      "loss: 0.411415  [    0/  317]\n",
      "Test Error: \n",
      " Accuracy: 94.3%, Avg loss: 0.468575 \n",
      "\n",
      "loss: 0.402596  [    0/  317]\n",
      "Test Error: \n",
      " Accuracy: 94.3%, Avg loss: 0.459749 \n",
      "\n",
      "loss: 0.394097  [    0/  317]\n",
      "Test Error: \n",
      " Accuracy: 94.3%, Avg loss: 0.451259 \n",
      "\n",
      "loss: 0.385852  [    0/  317]\n",
      "Test Error: \n",
      " Accuracy: 94.3%, Avg loss: 0.443157 \n",
      "\n",
      "loss: 0.377972  [    0/  317]\n",
      "Test Error: \n",
      " Accuracy: 94.3%, Avg loss: 0.435340 \n",
      "\n",
      "loss: 0.370229  [    0/  317]\n",
      "Test Error: \n",
      " Accuracy: 95.3%, Avg loss: 0.427793 \n",
      "\n",
      "loss: 0.362659  [    0/  317]\n",
      "Test Error: \n",
      " Accuracy: 94.3%, Avg loss: 0.420554 \n",
      "\n",
      "loss: 0.355311  [    0/  317]\n",
      "Test Error: \n",
      " Accuracy: 94.3%, Avg loss: 0.413490 \n",
      "\n",
      "loss: 0.348160  [    0/  317]\n",
      "Test Error: \n",
      " Accuracy: 94.3%, Avg loss: 0.406795 \n",
      "\n",
      "loss: 0.341268  [    0/  317]\n",
      "Test Error: \n",
      " Accuracy: 94.3%, Avg loss: 0.400282 \n",
      "\n",
      "loss: 0.334516  [    0/  317]\n",
      "Test Error: \n",
      " Accuracy: 94.3%, Avg loss: 0.393980 \n",
      "\n",
      "loss: 0.327926  [    0/  317]\n",
      "Test Error: \n",
      " Accuracy: 94.3%, Avg loss: 0.387947 \n",
      "\n",
      "loss: 0.321514  [    0/  317]\n",
      "Test Error: \n",
      " Accuracy: 94.3%, Avg loss: 0.382022 \n",
      "\n",
      "loss: 0.315403  [    0/  317]\n",
      "Test Error: \n",
      " Accuracy: 94.3%, Avg loss: 0.376274 \n",
      "\n",
      "loss: 0.309226  [    0/  317]\n",
      "Test Error: \n",
      " Accuracy: 94.3%, Avg loss: 0.370869 \n",
      "\n",
      "loss: 0.303415  [    0/  317]\n",
      "Test Error: \n",
      " Accuracy: 95.3%, Avg loss: 0.365515 \n",
      "\n",
      "loss: 0.297643  [    0/  317]\n",
      "Test Error: \n",
      " Accuracy: 95.3%, Avg loss: 0.360455 \n",
      "\n",
      "loss: 0.292133  [    0/  317]\n",
      "Test Error: \n",
      " Accuracy: 95.3%, Avg loss: 0.355495 \n",
      "\n",
      "loss: 0.286621  [    0/  317]\n",
      "Test Error: \n",
      " Accuracy: 95.3%, Avg loss: 0.350627 \n",
      "\n",
      "loss: 0.281179  [    0/  317]\n",
      "Test Error: \n",
      " Accuracy: 95.3%, Avg loss: 0.345970 \n",
      "\n",
      "loss: 0.275990  [    0/  317]\n",
      "Test Error: \n",
      " Accuracy: 95.3%, Avg loss: 0.341414 \n",
      "\n",
      "loss: 0.270860  [    0/  317]\n",
      "Test Error: \n",
      " Accuracy: 95.3%, Avg loss: 0.337109 \n",
      "\n",
      "loss: 0.265961  [    0/  317]\n",
      "Test Error: \n",
      " Accuracy: 95.3%, Avg loss: 0.332771 \n",
      "\n",
      "loss: 0.261067  [    0/  317]\n",
      "Test Error: \n",
      " Accuracy: 94.3%, Avg loss: 0.328731 \n",
      "\n",
      "loss: 0.256368  [    0/  317]\n",
      "Test Error: \n",
      " Accuracy: 94.3%, Avg loss: 0.324703 \n",
      "\n",
      "loss: 0.251749  [    0/  317]\n",
      "Test Error: \n",
      " Accuracy: 94.3%, Avg loss: 0.320875 \n",
      "\n",
      ".\n",
      "simulation 4... loss: 0.247245  [    0/  317]\n",
      "Test Error: \n",
      " Accuracy: 94.3%, Avg loss: 0.317123 \n",
      "\n",
      "loss: 0.242855  [    0/  317]\n",
      "Test Error: \n",
      " Accuracy: 94.3%, Avg loss: 0.313462 \n",
      "\n",
      "loss: 0.238544  [    0/  317]\n",
      "Test Error: \n",
      " Accuracy: 94.3%, Avg loss: 0.309946 \n",
      "\n",
      "loss: 0.234420  [    0/  317]\n",
      "Test Error: \n",
      " Accuracy: 94.3%, Avg loss: 0.306467 \n",
      "\n",
      "loss: 0.230320  [    0/  317]\n",
      "Test Error: \n",
      " Accuracy: 94.3%, Avg loss: 0.303170 \n",
      "\n",
      "loss: 0.226392  [    0/  317]\n",
      "Test Error: \n",
      " Accuracy: 94.3%, Avg loss: 0.299955 \n",
      "\n",
      "loss: 0.222538  [    0/  317]\n",
      "Test Error: \n",
      " Accuracy: 94.3%, Avg loss: 0.296799 \n",
      "\n",
      "loss: 0.218709  [    0/  317]\n",
      "Test Error: \n",
      " Accuracy: 94.3%, Avg loss: 0.293690 \n",
      "\n",
      "loss: 0.215000  [    0/  317]\n",
      "Test Error: \n",
      " Accuracy: 94.3%, Avg loss: 0.290769 \n",
      "\n",
      "loss: 0.211396  [    0/  317]\n",
      "Test Error: \n",
      " Accuracy: 94.3%, Avg loss: 0.287745 \n",
      "\n",
      "loss: 0.207829  [    0/  317]\n",
      "Test Error: \n",
      " Accuracy: 94.3%, Avg loss: 0.284945 \n",
      "\n",
      "loss: 0.204387  [    0/  317]\n",
      "Test Error: \n",
      " Accuracy: 94.3%, Avg loss: 0.282178 \n",
      "\n",
      "loss: 0.200987  [    0/  317]\n",
      "Test Error: \n",
      " Accuracy: 94.3%, Avg loss: 0.279545 \n",
      "\n",
      "loss: 0.197717  [    0/  317]\n",
      "Test Error: \n",
      " Accuracy: 94.3%, Avg loss: 0.276875 \n",
      "\n",
      "loss: 0.194450  [    0/  317]\n",
      "Test Error: \n",
      " Accuracy: 94.3%, Avg loss: 0.274345 \n",
      "\n",
      "loss: 0.191282  [    0/  317]\n",
      "Test Error: \n",
      " Accuracy: 94.3%, Avg loss: 0.271856 \n",
      "\n",
      "loss: 0.188192  [    0/  317]\n",
      "Test Error: \n",
      " Accuracy: 94.3%, Avg loss: 0.269447 \n",
      "\n",
      "loss: 0.185200  [    0/  317]\n",
      "Test Error: \n",
      " Accuracy: 94.3%, Avg loss: 0.267064 \n",
      "\n",
      "loss: 0.182211  [    0/  317]\n",
      "Test Error: \n",
      " Accuracy: 94.3%, Avg loss: 0.264791 \n",
      "\n",
      "loss: 0.179354  [    0/  317]\n",
      "Test Error: \n",
      " Accuracy: 94.3%, Avg loss: 0.262538 \n",
      "\n",
      "loss: 0.176606  [    0/  317]\n",
      "Test Error: \n",
      " Accuracy: 94.3%, Avg loss: 0.260471 \n",
      "\n",
      "loss: 0.173859  [    0/  317]\n",
      "Test Error: \n",
      " Accuracy: 94.3%, Avg loss: 0.258245 \n",
      "\n",
      "loss: 0.171157  [    0/  317]\n",
      "Test Error: \n",
      " Accuracy: 94.3%, Avg loss: 0.256235 \n",
      "\n",
      "loss: 0.168557  [    0/  317]\n",
      "Test Error: \n",
      " Accuracy: 94.3%, Avg loss: 0.254156 \n",
      "\n",
      "loss: 0.166032  [    0/  317]\n",
      "Test Error: \n",
      " Accuracy: 94.3%, Avg loss: 0.252134 \n",
      "\n",
      "loss: 0.163505  [    0/  317]\n",
      "Test Error: \n",
      " Accuracy: 94.3%, Avg loss: 0.250214 \n",
      "\n",
      "loss: 0.161091  [    0/  317]\n",
      "Test Error: \n",
      " Accuracy: 94.3%, Avg loss: 0.248276 \n",
      "\n",
      "loss: 0.158643  [    0/  317]\n",
      "Test Error: \n",
      " Accuracy: 94.3%, Avg loss: 0.246417 \n",
      "\n",
      "loss: 0.156313  [    0/  317]\n",
      "Test Error: \n",
      " Accuracy: 94.3%, Avg loss: 0.244530 \n",
      "\n",
      "loss: 0.154013  [    0/  317]\n",
      "Test Error: \n",
      " Accuracy: 94.3%, Avg loss: 0.242681 \n",
      "\n",
      ".\n",
      "simulation 5... loss: 0.151789  [    0/  317]\n",
      "Test Error: \n",
      " Accuracy: 94.3%, Avg loss: 0.240922 \n",
      "\n",
      "loss: 0.149566  [    0/  317]\n",
      "Test Error: \n",
      " Accuracy: 94.3%, Avg loss: 0.239140 \n",
      "\n",
      "loss: 0.147401  [    0/  317]\n",
      "Test Error: \n",
      " Accuracy: 94.3%, Avg loss: 0.237460 \n",
      "\n",
      "loss: 0.145300  [    0/  317]\n",
      "Test Error: \n",
      " Accuracy: 94.3%, Avg loss: 0.235774 \n",
      "\n",
      "loss: 0.143259  [    0/  317]\n",
      "Test Error: \n",
      " Accuracy: 94.3%, Avg loss: 0.234114 \n",
      "\n",
      "loss: 0.141210  [    0/  317]\n",
      "Test Error: \n",
      " Accuracy: 94.3%, Avg loss: 0.232474 \n",
      "\n",
      "loss: 0.139231  [    0/  317]\n",
      "Test Error: \n",
      " Accuracy: 94.3%, Avg loss: 0.230870 \n",
      "\n",
      "loss: 0.137279  [    0/  317]\n",
      "Test Error: \n",
      " Accuracy: 94.3%, Avg loss: 0.229342 \n",
      "\n",
      "loss: 0.135405  [    0/  317]\n",
      "Test Error: \n",
      " Accuracy: 94.3%, Avg loss: 0.227725 \n",
      "\n",
      "loss: 0.133481  [    0/  317]\n",
      "Test Error: \n",
      " Accuracy: 94.3%, Avg loss: 0.226286 \n",
      "\n",
      "loss: 0.131694  [    0/  317]\n",
      "Test Error: \n",
      " Accuracy: 94.3%, Avg loss: 0.224843 \n",
      "\n",
      "loss: 0.129910  [    0/  317]\n",
      "Test Error: \n",
      " Accuracy: 94.3%, Avg loss: 0.223414 \n",
      "\n",
      "loss: 0.128149  [    0/  317]\n",
      "Test Error: \n",
      " Accuracy: 94.3%, Avg loss: 0.221924 \n",
      "\n",
      "loss: 0.126397  [    0/  317]\n",
      "Test Error: \n",
      " Accuracy: 94.3%, Avg loss: 0.220557 \n",
      "\n",
      "loss: 0.124727  [    0/  317]\n",
      "Test Error: \n",
      " Accuracy: 94.3%, Avg loss: 0.219131 \n",
      "\n",
      "loss: 0.123057  [    0/  317]\n",
      "Test Error: \n",
      " Accuracy: 94.3%, Avg loss: 0.217799 \n",
      "\n",
      "loss: 0.121421  [    0/  317]\n",
      "Test Error: \n",
      " Accuracy: 94.3%, Avg loss: 0.216478 \n",
      "\n",
      "loss: 0.119779  [    0/  317]\n",
      "Test Error: \n",
      " Accuracy: 94.3%, Avg loss: 0.215119 \n",
      "\n",
      "loss: 0.118244  [    0/  317]\n",
      "Test Error: \n",
      " Accuracy: 94.3%, Avg loss: 0.213812 \n",
      "\n",
      "loss: 0.116705  [    0/  317]\n",
      "Test Error: \n",
      " Accuracy: 94.3%, Avg loss: 0.212509 \n",
      "\n",
      "loss: 0.115184  [    0/  317]\n",
      "Test Error: \n",
      " Accuracy: 94.3%, Avg loss: 0.211251 \n",
      "\n",
      "loss: 0.113725  [    0/  317]\n",
      "Test Error: \n",
      " Accuracy: 94.3%, Avg loss: 0.209977 \n",
      "\n",
      "loss: 0.112281  [    0/  317]\n",
      "Test Error: \n",
      " Accuracy: 94.3%, Avg loss: 0.208781 \n",
      "\n",
      "loss: 0.110832  [    0/  317]\n",
      "Test Error: \n",
      " Accuracy: 94.3%, Avg loss: 0.207575 \n",
      "\n",
      "loss: 0.109452  [    0/  317]\n",
      "Test Error: \n",
      " Accuracy: 94.3%, Avg loss: 0.206409 \n",
      "\n",
      "loss: 0.108084  [    0/  317]\n",
      "Test Error: \n",
      " Accuracy: 94.3%, Avg loss: 0.205289 \n",
      "\n",
      "loss: 0.106763  [    0/  317]\n",
      "Test Error: \n",
      " Accuracy: 94.3%, Avg loss: 0.204058 \n",
      "\n",
      "loss: 0.105437  [    0/  317]\n",
      "Test Error: \n",
      " Accuracy: 94.3%, Avg loss: 0.203097 \n",
      "\n",
      "loss: 0.104158  [    0/  317]\n",
      "Test Error: \n",
      " Accuracy: 94.3%, Avg loss: 0.201972 \n",
      "\n",
      "loss: 0.102880  [    0/  317]\n",
      "Test Error: \n",
      " Accuracy: 94.3%, Avg loss: 0.200885 \n",
      "\n",
      ".\n"
     ]
    }
   ],
   "source": [
    "# epoch 10 max iter 5 save file with acc value\n",
    "maxIterations = 5\n",
    "testAccList = []\n",
    "thresholdAcc = 0.0\n",
    "lastTestAcc = 0.0\n",
    "\n",
    "\n",
    "testLoss = 0.0\n",
    "testAcc = 0.0\n",
    "modelDir = 'torch_model'\n",
    "epoch = 30\n",
    "\n",
    "for iter in range(maxIterations):\n",
    "\n",
    "    print(f'simulation {iter + 1}', end='... ')\n",
    "\n",
    "    for t in range(epoch):\n",
    "        \n",
    "        loss, current = train(train_dataloader, model, loss_fn, optimizer)\n",
    "        test_loss, test_acc = test(test_dataloader, model, loss_fn)\n",
    "        \n",
    "\n",
    "\n",
    "    # save model if greater than threshold-accuracy 0.95\n",
    "    if testAcc > thresholdAcc:\n",
    "        # SavedModel format\n",
    "        torch.save(model.state_dict(), \"torch_model_max.pth\")\n",
    "        print(\"Saved PyTorch Model State to torch_model_max.pth\")\n",
    "\n",
    "        thresholdAcc = testAcc\n",
    "        \n",
    "    print('.')\n",
    "    \n"
   ]
  },
  {
   "cell_type": "markdown",
   "metadata": {},
   "source": []
  },
  {
   "cell_type": "code",
   "execution_count": null,
   "metadata": {},
   "outputs": [],
   "source": [
    "layerSoftMax = nn.Softmax()\n",
    "predictions = layerSoftMax(pred)\n",
    "predictions"
   ]
  }
 ],
 "metadata": {
  "interpreter": {
   "hash": "19fe9178ab84f0131b91f73560357563b7351251bdf24ddc3bb5eeca25fe1f16"
  },
  "kernelspec": {
   "display_name": "Python 3.9.5 64-bit ('env39': venv)",
   "language": "python",
   "name": "python3"
  },
  "language_info": {
   "codemirror_mode": {
    "name": "ipython",
    "version": 3
   },
   "file_extension": ".py",
   "mimetype": "text/x-python",
   "name": "python",
   "nbconvert_exporter": "python",
   "pygments_lexer": "ipython3",
   "version": "3.9.8"
  },
  "orig_nbformat": 4
 },
 "nbformat": 4,
 "nbformat_minor": 2
}
