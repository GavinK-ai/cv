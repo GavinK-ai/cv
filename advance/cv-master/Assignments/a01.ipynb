{
 "cells": [
  {
   "cell_type": "markdown",
   "metadata": {},
   "source": [
    "# Assignment 1.1\n",
    "\n",
    "Use python to write an application letter for job to Perantis.  "
   ]
  },
  {
   "cell_type": "code",
   "execution_count": 4,
   "metadata": {},
   "outputs": [
    {
     "name": "stdout",
     "output_type": "stream",
     "text": [
      "Imagine AI, Iskandar Puteri, Johor, Malaysia\n",
      "\n",
      "\n",
      "___________________________________________\n",
      "Seremban, NSDK, Malaysia\n",
      "\n",
      "Dear Mr Edwin\t\t\t18.11.2021\n",
      "\n",
      "Job Application for Computer Vision Engineer position\n",
      "\n",
      "Greetings,\n",
      "My name is Gavin and I wish to apply for the position of Computer Vision Engineer atImagine AI. \n",
      "I have graduated from Universiti Malaysia Pahang with a Bachelor's Degree in Mechatronics Engineerring. \n",
      "I am current pursuing my Masters by research on a machine learning algorithm on collaborative robot vibration signals. \n",
      "I would like to talk to you in more details regarding the position and I hope to hear from you soon.\n",
      "\n",
      "Sincerely,\n",
      "\n",
      "Gavin Lim\n",
      "jiannkai@gmail.com\n",
      "0182739566\n"
     ]
    }
   ],
   "source": [
    "print(\"Imagine AI, Iskandar Puteri, Johor, Malaysia\\n\\n\")\n",
    "\n",
    "print(\"___________________________________________\")\n",
    "\n",
    "print(\"Seremban, NSDK, Malaysia\\n\")\n",
    "\n",
    "print(\"Dear Mr Edwin\\t\\t\\t18.11.2021\\n\")\n",
    "\n",
    "\n",
    "print(\"Job Application for Computer Vision Engineer position\\n\")\n",
    "\n",
    "\n",
    "print(\"Greetings,\\nMy name is Gavin and I wish to apply for the position of Computer Vision Engineer atImagine AI. \\nI have graduated from Universiti Malaysia Pahang with a Bachelor's Degree in Mechatronics Engineerring. \\nI am current pursuing my Masters by research on a machine learning algorithm on collaborative robot vibration signals. \\nI would like to talk to you in more details regarding the position and I hope to hear from you soon.\\n\")\n",
    "\n",
    "print(\"Sincerely,\\n\")\n",
    "\n",
    "print(\"Gavin Lim\")\n",
    "\n",
    "print(\"jiannkai@gmail.com\")\n",
    "print(\"0182739566\")\n"
   ]
  },
  {
   "cell_type": "markdown",
   "metadata": {},
   "source": [
    "# Assigment 1.2\n",
    "\n",
    "Solve quadratic equation using\n",
    "$$\n",
    "x=\\frac{-b\\pm\\sqrt{b^2-4ac}}{2a}    \n",
    "$$\n",
    "$$\n",
    "a = 2, b= 8 and c = 1\n",
    "$$"
   ]
  },
  {
   "cell_type": "code",
   "execution_count": 1,
   "metadata": {},
   "outputs": [
    {
     "name": "stdout",
     "output_type": "stream",
     "text": [
      "x1:-0.12917130661302934\n",
      "x2:-3.8708286933869704\n"
     ]
    }
   ],
   "source": [
    "a=2\n",
    "b=8\n",
    "c=1\n",
    "\n",
    "d=(b**2-4*a*c)**0.5\n",
    "\n",
    "x1=(-b+d)/(2*a)\n",
    "x2=(-b-d)/(2*a)\n",
    "\n",
    "print(f\"x1:{x1}\\nx2:{x2}\")"
   ]
  }
 ],
 "metadata": {
  "interpreter": {
   "hash": "b5572384fec6d310c574784c4ff4f3df12c5eb2938d77a1833302b0cb155924f"
  },
  "kernelspec": {
   "display_name": "Python 3.9.8 64-bit",
   "language": "python",
   "name": "python3"
  },
  "language_info": {
   "codemirror_mode": {
    "name": "ipython",
    "version": 3
   },
   "file_extension": ".py",
   "mimetype": "text/x-python",
   "name": "python",
   "nbconvert_exporter": "python",
   "pygments_lexer": "ipython3",
   "version": "3.9.8"
  },
  "orig_nbformat": 4
 },
 "nbformat": 4,
 "nbformat_minor": 2
}
