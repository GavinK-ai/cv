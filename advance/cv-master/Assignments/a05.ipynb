{
 "cells": [
  {
   "cell_type": "markdown",
   "metadata": {},
   "source": [
    "######\n",
    "### Asssignment - Inheritence (Take home since unfinished during class)\n",
    "\n",
    "This Class must be inherited from Student class\n",
    "1. Create a class for BSCstudent (it inherit properties of Student class) but it has extra properties:\n",
    "    - Major\n",
    "    - Average\n",
    "    - Set of pass and failed subjects that keeps the name of course and score (could be dictionary) <br>\n",
    "<br>\n",
    "2. Create Methods: <br>\n",
    "- AVG Calculate the average from the scores of subjects taken <br>\n",
    "\n",
    "- RequiredCourses(get the set of courses in the major): The method shows which courses of the major is not taken yet by the student <br>\n",
    "\n",
    "- printInfo(): print all the info of the student"
   ]
  },
  {
   "cell_type": "code",
   "execution_count": 17,
   "metadata": {},
   "outputs": [],
   "source": [
    "class Student:\n",
    "    def __init__(self):\n",
    "        self.name = input('\\nName: ')\n",
    "        self.matricno = input('Matric No: ')\n",
    "        self.subjects = [i for i in input('Enter subjects: ').strip().split()]\n",
    "    \n",
    "    def printStudentInfo(self):\n",
    "        print('\\n>> STUDENT INFO <<')\n",
    "        print('\\nName   \\t\\t :', self.name)\n",
    "        print('Matric   \\t :', self.matricno)\n",
    "        print(\"Subject  \\t : {}\".format(', '.join(self.subjects)))\n",
    "\n",
    "\n"
   ]
  },
  {
   "cell_type": "code",
   "execution_count": 18,
   "metadata": {},
   "outputs": [],
   "source": [
    "class BSCStudent(Student):\n",
    "    def __init__(self):\n",
    "        super().__init__()\n",
    "        \n",
    "        self.PassFail()\n",
    "        self.requiredCourses()\n",
    "        self.avg()\n",
    "        \n",
    "    def PassFail(self):\n",
    "        subject_dict = dict.fromkeys(self.subjects, None)\n",
    "        \n",
    "        subject_score = [float(input(f'{i} score: ')) for i in subject_dict]\n",
    "\n",
    "        self.passed = {i:j for i, j in zip(subject_dict,subject_score) if j>=50}\n",
    "        self.failed = {i:j for i, j in zip(subject_dict,subject_score) if j<50}\n",
    "        \n",
    "        \n",
    "    def avg(self):\n",
    "        self.sum_score = sum([float(i) for i in self.passed.values()] + [float(i) for i in self.failed.values()])\n",
    "        self.avg_score = self.sum_score/(len(self.passed.values()) + len(self.failed.values()))   \n",
    "    \n",
    "    def requiredCourses(self):\n",
    "        self.major = input('Major: ')\n",
    "        self.major_courses = [i for i in input('Enter upcoming major subjects: ').strip().split()] # Strip remove leading and trailing empty space, Split splits the string into list element\n",
    "      \n",
    "    def printBSCInfo(self):\n",
    "        super().printStudentInfo()\n",
    "        \n",
    "        print('\\n>> BSC STUDENT INFO <<\\n')\n",
    "        \n",
    "        print('Student major in:', self.major)\n",
    "        \n",
    "        print('\\nPassed subjects:')\n",
    "        for x in self.passed:\n",
    "            print(f'{x}: {self.passed[x]}')\n",
    "    \n",
    "        print('\\nFailed subjects:')\n",
    "        for x in self.failed:\n",
    "            print(f'{x}: {self.failed[x]}')\n",
    "            \n",
    "        print(f'\\nAverage score is: {self.avg_score:.2f}')\n",
    "        \n",
    "        print('Major subjects to be taken:', ', '.join(self.major_courses)) \n"
   ]
  },
  {
   "cell_type": "code",
   "execution_count": 20,
   "metadata": {},
   "outputs": [
    {
     "name": "stdout",
     "output_type": "stream",
     "text": [
      "\n",
      ">> STUDENT INFO <<\n",
      "\n",
      "Name   \t\t : Ken\n",
      "Matric   \t : 12\n",
      "Subject  \t : Math, Pyhsic, Bio, Chem, C, Jave\n",
      "\n",
      ">> BSC STUDENT INFO <<\n",
      "\n",
      "Student major in: CV\n",
      "\n",
      "Passed subjects:\n",
      "Math: 60.0\n",
      "Pyhsic: 50.0\n",
      "Chem: 85.0\n",
      "C: 60.0\n",
      "Jave: 70.0\n",
      "\n",
      "Failed subjects:\n",
      "Bio: 40.0\n",
      "\n",
      "Average score is: 60.83\n",
      "Major subjects to be taken: Python, C\n"
     ]
    }
   ],
   "source": [
    "s1=BSCStudent()\n",
    "\n",
    "s1.printBSCInfo()\n"
   ]
  },
  {
   "cell_type": "markdown",
   "metadata": {},
   "source": [
    "# Notes"
   ]
  },
  {
   "cell_type": "code",
   "execution_count": 25,
   "metadata": {},
   "outputs": [],
   "source": [
    "class Person:\n",
    "    def __init__(self, name, age):\n",
    "        self.n = name\n",
    "        self.a = age\n"
   ]
  },
  {
   "cell_type": "code",
   "execution_count": 26,
   "metadata": {},
   "outputs": [],
   "source": [
    "p1 = Person(\"Harry\", '25')\n",
    "p2 = Person(\"Tom\", 30)\n"
   ]
  },
  {
   "cell_type": "code",
   "execution_count": 29,
   "metadata": {},
   "outputs": [
    {
     "name": "stdout",
     "output_type": "stream",
     "text": [
      "Harry,25\n",
      "Tom,30\n"
     ]
    }
   ],
   "source": [
    "print(f\"{p1.n},{p1.a}\\n{p2.n},{p2.a}\")\n"
   ]
  },
  {
   "cell_type": "code",
   "execution_count": 30,
   "metadata": {},
   "outputs": [
    {
     "name": "stdout",
     "output_type": "stream",
     "text": [
      "Harry,25\n",
      "Mason,35\n"
     ]
    }
   ],
   "source": [
    "p2.n = \"Mason\"\n",
    "p2.a = 35\n",
    "\n",
    "print(f\"{p1.n},{p1.a}\\n{p2.n},{p2.a}\")\n"
   ]
  },
  {
   "cell_type": "code",
   "execution_count": 71,
   "metadata": {},
   "outputs": [],
   "source": [
    "class People:\n",
    "    def __init__(self, p_name, p_age, p_job):\n",
    "        self.name = p_name\n",
    "        self.age = p_age\n",
    "        self.job = p_job\n",
    "\n",
    "    def f_greet(self):\n",
    "\n",
    "        print(\"Hello \"+self.name)\n",
    "\n",
    "    def f_age(self):\n",
    "\n",
    "        print(f\"Age is {self.age}\")\n",
    "        # print(\"Age is \"+self.age)\n",
    "\n",
    "    def f_job(self):\n",
    "\n",
    "        print(f\"You work as a {self.job}\")\n"
   ]
  },
  {
   "cell_type": "code",
   "execution_count": 72,
   "metadata": {},
   "outputs": [
    {
     "name": "stdout",
     "output_type": "stream",
     "text": [
      "Hello Gary\n",
      "Age is 30\n",
      "You work as a Cook\n"
     ]
    }
   ],
   "source": [
    "p1 = People(\"Gary\", '30', \"Cook\")\n",
    "p1.f_greet()\n",
    "p1.f_age()\n",
    "p1.f_job()\n"
   ]
  },
  {
   "cell_type": "code",
   "execution_count": 1,
   "metadata": {},
   "outputs": [
    {
     "name": "stdout",
     "output_type": "stream",
     "text": [
      "Name:Rufus\n",
      "ID:0001\n",
      "Course:Math\n",
      "Name:Hilson\n",
      "ID:0002\n",
      "Course:AI\n"
     ]
    }
   ],
   "source": [
    "class Tutee:\n",
    "    def __init__(self):\n",
    "        self.name = input(\"Name: \")\n",
    "        self.id = input(\"ID: \")\n",
    "        self.course = input(\"Course: \")\n",
    "\n",
    "    def display(self):\n",
    "        print(f\"Name:{self.name}\")\n",
    "        print(f\"ID:{self.id}\")\n",
    "        print(f\"Course:{self.course}\")\n",
    "\n",
    "t1 = Tutee()\n",
    "t2 = Tutee()\n",
    "\n",
    "t1.display()\n",
    "t2.display()"
   ]
  },
  {
   "cell_type": "code",
   "execution_count": null,
   "metadata": {},
   "outputs": [],
   "source": []
  }
 ],
 "metadata": {
  "interpreter": {
   "hash": "b5572384fec6d310c574784c4ff4f3df12c5eb2938d77a1833302b0cb155924f"
  },
  "kernelspec": {
   "display_name": "Python 3.9.8 64-bit",
   "language": "python",
   "name": "python3"
  },
  "language_info": {
   "codemirror_mode": {
    "name": "ipython",
    "version": 3
   },
   "file_extension": ".py",
   "mimetype": "text/x-python",
   "name": "python",
   "nbconvert_exporter": "python",
   "pygments_lexer": "ipython3",
   "version": "3.9.8"
  },
  "orig_nbformat": 4
 },
 "nbformat": 4,
 "nbformat_minor": 2
}
