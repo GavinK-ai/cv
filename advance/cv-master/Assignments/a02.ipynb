{
 "cells": [
  {
   "cell_type": "markdown",
   "metadata": {},
   "source": [
    "# Assignment 2.1\n",
    "\n",
    "1. Collect the name, year of birth and salary of a user. Then output the following : \n",
    "\n",
    "-   \"Goodday {name}!, your year of birth is {year of birth} and your age in the year 2030 will be {Age}. From your salary of {salary} the computed tax of 12.3% is {tax}."
   ]
  },
  {
   "cell_type": "code",
   "execution_count": 33,
   "metadata": {},
   "outputs": [],
   "source": [
    "name=input(\"Please Enter Your Name:\")"
   ]
  },
  {
   "cell_type": "code",
   "execution_count": 45,
   "metadata": {},
   "outputs": [],
   "source": [
    "k=input(\"Enter Your Birthyear:\")\n",
    "yob=int(k)\n",
    "age=2021-yob"
   ]
  },
  {
   "cell_type": "code",
   "execution_count": null,
   "metadata": {},
   "outputs": [],
   "source": [
    "slry=input(\"Enter Your Salary:\")\n",
    "salary=int(slry)"
   ]
  },
  {
   "cell_type": "code",
   "execution_count": null,
   "metadata": {},
   "outputs": [
    {
     "name": "stdout",
     "output_type": "stream",
     "text": [
      "Your name is Gavin.\n",
      "Your age is 25 and your year of birth is 1996.Your age in 2030 will be 34.\n",
      "\n",
      "From yor salary of RM3000, the computed tax of 12.3% is RM369.00\n"
     ]
    }
   ],
   "source": [
    "print(f\"Your name is {name}.\\nYour age is {age} and your year of birth is {yob}.Your age in 2030 will be {2030-2021+age}.\\n\")\n",
    "print(f\"From yor salary of RM{salary}, the computed tax of 12.3% is RM{salary*0.123:.2f}\")"
   ]
  },
  {
   "cell_type": "markdown",
   "metadata": {},
   "source": []
  },
  {
   "cell_type": "markdown",
   "metadata": {},
   "source": [
    "# Assignment 2.1\n",
    "\n",
    "2. Collect a list of names and scores and find the average of the scores."
   ]
  },
  {
   "cell_type": "code",
   "execution_count": null,
   "metadata": {},
   "outputs": [
    {
     "data": {
      "text/plain": [
       "(('Ali', 'Ben', 'Calli', 'Dan', 'Edwin'), (70, 75, 80, 88, 90))"
      ]
     },
     "execution_count": 18,
     "metadata": {},
     "output_type": "execute_result"
    }
   ],
   "source": [
    "name = (\"Ali\",\"Ben\",\"Calli\",\"Dan\",\"Edwin\")\n",
    "scores =(70,75,80,88,90)\n",
    "\n",
    "scoresTable = (name,scores)\n",
    "scoresTable"
   ]
  },
  {
   "cell_type": "code",
   "execution_count": null,
   "metadata": {},
   "outputs": [
    {
     "data": {
      "text/plain": [
       "tuple"
      ]
     },
     "execution_count": 26,
     "metadata": {},
     "output_type": "execute_result"
    }
   ],
   "source": [
    "type(scoresTable[1])"
   ]
  },
  {
   "cell_type": "code",
   "execution_count": null,
   "metadata": {},
   "outputs": [
    {
     "name": "stdout",
     "output_type": "stream",
     "text": [
      "The average score in 80.6\n"
     ]
    }
   ],
   "source": [
    "scoresAve = sum(scoresTable[1])/len(scores)\n",
    "print(f\"The average score in {scoresAve}\")"
   ]
  },
  {
   "cell_type": "markdown",
   "metadata": {},
   "source": [
    "# Assignment 2.3\n",
    "\n",
    "3.3. Use python to write an application letter for job to Perantis apply text wrap with line width of 50.  "
   ]
  },
  {
   "cell_type": "code",
   "execution_count": null,
   "metadata": {},
   "outputs": [],
   "source": [
    "import textwrap\n",
    "\n",
    "sample_text = '''\n",
    "Greetings\n",
    "\n",
    "My name is Gavin and I wish to apply for the position of Computer Vision Engineer at Imagine AI.\n",
    "\n",
    "I have graduated from Universiti Malaysia Pahang with a Bachelor's Degree in Mechatronics Engineerring.\n",
    "I am current pursuing my Masters by research on a machine learning algorithm on collaborative robot vibration signals.\n",
    "\n",
    "I would like to talk to you in more details regarding the position and I hope to hear from you soon.\n",
    "'''\n",
    "receiverAdd = input(\"Enter Receiver Address:\")\n",
    "senderAdd = input(\"Enter Sender Address:\")\n",
    "receiverSalutations = input(\"Enter Receiver salution\")\n",
    "receiverNickName = input(\"Enter Receiver Nickname\")\n",
    "dateSend = input(\"Enter date:\")\n",
    "positionApplied =input (\"Enter Applied Position\")\n",
    "applicantName = input(\"Enter Applicant's Name\")\n",
    "applicantEmail = input(\"Enter Applicant's Email\")\n",
    "applicantPhNo = input (\"Enter Applicant's Phone Number\")\n"
   ]
  },
  {
   "cell_type": "code",
   "execution_count": null,
   "metadata": {},
   "outputs": [
    {
     "name": "stdout",
     "output_type": "stream",
     "text": [
      "Imagine AI, Iskandar Puteri, Johor, Malaysia \n",
      "\n",
      "___________________________________________\n",
      "\n",
      "Seremban, NSDK, Malaysia\n",
      "\n",
      "Dear Mr Edwin \t\t\t 18.11.2021 \n",
      "\n",
      "\n",
      "Job Application for Computer Vision Engineer position\n",
      "\n",
      "\n",
      " Greetings  My name is Gavin and I wish to apply\n",
      "for the position of Computer Vision Engineer at\n",
      "Imagine AI.  I have graduated from Universiti\n",
      "Malaysia Pahang with a Bachelor's Degree in\n",
      "Mechatronics Engineerring. I am current pursuing\n",
      "my Masters by research on a machine learning\n",
      "algorithm on collaborative robot vibration\n",
      "signals.  I would like to talk to you in more\n",
      "details regarding the position and I hope to hear\n",
      "from you soon.\n",
      "\n",
      "Sincerely,\n",
      "\n",
      "Gavin Lim \n",
      "\n",
      "jiannkai@gmail.com\n",
      "0182739566\n"
     ]
    }
   ],
   "source": [
    "print(receiverAdd,\"\\n\")\n",
    "print(\"___________________________________________\\n\")\n",
    "print(senderAdd)\n",
    "print(\"\\nDear\",receiverSalutations,receiverNickName,\"\\t\\t\\t\",dateSend,\"\\n\\n\")\n",
    "\n",
    "print(\"Job Application for\", positionApplied, \"position\\n\\n\")\n",
    "print(textwrap.fill(sample_text,width=50))\n",
    "print(\"\\nSincerely,\\n\")\n",
    "print(applicantName,\"\\n\")\n",
    "print(applicantEmail)\n",
    "print(applicantPhNo)\n"
   ]
  },
  {
   "cell_type": "markdown",
   "metadata": {},
   "source": [
    "# Class Activities"
   ]
  },
  {
   "cell_type": "code",
   "execution_count": 35,
   "metadata": {},
   "outputs": [
    {
     "name": "stdout",
     "output_type": "stream",
     "text": [
      "This is string example....wow!!!\n"
     ]
    }
   ],
   "source": [
    "str1 = \"this is string example....wow!!!\"\n",
    "print (str1.capitalize())"
   ]
  },
  {
   "cell_type": "code",
   "execution_count": 36,
   "metadata": {},
   "outputs": [
    {
     "name": "stdout",
     "output_type": "stream",
     "text": [
      "aaaathis is string example....wow!!!aaaa\n"
     ]
    }
   ],
   "source": [
    "str1 = \"this is string example....wow!!!\"\n",
    "print (str1.center(40, 'a'))"
   ]
  },
  {
   "cell_type": "code",
   "execution_count": 37,
   "metadata": {},
   "outputs": [
    {
     "name": "stdout",
     "output_type": "stream",
     "text": [
      "str1.count(sub, 4, 40) :  2\n"
     ]
    }
   ],
   "source": [
    "str1 = \"this is string example....wow!!!\"\n",
    "sub = \"i\"\n",
    "print (\"str1.count(sub, 4, 40) : \",\n",
    "str1.count(sub, 4, 40))"
   ]
  },
  {
   "cell_type": "code",
   "execution_count": 38,
   "metadata": {},
   "outputs": [
    {
     "name": "stdout",
     "output_type": "stream",
     "text": [
      "str1.count(sub) :  1\n"
     ]
    }
   ],
   "source": [
    "sub = \"wow\";\n",
    "print (\"str1.count(sub) : \",str1.count(sub))"
   ]
  },
  {
   "cell_type": "code",
   "execution_count": 39,
   "metadata": {},
   "outputs": [
    {
     "name": "stdout",
     "output_type": "stream",
     "text": [
      "<class 'bytes'>\n",
      "b'D\\xc3\\xbcsseldorf'\n",
      "<class 'str'>\n",
      "Düsseldorf\n"
     ]
    }
   ],
   "source": [
    "city = \"Düsseldorf\"\n",
    "utf8_encoded = city.encode('utf-8')\n",
    "print(type(utf8_encoded)) # bytes\n",
    "print(utf8_encoded) # b'D\\xc3\\xbcsseldorf'\n",
    "decoded_city = utf8_encoded.decode('utf-8')\n",
    "print(type(decoded_city)) # str\n",
    "print(decoded_city) # Düsseldor"
   ]
  },
  {
   "cell_type": "code",
   "execution_count": 40,
   "metadata": {},
   "outputs": [
    {
     "name": "stdout",
     "output_type": "stream",
     "text": [
      "<class 'bytes'>\n",
      "b'D\\xc3\\xbcsseldorf'\n",
      "<class 'str'>\n",
      "Düsseldorf\n"
     ]
    }
   ],
   "source": [
    "city = \"Düsseldorf\"\n",
    "utf8_encoded = city.encode('utf-8')\n",
    "print(type(utf8_encoded)) # bytes\n",
    "print(utf8_encoded) # b'D\\xc3\\xbcsseldorf'\n",
    "decoded_city = utf8_encoded.decode('utf-8')\n",
    "print(type(decoded_city)) # str\n",
    "print(decoded_city) # Düsseldorf"
   ]
  },
  {
   "cell_type": "code",
   "execution_count": 41,
   "metadata": {},
   "outputs": [
    {
     "name": "stdout",
     "output_type": "stream",
     "text": [
      "True\n",
      "True\n",
      "True\n",
      "False\n"
     ]
    }
   ],
   "source": [
    "str1 = \"this is string example....wow!!!\"\n",
    "suffix = \"wow!!!\"\n",
    "print (str1.endswith(suffix))\n",
    "print (str1.endswith(suffix,20))\n",
    "suffix = \"is\"\n",
    "print (str1.endswith(suffix, 2, 4))\n",
    "print (str1.endswith(suffix, 2, 6))"
   ]
  },
  {
   "cell_type": "code",
   "execution_count": 42,
   "metadata": {},
   "outputs": [
    {
     "name": "stdout",
     "output_type": "stream",
     "text": [
      "Original string: this is\tstring example....wow!!!\n",
      "Defualt exapanded tab: this is string example....wow!!!\n",
      "Double exapanded tab: this is         string example....wow!!!\n"
     ]
    }
   ],
   "source": [
    "str1 = \"this is\\tstring example....wow!!!\"\n",
    "print (\"Original string: \" + str1)\n",
    "print (\"Defualt exapanded tab: \" + \n",
    "str1.expandtabs())\n",
    "print (\"Double exapanded tab: \" + \n",
    "str1.expandtabs(16))"
   ]
  },
  {
   "cell_type": "code",
   "execution_count": 43,
   "metadata": {},
   "outputs": [
    {
     "name": "stdout",
     "output_type": "stream",
     "text": [
      "15\n",
      "15\n",
      "-1\n"
     ]
    }
   ],
   "source": [
    "str1 = \"this is string example....wow!!!\"\n",
    "str2 = \"exam\"\n",
    "print (str1.find(str2))\n",
    "print (str1.find(str2, 10))\n",
    "print (str1.find(str2, 40))"
   ]
  },
  {
   "cell_type": "code",
   "execution_count": 44,
   "metadata": {},
   "outputs": [
    {
     "name": "stdout",
     "output_type": "stream",
     "text": [
      "15\n",
      "15\n"
     ]
    },
    {
     "ename": "ValueError",
     "evalue": "substring not found",
     "output_type": "error",
     "traceback": [
      "\u001b[1;31m---------------------------------------------------------------------------\u001b[0m",
      "\u001b[1;31mValueError\u001b[0m                                Traceback (most recent call last)",
      "\u001b[1;32m~\\AppData\\Local\\Temp/ipykernel_23168/3270459678.py\u001b[0m in \u001b[0;36m<module>\u001b[1;34m\u001b[0m\n\u001b[0;32m      3\u001b[0m \u001b[0mprint\u001b[0m \u001b[1;33m(\u001b[0m\u001b[0mstr1\u001b[0m\u001b[1;33m.\u001b[0m\u001b[0mindex\u001b[0m\u001b[1;33m(\u001b[0m\u001b[0mstr2\u001b[0m\u001b[1;33m)\u001b[0m\u001b[1;33m)\u001b[0m\u001b[1;33m\u001b[0m\u001b[1;33m\u001b[0m\u001b[0m\n\u001b[0;32m      4\u001b[0m \u001b[0mprint\u001b[0m \u001b[1;33m(\u001b[0m\u001b[0mstr1\u001b[0m\u001b[1;33m.\u001b[0m\u001b[0mindex\u001b[0m\u001b[1;33m(\u001b[0m\u001b[0mstr2\u001b[0m\u001b[1;33m,\u001b[0m \u001b[1;36m10\u001b[0m\u001b[1;33m)\u001b[0m\u001b[1;33m)\u001b[0m\u001b[1;33m\u001b[0m\u001b[1;33m\u001b[0m\u001b[0m\n\u001b[1;32m----> 5\u001b[1;33m \u001b[0mprint\u001b[0m \u001b[1;33m(\u001b[0m\u001b[0mstr1\u001b[0m\u001b[1;33m.\u001b[0m\u001b[0mindex\u001b[0m\u001b[1;33m(\u001b[0m\u001b[0mstr2\u001b[0m\u001b[1;33m,\u001b[0m \u001b[1;36m40\u001b[0m\u001b[1;33m)\u001b[0m\u001b[1;33m)\u001b[0m\u001b[1;33m\u001b[0m\u001b[1;33m\u001b[0m\u001b[0m\n\u001b[0m",
      "\u001b[1;31mValueError\u001b[0m: substring not found"
     ]
    }
   ],
   "source": [
    "str1 = \"this is string example....wow!!!\"\n",
    "str2 = \"exam\"\n",
    "print (str1.index(str2))\n",
    "print (str1.index(str2, 10))\n",
    "print (str1.index(str2, 40))"
   ]
  },
  {
   "cell_type": "code",
   "execution_count": null,
   "metadata": {},
   "outputs": [],
   "source": [
    "str1 = \"this2009\"; # No space in this string\n",
    "print (str1.isalnum())\n",
    "str1 = \"this is string example....wow!!!\"\n",
    "print (str1.isalnum())"
   ]
  },
  {
   "cell_type": "code",
   "execution_count": null,
   "metadata": {},
   "outputs": [],
   "source": [
    "str1 = \"this2009\"; # No space in this string\n",
    "print (str1.isalpha())\n",
    "str2 = \"this is string example....wow!!!\"\n",
    "print (str2.isalpha())"
   ]
  },
  {
   "cell_type": "code",
   "execution_count": null,
   "metadata": {},
   "outputs": [],
   "source": [
    "str1 = \"123456\" # Only digit in this string\n",
    "print (str1.isdigit())\n",
    "str2 = \"this is string example....wow!!!\"\n",
    "print (str2.isdigit())"
   ]
  },
  {
   "cell_type": "code",
   "execution_count": null,
   "metadata": {},
   "outputs": [],
   "source": [
    "str1 = \"THIS is string example....wow!!!\"\n",
    "print (str1.islower())\n",
    "str2 = \"this is string example....wow!!!\"\n",
    "print (str2.islower())"
   ]
  },
  {
   "cell_type": "code",
   "execution_count": null,
   "metadata": {},
   "outputs": [],
   "source": [
    "str1 = u\"this2009\" \n",
    "print (str1.isnumeric())\n",
    "str2 = u\"23443434\"\n",
    "print (str2.isnumeric())"
   ]
  },
  {
   "cell_type": "code",
   "execution_count": null,
   "metadata": {},
   "outputs": [],
   "source": [
    "str1 = \" \"\n",
    "print (str1.isspace())\n",
    "str2 = \"This is string example....wow!!!\"\n",
    "print (str2.isspace())"
   ]
  },
  {
   "cell_type": "code",
   "execution_count": null,
   "metadata": {},
   "outputs": [],
   "source": [
    "str1 = \"This Is String Example...Wow!!!\"\n",
    "print (str1.istitle())\n",
    "str2 = \"This is string example....wow!!!\"\n",
    "print (str2.istitle())"
   ]
  },
  {
   "cell_type": "code",
   "execution_count": null,
   "metadata": {},
   "outputs": [],
   "source": [
    "str1 = \"THIS IS STRING EXAMPLE....WOW!!!\"\n",
    "print (str1.isupper())\n",
    "str2 = \"THIS is string example....wow!!!\"\n",
    "print (str2.isupper())"
   ]
  },
  {
   "cell_type": "code",
   "execution_count": null,
   "metadata": {},
   "outputs": [],
   "source": [
    "s = \"-\"\n",
    "seq = (\"a\", \"b\", \"c\"); # This is sequence of strings.\n",
    "print (s.join( seq ))"
   ]
  },
  {
   "cell_type": "code",
   "execution_count": null,
   "metadata": {},
   "outputs": [],
   "source": [
    "str1 = \"this is string example....wow!!!\"\n",
    "print (\"Length of the string: \",\n",
    "len(str1))"
   ]
  },
  {
   "cell_type": "code",
   "execution_count": null,
   "metadata": {},
   "outputs": [],
   "source": [
    "str1 = \"this is string example....wow!!!\"\n",
    "print (str1.ljust(50, '0'))"
   ]
  },
  {
   "cell_type": "code",
   "execution_count": null,
   "metadata": {},
   "outputs": [],
   "source": [
    "str1 = \"THIS IS STRING EXAMPLE....WOW!!!\"\n",
    "print (str1.lower())"
   ]
  },
  {
   "cell_type": "code",
   "execution_count": null,
   "metadata": {},
   "outputs": [],
   "source": [
    "str1 = \" this is string example....wow!!! \"\n",
    "print (str1.lstrip())\n",
    "str2 = \"88888888this is string example....wow!!!8888888\"\n",
    "print (str2.lstrip('8'))"
   ]
  },
  {
   "cell_type": "code",
   "execution_count": null,
   "metadata": {},
   "outputs": [],
   "source": [
    "intab = \"aeiou\"\n",
    "outtab = \"12345\"\n",
    "trantab = str.maketrans(intab, outtab)\n",
    "str1 = \"this is string example....wow!!!\"\n",
    "print (str1.translate(trantab))"
   ]
  },
  {
   "cell_type": "code",
   "execution_count": null,
   "metadata": {},
   "outputs": [],
   "source": [
    "str1 = \"this is really a string example....wow!!!\"\n",
    "print (\"Max character: \" + max(str1))\n",
    "str2 = \"this is a string example....wow!!!\"\n",
    "print (\"Max character: \" + max(str2))"
   ]
  },
  {
   "cell_type": "code",
   "execution_count": null,
   "metadata": {},
   "outputs": [],
   "source": [
    "str1 = \"this-is-real-string-example....wow!!!\"\n",
    "print (\"Min character: \" + min(str1))\n",
    "str2 = \"this-is-a-string-example....wow!!!\"\n",
    "print (\"Min character: \" + min(str2))"
   ]
  },
  {
   "cell_type": "code",
   "execution_count": null,
   "metadata": {},
   "outputs": [],
   "source": [
    "str1 = \"this is string example....wow!!! this is really string\"\n",
    "print (str1.replace(\"is\", \"was\"))\n",
    "print (str1.replace(\"is\", \"was\", 3))"
   ]
  },
  {
   "cell_type": "code",
   "execution_count": null,
   "metadata": {},
   "outputs": [],
   "source": [
    "str1 = \"this is really a string example....wow!!!\"\n",
    "str2 = \"is\"\n",
    "print (str1.rfind(str2))\n",
    "print (str1.rfind(str2, 0, 10))\n",
    "print (str1.rfind(str2, 10, 0))\n",
    "print (str1.find(str2))\n",
    "print (str1.find(str2, 0, 10))\n",
    "print (str1.find(str2, 10, 0))"
   ]
  },
  {
   "cell_type": "code",
   "execution_count": null,
   "metadata": {},
   "outputs": [],
   "source": [
    "str1 = \"this is string example....wow!!!\"\n",
    "str2 = \"is\"\n",
    "print (str1.rindex(str2))\n",
    "print (str1.index(str2))"
   ]
  },
  {
   "cell_type": "code",
   "execution_count": null,
   "metadata": {},
   "outputs": [],
   "source": [
    "str1 = \"this is string example....wow!!!\"\n",
    "print (str1.rjust(50, '0'))"
   ]
  },
  {
   "cell_type": "code",
   "execution_count": null,
   "metadata": {},
   "outputs": [],
   "source": [
    "str1 = \" this is string example....wow!!!    \"\n",
    "print (str.rstrip(str1))\n",
    "str2 = \"88888888this is string example....wow!!!8888888\";\n",
    "print (str2.rstrip('8'))"
   ]
  },
  {
   "cell_type": "code",
   "execution_count": null,
   "metadata": {},
   "outputs": [],
   "source": [
    "str1 = \"Line1-abcdef \\nLine2-abc \\nLine4-abcd\"\n",
    "print (str1.split( ))\n",
    "print (str1.split(' ', 1 ))"
   ]
  },
  {
   "cell_type": "code",
   "execution_count": null,
   "metadata": {},
   "outputs": [],
   "source": [
    "str1 = \"Line1-a b c d e f\\nLine2- a b c\\n\\nLine4- a b c d\"\n",
    "print (str1.splitlines( ))\n",
    "print (str1.splitlines( 0 ))\n",
    "print (str1.splitlines( 3 ))\n",
    "print (str1.splitlines( 4 ))\n",
    "print (str1.splitlines( 5 ))"
   ]
  },
  {
   "cell_type": "code",
   "execution_count": null,
   "metadata": {},
   "outputs": [],
   "source": [
    "str1 = \"this is string example....wow!!!\"\n",
    "print (str1.startswith( 'this' ))\n",
    "print (str1.startswith( 'is', 2, 4 ))\n",
    "print (str1.startswith( 'this', 2, 4 ))"
   ]
  },
  {
   "cell_type": "code",
   "execution_count": null,
   "metadata": {},
   "outputs": [],
   "source": [
    "str1 = \"0000000this is string example....wow!!!0000000\"\n",
    "print (str1.strip( '0' ))"
   ]
  },
  {
   "cell_type": "code",
   "execution_count": null,
   "metadata": {},
   "outputs": [],
   "source": [
    "str1 = \"this is string example....wow!!!\"\n",
    "print (str.swapcase(str1))\n",
    "str1 = \"THIS IS STRING EXAMPLE....WOW!!!\"\n",
    "print (str1.swapcase())"
   ]
  },
  {
   "cell_type": "code",
   "execution_count": null,
   "metadata": {},
   "outputs": [],
   "source": [
    "str1 = \"this is string example....wow!!!\"\n",
    "print(str1.title())"
   ]
  },
  {
   "cell_type": "code",
   "execution_count": null,
   "metadata": {},
   "outputs": [],
   "source": [
    "intab = \"aeiou\"\n",
    "outtab = \"12345\"\n",
    "str1 = \"this is string example....wow!!!\"\n",
    "trantab = str.maketrans(intab, outtab)\n",
    "print (str1.translate(trantab))"
   ]
  },
  {
   "cell_type": "code",
   "execution_count": null,
   "metadata": {},
   "outputs": [],
   "source": [
    "str1 = \"this is string example....wow!!!\"\n",
    "print (\"str1.capitalize() : \",str1.upper())"
   ]
  },
  {
   "cell_type": "code",
   "execution_count": null,
   "metadata": {},
   "outputs": [],
   "source": [
    "str1 = \"this is string example....wow!!!\"\n",
    "print (str1.zfill(40))\n",
    "print (str1.zfill(50))"
   ]
  },
  {
   "cell_type": "code",
   "execution_count": null,
   "metadata": {},
   "outputs": [],
   "source": [
    "str1 = u\"this2009\" \n",
    "print (str1.isdecimal())\n",
    "str2 = u\"23443434\"\n",
    "print (str2.isdecimal())"
   ]
  },
  {
   "cell_type": "code",
   "execution_count": null,
   "metadata": {},
   "outputs": [],
   "source": []
  }
 ],
 "metadata": {
  "interpreter": {
   "hash": "b5572384fec6d310c574784c4ff4f3df12c5eb2938d77a1833302b0cb155924f"
  },
  "kernelspec": {
   "display_name": "Python 3.9.8 64-bit",
   "language": "python",
   "name": "python3"
  },
  "language_info": {
   "codemirror_mode": {
    "name": "ipython",
    "version": 3
   },
   "file_extension": ".py",
   "mimetype": "text/x-python",
   "name": "python",
   "nbconvert_exporter": "python",
   "pygments_lexer": "ipython3",
   "version": "3.9.8"
  },
  "orig_nbformat": 4
 },
 "nbformat": 4,
 "nbformat_minor": 2
}
