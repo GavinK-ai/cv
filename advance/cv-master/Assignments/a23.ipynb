{
 "cells": [
  {
   "cell_type": "markdown",
   "metadata": {},
   "source": [
    "# Class Notes"
   ]
  },
  {
   "cell_type": "markdown",
   "metadata": {},
   "source": [
    "Cost function = Loss Function + Regularization \n",
    "\n",
    "Loss function = difference between true value and predicted value\n",
    " \n",
    "\n",
    "MSE !!! in presence of regression ! \n",
    "\n",
    "Cross - Entropy !!!\n",
    "Binary  ---- > 0,1 \n",
    "Categorical \n",
    "Sparse Categorical \n",
    "\n",
    "One Hot encoding !!!!\n",
    "\n",
    "\n",
    "Overfitting ?\n",
    "\n",
    "L1\n",
    "L2 \n",
    "Dropout\n",
    "\n",
    "Dog- Cat \n",
    "\n",
    "multi-label classification \n",
    "output = Animal - Dog - Labrador - Puppy \n",
    "\n",
    "multi-class classification \n",
    "output : CAT \n",
    "\n",
    "\n",
    "\n",
    "at the end of classification : \n",
    "\n",
    "Softmax \n",
    "\n",
    "Sigmoid\n"
   ]
  },
  {
   "cell_type": "markdown",
   "metadata": {},
   "source": [
    "towardsdatascience.com\n",
    "medium.com\n",
    "machinelearning mastery\n",
    "analyticsvidhya\n",
    "arvix.org\n",
    "\n",
    "#open in incognito mode"
   ]
  },
  {
   "cell_type": "markdown",
   "metadata": {},
   "source": [
    "## transfer learning model\n",
    "\n",
    "1.  simpletransformers.ai\n",
    "2.  huggingface.co\n",
    "3.  tfhub.dev"
   ]
  },
  {
   "cell_type": "markdown",
   "metadata": {},
   "source": []
  }
 ],
 "metadata": {
  "language_info": {
   "name": "python"
  },
  "orig_nbformat": 4
 },
 "nbformat": 4,
 "nbformat_minor": 2
}
