{
 "cells": [
  {
   "cell_type": "markdown",
   "metadata": {},
   "source": [
    "# Assignment - Index splitting (take home)\n",
    "\n",
    "1. Create an array of shape (100,100,3) of unsigned integer 8 bits filled with random values between 0 to 256.\n",
    "2. Find the values that are less than 30, 50, 100, 250.\n",
    "3. Split the array into 4 parts vertically and horizontally\n",
    "4. Copy array from Question 1 and change the values that are les than 110 to 0 and others to 255\n",
    "5. Hint: Use random seed of 12345"
   ]
  },
  {
   "cell_type": "code",
   "execution_count": 2,
   "metadata": {},
   "outputs": [],
   "source": [
    "import numpy as np"
   ]
  },
  {
   "cell_type": "code",
   "execution_count": 3,
   "metadata": {},
   "outputs": [],
   "source": [
    "np.random.seed(12345)\n",
    "ar100x100x3 = np.random.randint(0,255,(100,100,3),dtype=np.uint8)"
   ]
  },
  {
   "cell_type": "code",
   "execution_count": 4,
   "metadata": {},
   "outputs": [
    {
     "data": {
      "text/plain": [
       "array([29,  8, 21, ..., 17, 26,  7], dtype=uint8)"
      ]
     },
     "execution_count": 4,
     "metadata": {},
     "output_type": "execute_result"
    }
   ],
   "source": [
    "a30 = ar100x100x3<30\n",
    "ar100x100x3[a30]\n",
    "# print(a30)"
   ]
  },
  {
   "cell_type": "code",
   "execution_count": 5,
   "metadata": {},
   "outputs": [
    {
     "name": "stdout",
     "output_type": "stream",
     "text": [
      "[29  8 21 ... 17 26  7]\n"
     ]
    }
   ],
   "source": [
    "a50 = ar100x100x3 < 50\n",
    "print(ar100x100x3[a30])\n",
    "# print(a30)\n"
   ]
  },
  {
   "cell_type": "code",
   "execution_count": 6,
   "metadata": {},
   "outputs": [
    {
     "name": "stdout",
     "output_type": "stream",
     "text": [
      "[81 45 29 ... 75 54 64]\n"
     ]
    }
   ],
   "source": [
    "a100 = ar100x100x3 < 100\n",
    "print(ar100x100x3[a100])"
   ]
  },
  {
   "cell_type": "code",
   "execution_count": 7,
   "metadata": {},
   "outputs": [
    {
     "name": "stdout",
     "output_type": "stream",
     "text": [
      "[226  81 237 ...  54  64 120]\n"
     ]
    }
   ],
   "source": [
    "a250 = ar100x100x3 < 250\n",
    "print(ar100x100x3[a250])\n",
    "#print(a50)"
   ]
  },
  {
   "cell_type": "code",
   "execution_count": 8,
   "metadata": {},
   "outputs": [
    {
     "name": "stdout",
     "output_type": "stream",
     "text": [
      "4\n"
     ]
    }
   ],
   "source": [
    "a_4h = np.hsplit(ar100x100x3,4)\n",
    "print(len(a_4h))"
   ]
  },
  {
   "cell_type": "code",
   "execution_count": 9,
   "metadata": {},
   "outputs": [
    {
     "name": "stdout",
     "output_type": "stream",
     "text": [
      "4\n"
     ]
    }
   ],
   "source": [
    "a_4v = np.vsplit(ar100x100x3,4)\n",
    "print(len(a_4v))"
   ]
  },
  {
   "cell_type": "code",
   "execution_count": 10,
   "metadata": {},
   "outputs": [
    {
     "name": "stdout",
     "output_type": "stream",
     "text": [
      "4\n"
     ]
    }
   ],
   "source": [
    "a_5h = np.hsplit(ar100x100x3,4)\n",
    "print(len(a_4h))"
   ]
  },
  {
   "cell_type": "code",
   "execution_count": 11,
   "metadata": {},
   "outputs": [
    {
     "name": "stdout",
     "output_type": "stream",
     "text": [
      "[[[255   0 255]\n",
      "  [255 255   0]\n",
      "  [255 255   0]\n",
      "  ...\n",
      "  [255 255 255]\n",
      "  [255 255 255]\n",
      "  [  0   0   0]]\n",
      "\n",
      " [[  0 255 255]\n",
      "  [255   0 255]\n",
      "  [  0 255   0]\n",
      "  ...\n",
      "  [  0 255 255]\n",
      "  [  0 255 255]\n",
      "  [255   0   0]]\n",
      "\n",
      " [[255   0 255]\n",
      "  [  0   0 255]\n",
      "  [  0 255   0]\n",
      "  ...\n",
      "  [  0 255 255]\n",
      "  [255   0   0]\n",
      "  [255 255 255]]\n",
      "\n",
      " ...\n",
      "\n",
      " [[255 255 255]\n",
      "  [  0   0 255]\n",
      "  [255 255 255]\n",
      "  ...\n",
      "  [  0   0   0]\n",
      "  [255   0 255]\n",
      "  [255 255 255]]\n",
      "\n",
      " [[255 255 255]\n",
      "  [255 255   0]\n",
      "  [255 255 255]\n",
      "  ...\n",
      "  [255 255 255]\n",
      "  [255 255 255]\n",
      "  [  0   0   0]]\n",
      "\n",
      " [[  0   0   0]\n",
      "  [255 255   0]\n",
      "  [  0 255 255]\n",
      "  ...\n",
      "  [  0   0 255]\n",
      "  [  0   0   0]\n",
      "  [  0   0 255]]]\n"
     ]
    }
   ],
   "source": [
    "aryNew = ar100x100x3.copy()\n",
    "aryNew = np.where(aryNew<110,0,255)\n",
    "print(aryNew)"
   ]
  },
  {
   "cell_type": "code",
   "execution_count": null,
   "metadata": {},
   "outputs": [],
   "source": []
  }
 ],
 "metadata": {
  "interpreter": {
   "hash": "b5572384fec6d310c574784c4ff4f3df12c5eb2938d77a1833302b0cb155924f"
  },
  "kernelspec": {
   "display_name": "Python 3.9.8 64-bit",
   "language": "python",
   "name": "python3"
  },
  "language_info": {
   "codemirror_mode": {
    "name": "ipython",
    "version": 3
   },
   "file_extension": ".py",
   "mimetype": "text/x-python",
   "name": "python",
   "nbconvert_exporter": "python",
   "pygments_lexer": "ipython3",
   "version": "3.9.8"
  },
  "orig_nbformat": 4
 },
 "nbformat": 4,
 "nbformat_minor": 2
}
