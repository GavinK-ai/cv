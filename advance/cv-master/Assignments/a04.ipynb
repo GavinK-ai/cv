{
 "cells": [
  {
   "cell_type": "markdown",
   "metadata": {},
   "source": [
    "# Assignments 1 - Functions & Recursive Functions\n",
    "\n",
    "1. Write a function to calculate S = 1+2+...+n <br>\n",
    "    i) simple way <br>\n",
    "    ii) via a recursive function\n",
    "\n"
   ]
  },
  {
   "cell_type": "code",
   "execution_count": 3,
   "metadata": {},
   "outputs": [
    {
     "name": "stdout",
     "output_type": "stream",
     "text": [
      "15\n"
     ]
    }
   ],
   "source": [
    "#1.i\n",
    "\n",
    "n = int(input(\"Insert an integer:\"))\n",
    "s=0\n",
    "for i in range (n+1):\n",
    "    s+=i\n",
    "\n",
    "print(s)"
   ]
  },
  {
   "cell_type": "code",
   "execution_count": 9,
   "metadata": {},
   "outputs": [
    {
     "name": "stdout",
     "output_type": "stream",
     "text": [
      "0 6\n"
     ]
    }
   ],
   "source": [
    "#1.ii\n",
    "s2 = 0\n",
    "\n",
    "def add(n):\n",
    "    if n==0:\n",
    "        return 0\n",
    "    else:\n",
    "        s2 = (n+add(n-1))\n",
    "        return s2\n",
    "\n",
    "print(s2, add(int(input(\"Enter an integer:\"))))"
   ]
  },
  {
   "cell_type": "markdown",
   "metadata": {},
   "source": [
    "### Fibonacci\n",
    "\n",
    "2. Write a function to create a Fibonacci sequence (0,1,1,2,3,5) <br>\n",
    "    TIP: The function gets the number of terms and produce the terms from 0 to the n. <br>\n",
    "    NOTE: once without recursion, another time with recursion"
   ]
  },
  {
   "cell_type": "code",
   "execution_count": 10,
   "metadata": {},
   "outputs": [
    {
     "name": "stdout",
     "output_type": "stream",
     "text": [
      "Fibonacci sequence:\n",
      "0\n",
      "1\n",
      "1\n",
      "2\n",
      "3\n",
      "5\n",
      "8\n",
      "13\n",
      "21\n",
      "34\n"
     ]
    }
   ],
   "source": [
    "n_term = int(input('Enter number of terms >> '))\n",
    "\n",
    "n1, n2 = 0, 1\n",
    "\n",
    "print('Fibonacci sequence:')\n",
    "while n_term>0:\n",
    "    print(n1)\n",
    "    n = n1 + n2 # initial nth term is n1+n2\n",
    "    n1 = n2     # old n2 becomes new n1\n",
    "    n2 = n      # new nth term becomes new n2\n",
    "    n_term-=1"
   ]
  },
  {
   "cell_type": "code",
   "execution_count": 11,
   "metadata": {},
   "outputs": [
    {
     "name": "stdout",
     "output_type": "stream",
     "text": [
      "Fibonacci sequence:\n",
      "0\n",
      "1\n",
      "1\n",
      "2\n",
      "3\n",
      "5\n",
      "8\n",
      "13\n",
      "21\n",
      "34\n"
     ]
    }
   ],
   "source": [
    "\n",
    "n1, n2 = 0, 1\n",
    "\n",
    "def fibonacci(n):\n",
    "    if n<=1:\n",
    "        return n  # for term 1 and term 2 (0 & 1)\n",
    "    else:\n",
    "        return (fibonacci(n-1) + fibonacci(n-2)) # for other terms (> 1)\n",
    "    \n",
    "n_term = int(input('Enter number of terms >> '))\n",
    "\n",
    "print('Fibonacci sequence:')\n",
    "for i in range(n_term):\n",
    "    print(fibonacci(i))"
   ]
  },
  {
   "cell_type": "markdown",
   "metadata": {},
   "source": [
    "## Assignment 2 - Lambda Function\n",
    "\n",
    "Write down a function to produce this statement: <br>\n",
    "\n",
    "$$\n",
    "    f(x,y,z) = 2x^2 + 2y + z\n",
    "$$\n",
    "use lambda functions"
   ]
  },
  {
   "cell_type": "code",
   "execution_count": 13,
   "metadata": {},
   "outputs": [
    {
     "name": "stdout",
     "output_type": "stream",
     "text": [
      "9\n"
     ]
    }
   ],
   "source": [
    "#Regular function\n",
    "\n",
    "def func(x,y,z):\n",
    "    return 2*(x**2)+2*y+z\n",
    "\n",
    "print(func(1,2,3))"
   ]
  },
  {
   "cell_type": "code",
   "execution_count": 14,
   "metadata": {},
   "outputs": [
    {
     "name": "stdout",
     "output_type": "stream",
     "text": [
      "9\n"
     ]
    }
   ],
   "source": [
    "#Lambda function\n",
    "\n",
    "a = lambda x,y,z: 2*(x**2)+2*y+z\n",
    "\n",
    "print(a(1,2,3))"
   ]
  },
  {
   "cell_type": "markdown",
   "metadata": {},
   "source": [
    "## Assignment 3 - Module\n",
    "\n",
    "1. Find out the other functions to from a date and time of now and try to use them in your code\n",
    "\n",
    "2. Find out more functions in math module and try to use them in your code\n",
    "\n",
    "3. <br>\n",
    "    3.1 Create a module with your name and import functions of the previous assigment to it. Try to use them in another file. <br>\n",
    "    3.2 Check the existing functions in math module."
   ]
  },
  {
   "cell_type": "code",
   "execution_count": 16,
   "metadata": {},
   "outputs": [
    {
     "data": {
      "text/plain": [
       "datetime.datetime(2021, 11, 19, 12, 18, 47, 914669)"
      ]
     },
     "execution_count": 16,
     "metadata": {},
     "output_type": "execute_result"
    }
   ],
   "source": [
    "import datetime\n",
    "\n",
    "datetime.datetime.now()"
   ]
  },
  {
   "cell_type": "code",
   "execution_count": 18,
   "metadata": {},
   "outputs": [
    {
     "data": {
      "text/plain": [
       "datetime.date(2021, 11, 19)"
      ]
     },
     "execution_count": 18,
     "metadata": {},
     "output_type": "execute_result"
    }
   ],
   "source": [
    "datetime.date.today()"
   ]
  },
  {
   "cell_type": "code",
   "execution_count": 22,
   "metadata": {},
   "outputs": [
    {
     "name": "stdout",
     "output_type": "stream",
     "text": [
      "DD/MM/YYYY:\t19/11/2021\n"
     ]
    }
   ],
   "source": [
    "today = datetime.date.today()\n",
    "print(f\"DD/MM/YYYY:\\t{today.day}/{today.month}/{today.year}\")"
   ]
  },
  {
   "cell_type": "code",
   "execution_count": 23,
   "metadata": {},
   "outputs": [
    {
     "data": {
      "text/plain": [
       "5.0"
      ]
     },
     "execution_count": 23,
     "metadata": {},
     "output_type": "execute_result"
    }
   ],
   "source": [
    "import math\n",
    "\n",
    "x = math.sqrt(25)\n",
    "x"
   ]
  },
  {
   "cell_type": "code",
   "execution_count": 27,
   "metadata": {},
   "outputs": [
    {
     "data": {
      "text/plain": [
       "27.0"
      ]
     },
     "execution_count": 27,
     "metadata": {},
     "output_type": "execute_result"
    }
   ],
   "source": [
    "y = math.pow(3,3)\n",
    "y"
   ]
  },
  {
   "cell_type": "code",
   "execution_count": 31,
   "metadata": {},
   "outputs": [
    {
     "name": "stdout",
     "output_type": "stream",
     "text": [
      "Hello Default\n",
      "Hello Gavin\n"
     ]
    }
   ],
   "source": [
    "import gavModule\n",
    "\n",
    "gavModule.greeting()\n",
    "gavModule.greeting(\"Gavin\")"
   ]
  },
  {
   "cell_type": "code",
   "execution_count": 1,
   "metadata": {},
   "outputs": [
    {
     "data": {
      "text/plain": [
       "{'name': 'Ali', 'age': 25, 'country': 'Germany'}"
      ]
     },
     "execution_count": 1,
     "metadata": {},
     "output_type": "execute_result"
    }
   ],
   "source": [
    "import gavModule\n",
    "gavModule.person1\n"
   ]
  },
  {
   "cell_type": "code",
   "execution_count": 2,
   "metadata": {},
   "outputs": [
    {
     "name": "stdout",
     "output_type": "stream",
     "text": [
      "['__doc__', '__loader__', '__name__', '__package__', '__spec__', 'acos', 'acosh', 'asin', 'asinh', 'atan', 'atan2', 'atanh', 'ceil', 'comb', 'copysign', 'cos', 'cosh', 'degrees', 'dist', 'e', 'erf', 'erfc', 'exp', 'expm1', 'fabs', 'factorial', 'floor', 'fmod', 'frexp', 'fsum', 'gamma', 'gcd', 'hypot', 'inf', 'isclose', 'isfinite', 'isinf', 'isnan', 'isqrt', 'lcm', 'ldexp', 'lgamma', 'log', 'log10', 'log1p', 'log2', 'modf', 'nan', 'nextafter', 'perm', 'pi', 'pow', 'prod', 'radians', 'remainder', 'sin', 'sinh', 'sqrt', 'tan', 'tanh', 'tau', 'trunc', 'ulp']\n"
     ]
    }
   ],
   "source": [
    "import math\n",
    "print(dir(math))"
   ]
  },
  {
   "cell_type": "code",
   "execution_count": 3,
   "metadata": {},
   "outputs": [
    {
     "name": "stdout",
     "output_type": "stream",
     "text": [
      "['__builtins__', '__cached__', '__doc__', '__file__', '__loader__', '__name__', '__package__', '__spec__', 'goodbye', 'greeting', 'person1']\n"
     ]
    }
   ],
   "source": [
    "import gavModule\n",
    "print(dir(gavModule))"
   ]
  },
  {
   "cell_type": "markdown",
   "metadata": {},
   "source": [
    "## Assignment 4 - Module & Packages\n",
    "\n",
    "To create a package that have these modules:\n",
    "1. A module (FileHandling) that has function for creating, writing and reading the file. The file will be sent by an argument \n",
    "2. A module (destroy): get the file name and delete the file\n",
    "3. Use the package and all the modules in your code."
   ]
  },
  {
   "cell_type": "code",
   "execution_count": 4,
   "metadata": {},
   "outputs": [
    {
     "name": "stdout",
     "output_type": "stream",
     "text": [
      "Hello World!\n",
      "\n"
     ]
    }
   ],
   "source": [
    "from gavPackage import fileHandling\n",
    "\n",
    "file_name = input(\"Enter File Name:\")\n",
    "\n",
    "fileHandling.create(file_name)\n",
    "\n",
    "fileHandling.write(file_name)\n",
    "\n",
    "fileHandling.read(file_name)"
   ]
  },
  {
   "cell_type": "code",
   "execution_count": 48,
   "metadata": {},
   "outputs": [
    {
     "name": "stdout",
     "output_type": "stream",
     "text": [
      "File is deleted.\n"
     ]
    }
   ],
   "source": [
    "from gavPackage import fileHandling\n",
    "\n",
    "file_name=input(\"Enter File to destroy:\")\n",
    "\n",
    "fileExist = fileHandling.chkFile(file_name)\n",
    "\n",
    "if fileExist == True:\n",
    "\n",
    "    chkDestroy = input(f\"Are you sure to destroy {file_name}?\")\n",
    "\n",
    "    if chkDestroy == 'y' or chkDestroy == 'Y': \n",
    "        fileHandling.destroy(file_name)\n",
    "    else:\n",
    "        print(\"No file is deleted.\")\n",
    "\n"
   ]
  },
  {
   "cell_type": "markdown",
   "metadata": {},
   "source": [
    "# In class activities\n",
    "\n",
    " 1. write a function to get arguments by keywords and values: <br>\n",
    "    initialTemp = 400.0, simulationTime=35\n",
    "    <br>(just print them in function. try to call function with different number of args)"
   ]
  },
  {
   "cell_type": "code",
   "execution_count": 13,
   "metadata": {},
   "outputs": [
    {
     "name": "stdout",
     "output_type": "stream",
     "text": [
      "Initial Temperature:300°C\n",
      "Simulation Time:35\n",
      "Initial Temperature:300°C\n",
      "Simulation Time:30\n"
     ]
    }
   ],
   "source": [
    "inTempUser = input(\"Enter the initial temperature \\N{Degree Sign}C): \")\n",
    "simTimeUser = input(\"Enter simulation time (s):\")\n",
    "\n",
    "def func(inTemp=inTempUser, simTime=simTimeUser):\n",
    "    print(f\"Initial Temperature:{inTemp}\\N{DEGREE SIGN}C\\nSimulation Time:{simTime}\")\n",
    "\n",
    "func()\n",
    "\n",
    "func(300,30)"
   ]
  },
  {
   "cell_type": "markdown",
   "metadata": {},
   "source": [
    "# Packages"
   ]
  },
  {
   "cell_type": "code",
   "execution_count": 1,
   "metadata": {},
   "outputs": [
    {
     "name": "stdout",
     "output_type": "stream",
     "text": [
      "Requirement already satisfied: camelcase in c:\\sdk\\python39\\lib\\site-packages (0.2)\n",
      "Note: you may need to restart the kernel to use updated packages.\n"
     ]
    }
   ],
   "source": [
    "pip install camelcase"
   ]
  },
  {
   "cell_type": "code",
   "execution_count": 6,
   "metadata": {},
   "outputs": [
    {
     "data": {
      "text/plain": [
       "'HeLLo WORld'"
      ]
     },
     "execution_count": 6,
     "metadata": {},
     "output_type": "execute_result"
    }
   ],
   "source": [
    "import camelcase\n",
    "\n",
    "c = camelcase.CamelCase()\n",
    "\n",
    "txt = 'HeLLo WORld'\n",
    "\n",
    "c.hump(txt)\n"
   ]
  },
  {
   "cell_type": "code",
   "execution_count": 7,
   "metadata": {},
   "outputs": [
    {
     "data": {
      "text/plain": [
       "'Hello World'"
      ]
     },
     "execution_count": 7,
     "metadata": {},
     "output_type": "execute_result"
    }
   ],
   "source": [
    "\n",
    "txt2 = 'hello world'\n",
    "\n",
    "c.hump(txt2)\n",
    "\n"
   ]
  },
  {
   "cell_type": "markdown",
   "metadata": {},
   "source": [
    "### Modules\n",
    "\n",
    "1. Create a module with your name\n",
    "2. Create a package which contains this module\n",
    "3. Use the package in the program"
   ]
  },
  {
   "cell_type": "code",
   "execution_count": 11,
   "metadata": {},
   "outputs": [
    {
     "name": "stdout",
     "output_type": "stream",
     "text": [
      "Hello Gavin\n",
      "Goodbye Gavin\n"
     ]
    }
   ],
   "source": [
    "import gavModule\n",
    "\n",
    "gavModule.greeting(\"Gavin\")\n",
    "\n",
    "gavModule.goodbye('Gavin')"
   ]
  },
  {
   "cell_type": "code",
   "execution_count": 13,
   "metadata": {},
   "outputs": [
    {
     "name": "stdout",
     "output_type": "stream",
     "text": [
      "Ali\n"
     ]
    }
   ],
   "source": [
    "from gavModule import greeting, goodbye, person1\n",
    "\n",
    "print(person1['name'])\n",
    "\n"
   ]
  },
  {
   "cell_type": "code",
   "execution_count": 21,
   "metadata": {},
   "outputs": [
    {
     "name": "stdout",
     "output_type": "stream",
     "text": [
      "Sam\n",
      "Ali\n",
      "Joan\n"
     ]
    }
   ],
   "source": [
    "from gavPackage.personLs import p1,p2,p3\n",
    "\n",
    "print(p1['name'])\n",
    "print(p2['name'])\n",
    "print(p3['name'])"
   ]
  },
  {
   "cell_type": "code",
   "execution_count": 24,
   "metadata": {},
   "outputs": [
    {
     "name": "stdout",
     "output_type": "stream",
     "text": [
      "Sam\n",
      "Ali\n",
      "Joan\n"
     ]
    }
   ],
   "source": [
    "import gavPackage.personLs\n",
    "\n",
    "print(p1['name'])\n",
    "print(p2['name'])\n",
    "print(p3['name'])"
   ]
  },
  {
   "cell_type": "markdown",
   "metadata": {},
   "source": [
    "### Assignment (in class)\n",
    "\n",
    "1. Create a file with your name and .txt extension\n",
    "2. The file should be like this: <br>\n",
    "    No Student Name Grade <br>\n",
    "    1  Inamul        100 <br>\n",
    "    2  Alkisah       100 <br>\n",
    "\n",
    "3. Read the file line by line and print it\n",
    "4. Close the file"
   ]
  },
  {
   "cell_type": "code",
   "execution_count": 45,
   "metadata": {},
   "outputs": [],
   "source": [
    "import os\n",
    "\n",
    "f=open('gavin.txt','w')\n",
    "f.writelines(['No.\\tName\\tGrade\\n','1\\tTerry\\t95\\n','2\\tKevin\\t100\\n'])\n",
    "\n",
    "f.close()"
   ]
  },
  {
   "cell_type": "code",
   "execution_count": 47,
   "metadata": {},
   "outputs": [
    {
     "name": "stdout",
     "output_type": "stream",
     "text": [
      "No.\tName\tGrade\n",
      "\n",
      "1\tTerry\t95\n",
      "\n",
      "2\tKevin\t100\n",
      "\n"
     ]
    }
   ],
   "source": [
    "fr = open('gavin.txt')\n",
    "\n",
    "for r in fr:\n",
    "    print(r)\n",
    "\n",
    "fr.close()\n"
   ]
  },
  {
   "cell_type": "code",
   "execution_count": null,
   "metadata": {},
   "outputs": [],
   "source": []
  }
 ],
 "metadata": {
  "interpreter": {
   "hash": "b5572384fec6d310c574784c4ff4f3df12c5eb2938d77a1833302b0cb155924f"
  },
  "kernelspec": {
   "display_name": "Python 3.9.8 64-bit",
   "language": "python",
   "name": "python3"
  },
  "language_info": {
   "codemirror_mode": {
    "name": "ipython",
    "version": 3
   },
   "file_extension": ".py",
   "mimetype": "text/x-python",
   "name": "python",
   "nbconvert_exporter": "python",
   "pygments_lexer": "ipython3",
   "version": "3.9.8"
  },
  "orig_nbformat": 4
 },
 "nbformat": 4,
 "nbformat_minor": 2
}
