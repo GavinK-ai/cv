{
 "cells": [
  {
   "cell_type": "code",
   "execution_count": null,
   "metadata": {},
   "outputs": [],
   "source": []
  },
  {
   "cell_type": "markdown",
   "metadata": {},
   "source": [
    "# Chapter 3\n"
   ]
  },
  {
   "cell_type": "markdown",
   "metadata": {},
   "source": [
    "\n",
    "# Python IO Operation, Function and Module\n"
   ]
  },
  {
   "cell_type": "markdown",
   "metadata": {},
   "source": [
    "## Input and Output "
   ]
  },
  {
   "cell_type": "markdown",
   "metadata": {},
   "source": [
    "## Input\n",
    "\n",
    "To accept input or data from keyboard."
   ]
  },
  {
   "cell_type": "code",
   "execution_count": 2,
   "metadata": {},
   "outputs": [
    {
     "name": "stdout",
     "output_type": "stream",
     "text": [
      "Goke\n"
     ]
    }
   ],
   "source": [
    "keyboardValue = input(\"Enter your name:\")\n",
    "# print the name\n",
    "print(keyboardValue)"
   ]
  },
  {
   "cell_type": "markdown",
   "metadata": {},
   "source": [
    "The value from the keyboard is stored as `string`.  \n",
    "In order to collect numbers (integer and floats) you need to convert the string from the keyboard."
   ]
  },
  {
   "cell_type": "code",
   "execution_count": 3,
   "metadata": {},
   "outputs": [
    {
     "name": "stdout",
     "output_type": "stream",
     "text": [
      "Hello User!, you're born in the year 2008 and your age is 13.\n"
     ]
    }
   ],
   "source": [
    "# collect year of birth.\n",
    "k = input(\"Enter your year of birth: \")\n",
    "# convert to integer\n",
    "yob = int(k)\n",
    "# calculate age\n",
    "age = 2021 - yob\n",
    "# output\n",
    "print(f\"Hello User!, you're born in the year {yob} and your age is {age}.\")"
   ]
  },
  {
   "cell_type": "markdown",
   "metadata": {},
   "source": [
    "## Class Activity  \n",
    "\n",
    "Collect the name, year of birth and salary of a user. Then output the following : \n",
    "\n",
    "\"Goodday {name}!, your year of birth is {year of birth} and your age in the year 2030 will be {Age}. From your salary of {salary} the computed tax of 12.3% is {tax}.\n"
   ]
  },
  {
   "cell_type": "code",
   "execution_count": 4,
   "metadata": {},
   "outputs": [
    {
     "name": "stdout",
     "output_type": "stream",
     "text": [
      "Goodday Goke!, your year of birth is 2008 and your age in the year 2030 will be 22.\n",
      "From your salary of 23455.00 the computed tax of 12.3% is 2884.97.\n"
     ]
    }
   ],
   "source": [
    "# collect name.\n",
    "k = input(\"Enter your name: \")\n",
    "# name = str(k)\n",
    "name = k\n",
    "# collect year of birth.\n",
    "k = input(\"Enter your year of birth: \")\n",
    "# convert to integer\n",
    "yob = int(k)\n",
    "# collect salary.\n",
    "k = input(\"Enter your salary: \")\n",
    "# convert to float\n",
    "salary = float(k)\n",
    "# calculate age\n",
    "age = 2030 - yob\n",
    "# compute tax\n",
    "tax = salary * 12.3 / 100.0\n",
    "# output\n",
    "print(f\"Goodday {name}!, your year of birth is {yob} and your age in the year 2030 will be {age}.\\\n",
    "\\nFrom your salary of {salary:.2f} the computed tax of 12.3% is {tax:.2f}.\")"
   ]
  },
  {
   "cell_type": "markdown",
   "metadata": {},
   "source": [
    "## Output"
   ]
  },
  {
   "cell_type": "markdown",
   "metadata": {},
   "source": [
    "## Formatting output\n",
    "\n",
    "`\"{0:flags}\"`"
   ]
  },
  {
   "cell_type": "code",
   "execution_count": 5,
   "metadata": {},
   "outputs": [
    {
     "name": "stdout",
     "output_type": "stream",
     "text": [
      "3.141592653589793\n",
      "fill/padding and align\n",
      "3.141592653589793000\n",
      "0003.141592653589793\n",
      "03.14159265358979300\n"
     ]
    }
   ],
   "source": [
    "from math import pi\n",
    "\n",
    "print(f\"{pi}\")\n",
    "# fill/padding and align\n",
    "print(\"fill/padding and align\")\n",
    "print(f\"{pi:0<20}\")\n",
    "print(f\"{pi:0>20}\")\n",
    "print(f\"{pi:0^20}\")\n"
   ]
  },
  {
   "cell_type": "code",
   "execution_count": 6,
   "metadata": {},
   "outputs": [
    {
     "name": "stdout",
     "output_type": "stream",
     "text": [
      "sign\n",
      "+3.141592653589793\n",
      "3.141592653589793\n",
      "-3.141592653589793\n",
      "-3.141592653589793\n"
     ]
    }
   ],
   "source": [
    "print(\"sign\")\n",
    "print(f\"{pi:+}\")\n",
    "print(f\"{pi:-}\")\n",
    "print(f\"{-pi:+}\")\n",
    "print(f\"{-pi:-}\")\n"
   ]
  },
  {
   "cell_type": "code",
   "execution_count": 7,
   "metadata": {},
   "outputs": [
    {
     "name": "stdout",
     "output_type": "stream",
     "text": [
      "space width\n",
      "3.141592653589793\n",
      "3.141592653589793\n",
      "   3.141592653589793\n",
      "        3.141592653589793\n"
     ]
    }
   ],
   "source": [
    "\n",
    "print(\"space width\")\n",
    "print(f\"{pi:10}\")\n",
    "print(f\"{pi:15}\")\n",
    "print(f\"{pi:20}\")\n",
    "print(f\"{pi:25}\")\n"
   ]
  },
  {
   "cell_type": "code",
   "execution_count": 8,
   "metadata": {},
   "outputs": [
    {
     "name": "stdout",
     "output_type": "stream",
     "text": [
      "thousand comma\n",
      "3141592.654\n",
      "3,141,592.654\n",
      "3.1e+06\n",
      "3.1416e+06\n"
     ]
    }
   ],
   "source": [
    "\n",
    "print(\"thousand comma\")\n",
    "print(f\"{pi * 1000000:.10}\")\n",
    "print(f\"{pi * 1000000:,.10}\")\n",
    "print(f\"{pi * 1000000:.2}\")\n",
    "print(f\"{pi * 1000000:,.5}\")\n"
   ]
  },
  {
   "cell_type": "code",
   "execution_count": 9,
   "metadata": {},
   "outputs": [
    {
     "name": "stdout",
     "output_type": "stream",
     "text": [
      "floating decimal place\n",
      "3.1\n"
     ]
    }
   ],
   "source": [
    "\n",
    "print(\"floating decimal place\")\n",
    "print(f\"{pi:.2}\")\n"
   ]
  },
  {
   "cell_type": "code",
   "execution_count": 10,
   "metadata": {},
   "outputs": [
    {
     "name": "stdout",
     "output_type": "stream",
     "text": [
      "standard format (scientific, decimal place, general, percent)\n",
      "3.14159e+00\n",
      "3.14159\n",
      "3.1416\n",
      "314.15927%\n"
     ]
    }
   ],
   "source": [
    "\n",
    "print(\"standard format (scientific, decimal place, general, percent)\")\n",
    "print(f\"{pi:.5e}\")\n",
    "print(f\"{pi:.5f}\")\n",
    "print(f\"{pi:.5g}\")\n",
    "print(f\"{pi:.5%}\")\n",
    "\n"
   ]
  },
  {
   "cell_type": "markdown",
   "metadata": {},
   "source": [
    "\n",
    "## File open, read and write \n"
   ]
  },
  {
   "cell_type": "markdown",
   "metadata": {},
   "source": [
    "table"
   ]
  },
  {
   "cell_type": "markdown",
   "metadata": {},
   "source": [
    "\n",
    "## Define and use a Function\n"
   ]
  },
  {
   "cell_type": "markdown",
   "metadata": {
    "slideshow": {
     "slide_type": "slide"
    }
   },
   "source": [
    "## *Functions* "
   ]
  },
  {
   "cell_type": "markdown",
   "metadata": {
    "slideshow": {
     "slide_type": "subslide"
    }
   },
   "source": [
    "Functions are used to contain an expression or formula that will be called several times. The keyword for creating function is ***def***.\n",
    "\n",
    "> def function_name ( \\[ [ [ arg1, ] arg2, ] ... ] ): \n"
   ]
  },
  {
   "cell_type": "markdown",
   "metadata": {
    "slideshow": {
     "slide_type": "subslide"
    }
   },
   "source": [
    "Example: Create a function that greets"
   ]
  },
  {
   "cell_type": "code",
   "execution_count": 11,
   "metadata": {
    "slideshow": {
     "slide_type": "fragment"
    }
   },
   "outputs": [],
   "source": [
    "def greetings():\n",
    "    print('Hello! Player 1')"
   ]
  },
  {
   "cell_type": "markdown",
   "metadata": {
    "slideshow": {
     "slide_type": "subslide"
    }
   },
   "source": [
    "Call the function by using the function name follow by the parenthesis."
   ]
  },
  {
   "cell_type": "code",
   "execution_count": 12,
   "metadata": {
    "slideshow": {
     "slide_type": "fragment"
    }
   },
   "outputs": [
    {
     "name": "stdout",
     "output_type": "stream",
     "text": [
      "Hello! Player 1\n"
     ]
    }
   ],
   "source": [
    "greetings()"
   ]
  },
  {
   "cell_type": "markdown",
   "metadata": {
    "slideshow": {
     "slide_type": "subslide"
    }
   },
   "source": [
    "### Example: Create a function to get a list of primes"
   ]
  },
  {
   "cell_type": "code",
   "execution_count": 13,
   "metadata": {
    "slideshow": {
     "slide_type": "fragment"
    }
   },
   "outputs": [],
   "source": [
    "def primes(N):\n",
    "    \"\"\"Get a list of Primes from zero to N.\"\"\"\n",
    "    primes = []\n",
    "\n",
    "    for n in range(2, N):\n",
    "        for x in primes:\n",
    "            if n % x == 0:\n",
    "                break\n",
    "        else:\n",
    "            # loop fell through without finding a factor\n",
    "            primes.append(n)\n",
    "    return primes"
   ]
  },
  {
   "cell_type": "markdown",
   "metadata": {
    "slideshow": {
     "slide_type": "subslide"
    }
   },
   "source": [
    "Call the primes function and pass the argument it is expecting in this case and integer."
   ]
  },
  {
   "cell_type": "code",
   "execution_count": 14,
   "metadata": {
    "slideshow": {
     "slide_type": "fragment"
    }
   },
   "outputs": [
    {
     "data": {
      "text/plain": [
       "[2, 3, 5, 7, 11, 13, 17, 19]"
      ]
     },
     "execution_count": 14,
     "metadata": {},
     "output_type": "execute_result"
    }
   ],
   "source": [
    "primes(20)"
   ]
  },
  {
   "cell_type": "markdown",
   "metadata": {
    "slideshow": {
     "slide_type": "subslide"
    }
   },
   "source": [
    "### Default Argument Values"
   ]
  },
  {
   "cell_type": "markdown",
   "metadata": {
    "slideshow": {
     "slide_type": "fragment"
    }
   },
   "source": [
    "It possible to define a **function** with default value for one or more of the arguments. e.g *arg=value*"
   ]
  },
  {
   "cell_type": "markdown",
   "metadata": {
    "slideshow": {
     "slide_type": "subslide"
    }
   },
   "source": [
    "Example: Create *primes* function that return prime numbers within specify range. It takes two(2) arguments with the from_num having default value of 2.  "
   ]
  },
  {
   "cell_type": "code",
   "execution_count": 15,
   "metadata": {
    "slideshow": {
     "slide_type": "fragment"
    }
   },
   "outputs": [],
   "source": [
    "def primes2(to_num, from_num=2):\n",
    "    \"\"\"Get a list of Primes from from_num to to_num.\"\"\"\n",
    "    primes = []\n",
    "    final_primes = []\n",
    "\n",
    "    for n in range(2, to_num):\n",
    "        for x in primes:\n",
    "            if n % x == 0:\n",
    "                break\n",
    "        else:\n",
    "            # loop fell through without finding a factor\n",
    "            primes.append(n)\n",
    "            if n >= from_num:\n",
    "                final_primes.append(n)\n",
    "            \n",
    "    # get the index of from_num\n",
    "    return final_primes"
   ]
  },
  {
   "cell_type": "markdown",
   "metadata": {
    "slideshow": {
     "slide_type": "subslide"
    }
   },
   "source": [
    "Call the primes2 with the 2 positional arguments supplied."
   ]
  },
  {
   "cell_type": "code",
   "execution_count": 16,
   "metadata": {
    "slideshow": {
     "slide_type": "fragment"
    }
   },
   "outputs": [
    {
     "data": {
      "text/plain": [
       "[179, 181, 191, 193, 197, 199, 211]"
      ]
     },
     "execution_count": 16,
     "metadata": {},
     "output_type": "execute_result"
    }
   ],
   "source": [
    "primes2(213, 175)"
   ]
  },
  {
   "cell_type": "markdown",
   "metadata": {
    "slideshow": {
     "slide_type": "subslide"
    }
   },
   "source": [
    "Call the primes2 with 1 positional and 2 positional arguments supplied."
   ]
  },
  {
   "cell_type": "code",
   "execution_count": 17,
   "metadata": {
    "slideshow": {
     "slide_type": "subslide"
    }
   },
   "outputs": [
    {
     "name": "stdout",
     "output_type": "stream",
     "text": [
      "[2, 3, 5, 7, 11, 13, 17, 19]\n",
      "[2, 3, 5, 7, 11, 13, 17, 19]\n",
      "[5, 7, 11, 13, 17, 19]\n",
      "[11, 13, 17, 19]\n",
      "[]\n"
     ]
    }
   ],
   "source": [
    "# call primes\n",
    "p1 = primes(20)\n",
    "\n",
    "# call primes2\n",
    "p2 = primes2(20)\n",
    "p2_20_5 = primes2(20,5)\n",
    "p2_20_8 = primes2(20,8)\n",
    "p2_20_21 = primes2(20,21)\n",
    "\n",
    "print(p1)\n",
    "print(p2) \n",
    "print(p2_20_5) \n",
    "print(p2_20_8) \n",
    "print(p2_20_21) "
   ]
  },
  {
   "cell_type": "markdown",
   "metadata": {
    "slideshow": {
     "slide_type": "subslide"
    }
   },
   "source": [
    "Take note that *None* was the return value for the last caller:\n",
    "> *p2_20_21 = primes2(20,21)*\n",
    "\n"
   ]
  },
  {
   "cell_type": "markdown",
   "metadata": {
    "slideshow": {
     "slide_type": "fragment"
    }
   },
   "source": [
    "***None*** value represent nothing data type."
   ]
  },
  {
   "cell_type": "markdown",
   "metadata": {
    "slideshow": {
     "slide_type": "subslide"
    }
   },
   "source": [
    "### Keyword Argument Values"
   ]
  },
  {
   "cell_type": "markdown",
   "metadata": {
    "slideshow": {
     "slide_type": "fragment"
    }
   },
   "source": [
    "Functions can also be called by ***keywords*** arguments of the form *kwarg=value*."
   ]
  },
  {
   "cell_type": "code",
   "execution_count": 18,
   "metadata": {
    "slideshow": {
     "slide_type": "subslide"
    }
   },
   "outputs": [],
   "source": [
    "def primes3(to_num, from_num=2, count=3):\n",
    "    \"\"\"Get a list of Primes from from_num to to_num.\"\"\"\n",
    "    primes = []\n",
    "\n",
    "    for n in range(2, to_num):\n",
    "        for x in primes:\n",
    "            if n % x == 0:\n",
    "                break\n",
    "        else:\n",
    "            # loop fell through without finding a factor\n",
    "            primes.append(n)\n",
    "    \n",
    "    # check if from_num is in primes list    \n",
    "    if from_num in primes:\n",
    "        # get index\n",
    "        i = primes.index(from_num)\n",
    "        return primes[i:(i+count)]\n",
    "    else:\n",
    "        # get index above from_num\n",
    "        for i in range(len(primes)):\n",
    "            if from_num < primes[i]:\n",
    "                return primes[i:(i+count)]"
   ]
  },
  {
   "cell_type": "markdown",
   "metadata": {
    "slideshow": {
     "slide_type": "subslide"
    }
   },
   "source": [
    "Call the primes3 with 1 positional and 2 keyword arguments supplied."
   ]
  },
  {
   "cell_type": "code",
   "execution_count": 19,
   "metadata": {
    "slideshow": {
     "slide_type": "subslide"
    }
   },
   "outputs": [
    {
     "name": "stdout",
     "output_type": "stream",
     "text": [
      "[2, 3, 5, 7, 11, 13, 17, 19]\n",
      "[2, 3, 5, 7, 11, 13, 17, 19]\n",
      "===\n",
      "p3: [2, 3, 5]\n",
      "p3_20_5: [5, 7, 11]\n",
      "p3_200_8_5: [11, 13, 17, 19, 23]\n",
      "p3_200_111_6: [113, 127, 131, 137, 139, 149]\n"
     ]
    }
   ],
   "source": [
    "# call primes\n",
    "p1 = primes(20)\n",
    "\n",
    "# call primes2\n",
    "p2 = primes2(20)\n",
    "\n",
    "# call primes3\n",
    "p3 = primes3(20, from_num=0)\n",
    "p3_20_5 = primes3(20,from_num=5)\n",
    "\n",
    "# note the swap in count and from_num.\n",
    "p3_200_8_5 = primes3(200,from_num=8,count=5)\n",
    "p3_200_111_6 = primes3(200, count=6,from_num=111)\n",
    "\n",
    "print(p1)\n",
    "print(p2) \n",
    "print('===')\n",
    "print('p3:', p3)\n",
    "\n",
    "print('p3_20_5:',p3_20_5) \n",
    "print('p3_200_8_5:',p3_200_8_5) \n",
    "print('p3_200_111_6:',p3_200_111_6) "
   ]
  },
  {
   "cell_type": "markdown",
   "metadata": {},
   "source": [
    "\n",
    "## Create a Module \n"
   ]
  },
  {
   "cell_type": "markdown",
   "metadata": {},
   "source": [
    "\n",
    "## Create a Package \n",
    "\n"
   ]
  },
  {
   "cell_type": "markdown",
   "metadata": {},
   "source": []
  }
 ],
 "metadata": {
  "interpreter": {
   "hash": "c1a7846af735771808fbc8272134e7984cc669109ae413ca91ad8b74a534aa1b"
  },
  "kernelspec": {
   "display_name": "Python 3.9.6 64-bit",
   "name": "python3"
  },
  "language_info": {
   "codemirror_mode": {
    "name": "ipython",
    "version": 3
   },
   "file_extension": ".py",
   "mimetype": "text/x-python",
   "name": "python",
   "nbconvert_exporter": "python",
   "pygments_lexer": "ipython3",
   "version": "3.9.6"
  },
  "orig_nbformat": 4
 },
 "nbformat": 4,
 "nbformat_minor": 2
}
