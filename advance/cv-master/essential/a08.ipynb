{
 "cells": [
  {
   "cell_type": "markdown",
   "metadata": {},
   "source": [
    "# Assigmnent\n",
    "\n",
    "1. Create a random array a, of shape (6x6) using randint and seed 2.\n",
    "2. Convert the array a, to an identity matrix I. \n",
    "\n",
    "$$\n",
    "I = \n",
    "\\begin{bmatrix}\n",
    "    1 & 0 & 0 & 0 & 0 & 0  \\\\  \n",
    "    0 & 1 & 0 & 0 & 0 & 0  \\\\  \n",
    "    0 & 0 & 1 & 0 & 0 & 0  \\\\  \n",
    "    0 & 0 & 0 & 1 & 0 & 0  \\\\  \n",
    "    0 & 0 & 0 & 0 & 1 & 0  \\\\  \n",
    "    0 & 0 & 0 & 0 & 0 & 1  \\\\  \n",
    "\\end{bmatrix}\n",
    "$$"
   ]
  },
  {
   "cell_type": "markdown",
   "metadata": {},
   "source": []
  }
 ],
 "metadata": {
  "interpreter": {
   "hash": "6f7c4d44365b28014734406e4d617c1e1f76ea196def854c7b951a230f6e24f1"
  },
  "kernelspec": {
   "display_name": "Python 3.9.5 64-bit",
   "name": "python3"
  },
  "language_info": {
   "name": "python",
   "version": "3.9.5"
  },
  "orig_nbformat": 4
 },
 "nbformat": 4,
 "nbformat_minor": 2
}
