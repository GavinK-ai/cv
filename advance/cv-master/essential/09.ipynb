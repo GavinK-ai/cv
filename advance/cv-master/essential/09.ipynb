{
 "cells": [
  {
   "cell_type": "code",
   "execution_count": null,
   "metadata": {},
   "outputs": [],
   "source": []
  },
  {
   "cell_type": "markdown",
   "metadata": {},
   "source": [
    "# Chapter 9 \n",
    "\n"
   ]
  },
  {
   "cell_type": "code",
   "execution_count": 1,
   "metadata": {},
   "outputs": [],
   "source": [
    "!pip install -q numpy "
   ]
  },
  {
   "cell_type": "code",
   "execution_count": 2,
   "metadata": {},
   "outputs": [],
   "source": [
    "def array_properties(a, label='a'):\n",
    "    print(label, '= ')\n",
    "    print(a)\n",
    "    print(\"dim = \", a.ndim)\n",
    "    print(\"shape = \", a.shape)\n",
    "    print(\"datatype = \", a.dtype)\n",
    "    print(\"size = \", a.size)\n",
    "    print()"
   ]
  },
  {
   "cell_type": "markdown",
   "metadata": {},
   "source": [
    "# Linear Algebra 2 \n"
   ]
  },
  {
   "cell_type": "markdown",
   "metadata": {},
   "source": [
    "## Creating a matrix representation of system of linear equation\n",
    "\n"
   ]
  },
  {
   "cell_type": "markdown",
   "metadata": {},
   "source": [
    "$$\n",
    "A . x = b\n",
    "$$\n",
    "\n",
    "$$\n",
    "x = \\frac {b} {A}\n",
    "$$\n",
    "\n",
    "$$\n",
    "x = A^{-1} . b\n",
    "$$"
   ]
  },
  {
   "cell_type": "markdown",
   "metadata": {},
   "source": [
    "$$\n",
    "3x_1 -3x_2 - 4x_3 = 1 \\\\\n",
    "x_1 - x_2 - x_3 = 2 \\\\\n",
    "2x_1 - x_2 + 4x_3 = 3\t\n",
    "$$\n",
    "\n"
   ]
  },
  {
   "cell_type": "markdown",
   "metadata": {},
   "source": [
    "$$\n",
    "A=\\left(\n",
    "        \\begin{matrix} \n",
    "            3 & -3 & -4 \\\\ \n",
    "            1 & -1 & -1 \\\\ \n",
    "            2 & -1 & 4 \\\\ \n",
    "        \\end{matrix}\n",
    "    \\right)\n",
    "$$\n",
    "\n",
    "$$\n",
    "x=\\left(\n",
    "        \\begin{matrix} \n",
    "            x_1 \\\\ \n",
    "            x_2 \\\\ \n",
    "            x_3 \\\\ \n",
    "        \\end{matrix}\n",
    "    \\right)\n",
    "$$\n",
    "\n",
    "$$\n",
    "b=\\left(\n",
    "        \\begin{matrix} \n",
    "            1 \\\\ \n",
    "            2 \\\\ \n",
    "            3 \\\\ \n",
    "        \\end{matrix}\n",
    "    \\right)\n",
    "$$"
   ]
  },
  {
   "cell_type": "markdown",
   "metadata": {},
   "source": [
    "Solve for the values of $ x $."
   ]
  },
  {
   "cell_type": "code",
   "execution_count": 3,
   "metadata": {},
   "outputs": [
    {
     "name": "stdout",
     "output_type": "stream",
     "text": [
      "A = \n",
      "[[ 3. -3. -4.]\n",
      " [ 1. -1. -1.]\n",
      " [ 2. -1.  4.]]\n",
      "dim =  2\n",
      "shape =  (3, 3)\n",
      "datatype =  float64\n",
      "size =  9\n",
      "\n"
     ]
    }
   ],
   "source": [
    "import numpy as np\n",
    "\n",
    "A = np.array([\n",
    "    [3., -3., -4.],\n",
    "    [1, -1, -1],\n",
    "    [2, -1, 4],\n",
    "])\n",
    "\n",
    "array_properties(A, 'A')\n"
   ]
  },
  {
   "cell_type": "code",
   "execution_count": 4,
   "metadata": {},
   "outputs": [
    {
     "name": "stdout",
     "output_type": "stream",
     "text": [
      "b = \n",
      "[[1.]\n",
      " [2.]\n",
      " [3.]]\n",
      "dim =  2\n",
      "shape =  (3, 1)\n",
      "datatype =  float64\n",
      "size =  3\n",
      "\n"
     ]
    }
   ],
   "source": [
    "import numpy as np\n",
    "\n",
    "b = np.array([\n",
    "    [1.],\n",
    "    [2],\n",
    "    [3],\n",
    "])\n",
    "\n",
    "array_properties(b, 'b')\n"
   ]
  },
  {
   "cell_type": "code",
   "execution_count": 5,
   "metadata": {},
   "outputs": [
    {
     "name": "stdout",
     "output_type": "stream",
     "text": [
      "x = \n",
      "[[-24.]\n",
      " [-31.]\n",
      " [  5.]]\n",
      "dim =  2\n",
      "shape =  (3, 1)\n",
      "datatype =  float64\n",
      "size =  3\n",
      "\n"
     ]
    }
   ],
   "source": [
    "import numpy as np\n",
    "\n",
    "x = np.linalg.solve(A,b)\n",
    "\n",
    "array_properties(x, 'x')"
   ]
  },
  {
   "cell_type": "code",
   "execution_count": 6,
   "metadata": {},
   "outputs": [
    {
     "name": "stdout",
     "output_type": "stream",
     "text": [
      "A_inv = \n",
      "[[  5. -16.   1.]\n",
      " [  6. -20.   1.]\n",
      " [ -1.   3.   0.]]\n",
      "dim =  2\n",
      "shape =  (3, 3)\n",
      "datatype =  float64\n",
      "size =  9\n",
      "\n",
      "x = \n",
      "[[-24.]\n",
      " [-31.]\n",
      " [  5.]]\n",
      "dim =  2\n",
      "shape =  (3, 1)\n",
      "datatype =  float64\n",
      "size =  3\n",
      "\n"
     ]
    }
   ],
   "source": [
    "import numpy as np\n",
    "\n",
    "A_inv = np.linalg.inv(A)\n",
    "\n",
    "x = A_inv @ b\n",
    "\n",
    "array_properties(A_inv, 'A_inv')\n",
    "array_properties(x, 'x')\n"
   ]
  },
  {
   "cell_type": "markdown",
   "metadata": {},
   "source": [
    "$$\n",
    "\n",
    "x_1 = \\frac {D_1} {D}\n",
    "\n",
    "$$"
   ]
  },
  {
   "cell_type": "code",
   "execution_count": 7,
   "metadata": {},
   "outputs": [
    {
     "name": "stdout",
     "output_type": "stream",
     "text": [
      "D =  -0.9999999999999998\n"
     ]
    }
   ],
   "source": [
    "D = np.linalg.det(A)\n",
    "print('D = ', D)\n"
   ]
  },
  {
   "cell_type": "code",
   "execution_count": 8,
   "metadata": {},
   "outputs": [
    {
     "name": "stdout",
     "output_type": "stream",
     "text": [
      "A1 = \n",
      "[[ 1. -3. -4.]\n",
      " [ 2. -1. -1.]\n",
      " [ 3. -1.  4.]]\n",
      "dim =  2\n",
      "shape =  (3, 3)\n",
      "datatype =  float64\n",
      "size =  9\n",
      "\n",
      "D1=  24.000000000000014\n",
      "x1 =  -24.00000000000002\n"
     ]
    }
   ],
   "source": [
    "A1 = A.copy()\n",
    "\n",
    "\n",
    "A1[:,0] = b[:,0]\n",
    "array_properties(A1, 'A1')\n",
    "\n",
    "D1 = np.linalg.det(A1)\n",
    "print('D1= ', D1)\n",
    "\n",
    "x1 = D1 / D\n",
    "print('x1 = ', x1)"
   ]
  },
  {
   "cell_type": "code",
   "execution_count": 9,
   "metadata": {},
   "outputs": [
    {
     "name": "stdout",
     "output_type": "stream",
     "text": [
      "D1=  24.000000000000014\n",
      "x1 =  -24.00000000000002\n",
      "D2=  31.0\n",
      "x2 =  -31.000000000000007\n",
      "D3=  -5.000000000000001\n",
      "x3 =  5.000000000000002\n"
     ]
    }
   ],
   "source": [
    "# xx = []\n",
    "\n",
    "for i in range(3):\n",
    "    AA = A.copy()\n",
    "\n",
    "    AA[:,i] = b[:,0]\n",
    "    # array_properties(AA, f'A{i+1}')\n",
    "\n",
    "    DD = np.linalg.det(AA)\n",
    "    print(f'D{i+1}= ', DD)\n",
    "\n",
    "    xx = DD / D\n",
    "    print(f'x{i+1} = ', xx)\n"
   ]
  },
  {
   "cell_type": "markdown",
   "metadata": {},
   "source": []
  },
  {
   "cell_type": "markdown",
   "metadata": {},
   "source": [
    "## Class Activity\n",
    "\n",
    "1. Create an array with three concentric rectangle of values -1, 0, 1.\n",
    "\n",
    "$$ \n",
    "\\begin{bmatrix}\n",
    "    -1 & -1 & -1 & -1 & -1 \\\\  \n",
    "    -1 & 0 & 0 & 0 & -1 \\\\  \n",
    "    -1 & 0 & 1 & 0 & -1 \\\\  \n",
    "    -1 & 0 & 0 & 0 & -1 \\\\  \n",
    "    -1 & -1 & -1 & -1 & -1 \\\\  \n",
    "\\end{bmatrix}\n",
    "$$\n"
   ]
  },
  {
   "cell_type": "markdown",
   "metadata": {},
   "source": [
    "1. What is the shape.\n",
    "   1. 5x5\n",
    "2. What is the dimension of the array.\n",
    "   1. 2\n",
    "3. What is the index of 1. \n",
    "   1. [2,2]"
   ]
  },
  {
   "cell_type": "code",
   "execution_count": null,
   "metadata": {},
   "outputs": [],
   "source": []
  },
  {
   "cell_type": "markdown",
   "metadata": {},
   "source": [
    "## Convert an Array to Triangular Matrix"
   ]
  },
  {
   "cell_type": "markdown",
   "metadata": {},
   "source": [
    "\n",
    "$$ \n",
    "\\begin{bmatrix}\n",
    "    a_{11} & a_{12} & a_{13} & a_{14}  \\\\  \n",
    "    a_{21} & a_{22} & a_{23} & a_{24}  \\\\  \n",
    "    a_{31} & a_{32} & a_{33} & a_{34}  \\\\  \n",
    "    a_{41} & a_{42} & a_{43} & a_{44}  \\\\  \n",
    "\\end{bmatrix}\n",
    "$$\n",
    "\n",
    "\n",
    "$$ \n",
    "\\begin{bmatrix}\n",
    "    a_{11} & a_{12} & a_{13} & a_{14}  \\\\  \n",
    "    0 & a_{22} & a_{23} & a_{24}  \\\\  \n",
    "    0 & 0 & a_{33} & a_{34}  \\\\  \n",
    "    0 & 0 & 0 & a_{44}  \\\\  \n",
    "\\end{bmatrix}\n",
    "$$\n"
   ]
  },
  {
   "cell_type": "markdown",
   "metadata": {},
   "source": [
    "$$\n",
    "\n",
    "R_i = R_i - R_p \\times \\frac {R_{i,p}} {R_{p,p}}\n",
    "\n",
    "$$"
   ]
  },
  {
   "cell_type": "markdown",
   "metadata": {},
   "source": [
    "where $p$ is the pivot\n",
    "$$\n",
    "p = 1, 2, ... m-1 \\\\ \n",
    "i = p+1, p+2, ... m\n",
    "$$\n"
   ]
  },
  {
   "cell_type": "markdown",
   "metadata": {},
   "source": [
    "$$\n",
    "if \\quad R_{p,p} = 0 \\\\  \n",
    "interchange \\quad R_p \\quad with \\quad non-zero \\quad R_{i,p} row\n",
    "\n",
    "$$"
   ]
  },
  {
   "cell_type": "code",
   "execution_count": 19,
   "metadata": {},
   "outputs": [
    {
     "name": "stdout",
     "output_type": "stream",
     "text": [
      "M = [[ 3. -3. -4.  1.]\n",
      " [ 1. -1. -1.  2.]\n",
      " [ 2. -1.  4.  3.]]\n",
      "M = [[ 3.         -3.         -4.          1.        ]\n",
      " [ 0.          0.          0.33333333  1.66666667]\n",
      " [ 2.         -1.          4.          3.        ]]\n",
      "M = [[ 3.         -3.         -4.          1.        ]\n",
      " [ 0.          0.          0.33333333  1.66666667]\n",
      " [ 0.          1.          6.66666667  2.33333333]]\n",
      "M = [[ 3.         -3.         -4.          1.        ]\n",
      " [ 0.          1.          6.66666667  2.33333333]\n",
      " [ 0.          0.          0.33333333  1.66666667]]\n"
     ]
    }
   ],
   "source": [
    "# using row equivalent reduction method\n",
    "# convert a matrix to a triangular form\n",
    "\n",
    "\n",
    "import numpy as np\n",
    "\n",
    "# create matrix A\n",
    "A = np.array([\n",
    "    [3., -3., -4.],\n",
    "    [1, -1, -1],\n",
    "    [2, -1, 4],\n",
    "])\n",
    "\n",
    "# create matrix b\n",
    "b = np.array([1,2,3]).reshape(3,1)\n",
    "\n",
    "# create auguemented matrix [A|b]\n",
    "M = np.hstack([A,b])\n",
    "\n",
    "print('M =', M)\n",
    "\n",
    "# \n",
    "nrows,ncols = M.shape\n",
    "\n",
    "# reduce the column 1 and row 2 element to zero\n",
    "#  \n",
    "M[1,:] = M[1] - M[0]*M[1,0]/M[0,0]\n",
    "print('M =', M)\n",
    "\n",
    "# reduce the column 1 and row 3 element to zero\n",
    "#  \n",
    "M[2] = M[2] - M[0]*M[2,0]/M[0,0]\n",
    "print('M =', M)\n",
    "\n",
    "# check if pivot M[1,1] = 0, then interchange with a \n",
    "# non-zero below row\n",
    "if M[1,1] == 0:\n",
    "    # interchange row with non-zero below row\n",
    "    for i in range(2,nrows):\n",
    "        if M[i,1] != 0:\n",
    "            # interchange now and break\n",
    "            temp = M[1].copy()\n",
    "            M[1] = M[i]\n",
    "            M[i] = temp\n",
    "            break\n",
    "else:\n",
    "    # reduce column 2 row 3 to zero\n",
    "    M[2] = M[2] - M[1]*M[2,1]/M[1,1]\n",
    "\n",
    "print('M =', M)\n",
    "\n"
   ]
  },
  {
   "cell_type": "code",
   "execution_count": 23,
   "metadata": {},
   "outputs": [
    {
     "name": "stdout",
     "output_type": "stream",
     "text": [
      "M = [[ 3. -3. -4.  1.]\n",
      " [ 1. -1. -1.  2.]\n",
      " [ 2. -1.  4.  3.]]\n",
      "M = [[ 3.         -3.         -4.          1.        ]\n",
      " [ 0.          0.          0.33333333  1.66666667]\n",
      " [ 2.         -1.          4.          3.        ]]\n",
      "M = [[ 3.         -3.         -4.          1.        ]\n",
      " [ 0.          0.          0.33333333  1.66666667]\n",
      " [ 0.          1.          6.66666667  2.33333333]]\n",
      "k = 1\n",
      "M = [[ 3.         -3.         -4.          1.        ]\n",
      " [ 0.          1.          6.66666667  2.33333333]\n",
      " [ 0.          0.          0.33333333  1.66666667]]\n",
      "M = [[ 3.         -3.         -4.          1.        ]\n",
      " [ 0.          1.          6.66666667  2.33333333]\n",
      " [ 0.          0.          0.33333333  1.66666667]]\n"
     ]
    }
   ],
   "source": [
    "# using index\n",
    "\n",
    "# using row equivalent reduction method\n",
    "# convert a matrix to a triangular form\n",
    "\n",
    "\n",
    "import numpy as np\n",
    "\n",
    "# create matrix A\n",
    "A = np.array([\n",
    "    [3., -3., -4.],\n",
    "    [1, -1, -1],\n",
    "    [2, -1, 4],\n",
    "])\n",
    "\n",
    "# create matrix b\n",
    "b = np.array([1,2,3]).reshape(3,1)\n",
    "\n",
    "# create auguemented matrix [A|b]\n",
    "M = np.hstack([A,b])\n",
    "\n",
    "print('M =', M)\n",
    "\n",
    "# \n",
    "nrows,ncols = M.shape\n",
    "# count row interchange\n",
    "k = 0\n",
    "\n",
    "for p in range(nrows-1):\n",
    "    # check if pivot M[1,1] = 0, then interchange with a \n",
    "    # non-zero below row\n",
    "    if M[p,p] == 0:\n",
    "        # interchange row with non-zero below row\n",
    "        for j in range(p+1,nrows):\n",
    "            if M[j,p] != 0:\n",
    "                # interchange now and break\n",
    "                temp = M[p].copy()\n",
    "                M[p] = M[j]\n",
    "                M[j] = temp\n",
    "                k += 1\n",
    "                print('k =', k)\n",
    "                print('M =', M)\n",
    "                break\n",
    "        \n",
    "        for i in range(p+1, nrows):            \n",
    "            # reduce rows\n",
    "            M[i] = M[i] - M[p]*M[i,p]/M[p,p]\n",
    "            print('M =', M)\n",
    "    else:        \n",
    "        for i in range(p+1, nrows):            \n",
    "            # reduce rows\n",
    "            M[i] = M[i] - M[p]*M[i,p]/M[p,p]\n",
    "            print('M =', M)\n",
    "\n",
    "\n"
   ]
  },
  {
   "cell_type": "markdown",
   "metadata": {},
   "source": [
    "$$\n",
    "3x_1 -3x_2 - 4x_3 = 1 \\\\\n",
    "x_1 - x_2 - x_3 = 2 \\\\\n",
    "2x_1 - x_2 + 4x_3 = 3\t\n",
    "$$\n",
    "\n",
    "\n",
    "$$\n",
    "3x_1 -3x_2 - 4x_3 = 1 \\\\\n",
    "  x_2 - 6.67x_3 = 2.33 \\\\\n",
    "  + 0.33x_3 = 1.67\t\n",
    "$$\n",
    "\n"
   ]
  },
  {
   "cell_type": "markdown",
   "metadata": {},
   "source": [
    "## Class Activity\n",
    "\n",
    "1. Convert the Row equivalent triangular operation to a function with name to_triangular.\n",
    "2. Call the function to solve our system of linear equations.\n",
    "\n",
    "<code>  \n",
    "\n",
    "    nrows,ncols = M.shape\n",
    "    # count row interchange\n",
    "    k = 0\n",
    "\n",
    "    for p in range(nrows-1):\n",
    "        # check if pivot M[1,1] = 0, then interchange with a \n",
    "        # non-zero below row\n",
    "        if M[p,p] == 0:\n",
    "            # interchange row with non-zero below row\n",
    "            for j in range(p+1,nrows):\n",
    "                if M[j,p] != 0:\n",
    "                    # interchange now and break\n",
    "                    temp = M[p].copy()\n",
    "                    M[p] = M[j]\n",
    "                    M[j] = temp\n",
    "                    k += 1\n",
    "                    print('k =', k)\n",
    "                    print('M =', M)\n",
    "                    break\n",
    "            \n",
    "            for i in range(p+1, nrows):            \n",
    "                # reduce rows\n",
    "                M[i] = M[i] - M[p]*M[i,p]/M[p,p]\n",
    "                print('M =', M)\n",
    "        else:        \n",
    "            for i in range(p+1, nrows):            \n",
    "                # reduce rows\n",
    "                M[i] = M[i] - M[p]*M[i,p]/M[p,p]\n",
    "                print('M =', M)\n",
    "\n",
    "</code>"
   ]
  },
  {
   "cell_type": "code",
   "execution_count": 44,
   "metadata": {},
   "outputs": [],
   "source": [
    "def to_triangular(a):    \n",
    "    M = a.copy()\n",
    "    # \n",
    "    nrows,ncols = M.shape\n",
    "    # count row interchange\n",
    "    k = 0\n",
    "\n",
    "    for p in range(nrows-1):\n",
    "        # check if pivot M[1,1] = 0, then interchange with a \n",
    "        # non-zero below row\n",
    "        if M[p,p] == 0:\n",
    "            # interchange row with non-zero below row\n",
    "            for j in range(p+1,nrows):\n",
    "                if M[j,p] != 0:\n",
    "                    # interchange now and break\n",
    "                    temp = M[p].copy()\n",
    "                    M[p] = M[j]\n",
    "                    M[j] = temp\n",
    "                    k += 1\n",
    "                    # print('k =', k)\n",
    "                    # print('M =', M)\n",
    "                    break\n",
    "            \n",
    "            for i in range(p+1, nrows):            \n",
    "                # reduce rows\n",
    "                M[i] = M[i] - M[p]*M[i,p]/M[p,p]\n",
    "                # print('M =', M)\n",
    "        else:        \n",
    "            for i in range(p+1, nrows):            \n",
    "                # reduce rows\n",
    "                M[i] = M[i] - M[p]*M[i,p]/M[p,p]\n",
    "                # print('M =', M)\n",
    "\n",
    "    return M, k\n",
    "\n",
    "\n"
   ]
  },
  {
   "cell_type": "code",
   "execution_count": 45,
   "metadata": {},
   "outputs": [
    {
     "name": "stdout",
     "output_type": "stream",
     "text": [
      "M = [[ 3. -3. -4.  1.]\n",
      " [ 1. -1. -1.  2.]\n",
      " [ 2. -1.  4.  3.]]\n",
      "Mt = [[ 3.         -3.         -4.          1.        ]\n",
      " [ 0.          1.          6.66666667  2.33333333]\n",
      " [ 0.          0.          0.33333333  1.66666667]]\n",
      "M = [[ 3. -3. -4.  1.]\n",
      " [ 1. -1. -1.  2.]\n",
      " [ 2. -1.  4.  3.]]\n"
     ]
    }
   ],
   "source": [
    "# using index\n",
    "\n",
    "# using row equivalent reduction method\n",
    "# convert a matrix to a triangular form\n",
    "\n",
    "\n",
    "import numpy as np\n",
    "\n",
    "# create matrix A\n",
    "A = np.array([\n",
    "    [3., -3., -4.],\n",
    "    [1, -1, -1],\n",
    "    [2, -1, 4],\n",
    "])\n",
    "\n",
    "# create matrix b\n",
    "b = np.array([1,2,3]).reshape(3,1)\n",
    "\n",
    "# create auguemented matrix [A|b]\n",
    "M = np.hstack([A,b])\n",
    "\n",
    "print('M =', M)\n",
    "\n",
    "Mt, k = to_triangular(M)\n",
    "\n",
    "print('Mt =', Mt)\n",
    "print('M =', M)\n",
    "\n",
    "\n"
   ]
  },
  {
   "cell_type": "code",
   "execution_count": 46,
   "metadata": {},
   "outputs": [
    {
     "name": "stdout",
     "output_type": "stream",
     "text": [
      "A= [[7. 1. 8. 1. 4.]\n",
      " [5. 3. 8. 5. 4.]\n",
      " [5. 5. 6. 3. 5.]\n",
      " [6. 2. 3. 8. 2.]\n",
      " [8. 1. 2. 3. 6.]]\n",
      "b = [[1.]\n",
      " [3.]\n",
      " [0.]\n",
      " [0.]\n",
      " [9.]]\n",
      "M = [[7. 1. 8. 1. 4. 1.]\n",
      " [5. 3. 8. 5. 4. 3.]\n",
      " [5. 5. 6. 3. 5. 0.]\n",
      " [6. 2. 3. 8. 2. 0.]\n",
      " [8. 1. 2. 3. 6. 9.]]\n",
      "Mt = [[ 7.         1.         8.         1.         4.         1.       ]\n",
      " [ 0.         2.2857141  2.2857141  4.285714   1.1428571  2.2857141]\n",
      " [ 0.         0.        -4.        -5.75       0.        -5.       ]\n",
      " [ 0.         0.         0.        12.1875    -2.         4.25     ]\n",
      " [ 0.         0.         0.         0.         3.5       12.5      ]]\n"
     ]
    }
   ],
   "source": [
    "import numpy as np\n",
    "\n",
    "# convert system of linear equations to triangular matrix\n",
    "\n",
    "# create matrix A\n",
    "A = np.random.randint(0, 10,size=(5,5)).astype('float32')\n",
    "print('A=', A)\n",
    "\n",
    "# create matrix b\n",
    "b = np.random.randint(0, 10,size=(5,1)).astype('float32')\n",
    "print('b =', b)\n",
    "\n",
    "# create auguemented matrix [A|b]\n",
    "M = np.hstack([A,b])\n",
    "\n",
    "print('M =', M)\n",
    "\n",
    "Mt, k = to_triangular(M)\n",
    "\n",
    "print('Mt =', Mt)\n",
    "\n",
    "\n"
   ]
  },
  {
   "cell_type": "markdown",
   "metadata": {},
   "source": [
    "## Convert an Array to Diagonal Array"
   ]
  },
  {
   "cell_type": "markdown",
   "metadata": {},
   "source": [
    "\n",
    "$$ \n",
    "\\begin{bmatrix}\n",
    "    a_{11} & a_{12} & a_{13} & a_{14}  \\\\  \n",
    "    a_{21} & a_{22} & a_{23} & a_{24}  \\\\  \n",
    "    a_{31} & a_{32} & a_{33} & a_{34}  \\\\  \n",
    "    a_{41} & a_{42} & a_{43} & a_{44}  \\\\  \n",
    "\\end{bmatrix}\n",
    "$$\n",
    "\n",
    "\n",
    "$$ \n",
    "\\begin{bmatrix}\n",
    "    a_{11} & a_{12} & a_{13} & a_{14}  \\\\  \n",
    "    0 & a_{22} & a_{23} & a_{24}  \\\\  \n",
    "    0 & 0 & a_{33} & a_{34}  \\\\  \n",
    "    0 & 0 & 0 & a_{44}  \\\\  \n",
    "\\end{bmatrix}\n",
    "$$\n",
    "\n",
    "$$ \n",
    "\\begin{bmatrix}\n",
    "    a_{11} & 0 & 0 & 0  \\\\  \n",
    "    0 & a_{22} & 0 & 0  \\\\  \n",
    "    0 & 0 & a_{33} & 0  \\\\  \n",
    "    0 & 0 & 0 & a_{44}  \\\\  \n",
    "\\end{bmatrix}\n",
    "$$\n"
   ]
  },
  {
   "cell_type": "markdown",
   "metadata": {},
   "source": [
    "$$\n",
    "R_i = R_i - R_p \\times \\frac {R_{i,p}} {R_{p,p}}\n",
    "$$\n",
    "$$\n",
    "p = m, m-1, ..., 2 \\\\ \n",
    "i = p-1, p-2, ..., 1 \\\\ \n",
    "or  \\\\ \n",
    "i = 1, 2, ..., p-1 \\\\ \n",
    "$$"
   ]
  },
  {
   "cell_type": "code",
   "execution_count": 64,
   "metadata": {},
   "outputs": [],
   "source": [
    "def print_array(M):\n",
    "\n",
    "    nrows,ncols = M.shape\n",
    "\n",
    "    print()\n",
    "    for i in range(nrows):\n",
    "        for j in range(ncols):\n",
    "            print(f'{M[i,j]:.2f}', end='\\t')\n",
    "        print()\n"
   ]
  },
  {
   "cell_type": "code",
   "execution_count": 65,
   "metadata": {},
   "outputs": [],
   "source": [
    "def to_diagonal(Mt):\n",
    "    M = Mt.copy()\n",
    "    # \n",
    "    nrows,ncols = M.shape\n",
    "\n",
    "    # diagonal\n",
    "    for p in range(nrows-1, 0,-1):\n",
    "        for i in range(0, p):            \n",
    "            # reduce rows\n",
    "            M[i] = M[i] - M[p]*M[i,p]/M[p,p]\n",
    "            # print('M =', M)\n",
    "\n",
    "    return M\n"
   ]
  },
  {
   "cell_type": "code",
   "execution_count": 82,
   "metadata": {},
   "outputs": [
    {
     "name": "stdout",
     "output_type": "stream",
     "text": [
      "\n",
      "3.00\t-3.00\t-4.00\t1.00\t\n",
      "0.00\t1.00\t6.67\t2.33\t\n",
      "0.00\t0.00\t0.33\t1.67\t\n",
      "\n",
      "3.00\t0.00\t0.00\t-72.00\t\n",
      "0.00\t1.00\t0.00\t-31.00\t\n",
      "0.00\t0.00\t0.33\t1.67\t\n"
     ]
    }
   ],
   "source": [
    "# using row equivalent reduction method\n",
    "# convert a matrix to a triangular form\n",
    "\n",
    "import numpy as np\n",
    "\n",
    "# create matrix A\n",
    "A = np.array([\n",
    "    [3., -3., -4.],\n",
    "    [1, -1, -1],\n",
    "    [2, -1, 4],\n",
    "])\n",
    "\n",
    "# create matrix b\n",
    "b = np.array([1,2,3]).reshape(3,1)\n",
    "\n",
    "# create auguemented matrix [A|b]\n",
    "M = np.hstack([A,b])\n",
    "\n",
    "# print('M =', M)\n",
    "\n",
    "# triangular\n",
    "Mt, k = to_triangular(M)\n",
    "print_array(Mt)\n",
    "\n",
    "# diagonal\n",
    "Md = to_diagonal(Mt)\n",
    "print_array(Md)\n"
   ]
  },
  {
   "cell_type": "markdown",
   "metadata": {},
   "source": [
    "## Convert to Identity Matrix \n",
    "\n",
    "From the identity matrix the b column is transformed to the solution of the linear equations"
   ]
  },
  {
   "cell_type": "markdown",
   "metadata": {},
   "source": [
    "\n",
    "$$ \n",
    "\\begin{bmatrix}\n",
    "    a_{11} & a_{12} & a_{13} & a_{14} & b_{1}  \\\\  \n",
    "    a_{21} & a_{22} & a_{23} & a_{24} & b_{2}  \\\\  \n",
    "    a_{31} & a_{32} & a_{33} & a_{34} & b_{3}  \\\\  \n",
    "    a_{41} & a_{42} & a_{43} & a_{44} & b_{4}  \\\\  \n",
    "\\end{bmatrix}\n",
    "$$\n",
    "\n",
    "\n",
    "$$ \n",
    "\\begin{bmatrix}\n",
    "    a_{11} & a_{12} & a_{13} & a_{14}  & b_{1} \\\\  \n",
    "    0 & a_{22} & a_{23} & a_{24}  & b_{2} \\\\  \n",
    "    0 & 0 & a_{33} & a_{34}  & b_{3} \\\\  \n",
    "    0 & 0 & 0 & a_{44}  & b_{4} \\\\  \n",
    "\\end{bmatrix}\n",
    "$$\n",
    "\n",
    "$$ \n",
    "\\begin{bmatrix}\n",
    "    a_{11} & 0 & 0 & 0  & b_{1} \\\\  \n",
    "    0 & a_{22} & 0 & 0  & b_{2} \\\\  \n",
    "    0 & 0 & a_{33} & 0  & b_{3} \\\\  \n",
    "    0 & 0 & 0 & a_{44}  & b_{4} \\\\  \n",
    "\\end{bmatrix}\n",
    "$$\n",
    "\n",
    "$$ \n",
    "\\begin{bmatrix}\n",
    "    1 & 0 & 0 & 0  & x_{1} \\\\  \n",
    "    0 & 1 & 0 & 0  & x_{2}  \\\\  \n",
    "    0 & 0 & 1 & 0  & x_{3}  \\\\  \n",
    "    0 & 0 & 0 & 1  & x_{4} \\\\  \n",
    "\\end{bmatrix}\n",
    "$$\n"
   ]
  },
  {
   "cell_type": "code",
   "execution_count": 77,
   "metadata": {},
   "outputs": [],
   "source": [
    "def to_identity(Md):\n",
    "    # convert to identity\n",
    "    Mi = Md.copy()\n",
    "    nrows,ncols = Mi.shape\n",
    "\n",
    "    for i in range(nrows):\n",
    "        Mi[i] = Mi[i] / Mi[i,i]\n",
    "\n",
    "    # print('Mi=', Mi)\n",
    "    # print_array(Mi)\n",
    "\n",
    "    return Mi\n",
    "\n"
   ]
  },
  {
   "cell_type": "code",
   "execution_count": 81,
   "metadata": {},
   "outputs": [
    {
     "name": "stdout",
     "output_type": "stream",
     "text": [
      "\n",
      "3.00\t-3.00\t-4.00\t1.00\t\n",
      "0.00\t1.00\t6.67\t2.33\t\n",
      "0.00\t0.00\t0.33\t1.67\t\n",
      "\n",
      "3.00\t0.00\t0.00\t-72.00\t\n",
      "0.00\t1.00\t0.00\t-31.00\t\n",
      "0.00\t0.00\t0.33\t1.67\t\n",
      "\n",
      "1.00\t0.00\t0.00\t-24.00\t\n",
      "0.00\t1.00\t0.00\t-31.00\t\n",
      "0.00\t0.00\t1.00\t5.00\t\n",
      "\n",
      "x = [-24. -31.   5.]\n"
     ]
    }
   ],
   "source": [
    "# using row equivalent reduction method\n",
    "# convert a matrix to a triangular form\n",
    "\n",
    "import numpy as np\n",
    "\n",
    "# create matrix A\n",
    "A = np.array([\n",
    "    [3., -3., -4.],\n",
    "    [1, -1, -1],\n",
    "    [2, -1, 4],\n",
    "])\n",
    "\n",
    "# create matrix b\n",
    "b = np.array([1,2,3]).reshape(3,1)\n",
    "\n",
    "# create auguemented matrix [A|b]\n",
    "M = np.hstack([A,b])\n",
    "\n",
    "# print('M =', M)\n",
    "\n",
    "# triangular\n",
    "Mt, k = to_triangular(M)\n",
    "print_array(Mt)\n",
    "\n",
    "# diagonal\n",
    "Md = to_diagonal(Mt)\n",
    "print_array(Md)\n",
    "\n",
    "# convert to identity\n",
    "Mi = to_identity(Md)\n",
    "print_array(Mi)\n",
    "\n",
    "# get x the solution\n",
    "x = Mi[:,-1]\n",
    "\n",
    "print('\\nx =', x)\n"
   ]
  },
  {
   "cell_type": "markdown",
   "metadata": {},
   "source": [
    "## Compute Determinant from Triangular"
   ]
  },
  {
   "cell_type": "code",
   "execution_count": 86,
   "metadata": {},
   "outputs": [],
   "source": [
    "def det(Mt, k):\n",
    "    # determinant\n",
    "    D = 1\n",
    "    for p in range(nrows):\n",
    "        D *= Mt[p,p]\n",
    "\n",
    "    # change sign by the number of rows interchaged\n",
    "    return (-1)**k * D"
   ]
  },
  {
   "cell_type": "code",
   "execution_count": 88,
   "metadata": {},
   "outputs": [
    {
     "name": "stdout",
     "output_type": "stream",
     "text": [
      "\n",
      "3.00\t-3.00\t-4.00\t1.00\t\n",
      "0.00\t1.00\t6.67\t2.33\t\n",
      "0.00\t0.00\t0.33\t1.67\t\n",
      "\n",
      "Determinant= -0.9999999999999998\n"
     ]
    }
   ],
   "source": [
    "# using row equivalent reduction method\n",
    "# convert a matrix to a triangular form\n",
    "\n",
    "import numpy as np\n",
    "\n",
    "# create matrix A\n",
    "A = np.array([\n",
    "    [3., -3., -4.],\n",
    "    [1, -1, -1],\n",
    "    [2, -1, 4],\n",
    "])\n",
    "\n",
    "# create matrix b\n",
    "b = np.array([1,2,3]).reshape(3,1)\n",
    "\n",
    "# create auguemented matrix [A|b]\n",
    "M = np.hstack([A,b])\n",
    "\n",
    "# print('M =', M)\n",
    "\n",
    "# triangular\n",
    "Mt, k = to_triangular(M)\n",
    "print_array(Mt)\n",
    "\n",
    "# determinant\n",
    "D = det(Mt, k)\n",
    "print('\\nDeterminant=', D)\n"
   ]
  },
  {
   "cell_type": "markdown",
   "metadata": {},
   "source": [
    "## Inverse of Matrix A\n"
   ]
  },
  {
   "cell_type": "code",
   "execution_count": 92,
   "metadata": {},
   "outputs": [
    {
     "name": "stdout",
     "output_type": "stream",
     "text": [
      "M = [[ 3. -3. -4.  1.  1.  0.  0.]\n",
      " [ 1. -1. -1.  2.  0.  1.  0.]\n",
      " [ 2. -1.  4.  3.  0.  0.  1.]]\n",
      "\n",
      "3.00\t-3.00\t-4.00\t1.00\t1.00\t0.00\t0.00\t\n",
      "0.00\t1.00\t6.67\t2.33\t-0.67\t0.00\t1.00\t\n",
      "0.00\t0.00\t0.33\t1.67\t-0.33\t1.00\t0.00\t\n",
      "\n",
      "Determinant= -0.9999999999999998\n",
      "\n",
      "3.00\t0.00\t0.00\t-72.00\t15.00\t-48.00\t3.00\t\n",
      "0.00\t1.00\t0.00\t-31.00\t6.00\t-20.00\t1.00\t\n",
      "0.00\t0.00\t0.33\t1.67\t-0.33\t1.00\t0.00\t\n",
      "\n",
      "1.00\t0.00\t0.00\t-24.00\t5.00\t-16.00\t1.00\t\n",
      "0.00\t1.00\t0.00\t-31.00\t6.00\t-20.00\t1.00\t\n",
      "0.00\t0.00\t1.00\t5.00\t-1.00\t3.00\t0.00\t\n",
      "\n",
      "x = [-24. -31.   5.]\n",
      "\n",
      "5.00\t-16.00\t1.00\t\n",
      "6.00\t-20.00\t1.00\t\n",
      "-1.00\t3.00\t0.00\t\n"
     ]
    }
   ],
   "source": [
    "# using row equivalent reduction method\n",
    "# convert a matrix to a triangular form\n",
    "\n",
    "import numpy as np\n",
    "\n",
    "# create matrix A\n",
    "A = np.array([\n",
    "    [3., -3., -4.],\n",
    "    [1, -1, -1],\n",
    "    [2, -1, 4],\n",
    "])\n",
    "\n",
    "# create matrix b\n",
    "b = np.array([1,2,3]).reshape(3,1)\n",
    "\n",
    "# create indentity\n",
    "nrows, ncols = A.shape\n",
    "I = np.identity(nrows)\n",
    "\n",
    "# create auguemented matrix [A|b]\n",
    "M = np.hstack([A,b,I])\n",
    "\n",
    "print('M =', M)\n",
    "\n",
    "# triangular\n",
    "Mt, k = to_triangular(M)\n",
    "print_array(Mt)\n",
    "\n",
    "# determinant\n",
    "D = det(Mt, k)\n",
    "print('\\nDeterminant=', D)\n",
    "\n",
    "# diagonal\n",
    "Md = to_diagonal(Mt)\n",
    "print_array(Md)\n",
    "\n",
    "# convert to identity\n",
    "Mi = to_identity(Md)\n",
    "print_array(Mi)\n",
    "\n",
    "# get x the solution\n",
    "x = Mi[:,nrows]\n",
    "\n",
    "print('\\nx =', x)\n",
    "\n",
    "# inverse\n",
    "invA = Mi[:,nrows+1:]\n",
    "print_array(invA)"
   ]
  },
  {
   "cell_type": "markdown",
   "metadata": {},
   "source": []
  }
 ],
 "metadata": {
  "interpreter": {
   "hash": "6f7c4d44365b28014734406e4d617c1e1f76ea196def854c7b951a230f6e24f1"
  },
  "kernelspec": {
   "display_name": "Python 3.9.5 64-bit",
   "name": "python3"
  },
  "language_info": {
   "codemirror_mode": {
    "name": "ipython",
    "version": 3
   },
   "file_extension": ".py",
   "mimetype": "text/x-python",
   "name": "python",
   "nbconvert_exporter": "python",
   "pygments_lexer": "ipython3",
   "version": "3.9.5"
  },
  "orig_nbformat": 4
 },
 "nbformat": 4,
 "nbformat_minor": 2
}
