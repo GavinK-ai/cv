{
 "cells": [
  {
   "cell_type": "code",
   "execution_count": null,
   "metadata": {},
   "outputs": [],
   "source": []
  },
  {
   "cell_type": "markdown",
   "metadata": {},
   "source": [
    "# Chapter 8 \n"
   ]
  },
  {
   "cell_type": "code",
   "execution_count": 1,
   "metadata": {},
   "outputs": [
    {
     "name": "stderr",
     "output_type": "stream",
     "text": [
      "WARNING: You are using pip version 21.3; however, version 21.3.1 is available.\n",
      "You should consider upgrading via the 'c:\\program files (x86)\\microsoft visual studio\\shared\\python39_64\\python.exe -m pip install --upgrade pip' command.\n"
     ]
    }
   ],
   "source": [
    "!pip install -q numpy "
   ]
  },
  {
   "cell_type": "code",
   "execution_count": 2,
   "metadata": {},
   "outputs": [],
   "source": [
    "def array_properties(a, label='a'):\n",
    "    print(label, '= ')\n",
    "    print(a)\n",
    "    print(\"dim = \", a.ndim)\n",
    "    print(\"shape = \", a.shape)\n",
    "    print(\"datatype = \", a.dtype)\n",
    "    print(\"size = \", a.size)\n",
    "    print()"
   ]
  },
  {
   "cell_type": "markdown",
   "metadata": {},
   "source": [
    "# Linear Algebra 1 \n"
   ]
  },
  {
   "cell_type": "markdown",
   "metadata": {},
   "source": [
    "## Creating a matrix representation of sytem linear equation\n"
   ]
  },
  {
   "cell_type": "markdown",
   "metadata": {},
   "source": [
    "$$\n",
    "A.x=b \n",
    "$$\n",
    "\n",
    "$$\n",
    "a_{1,1}x_1 + a_{1,2}x_2 + a_{1,3}x_3 + ... + a_{1,n-1}x_{n-1} + a_{1,n}x_n = b_1  \\\\ \n",
    "a_{2,1}x_1 + a_{2,2}x_2 + a_{2,3}x_3 + ... + a_{2,n-1}x_{n-1} + a_{2,n}x_n = b_2  \\\\\n",
    "... \\\\ \n",
    "a_{m,1}x_1 + a_{m,2}x_2 + a_{m,3}x_3 + ... + a_{m,n-1}x_{n-1} + a_{m,n}x_n = b_m\n",
    "$$"
   ]
  },
  {
   "cell_type": "markdown",
   "metadata": {},
   "source": [
    "Check the system of linear equation below:\n",
    "\n",
    "1. How many variables? \n",
    "   1. 4\n",
    "   2. $x_1, \\quad x_2, \\quad  x_3 \\quad and \\quad x_4$\n",
    "2. How many coefficients of $x_1$\n",
    "   1. 4\n",
    "   2. $11, \\quad  21, \\quad 31, \\quad and 41$\n",
    "3. What are the coeffiecient of $x_4$\n",
    "   1. $-14, \\quad  -24, \\quad  -34, \\quad  -44$\n",
    "4. What will be the order (shape) of $A$ the coeffiecients of $x(s)$\n",
    "   1. 4x4   \n",
    "5. What is the order (shape) of x\n",
    "   1. 4x1\n",
    "6. What is the order of b\n",
    "   1. 4x1\n",
    "7. "
   ]
  },
  {
   "cell_type": "markdown",
   "metadata": {},
   "source": [
    "$$ \n",
    "11x_1 + 12x_2 + 13x_3 - 14x_4 = 1 \\\\ \n",
    "21x_1 + 22x_2 + 23x_3 - 24x_4 = 2 \\\\ \n",
    "31x_1 + 32x_2 + 33x_3 - 34x_4 = 3 \\\\ \n",
    "41x_1 + 42x_2 + 43x_3 - 44x_4 = 4 \\\\ \n",
    "$$ "
   ]
  },
  {
   "cell_type": "markdown",
   "metadata": {},
   "source": [
    "$$\n",
    "\n",
    "\\begin{bmatrix}\n",
    "    11 & 12 & 13 & -14 \\\\ \n",
    "    21 & 22 & 23 & -24 \\\\ \n",
    "    31 & 32 & 33 & -34 \\\\ \n",
    "    41 & 42 & 43 & -44 \\\\ \n",
    "\\end{bmatrix}\n",
    "\n",
    "\\begin{bmatrix}\n",
    "    x_1 \\\\ \n",
    "    x_2 \\\\ \n",
    "    x_3 \\\\ \n",
    "    x_4 \\\\ \n",
    "\\end{bmatrix}\n",
    "\n",
    "=\n",
    "\\begin{bmatrix}\n",
    "    b_1 \\\\ \n",
    "    b_2 \\\\ \n",
    "    b_3 \\\\ \n",
    "    b_4 \\\\ \n",
    "\\end{bmatrix}\n",
    "\n",
    "$$\n",
    "\n",
    "$$\n",
    "4 \\times 4 \\quad 4 \\times 1 = 4 \\times 1\n",
    "$$"
   ]
  },
  {
   "cell_type": "markdown",
   "metadata": {},
   "source": [
    "## Class Activity\n",
    "\n",
    "Create the array of the system of equation above for A and b"
   ]
  },
  {
   "cell_type": "code",
   "execution_count": 9,
   "metadata": {},
   "outputs": [
    {
     "name": "stdout",
     "output_type": "stream",
     "text": [
      "A = \n",
      "[[ 11  12  13 -14]\n",
      " [ 21  22  23 -24]\n",
      " [ 31  32  33 -34]\n",
      " [ 41  42  43 -44]]\n",
      "dim =  2\n",
      "shape =  (4, 4)\n",
      "datatype =  int32\n",
      "size =  16\n",
      "\n",
      "b = \n",
      "[[1]\n",
      " [2]\n",
      " [3]\n",
      " [4]]\n",
      "dim =  2\n",
      "shape =  (4, 1)\n",
      "datatype =  int32\n",
      "size =  4\n",
      "\n"
     ]
    }
   ],
   "source": [
    "import numpy as np\n",
    "\n",
    "# create A\n",
    "A = np.array([\n",
    "    [11, 12, 13, -14],\n",
    "    [21, 22, 23, -24],\n",
    "    [31, 32, 33, -34],\n",
    "    [41, 42, 43, -44],\n",
    "])\n",
    "\n",
    "array_properties(A, 'A')\n",
    "\n",
    "# create b\n",
    "b = np.array([\n",
    "    [1],\n",
    "    [2],\n",
    "    [3],\n",
    "    [4],\n",
    "])\n",
    "\n",
    "array_properties(b, 'b')\n"
   ]
  },
  {
   "cell_type": "code",
   "execution_count": 7,
   "metadata": {},
   "outputs": [
    {
     "name": "stdout",
     "output_type": "stream",
     "text": [
      "a = \n",
      "[[[ 11  12  13 -14]\n",
      "  [ 21  22  23 -24]\n",
      "  [ 31  32  33 -34]\n",
      "  [ 41  42  43 -44]]]\n",
      "dim =  3\n",
      "shape =  (1, 4, 4)\n",
      "datatype =  int32\n",
      "size =  16\n",
      "\n",
      "a = \n",
      "[[ 11  12  13 -14]\n",
      " [ 21  22  23 -24]\n",
      " [ 31  32  33 -34]\n",
      " [ 41  42  43 -44]]\n",
      "dim =  2\n",
      "shape =  (4, 4)\n",
      "datatype =  int32\n",
      "size =  16\n",
      "\n",
      "AAA shape:  (4, 4)\n"
     ]
    }
   ],
   "source": [
    "import numpy as np\n",
    "\n",
    "# create A\n",
    "A = np.array([\n",
    "    [\n",
    "        [11, 12, 13, -14],\n",
    "        [21, 22, 23, -24],\n",
    "        [31, 32, 33, -34],\n",
    "        [41, 42, 43, -44],\n",
    "    ]\n",
    "])\n",
    "\n",
    "array_properties(A)\n",
    "\n",
    "AA = np.squeeze(A)\n",
    "array_properties(AA)\n",
    "\n",
    "AAA = np.squeeze(AA)\n",
    "print('AAA shape: ', AAA.shape)"
   ]
  },
  {
   "cell_type": "code",
   "execution_count": 12,
   "metadata": {},
   "outputs": [
    {
     "name": "stdout",
     "output_type": "stream",
     "text": [
      "b = \n",
      "[1 2 3 4]\n",
      "dim =  1\n",
      "shape =  (4,)\n",
      "datatype =  int32\n",
      "size =  4\n",
      "\n",
      "bT = \n",
      "[1 2 3 4]\n",
      "dim =  1\n",
      "shape =  (4,)\n",
      "datatype =  int32\n",
      "size =  4\n",
      "\n",
      "bb = \n",
      "[[1]\n",
      " [2]\n",
      " [3]\n",
      " [4]]\n",
      "dim =  2\n",
      "shape =  (4, 1)\n",
      "datatype =  int32\n",
      "size =  4\n",
      "\n"
     ]
    }
   ],
   "source": [
    "# alternative to creation of array b\n",
    "\n",
    "b = np.array([1,2,3,4])\n",
    "array_properties(b, 'b')\n",
    "\n",
    "# transpose of 1 dimension \n",
    "# fails to convert to 2 dimension\n",
    "bT = np.transpose(b)\n",
    "array_properties(bT, 'bT')\n",
    "\n",
    "# reshape\n",
    "bb = b.reshape((4,1))\n",
    "array_properties(bb, 'bb')\n",
    "\n",
    "\n"
   ]
  },
  {
   "cell_type": "code",
   "execution_count": 14,
   "metadata": {},
   "outputs": [
    {
     "name": "stdout",
     "output_type": "stream",
     "text": [
      "b[0]= 1\n",
      "bb[0]= [1]\n"
     ]
    }
   ],
   "source": [
    "print('b[0]=', b[0])\n",
    "print('bb[0]=', bb[0])\n"
   ]
  },
  {
   "cell_type": "markdown",
   "metadata": {},
   "source": [
    "## Solution to system of linear equation\n",
    "### Theory  \n",
    "$$\n",
    "A.x=b\n",
    "$$\n",
    "\n",
    "$$\n",
    "x = \\frac {b} {A}\n",
    "$$\n",
    "\n",
    "$$\n",
    "x = A^{-1} . b\n",
    "$$"
   ]
  },
  {
   "cell_type": "markdown",
   "metadata": {},
   "source": [
    "## Example\n",
    "Solve the system of linear equation below:\n",
    "$$\n",
    "3x_1 - 3x_2 - 4x_3 = 1  \\\\  \n",
    "x_1 - x_2 - x_3 = 2  \\\\  \n",
    "2x_1 - x_2 + 4x_3 = 3  \\\\  \n",
    "$$"
   ]
  },
  {
   "cell_type": "code",
   "execution_count": 15,
   "metadata": {},
   "outputs": [
    {
     "name": "stdout",
     "output_type": "stream",
     "text": [
      "A = \n",
      "[[ 3 -3 -4]\n",
      " [ 1 -1 -1]\n",
      " [ 2 -1  4]]\n",
      "dim =  2\n",
      "shape =  (3, 3)\n",
      "datatype =  int32\n",
      "size =  9\n",
      "\n"
     ]
    }
   ],
   "source": [
    "import numpy as np\n",
    "\n",
    "A = np.array([\n",
    "    [3, -3, -4],\n",
    "    [1, -1, -1],\n",
    "    [2, -1, 4],\n",
    "])\n",
    "\n",
    "array_properties(A, 'A')\n"
   ]
  },
  {
   "cell_type": "code",
   "execution_count": 16,
   "metadata": {},
   "outputs": [
    {
     "name": "stdout",
     "output_type": "stream",
     "text": [
      "b = \n",
      "[[1]\n",
      " [2]\n",
      " [3]]\n",
      "dim =  2\n",
      "shape =  (3, 1)\n",
      "datatype =  int32\n",
      "size =  3\n",
      "\n"
     ]
    }
   ],
   "source": [
    "import numpy as np\n",
    "\n",
    "b = np.array([\n",
    "    [1],\n",
    "    [2],\n",
    "    [3],\n",
    "])\n",
    "\n",
    "array_properties(b, 'b')\n"
   ]
  },
  {
   "cell_type": "code",
   "execution_count": 17,
   "metadata": {},
   "outputs": [
    {
     "name": "stdout",
     "output_type": "stream",
     "text": [
      "x = \n",
      "[[-24.]\n",
      " [-31.]\n",
      " [  5.]]\n",
      "dim =  2\n",
      "shape =  (3, 1)\n",
      "datatype =  float64\n",
      "size =  3\n",
      "\n"
     ]
    }
   ],
   "source": [
    "import numpy as np\n",
    "\n",
    "x = np.linalg.solve(A, b)\n",
    "\n",
    "array_properties(x, 'x')"
   ]
  },
  {
   "cell_type": "markdown",
   "metadata": {},
   "source": [
    "## Class Activity\n",
    "\n",
    "Check if the solution above is correct, using the second equation of the ssytem of linear equations.\n",
    "\n",
    "$$\n",
    "3x_1 - 3x_2 - 4x_3 = 1  \\\\  \n",
    "x_1 - x_2 - x_3 = 2  \\\\  \n",
    "2x_1 - x_2 + 4x_3 = 3  \\\\  \n",
    "$$"
   ]
  },
  {
   "cell_type": "markdown",
   "metadata": {},
   "source": [
    "### alternative solution\n",
    "\n",
    "$$\n",
    "A.x=b\n",
    "$$\n",
    "\n",
    "$$\n",
    "x = \\frac {b} {A}\n",
    "$$\n",
    "\n",
    "$$\n",
    "x = A^{-1} . b\n",
    "$$"
   ]
  },
  {
   "cell_type": "code",
   "execution_count": 26,
   "metadata": {},
   "outputs": [
    {
     "name": "stdout",
     "output_type": "stream",
     "text": [
      "inv_of_A = \n",
      "[[  5. -16.   1.]\n",
      " [  6. -20.   1.]\n",
      " [ -1.   3.   0.]]\n",
      "dim =  2\n",
      "shape =  (3, 3)\n",
      "datatype =  float64\n",
      "size =  9\n",
      "\n",
      "x = \n",
      "[[-24.]\n",
      " [-31.]\n",
      " [  5.]]\n",
      "dim =  2\n",
      "shape =  (3, 1)\n",
      "datatype =  float64\n",
      "size =  3\n",
      "\n"
     ]
    }
   ],
   "source": [
    "# using inverse of A\n",
    "\n",
    "from numpy import linalg\n",
    "\n",
    "A = np.array([\n",
    "    [3, -3, -4],\n",
    "    [1, -1, -1],\n",
    "    [2, -1, 4],\n",
    "])\n",
    "\n",
    "b = np.array([\n",
    "    [1],\n",
    "    [2],\n",
    "    [3],\n",
    "])\n",
    "\n",
    "# get inverse of A\n",
    "inv_of_A = linalg.inv(A)\n",
    "\n",
    "array_properties(inv_of_A, 'inv_of_A')\n",
    "\n",
    "# A^-1 * b\n",
    "x = inv_of_A @ b\n",
    "\n",
    "array_properties(x, 'x')\n",
    "\n"
   ]
  },
  {
   "cell_type": "code",
   "execution_count": 27,
   "metadata": {},
   "outputs": [
    {
     "name": "stdout",
     "output_type": "stream",
     "text": [
      "x1 = \n",
      "[[-24.]\n",
      " [-31.]\n",
      " [  5.]]\n",
      "dim =  2\n",
      "shape =  (3, 1)\n",
      "datatype =  float64\n",
      "size =  3\n",
      "\n"
     ]
    },
    {
     "data": {
      "text/plain": [
       "array([[ True],\n",
       "       [ True],\n",
       "       [ True]])"
      ]
     },
     "execution_count": 27,
     "metadata": {},
     "output_type": "execute_result"
    }
   ],
   "source": [
    "# A^-1 * b\n",
    "x1 = inv_of_A.dot(b)\n",
    "\n",
    "array_properties(x1, 'x1')\n",
    "\n",
    "x == x1"
   ]
  },
  {
   "cell_type": "code",
   "execution_count": 29,
   "metadata": {},
   "outputs": [
    {
     "name": "stdout",
     "output_type": "stream",
     "text": [
      "x2 = \n",
      "[[-24.]\n",
      " [-31.]\n",
      " [  5.]]\n",
      "dim =  2\n",
      "shape =  (3, 1)\n",
      "datatype =  float64\n",
      "size =  3\n",
      "\n"
     ]
    },
    {
     "data": {
      "text/plain": [
       "array([[ True],\n",
       "       [ True],\n",
       "       [ True]])"
      ]
     },
     "execution_count": 29,
     "metadata": {},
     "output_type": "execute_result"
    }
   ],
   "source": [
    "# A^-1 * b\n",
    "x2 = np.linalg.multi_dot([inv_of_A, b])\n",
    "\n",
    "array_properties(x2, 'x2')\n",
    "\n",
    "x == x2"
   ]
  },
  {
   "cell_type": "markdown",
   "metadata": {},
   "source": [
    "## Crammer's Rule or Determinant method\n",
    "\n",
    "$$\n",
    "x_i = \\frac {D_i} {D}   \n",
    "\n",
    "$$\n",
    "\n",
    "where $D$ is the determinant of matrix $A$ and $D_i$ is the determinant of matrix $A_i$.  \n",
    "Matrix $A_i$ is matrix $A$ where the column $i$ is replaced with matrix $b$  \n",
    "\n",
    "$$\n",
    "a_{11} x_1 + a_{12} x_2 + a_{13} x_3 = b_1  \\\\  \n",
    "a_{21} x_1 + a_{22} x_2 + a_{23} x_3 = b_2  \\\\  \n",
    "a_{31} x_1 + a_{32} x_2 + a_{33} x_3 = b_3  \\\\  \n",
    "$$\n",
    "\n",
    "$$\n",
    "A = \n",
    "\\begin{bmatrix}\n",
    "    a_{11} & a_{11} & a_{11}  \\\\ \n",
    "    a_{21} & a_{21} & a_{21}  \\\\ \n",
    "    a_{31} & a_{31} & a_{31}  \\\\ \n",
    "\\end{bmatrix}\n",
    ", \\quad  \n",
    "\n",
    "b = \\begin{bmatrix}\n",
    "    b_1 \\\\\n",
    "    b_2 \\\\\n",
    "    b_3 \\\\\n",
    "\\end{bmatrix}\n",
    "$$\n",
    "\n",
    "$$\n",
    "A_1 = \n",
    "\\begin{bmatrix}\n",
    "    b_1 & a_{11} & a_{11}  \\\\ \n",
    "    b_2 & a_{21} & a_{21}  \\\\ \n",
    "    b_3 & a_{31} & a_{31}  \\\\ \n",
    "\\end{bmatrix}\n",
    ", \\quad  \n",
    "A_2 = \n",
    "\\begin{bmatrix}\n",
    "    a_{11} & b_{1} & a_{11}  \\\\ \n",
    "    a_{21} & b_{2} & a_{21}  \\\\ \n",
    "    a_{31} & b_{3} & a_{31}  \\\\ \n",
    "\\end{bmatrix}\n",
    ", \\quad  \n",
    "A_3 = \n",
    "\\begin{bmatrix}\n",
    "    a_{11} & a_{11} & b_{1}  \\\\ \n",
    "    a_{21} & a_{21} & b_{2}  \\\\ \n",
    "    a_{31} & a_{31} & b_{3}  \\\\ \n",
    "\\end{bmatrix}\n",
    "$$"
   ]
  },
  {
   "cell_type": "code",
   "execution_count": 32,
   "metadata": {},
   "outputs": [
    {
     "name": "stdout",
     "output_type": "stream",
     "text": [
      "D= -0.9999999999999998\n"
     ]
    }
   ],
   "source": [
    "# crammer's rule or determinant method\n",
    "\n",
    "# importing only determinant from linalg module\n",
    "from numpy.linalg import det\n",
    "\n",
    "# create array A and b\n",
    "A = np.array([\n",
    "    [3, -3, -4],\n",
    "    [1, -1, -1],\n",
    "    [2, -1, 4],\n",
    "])\n",
    "\n",
    "b = np.array([\n",
    "    [1],\n",
    "    [2],\n",
    "    [3],\n",
    "])\n",
    "\n",
    "# find determinant of A\n",
    "D = det(A)\n",
    "print('D=', D)"
   ]
  },
  {
   "cell_type": "markdown",
   "metadata": {},
   "source": [
    "## Class Activity\n",
    "\n",
    "Create array A1, A2 and A3 from the theory discussed earlier for crammer's rule or determinant method."
   ]
  },
  {
   "cell_type": "code",
   "execution_count": 35,
   "metadata": {},
   "outputs": [
    {
     "name": "stdout",
     "output_type": "stream",
     "text": [
      "D= -0.9999999999999998\n",
      "x = \n",
      "[[-24.]\n",
      " [-31.]\n",
      " [  5.]]\n",
      "dim =  2\n",
      "shape =  (3, 1)\n",
      "datatype =  float64\n",
      "size =  3\n",
      "\n",
      "A_list [array([[ 1, -3, -4],\n",
      "       [ 2, -1, -1],\n",
      "       [ 3, -1,  4]]), array([[ 3,  1, -4],\n",
      "       [ 1,  2, -1],\n",
      "       [ 2,  3,  4]]), array([[ 3, -3,  1],\n",
      "       [ 1, -1,  2],\n",
      "       [ 2, -1,  3]])]\n",
      "Di_list [24.000000000000014, 31.0, -5.000000000000001]\n"
     ]
    }
   ],
   "source": [
    "# crammer's rule or determinant method\n",
    "\n",
    "# importing only determinant from linalg module\n",
    "from numpy.linalg import det\n",
    "\n",
    "# create array A and b\n",
    "A = np.array([\n",
    "    [3, -3, -4],\n",
    "    [1, -1, -1],\n",
    "    [2, -1, 4],\n",
    "])\n",
    "\n",
    "b = np.array([\n",
    "    [1],\n",
    "    [2],\n",
    "    [3],\n",
    "])\n",
    "\n",
    "# create empty x\n",
    "x = np.empty((3,1))\n",
    "\n",
    "# find determinant of A\n",
    "D = det(A)\n",
    "print('D=', D)\n",
    "\n",
    "(m,n) = A.shape\n",
    "\n",
    "A_list = []\n",
    "Di_list = []\n",
    "\n",
    "for i in range(n):\n",
    "    # get Ai\n",
    "    # copy original array\n",
    "    Ai = A.copy()\n",
    "    # replace column i in the new array with b\n",
    "    Ai[:,i] = b[:,0]\n",
    "    # store new array Ai in a list\n",
    "    A_list.insert(i, Ai)\n",
    "    # find determinant of Ai \n",
    "    Di = det(Ai)\n",
    "    # store Di\n",
    "    Di_list.insert(i,Di)\n",
    "    # compute xi\n",
    "    x[i] = Di / D \n",
    "\n",
    "\n",
    "array_properties(x, 'x')\n",
    "\n",
    "print('A_list', A_list)\n",
    "print('Di_list', Di_list)\n",
    "\n"
   ]
  },
  {
   "cell_type": "markdown",
   "metadata": {},
   "source": [
    "## Vector, Matrix or Tensor Order"
   ]
  },
  {
   "cell_type": "markdown",
   "metadata": {},
   "source": [
    "The order of a vector or matrix or tensor is the shape.\n",
    "\n",
    "For vector or matrix it is in form of $m \\times n$ , that is, $\\text{number of rows} \\times \\text{number of columns}$"
   ]
  },
  {
   "cell_type": "markdown",
   "metadata": {},
   "source": [
    "$$\n",
    "A=\\left(\n",
    "        \\begin{matrix} \n",
    "            3 & -3 & -4 \\\\ \n",
    "            1 & -1 & -1 \\\\ \n",
    "            2 & -1 & 4 \\\\ \n",
    "        \\end{matrix}\n",
    "    \\right)\n",
    "    = 3 \\times 3\n",
    "$$\n",
    "\n",
    "$$\n",
    "x=\\left(\n",
    "        \\begin{matrix} \n",
    "            x_1 \\\\ \n",
    "            x_2 \\\\ \n",
    "            x_3 \\\\ \n",
    "        \\end{matrix}\n",
    "    \\right)\n",
    "    = 3 \\times 1\n",
    "$$\n",
    "\n",
    "$$\n",
    "b=\\left(\n",
    "        \\begin{matrix} \n",
    "            1 \\\\ \n",
    "            2 \\\\ \n",
    "            3 \\\\ \n",
    "        \\end{matrix}\n",
    "    \\right)\n",
    "    = 3 \\times 1\n",
    "\n",
    "$$"
   ]
  },
  {
   "cell_type": "markdown",
   "metadata": {},
   "source": [
    "## Matrix Operation"
   ]
  },
  {
   "cell_type": "markdown",
   "metadata": {},
   "source": [
    "$$\n",
    "A + B = B + A \\\\ \n",
    "A=m_a \\times n_a , \\quad B = m_b \\times n_b  \\\\ \n",
    "\\text{if and only if:} \\quad m_a = m_b, \\quad n_a = n_b\n",
    "$$\n"
   ]
  },
  {
   "cell_type": "markdown",
   "metadata": {},
   "source": [
    "\n",
    "$$\n",
    "A - B = -(B - A) \\\\ \n",
    "A=m_a \\times n_a , \\quad B = m_b \\times n_b  \\\\ \n",
    "\\text{if and only if:} \\quad m_a = m_b, \\quad n_a = n_b\n",
    "$$\n"
   ]
  },
  {
   "cell_type": "markdown",
   "metadata": {},
   "source": [
    "\n",
    "$$\n",
    "A \\times B = C \\\\ \n",
    "A=m_a \\times n_a , \\quad B = m_b \\times n_b   \\\\ \n",
    "\\text{if and only if:} \\quad n_a = m_b \\\\ \n",
    "\\text{then} \\\\ \n",
    "C = m_c \\times n_c \\\\ \n",
    "m_c = m_a \\quad n_c = n_b\n",
    "$$"
   ]
  },
  {
   "cell_type": "markdown",
   "metadata": {},
   "source": [
    "## Class Activity\n",
    "\n",
    "1. Create two (2) matrices of $4 \\times 4$ order and carryout above matrix operation."
   ]
  },
  {
   "cell_type": "code",
   "execution_count": 36,
   "metadata": {},
   "outputs": [
    {
     "name": "stdout",
     "output_type": "stream",
     "text": [
      "A = \n",
      "[[7 2 8 4]\n",
      " [8 4 7 4]\n",
      " [1 7 2 9]\n",
      " [9 7 8 1]]\n",
      "dim =  2\n",
      "shape =  (4, 4)\n",
      "datatype =  int32\n",
      "size =  16\n",
      "\n",
      "B = \n",
      "[[7 8 7 5]\n",
      " [5 0 8 7]\n",
      " [8 6 0 6]\n",
      " [9 2 8 2]]\n",
      "dim =  2\n",
      "shape =  (4, 4)\n",
      "datatype =  int32\n",
      "size =  16\n",
      "\n"
     ]
    }
   ],
   "source": [
    "from numpy import random\n",
    "\n",
    "A = random.randint(0,10,(4,4))\n",
    "B = random.randint(0,10,(4,4))\n",
    "\n",
    "array_properties(A, 'A')\n",
    "array_properties(B, 'B')\n"
   ]
  },
  {
   "cell_type": "code",
   "execution_count": 37,
   "metadata": {},
   "outputs": [
    {
     "name": "stdout",
     "output_type": "stream",
     "text": [
      "C = \n",
      "[[14 10 15  9]\n",
      " [13  4 15 11]\n",
      " [ 9 13  2 15]\n",
      " [18  9 16  3]]\n",
      "dim =  2\n",
      "shape =  (4, 4)\n",
      "datatype =  int32\n",
      "size =  16\n",
      "\n",
      "C1 = \n",
      "[[14 10 15  9]\n",
      " [13  4 15 11]\n",
      " [ 9 13  2 15]\n",
      " [18  9 16  3]]\n",
      "dim =  2\n",
      "shape =  (4, 4)\n",
      "datatype =  int32\n",
      "size =  16\n",
      "\n"
     ]
    },
    {
     "data": {
      "text/plain": [
       "array([[ True,  True,  True,  True],\n",
       "       [ True,  True,  True,  True],\n",
       "       [ True,  True,  True,  True],\n",
       "       [ True,  True,  True,  True]])"
      ]
     },
     "execution_count": 37,
     "metadata": {},
     "output_type": "execute_result"
    }
   ],
   "source": [
    "\n",
    "C = A + B\n",
    "array_properties(C, 'C')\n",
    "\n",
    "C1 = B + A\n",
    "array_properties(C1, 'C1')\n",
    "\n",
    "C == C1\n"
   ]
  },
  {
   "cell_type": "code",
   "execution_count": 38,
   "metadata": {},
   "outputs": [
    {
     "name": "stdout",
     "output_type": "stream",
     "text": [
      "C = \n",
      "[[ 0 -6  1 -1]\n",
      " [ 3  4 -1 -3]\n",
      " [-7  1  2  3]\n",
      " [ 0  5  0 -1]]\n",
      "dim =  2\n",
      "shape =  (4, 4)\n",
      "datatype =  int32\n",
      "size =  16\n",
      "\n",
      "C1 = \n",
      "[[ 0  6 -1  1]\n",
      " [-3 -4  1  3]\n",
      " [ 7 -1 -2 -3]\n",
      " [ 0 -5  0  1]]\n",
      "dim =  2\n",
      "shape =  (4, 4)\n",
      "datatype =  int32\n",
      "size =  16\n",
      "\n"
     ]
    },
    {
     "data": {
      "text/plain": [
       "array([[ True, False, False, False],\n",
       "       [False, False, False, False],\n",
       "       [False, False, False, False],\n",
       "       [ True, False,  True, False]])"
      ]
     },
     "execution_count": 38,
     "metadata": {},
     "output_type": "execute_result"
    }
   ],
   "source": [
    "\n",
    "C = A - B\n",
    "array_properties(C, 'C')\n",
    "\n",
    "C1 = B - A\n",
    "array_properties(C1, 'C1')\n",
    "\n",
    "C == C1\n"
   ]
  },
  {
   "cell_type": "code",
   "execution_count": 39,
   "metadata": {},
   "outputs": [
    {
     "name": "stdout",
     "output_type": "stream",
     "text": [
      "C = \n",
      "[[49 16 56 20]\n",
      " [40  0 56 28]\n",
      " [ 8 42  0 54]\n",
      " [81 14 64  2]]\n",
      "dim =  2\n",
      "shape =  (4, 4)\n",
      "datatype =  int32\n",
      "size =  16\n",
      "\n",
      "C1 = \n",
      "[[49 16 56 20]\n",
      " [40  0 56 28]\n",
      " [ 8 42  0 54]\n",
      " [81 14 64  2]]\n",
      "dim =  2\n",
      "shape =  (4, 4)\n",
      "datatype =  int32\n",
      "size =  16\n",
      "\n"
     ]
    },
    {
     "data": {
      "text/plain": [
       "array([[ True,  True,  True,  True],\n",
       "       [ True,  True,  True,  True],\n",
       "       [ True,  True,  True,  True],\n",
       "       [ True,  True,  True,  True]])"
      ]
     },
     "execution_count": 39,
     "metadata": {},
     "output_type": "execute_result"
    }
   ],
   "source": [
    "\n",
    "C = A * B\n",
    "array_properties(C, 'C')\n",
    "\n",
    "C1 = B * A\n",
    "array_properties(C1, 'C1')\n",
    "\n",
    "C == C1\n"
   ]
  },
  {
   "cell_type": "code",
   "execution_count": 40,
   "metadata": {},
   "outputs": [
    {
     "name": "stdout",
     "output_type": "stream",
     "text": [
      "C = \n",
      "[[159 112  97 105]\n",
      " [168 114 120 118]\n",
      " [139  38 135  84]\n",
      " [171 122 127 144]]\n",
      "dim =  2\n",
      "shape =  (4, 4)\n",
      "datatype =  int32\n",
      "size =  16\n",
      "\n",
      "C1 = \n",
      "[[165 130 166 128]\n",
      " [106 115 112  99]\n",
      " [158  82 154  62]\n",
      " [105  96 118 118]]\n",
      "dim =  2\n",
      "shape =  (4, 4)\n",
      "datatype =  int32\n",
      "size =  16\n",
      "\n"
     ]
    },
    {
     "data": {
      "text/plain": [
       "array([[False, False, False, False],\n",
       "       [False, False, False, False],\n",
       "       [False, False, False, False],\n",
       "       [False, False, False, False]])"
      ]
     },
     "execution_count": 40,
     "metadata": {},
     "output_type": "execute_result"
    }
   ],
   "source": [
    "\n",
    "C = A @ B\n",
    "array_properties(C, 'C')\n",
    "\n",
    "C1 = B @ A\n",
    "array_properties(C1, 'C1')\n",
    "\n",
    "C == C1\n"
   ]
  },
  {
   "cell_type": "markdown",
   "metadata": {},
   "source": [
    "### Transpose"
   ]
  },
  {
   "cell_type": "code",
   "execution_count": 41,
   "metadata": {},
   "outputs": [
    {
     "name": "stdout",
     "output_type": "stream",
     "text": [
      "A = \n",
      "[[1 2 3]\n",
      " [4 5 6]\n",
      " [7 8 9]]\n",
      "dim =  2\n",
      "shape =  (3, 3)\n",
      "datatype =  int32\n",
      "size =  9\n",
      "\n",
      "transpose of A = \n",
      "[[1 4 7]\n",
      " [2 5 8]\n",
      " [3 6 9]]\n",
      "dim =  2\n",
      "shape =  (3, 3)\n",
      "datatype =  int32\n",
      "size =  9\n",
      "\n"
     ]
    }
   ],
   "source": [
    "import numpy as np\n",
    "\n",
    "A = np.arange(1,10).reshape(3,3)\n",
    "\n",
    "transpose_A = np.transpose(A)\n",
    "\n",
    "array_properties(A, 'A')\n",
    "\n",
    "array_properties(transpose_A, 'transpose of A')"
   ]
  },
  {
   "cell_type": "code",
   "execution_count": 42,
   "metadata": {},
   "outputs": [
    {
     "name": "stdout",
     "output_type": "stream",
     "text": [
      "b = \n",
      "[[1]\n",
      " [2]\n",
      " [3]]\n",
      "dim =  2\n",
      "shape =  (3, 1)\n",
      "datatype =  int32\n",
      "size =  3\n",
      "\n",
      "transpose of b = \n",
      "[[1 2 3]]\n",
      "dim =  2\n",
      "shape =  (1, 3)\n",
      "datatype =  int32\n",
      "size =  3\n",
      "\n"
     ]
    }
   ],
   "source": [
    "import numpy as np\n",
    "\n",
    "transpose_b = np.transpose(b)\n",
    "\n",
    "array_properties(b, 'b')\n",
    "\n",
    "array_properties(transpose_b, 'transpose of b')"
   ]
  },
  {
   "cell_type": "markdown",
   "metadata": {},
   "source": [
    "## Class Activity\n",
    "\n",
    "1. Create array A and make a transposed copy as B.\n",
    "2. Carryout \n",
    "   1. A + B == B + A \n",
    "   2. A - B == -(B - A) \n",
    "   3. A * B == B + A \n",
    "   4. A @ B == B @ A\n",
    "      "
   ]
  },
  {
   "cell_type": "code",
   "execution_count": 43,
   "metadata": {},
   "outputs": [
    {
     "name": "stdout",
     "output_type": "stream",
     "text": [
      "A = \n",
      "[[1 2 3]\n",
      " [4 5 6]\n",
      " [7 8 9]]\n",
      "dim =  2\n",
      "shape =  (3, 3)\n",
      "datatype =  int32\n",
      "size =  9\n",
      "\n",
      "B = \n",
      "[[1 4 7]\n",
      " [2 5 8]\n",
      " [3 6 9]]\n",
      "dim =  2\n",
      "shape =  (3, 3)\n",
      "datatype =  int32\n",
      "size =  9\n",
      "\n"
     ]
    }
   ],
   "source": [
    "import numpy as np\n",
    "\n",
    "A = np.arange(1,10).reshape(3,3)\n",
    "\n",
    "B = np.transpose(A.copy())\n",
    "\n",
    "array_properties(A, 'A')\n",
    "array_properties(B, 'B')\n",
    "\n",
    "\n"
   ]
  },
  {
   "cell_type": "code",
   "execution_count": 44,
   "metadata": {},
   "outputs": [
    {
     "name": "stdout",
     "output_type": "stream",
     "text": [
      "C = \n",
      "[[ 2  6 10]\n",
      " [ 6 10 14]\n",
      " [10 14 18]]\n",
      "dim =  2\n",
      "shape =  (3, 3)\n",
      "datatype =  int32\n",
      "size =  9\n",
      "\n",
      "C1 = \n",
      "[[ 2  6 10]\n",
      " [ 6 10 14]\n",
      " [10 14 18]]\n",
      "dim =  2\n",
      "shape =  (3, 3)\n",
      "datatype =  int32\n",
      "size =  9\n",
      "\n"
     ]
    },
    {
     "data": {
      "text/plain": [
       "array([[ True,  True,  True],\n",
       "       [ True,  True,  True],\n",
       "       [ True,  True,  True]])"
      ]
     },
     "execution_count": 44,
     "metadata": {},
     "output_type": "execute_result"
    }
   ],
   "source": [
    "C = A + B\n",
    "C1 = B + A\n",
    "\n",
    "array_properties(C, 'C')\n",
    "array_properties(C1, 'C1')\n",
    "\n",
    "C == C1"
   ]
  },
  {
   "cell_type": "code",
   "execution_count": 46,
   "metadata": {},
   "outputs": [
    {
     "name": "stdout",
     "output_type": "stream",
     "text": [
      "C = \n",
      "[[ 0 -2 -4]\n",
      " [ 2  0 -2]\n",
      " [ 4  2  0]]\n",
      "dim =  2\n",
      "shape =  (3, 3)\n",
      "datatype =  int32\n",
      "size =  9\n",
      "\n",
      "C1 = \n",
      "[[ 0  2  4]\n",
      " [-2  0  2]\n",
      " [-4 -2  0]]\n",
      "dim =  2\n",
      "shape =  (3, 3)\n",
      "datatype =  int32\n",
      "size =  9\n",
      "\n"
     ]
    },
    {
     "data": {
      "text/plain": [
       "array([[ True,  True,  True],\n",
       "       [ True,  True,  True],\n",
       "       [ True,  True,  True]])"
      ]
     },
     "execution_count": 46,
     "metadata": {},
     "output_type": "execute_result"
    }
   ],
   "source": [
    "C = A - B\n",
    "C1 = B - A\n",
    "\n",
    "array_properties(C, 'C')\n",
    "array_properties(C1, 'C1')\n",
    "\n",
    "C == -C1"
   ]
  },
  {
   "cell_type": "code",
   "execution_count": 47,
   "metadata": {},
   "outputs": [
    {
     "name": "stdout",
     "output_type": "stream",
     "text": [
      "C = \n",
      "[[ 1  8 21]\n",
      " [ 8 25 48]\n",
      " [21 48 81]]\n",
      "dim =  2\n",
      "shape =  (3, 3)\n",
      "datatype =  int32\n",
      "size =  9\n",
      "\n",
      "C1 = \n",
      "[[ 1  8 21]\n",
      " [ 8 25 48]\n",
      " [21 48 81]]\n",
      "dim =  2\n",
      "shape =  (3, 3)\n",
      "datatype =  int32\n",
      "size =  9\n",
      "\n"
     ]
    },
    {
     "data": {
      "text/plain": [
       "array([[ True,  True,  True],\n",
       "       [ True,  True,  True],\n",
       "       [ True,  True,  True]])"
      ]
     },
     "execution_count": 47,
     "metadata": {},
     "output_type": "execute_result"
    }
   ],
   "source": [
    "C = A * B\n",
    "C1 = B * A\n",
    "\n",
    "array_properties(C, 'C')\n",
    "array_properties(C1, 'C1')\n",
    "\n",
    "C == C1"
   ]
  },
  {
   "cell_type": "code",
   "execution_count": 48,
   "metadata": {},
   "outputs": [
    {
     "name": "stdout",
     "output_type": "stream",
     "text": [
      "C = \n",
      "[[ 14  32  50]\n",
      " [ 32  77 122]\n",
      " [ 50 122 194]]\n",
      "dim =  2\n",
      "shape =  (3, 3)\n",
      "datatype =  int32\n",
      "size =  9\n",
      "\n",
      "C1 = \n",
      "[[ 66  78  90]\n",
      " [ 78  93 108]\n",
      " [ 90 108 126]]\n",
      "dim =  2\n",
      "shape =  (3, 3)\n",
      "datatype =  int32\n",
      "size =  9\n",
      "\n"
     ]
    },
    {
     "data": {
      "text/plain": [
       "array([[False, False, False],\n",
       "       [False, False, False],\n",
       "       [False, False, False]])"
      ]
     },
     "execution_count": 48,
     "metadata": {},
     "output_type": "execute_result"
    }
   ],
   "source": [
    "C = A @ B\n",
    "C1 = B @ A\n",
    "\n",
    "array_properties(C, 'C')\n",
    "array_properties(C1, 'C1')\n",
    "\n",
    "C == C1"
   ]
  },
  {
   "cell_type": "markdown",
   "metadata": {},
   "source": [
    "## Identity Matrix or Array"
   ]
  },
  {
   "cell_type": "code",
   "execution_count": 49,
   "metadata": {},
   "outputs": [
    {
     "name": "stdout",
     "output_type": "stream",
     "text": [
      "a = \n",
      "[[1 0]\n",
      " [0 1]]\n",
      "dim =  2\n",
      "shape =  (2, 2)\n",
      "datatype =  int32\n",
      "size =  4\n",
      "\n"
     ]
    }
   ],
   "source": [
    "import numpy as np\n",
    "\n",
    "a = np.array([\n",
    "    [1,0],\n",
    "    [0,1],\n",
    "])\n",
    "\n",
    "array_properties(a)"
   ]
  },
  {
   "cell_type": "code",
   "execution_count": 50,
   "metadata": {},
   "outputs": [
    {
     "name": "stdout",
     "output_type": "stream",
     "text": [
      "a = \n",
      "[[1 2]\n",
      " [3 4]]\n",
      "dim =  2\n",
      "shape =  (2, 2)\n",
      "datatype =  int32\n",
      "size =  4\n",
      "\n"
     ]
    }
   ],
   "source": [
    "import numpy as np\n",
    "\n",
    "a1 = np.array([\n",
    "    [1,2],\n",
    "    [3,4],\n",
    "])\n",
    "\n",
    "array_properties(a1)"
   ]
  },
  {
   "cell_type": "code",
   "execution_count": 51,
   "metadata": {},
   "outputs": [
    {
     "data": {
      "text/plain": [
       "array([[1, 0],\n",
       "       [0, 4]])"
      ]
     },
     "execution_count": 51,
     "metadata": {},
     "output_type": "execute_result"
    }
   ],
   "source": [
    "a * a1"
   ]
  },
  {
   "cell_type": "code",
   "execution_count": 52,
   "metadata": {},
   "outputs": [
    {
     "data": {
      "text/plain": [
       "array([[1, 2],\n",
       "       [3, 4]])"
      ]
     },
     "execution_count": 52,
     "metadata": {},
     "output_type": "execute_result"
    }
   ],
   "source": [
    "a @ a1"
   ]
  },
  {
   "cell_type": "code",
   "execution_count": 53,
   "metadata": {},
   "outputs": [
    {
     "name": "stdout",
     "output_type": "stream",
     "text": [
      "A = \n",
      "[[1 2 3]\n",
      " [4 5 6]\n",
      " [7 8 9]]\n",
      "dim =  2\n",
      "shape =  (3, 3)\n",
      "datatype =  int32\n",
      "size =  9\n",
      "\n",
      "B = \n",
      "[[1 4 7]\n",
      " [2 5 8]\n",
      " [3 6 9]]\n",
      "dim =  2\n",
      "shape =  (3, 3)\n",
      "datatype =  int32\n",
      "size =  9\n",
      "\n"
     ]
    }
   ],
   "source": [
    "import numpy as np\n",
    "\n",
    "A = np.arange(1,10).reshape(3,3)\n",
    "\n",
    "B = np.transpose(A.copy())\n",
    "\n",
    "array_properties(A, 'A')\n",
    "array_properties(B, 'B')"
   ]
  },
  {
   "cell_type": "code",
   "execution_count": 54,
   "metadata": {},
   "outputs": [
    {
     "name": "stdout",
     "output_type": "stream",
     "text": [
      "I = \n",
      "[[1. 0. 0.]\n",
      " [0. 1. 0.]\n",
      " [0. 0. 1.]]\n",
      "dim =  2\n",
      "shape =  (3, 3)\n",
      "datatype =  float64\n",
      "size =  9\n",
      "\n"
     ]
    }
   ],
   "source": [
    "# get shape of A\n",
    "M,N = A.shape\n",
    "\n",
    "# create identity matrix of shape A\n",
    "I = np.eye(N)\n",
    "\n",
    "array_properties(I, 'I')"
   ]
  },
  {
   "cell_type": "code",
   "execution_count": 55,
   "metadata": {},
   "outputs": [
    {
     "data": {
      "text/plain": [
       "array([[ 14,  32,  50],\n",
       "       [ 32,  77, 122],\n",
       "       [ 50, 122, 194]])"
      ]
     },
     "execution_count": 55,
     "metadata": {},
     "output_type": "execute_result"
    }
   ],
   "source": [
    "A @ B"
   ]
  },
  {
   "cell_type": "code",
   "execution_count": 56,
   "metadata": {},
   "outputs": [
    {
     "data": {
      "text/plain": [
       "array([[ 66,  78,  90],\n",
       "       [ 78,  93, 108],\n",
       "       [ 90, 108, 126]])"
      ]
     },
     "execution_count": 56,
     "metadata": {},
     "output_type": "execute_result"
    }
   ],
   "source": [
    "B @ A"
   ]
  },
  {
   "cell_type": "code",
   "execution_count": 57,
   "metadata": {},
   "outputs": [
    {
     "data": {
      "text/plain": [
       "array([[False, False, False],\n",
       "       [False, False, False],\n",
       "       [False, False, False]])"
      ]
     },
     "execution_count": 57,
     "metadata": {},
     "output_type": "execute_result"
    }
   ],
   "source": [
    "A @ B == B @ A"
   ]
  },
  {
   "cell_type": "code",
   "execution_count": 58,
   "metadata": {},
   "outputs": [
    {
     "data": {
      "text/plain": [
       "array([[1., 2., 3.],\n",
       "       [4., 5., 6.],\n",
       "       [7., 8., 9.]])"
      ]
     },
     "execution_count": 58,
     "metadata": {},
     "output_type": "execute_result"
    }
   ],
   "source": [
    "A @ I"
   ]
  },
  {
   "cell_type": "code",
   "execution_count": 59,
   "metadata": {},
   "outputs": [
    {
     "data": {
      "text/plain": [
       "array([[1., 2., 3.],\n",
       "       [4., 5., 6.],\n",
       "       [7., 8., 9.]])"
      ]
     },
     "execution_count": 59,
     "metadata": {},
     "output_type": "execute_result"
    }
   ],
   "source": [
    "I @ A"
   ]
  },
  {
   "cell_type": "code",
   "execution_count": 60,
   "metadata": {},
   "outputs": [
    {
     "data": {
      "text/plain": [
       "array([[ True,  True,  True],\n",
       "       [ True,  True,  True],\n",
       "       [ True,  True,  True]])"
      ]
     },
     "execution_count": 60,
     "metadata": {},
     "output_type": "execute_result"
    }
   ],
   "source": [
    "A @ I == I @ A"
   ]
  },
  {
   "cell_type": "markdown",
   "metadata": {},
   "source": [
    "# Assigmnent\n",
    "\n",
    "1. Create a random array a, of shape (6x6) using randint and seed 2.\n",
    "2. Convert the array a, to an identity matrix I. \n"
   ]
  },
  {
   "cell_type": "markdown",
   "metadata": {},
   "source": [
    "$$\n",
    "I = \n",
    "\\begin{bmatrix}\n",
    "    1 & 0 & 0 & 0 & 0 & 0  \\\\  \n",
    "    0 & 1 & 0 & 0 & 0 & 0  \\\\  \n",
    "    0 & 0 & 1 & 0 & 0 & 0  \\\\  \n",
    "    0 & 0 & 0 & 1 & 0 & 0  \\\\  \n",
    "    0 & 0 & 0 & 0 & 1 & 0  \\\\  \n",
    "    0 & 0 & 0 & 0 & 0 & 1  \\\\  \n",
    "\\end{bmatrix}\n",
    "$$"
   ]
  },
  {
   "cell_type": "code",
   "execution_count": null,
   "metadata": {},
   "outputs": [],
   "source": []
  }
 ],
 "metadata": {
  "interpreter": {
   "hash": "6f7c4d44365b28014734406e4d617c1e1f76ea196def854c7b951a230f6e24f1"
  },
  "kernelspec": {
   "display_name": "Python 3.9.5 64-bit",
   "name": "python3"
  },
  "language_info": {
   "codemirror_mode": {
    "name": "ipython",
    "version": 3
   },
   "file_extension": ".py",
   "mimetype": "text/x-python",
   "name": "python",
   "nbconvert_exporter": "python",
   "pygments_lexer": "ipython3",
   "version": "3.9.5"
  },
  "orig_nbformat": 4
 },
 "nbformat": 4,
 "nbformat_minor": 2
}
