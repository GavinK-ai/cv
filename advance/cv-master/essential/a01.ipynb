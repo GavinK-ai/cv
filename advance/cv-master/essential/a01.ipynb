{
 "cells": [
  {
   "cell_type": "markdown",
   "metadata": {},
   "source": [
    "## Assignments 1\n",
    "\n",
    "1. Use python to write an application letter for job to Perantis.  \n",
    "\n",
    "2. Solve quadratic equation using.  \n",
    "\n",
    "$$\n",
    "x=\\frac{-b\\pm\\sqrt{b^2-4ac}}{2a}    \n",
    "$$\n",
    "$$\n",
    "a = 2, b= 8 and c = 1\n",
    "$$\n",
    "\n",
    "Submit to github. \n"
   ]
  },
  {
   "cell_type": "code",
   "execution_count": 1,
   "metadata": {},
   "outputs": [
    {
     "name": "stdout",
     "output_type": "stream",
     "text": [
      "x1 = -0.1292, x2 = -3.870829\n"
     ]
    }
   ],
   "source": [
    "a = 2.0\n",
    "b = 8.0\n",
    "c = 1.0\n",
    "\n",
    "d = (b**2 - 4*a*c)\n",
    "\n",
    "x1 = -b + (d**.5)\n",
    "x1 = x1 / (2*a)\n",
    "\n",
    "x2 = -b - (d**.5)\n",
    "x2 = x2 / (2*a)\n",
    "\n",
    "print(f\"x1 = {x1:.4f}, x2 = {x2:f}\")\n"
   ]
  },
  {
   "cell_type": "code",
   "execution_count": null,
   "metadata": {},
   "outputs": [],
   "source": []
  }
 ],
 "metadata": {
  "interpreter": {
   "hash": "6f7c4d44365b28014734406e4d617c1e1f76ea196def854c7b951a230f6e24f1"
  },
  "kernelspec": {
   "display_name": "Python 3.9.5 64-bit",
   "name": "python3"
  },
  "language_info": {
   "codemirror_mode": {
    "name": "ipython",
    "version": 3
   },
   "file_extension": ".py",
   "mimetype": "text/x-python",
   "name": "python",
   "nbconvert_exporter": "python",
   "pygments_lexer": "ipython3",
   "version": "3.9.5"
  },
  "orig_nbformat": 4
 },
 "nbformat": 4,
 "nbformat_minor": 2
}
