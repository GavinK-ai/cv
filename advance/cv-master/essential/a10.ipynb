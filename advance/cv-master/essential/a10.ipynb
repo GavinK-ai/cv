{
 "cells": [
  {
   "cell_type": "markdown",
   "metadata": {},
   "source": [
    "# Assigmnent\n"
   ]
  },
  {
   "cell_type": "markdown",
   "metadata": {},
   "source": [
    "# Assigmnent\n",
    "\n",
    "1. Create a border round any choosen image, make sure the border is 10% of the image shape. \n",
    "   1. Surprise me with any color.\n",
    "2. At the center of the image create a yellow square of 20% minimum of the image shape.\n",
    "3. Create a gray image from question 1image and draw a square (10%) of white at four corners of the image.\n",
    "4. Make sure you save the two resulting images."
   ]
  },
  {
   "cell_type": "code",
   "execution_count": null,
   "metadata": {},
   "outputs": [],
   "source": []
  }
 ],
 "metadata": {
  "language_info": {
   "name": "python"
  },
  "orig_nbformat": 4
 },
 "nbformat": 4,
 "nbformat_minor": 2
}
