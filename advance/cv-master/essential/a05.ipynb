{
 "cells": [
  {
   "cell_type": "code",
   "execution_count": null,
   "metadata": {},
   "outputs": [],
   "source": []
  },
  {
   "cell_type": "markdown",
   "metadata": {},
   "source": [
    "# Assignment\n",
    "\n",
    "1. Create an array of shape (10, 10) with uint8 random values.\n",
    "2. print the shape, size and dimension, \n",
    "3. Compute the sum of the third row to the last.\n",
    "4. Compute the average of the columns\n"
   ]
  },
  {
   "cell_type": "markdown",
   "metadata": {},
   "source": []
  },
  {
   "cell_type": "code",
   "execution_count": 18,
   "metadata": {},
   "outputs": [],
   "source": [
    "# 1. Create an array of shape (10, 10) with uint8 random values.\n",
    "\n",
    "import numpy as np\n",
    "\n",
    "ar10x10 = np.random.randint(0, 256, (10,10), dtype='uint8') \n",
    "# ar10x10 = np.random.randint(0, 256, (10,10), dtype=np.uint8) \n"
   ]
  },
  {
   "cell_type": "code",
   "execution_count": 19,
   "metadata": {},
   "outputs": [
    {
     "name": "stdout",
     "output_type": "stream",
     "text": [
      "shape= (10, 10)\n",
      "size= 100\n",
      "dimension= 2\n"
     ]
    }
   ],
   "source": [
    "# 2. print the shape, size and dimension, \n",
    "\n",
    "print('shape=', ar10x10.shape)\n",
    "print('size=', ar10x10.size)\n",
    "print('dimension=', ar10x10.ndim)\n"
   ]
  },
  {
   "cell_type": "code",
   "execution_count": 5,
   "metadata": {},
   "outputs": [
    {
     "name": "stdout",
     "output_type": "stream",
     "text": [
      "[203  66   9   5 135 255 206 122  69 212]\n"
     ]
    }
   ],
   "source": [
    "row_3_from_last = ar10x10[-3]\n",
    "print(row_3_from_last)"
   ]
  },
  {
   "cell_type": "code",
   "execution_count": 10,
   "metadata": {},
   "outputs": [
    {
     "name": "stdout",
     "output_type": "stream",
     "text": [
      "1282\n"
     ]
    }
   ],
   "source": [
    "sum_row_3_from_last = np.sum(row_3_from_last)\n",
    "print(sum_row_3_from_last)"
   ]
  },
  {
   "cell_type": "code",
   "execution_count": 21,
   "metadata": {},
   "outputs": [
    {
     "name": "stdout",
     "output_type": "stream",
     "text": [
      "[[213  84  84  89  67  70  78  29 168  33]\n",
      " [ 97  80 102 138  40 106  43  85 219   1]\n",
      " [134   9 227 109 180  10 146 249 179 137]\n",
      " [ 63 150 233 242 244  30 197 134 213  58]\n",
      " [ 16  59  37 184  86  82   1 120  64  23]\n",
      " [185  32  96 161   2  53 102 195  60 151]\n",
      " [101 154 232 205 123 228 230 176  16  32]]\n",
      "sum= 7976\n"
     ]
    }
   ],
   "source": [
    "# 3. Compute the sum of the third row to the last.\n",
    "\n",
    "row_3_to_last = ar10x10[3:]\n",
    "print(row_3_to_last)\n",
    "\n",
    "\n",
    "sum_row_3_to_last = np.sum(row_3_to_last)\n",
    "print('sum=', sum_row_3_to_last)"
   ]
  },
  {
   "cell_type": "code",
   "execution_count": 14,
   "metadata": {},
   "outputs": [
    {
     "name": "stdout",
     "output_type": "stream",
     "text": [
      "[ 918  592  689  623 1007  999 1072 1127  587 1199]\n"
     ]
    },
    {
     "data": {
      "text/plain": [
       "(10,)"
      ]
     },
     "execution_count": 14,
     "metadata": {},
     "output_type": "execute_result"
    }
   ],
   "source": [
    "sum_row_3_to_last_axis_0 = np.sum(row_3_to_last, axis=0)\n",
    "print(sum_row_3_to_last_axis_0)\n",
    "sum_row_3_to_last_axis_0.shape"
   ]
  },
  {
   "cell_type": "code",
   "execution_count": 15,
   "metadata": {},
   "outputs": [
    {
     "name": "stdout",
     "output_type": "stream",
     "text": [
      "[ 960 1297 1425 1414 1282 1088 1347]\n"
     ]
    },
    {
     "data": {
      "text/plain": [
       "(7,)"
      ]
     },
     "execution_count": 15,
     "metadata": {},
     "output_type": "execute_result"
    }
   ],
   "source": [
    "sum_row_3_to_last_axis_1 = np.sum(row_3_to_last, axis=1)\n",
    "print(sum_row_3_to_last_axis_1)\n",
    "sum_row_3_to_last_axis_1.shape"
   ]
  },
  {
   "cell_type": "code",
   "execution_count": 22,
   "metadata": {},
   "outputs": [
    {
     "name": "stdout",
     "output_type": "stream",
     "text": [
      "[124.1 104.7 144.7 140.7 106.7 105.6 119.9 143.6 141.3  82.2]\n"
     ]
    }
   ],
   "source": [
    "# 4. Compute the average of the columns\n",
    "\n",
    "ar_ave = np.mean(ar10x10, axis=0)\n",
    "print(ar_ave)"
   ]
  },
  {
   "cell_type": "code",
   "execution_count": null,
   "metadata": {},
   "outputs": [],
   "source": []
  }
 ],
 "metadata": {
  "interpreter": {
   "hash": "6f7c4d44365b28014734406e4d617c1e1f76ea196def854c7b951a230f6e24f1"
  },
  "kernelspec": {
   "display_name": "Python 3.9.5 64-bit",
   "name": "python3"
  },
  "language_info": {
   "codemirror_mode": {
    "name": "ipython",
    "version": 3
   },
   "file_extension": ".py",
   "mimetype": "text/x-python",
   "name": "python",
   "nbconvert_exporter": "python",
   "pygments_lexer": "ipython3",
   "version": "3.9.5"
  },
  "orig_nbformat": 4
 },
 "nbformat": 4,
 "nbformat_minor": 2
}
