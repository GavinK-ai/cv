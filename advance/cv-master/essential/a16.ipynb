{
 "cells": [
  {
   "cell_type": "code",
   "execution_count": null,
   "metadata": {},
   "outputs": [],
   "source": []
  },
  {
   "cell_type": "markdown",
   "metadata": {},
   "source": [
    "# Assignment\n",
    "\n",
    "1. Write digit 0-9 on paper.\n",
    "2. Take photograph of each digit\n",
    "3. load each digit as shape (20,20) in gray\n",
    "4. Using the k=4 with the highest accuracy (Train:Test = 2:1).\n",
    "5. Test your images and compare the predictions\n"
   ]
  },
  {
   "cell_type": "markdown",
   "metadata": {},
   "source": []
  }
 ],
 "metadata": {
  "language_info": {
   "name": "python"
  },
  "orig_nbformat": 4
 },
 "nbformat": 4,
 "nbformat_minor": 2
}
