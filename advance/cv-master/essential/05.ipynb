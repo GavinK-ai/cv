{
 "cells": [
  {
   "cell_type": "code",
   "execution_count": null,
   "metadata": {},
   "outputs": [],
   "source": []
  },
  {
   "cell_type": "markdown",
   "metadata": {},
   "source": [
    "# Chapter 5 \n"
   ]
  },
  {
   "cell_type": "markdown",
   "metadata": {},
   "source": [
    "# Introduction to Numpy  \n"
   ]
  },
  {
   "cell_type": "code",
   "execution_count": 74,
   "metadata": {},
   "outputs": [],
   "source": [
    "!pip install -q numpy "
   ]
  },
  {
   "cell_type": "markdown",
   "metadata": {},
   "source": [
    "Numpy mean numerical python. \n",
    "It is use for numerical operation and manipulation. Especially in array or matrix."
   ]
  },
  {
   "cell_type": "markdown",
   "metadata": {},
   "source": [
    "| 1 | 2 | 3 |\n",
    "| --- | --- | ---|\n",
    "| 4 | 5 | 6 |\n",
    "| 7 | 8 | 9 |\n",
    "\n",
    "order 3 x 3 \n"
   ]
  },
  {
   "cell_type": "code",
   "execution_count": 4,
   "metadata": {},
   "outputs": [
    {
     "name": "stdout",
     "output_type": "stream",
     "text": [
      "[[1 2 3]\n",
      " [4 5 6]\n",
      " [7 8 9]]\n",
      "dim =  2\n",
      "shape =  (3, 3)\n",
      "datatype =  int32\n",
      "size =  9\n",
      "\n"
     ]
    }
   ],
   "source": [
    "# import package numpy and give it an alias np\n",
    "import numpy as np\n",
    "\n",
    "a = np.array(\n",
    "    [\n",
    "        [1,2,3],\n",
    "        [4,5,6],\n",
    "        [7,8,9]\n",
    "    ]\n",
    ")\n",
    "\n",
    "print(a)\n",
    "\n",
    "print(\"dim = \", a.ndim)\n",
    "print(\"shape = \", a.shape)\n",
    "print(\"datatype = \", a.dtype)\n",
    "print(\"size = \", a.size)\n",
    "print()\n"
   ]
  },
  {
   "cell_type": "code",
   "execution_count": 5,
   "metadata": {},
   "outputs": [
    {
     "name": "stdout",
     "output_type": "stream",
     "text": [
      "[[1, 2, 3], [4, 5, 6], [7, 8, 9]]\n",
      "3\n"
     ]
    }
   ],
   "source": [
    "alist = [\n",
    "        [1,2,3],\n",
    "        [4,5,6],\n",
    "        [7,8,9]\n",
    "    ]\n",
    "\n",
    "print(alist)\n",
    "print(len(alist))\n",
    "# print(size(alist))\n",
    "# print(shape(alist))"
   ]
  },
  {
   "cell_type": "code",
   "execution_count": 6,
   "metadata": {},
   "outputs": [
    {
     "name": "stdout",
     "output_type": "stream",
     "text": [
      "<class 'numpy.ndarray'>\n"
     ]
    }
   ],
   "source": [
    "print(type(a))"
   ]
  },
  {
   "cell_type": "code",
   "execution_count": 7,
   "metadata": {},
   "outputs": [
    {
     "name": "stdout",
     "output_type": "stream",
     "text": [
      "<class 'list'>\n"
     ]
    }
   ],
   "source": [
    "print(type(alist))"
   ]
  },
  {
   "cell_type": "code",
   "execution_count": 8,
   "metadata": {},
   "outputs": [
    {
     "name": "stdout",
     "output_type": "stream",
     "text": [
      "[31, 32, 33]\n",
      "\n",
      "[31 32 33]\n",
      "dim =  1\n",
      "shape =  (3,)\n",
      "datatype =  int32\n",
      "size =  3\n",
      "\n"
     ]
    }
   ],
   "source": [
    "import numpy as np\n",
    "\n",
    "blist = [31, 32, 33]\n",
    "b = np.array(blist)\n",
    "\n",
    "print(blist)\n",
    "print()\n",
    "print(b)\n",
    "print(\"dim = \", b.ndim)\n",
    "print(\"shape = \", b.shape)\n",
    "print(\"datatype = \", b.dtype)\n",
    "print(\"size = \", b.size)\n",
    "print()"
   ]
  },
  {
   "cell_type": "code",
   "execution_count": 9,
   "metadata": {},
   "outputs": [
    {
     "name": "stdout",
     "output_type": "stream",
     "text": [
      "[1, 'Tue', 3, 'Wed']\n",
      "\n",
      "['1' 'Tue' '3' 'Wed']\n",
      "dim =  1\n",
      "shape =  (4,)\n",
      "datatype =  <U11\n",
      "size =  4\n",
      "\n"
     ]
    }
   ],
   "source": [
    "import numpy as np\n",
    "\n",
    "clist = [1, 'Tue', 3, 'Wed']\n",
    "c = np.array(clist)\n",
    "\n",
    "print(clist)\n",
    "print()\n",
    "print(c)\n",
    "print(\"dim = \", c.ndim)\n",
    "print(\"shape = \", c.shape)\n",
    "print(\"datatype = \", c.dtype)\n",
    "print(\"size = \", c.size)\n",
    "print()"
   ]
  },
  {
   "cell_type": "markdown",
   "metadata": {},
   "source": [
    "Class activity"
   ]
  },
  {
   "cell_type": "markdown",
   "metadata": {},
   "source": [
    "| 11 | 12 | 13 |\n",
    "| --- | --- | ---|\n",
    "\n",
    "order 1 x 3    \n",
    "or row matrix"
   ]
  },
  {
   "cell_type": "markdown",
   "metadata": {},
   "source": [
    "$$\n",
    "\\begin{pmatrix}\n",
    "    11 & 12 & 13\n",
    "\\end{pmatrix}\n",
    "$$"
   ]
  },
  {
   "cell_type": "markdown",
   "metadata": {},
   "source": [
    "### Without specifying the datatype."
   ]
  },
  {
   "cell_type": "code",
   "execution_count": 10,
   "metadata": {},
   "outputs": [
    {
     "name": "stdout",
     "output_type": "stream",
     "text": [
      "[[11 12 13]]\n",
      "dim =  2\n",
      "shape =  (1, 3)\n",
      "datatype =  int32\n",
      "size =  3\n",
      "\n"
     ]
    }
   ],
   "source": [
    "# import package numpy and give it an alias np\n",
    "import numpy as np\n",
    "\n",
    "a = np.array(\n",
    "    [\n",
    "        [11, 12, 13]\n",
    "    ]\n",
    ")\n",
    "\n",
    "print(a)\n",
    "\n",
    "print(\"dim = \", a.ndim)\n",
    "print(\"shape = \", a.shape)\n",
    "print(\"datatype = \", a.dtype)\n",
    "print(\"size = \", a.size)\n",
    "print()\n"
   ]
  },
  {
   "cell_type": "markdown",
   "metadata": {},
   "source": [
    "### Specifying datatype int64"
   ]
  },
  {
   "cell_type": "code",
   "execution_count": 11,
   "metadata": {},
   "outputs": [
    {
     "name": "stdout",
     "output_type": "stream",
     "text": [
      "[[11 12 13]]\n",
      "dim =  2\n",
      "shape =  (1, 3)\n",
      "datatype =  int64\n",
      "size =  3\n",
      "\n"
     ]
    }
   ],
   "source": [
    "# import package numpy and give it an alias np\n",
    "import numpy as np\n",
    "\n",
    "a = np.array(\n",
    "    [\n",
    "        [11, 12, 13]\n",
    "    ], dtype='int64'\n",
    ")\n",
    "\n",
    "print(a)\n",
    "\n",
    "print(\"dim = \", a.ndim)\n",
    "print(\"shape = \", a.shape)\n",
    "print(\"datatype = \", a.dtype)\n",
    "print(\"size = \", a.size)\n",
    "print()\n"
   ]
  },
  {
   "cell_type": "markdown",
   "metadata": {},
   "source": [
    "### Specifying datatype float"
   ]
  },
  {
   "cell_type": "code",
   "execution_count": 12,
   "metadata": {},
   "outputs": [
    {
     "name": "stdout",
     "output_type": "stream",
     "text": [
      "[[11. 12. 13.]]\n",
      "dim =  2\n",
      "shape =  (1, 3)\n",
      "datatype =  float64\n",
      "size =  3\n",
      "\n"
     ]
    }
   ],
   "source": [
    "# import package numpy and give it an alias np\n",
    "import numpy as np\n",
    "\n",
    "a = np.array(\n",
    "    [\n",
    "        [11, 12, 13]\n",
    "    ], dtype='float'\n",
    ")\n",
    "\n",
    "print(a)\n",
    "\n",
    "print(\"dim = \", a.ndim)\n",
    "print(\"shape = \", a.shape)\n",
    "print(\"datatype = \", a.dtype)\n",
    "print(\"size = \", a.size)\n",
    "print()\n"
   ]
  },
  {
   "cell_type": "markdown",
   "metadata": {},
   "source": [
    "### Specifying datatype float32"
   ]
  },
  {
   "cell_type": "code",
   "execution_count": 13,
   "metadata": {},
   "outputs": [
    {
     "name": "stdout",
     "output_type": "stream",
     "text": [
      "[[11. 12. 13.]]\n",
      "dim =  2\n",
      "shape =  (1, 3)\n",
      "datatype =  float32\n",
      "size =  3\n",
      "\n"
     ]
    }
   ],
   "source": [
    "# import package numpy and give it an alias np\n",
    "import numpy as np\n",
    "\n",
    "a = np.array(\n",
    "    [\n",
    "        [11, 12, 13]\n",
    "    ], dtype='float32'\n",
    ")\n",
    "\n",
    "print(a)\n",
    "\n",
    "print(\"dim = \", a.ndim)\n",
    "print(\"shape = \", a.shape)\n",
    "print(\"datatype = \", a.dtype)\n",
    "print(\"size = \", a.size)\n",
    "print()\n"
   ]
  },
  {
   "cell_type": "markdown",
   "metadata": {},
   "source": [
    "### float value"
   ]
  },
  {
   "cell_type": "code",
   "execution_count": 14,
   "metadata": {},
   "outputs": [
    {
     "name": "stdout",
     "output_type": "stream",
     "text": [
      "[[11. 12. 13.]]\n",
      "dim =  2\n",
      "shape =  (1, 3)\n",
      "datatype =  float64\n",
      "size =  3\n",
      "\n"
     ]
    }
   ],
   "source": [
    "# import package numpy and give it an alias np\n",
    "import numpy as np\n",
    "\n",
    "a = np.array(\n",
    "    [\n",
    "        [11.0, 12.0, 13.0]\n",
    "    ]\n",
    ")\n",
    "\n",
    "print(a)\n",
    "\n",
    "print(\"dim = \", a.ndim)\n",
    "print(\"shape = \", a.shape)\n",
    "print(\"datatype = \", a.dtype)\n",
    "print(\"size = \", a.size)\n",
    "print()\n"
   ]
  },
  {
   "cell_type": "code",
   "execution_count": null,
   "metadata": {},
   "outputs": [],
   "source": []
  },
  {
   "cell_type": "markdown",
   "metadata": {},
   "source": [
    "## Class activity"
   ]
  },
  {
   "cell_type": "markdown",
   "metadata": {},
   "source": [
    "| 21 | \n",
    "|---|\n",
    "| 22 | \n",
    "| 31 | \n",
    "| 0 | \n",
    "\n",
    "order 4 x 1   \n",
    "or column matrix\n"
   ]
  },
  {
   "cell_type": "markdown",
   "metadata": {},
   "source": [
    "$$\n",
    "\\begin{pmatrix}\n",
    "    21  \\\\  \n",
    "    22  \\\\  \n",
    "    31  \\\\  \n",
    "    0  \\\\  \n",
    "\\end{pmatrix}\n",
    "$$"
   ]
  },
  {
   "cell_type": "code",
   "execution_count": 15,
   "metadata": {},
   "outputs": [
    {
     "name": "stdout",
     "output_type": "stream",
     "text": [
      "[[21]\n",
      " [22]\n",
      " [31]\n",
      " [ 0]]\n",
      "dim =  2\n",
      "shape =  (4, 1)\n",
      "datatype =  uint8\n",
      "size =  4\n",
      "\n"
     ]
    }
   ],
   "source": [
    "# import package numpy and give it an alias np\n",
    "import numpy as np\n",
    "\n",
    "a = np.array(\n",
    "    [\n",
    "        [21],\n",
    "        [22],\n",
    "        [31],\n",
    "        [0],\n",
    "    ], dtype='uint8'\n",
    ")\n",
    "\n",
    "print(a)\n",
    "\n",
    "print(\"dim = \", a.ndim)\n",
    "print(\"shape = \", a.shape)\n",
    "print(\"datatype = \", a.dtype)\n",
    "print(\"size = \", a.size)\n",
    "print()\n"
   ]
  },
  {
   "cell_type": "markdown",
   "metadata": {},
   "source": [
    "Minimum value in 8 bits\n",
    "\n",
    "|7|6|5|4|3|2|1|0|\n",
    "|---|---|---|---|---|---|---|---|\n",
    "|0|0|0|0|0|0|0|0|"
   ]
  },
  {
   "cell_type": "markdown",
   "metadata": {},
   "source": [
    "Maximum value in 8 bits\n",
    "\n",
    "|7|6|5|4|3|2|1|0|\n",
    "|---|---|---|---|---|---|---|---|\n",
    "|1|1|1|1|1|1|1|1|"
   ]
  },
  {
   "cell_type": "markdown",
   "metadata": {},
   "source": [
    "uint8 mean unsigned integer in 8 bits\n",
    "min = 0\n",
    "max = 255   \n",
    "\n",
    "int8 mean signed integer in 8 bits\n",
    "min = -128\n",
    "max = 127"
   ]
  },
  {
   "cell_type": "markdown",
   "metadata": {},
   "source": [
    "## Installation of numpy, scipy and pandas \n"
   ]
  },
  {
   "cell_type": "code",
   "execution_count": 1,
   "metadata": {},
   "outputs": [],
   "source": [
    "!pip install -q numpy "
   ]
  },
  {
   "cell_type": "code",
   "execution_count": 2,
   "metadata": {},
   "outputs": [],
   "source": [
    "def array_properties(a):\n",
    "    print(\"a = \\n\", a)\n",
    "    print(\"dim = \", a.ndim)\n",
    "    print(\"shape = \", a.shape)\n",
    "    print(\"datatype = \", a.dtype)\n",
    "    print(\"size = \", a.size)\n",
    "    print()"
   ]
  },
  {
   "cell_type": "markdown",
   "metadata": {},
   "source": [
    "## Creating array  \n"
   ]
  },
  {
   "cell_type": "code",
   "execution_count": 3,
   "metadata": {},
   "outputs": [
    {
     "name": "stdout",
     "output_type": "stream",
     "text": [
      "[1 2 3]\n",
      "\n",
      "a = \n",
      " [1 2 3]\n",
      "dim =  1\n",
      "shape =  (3,)\n",
      "datatype =  int32\n",
      "size =  3\n",
      "\n"
     ]
    }
   ],
   "source": [
    "import numpy as np\n",
    "\n",
    "a = np.array([1, 2, 3])\n",
    "\n",
    "print(a)\n",
    "print()\n",
    "print(\"a = \\n\", a)\n",
    "print(\"dim = \", a.ndim)\n",
    "print(\"shape = \", a.shape)\n",
    "print(\"datatype = \", a.dtype)\n",
    "print(\"size = \", a.size)\n",
    "print()"
   ]
  },
  {
   "cell_type": "code",
   "execution_count": 16,
   "metadata": {},
   "outputs": [
    {
     "name": "stdout",
     "output_type": "stream",
     "text": [
      "a = \n",
      " [[1 1 1]\n",
      " [2 2 2]\n",
      " [3 3 3]]\n",
      "dim =  2\n",
      "shape =  (3, 3)\n",
      "datatype =  int32\n",
      "size =  9\n",
      "\n"
     ]
    }
   ],
   "source": [
    "import numpy as np\n",
    "\n",
    "a_3x3 = np.array([[1, 1, 1], [2, 2, 2], [3, 3, 3]])\n",
    "array_properties(a_3x3)"
   ]
  },
  {
   "cell_type": "markdown",
   "metadata": {},
   "source": [
    "## arange \n",
    "\n",
    "integer array creation."
   ]
  },
  {
   "cell_type": "markdown",
   "metadata": {},
   "source": [
    "range used regularly in for loop"
   ]
  },
  {
   "cell_type": "code",
   "execution_count": 17,
   "metadata": {},
   "outputs": [
    {
     "name": "stdout",
     "output_type": "stream",
     "text": [
      "0\n",
      "1\n",
      "2\n",
      "3\n",
      "4\n",
      "5\n",
      "6\n",
      "7\n",
      "8\n",
      "9\n"
     ]
    }
   ],
   "source": [
    "for n in range(10):\n",
    "    print(n)"
   ]
  },
  {
   "cell_type": "code",
   "execution_count": 18,
   "metadata": {},
   "outputs": [
    {
     "name": "stdout",
     "output_type": "stream",
     "text": [
      "1, 2, 3, 4, 5, 6, 7, 8, 9, 10, "
     ]
    }
   ],
   "source": [
    "start = 1\n",
    "stop = 10 + 1\n",
    "for n in range(start,stop):\n",
    "    print(n, end=', ')"
   ]
  },
  {
   "cell_type": "code",
   "execution_count": 19,
   "metadata": {},
   "outputs": [
    {
     "name": "stdout",
     "output_type": "stream",
     "text": [
      "1, 3, 5, 7, 9, "
     ]
    }
   ],
   "source": [
    "start = 1\n",
    "stop = 10 + 1\n",
    "step = 2\n",
    "for n in range(start, stop, step):\n",
    "    print(n, end=', ')"
   ]
  },
  {
   "cell_type": "code",
   "execution_count": null,
   "metadata": {},
   "outputs": [],
   "source": []
  },
  {
   "cell_type": "code",
   "execution_count": 20,
   "metadata": {},
   "outputs": [
    {
     "name": "stdout",
     "output_type": "stream",
     "text": [
      "a = \n",
      " [1 2 3 4 5 6 7 8 9]\n",
      "dim =  1\n",
      "shape =  (9,)\n",
      "datatype =  int32\n",
      "size =  9\n",
      "\n"
     ]
    }
   ],
   "source": [
    "import numpy as np\n",
    "\n",
    "seq_a = np.arange(1, 10)\n",
    "\n",
    "array_properties(seq_a)"
   ]
  },
  {
   "cell_type": "code",
   "execution_count": 21,
   "metadata": {},
   "outputs": [
    {
     "name": "stdout",
     "output_type": "stream",
     "text": [
      "a = \n",
      " [0 1 2 3 4 5 6 7 8 9]\n",
      "dim =  1\n",
      "shape =  (10,)\n",
      "datatype =  int32\n",
      "size =  10\n",
      "\n",
      "0 | 1 | 2 | 3 | 4 | 5 | 6 | 7 | 8 | 9 | "
     ]
    }
   ],
   "source": [
    "import numpy as np\n",
    "\n",
    "ar10 = np.arange(10)\n",
    "\n",
    "array_properties(ar10)\n",
    "\n",
    "for n in ar10:\n",
    "    print(n, end=' | ')"
   ]
  },
  {
   "cell_type": "code",
   "execution_count": 22,
   "metadata": {},
   "outputs": [
    {
     "name": "stdout",
     "output_type": "stream",
     "text": [
      "a = \n",
      " [1 3 5 7 9]\n",
      "dim =  1\n",
      "shape =  (5,)\n",
      "datatype =  int32\n",
      "size =  5\n",
      "\n",
      "1 | 3 | 5 | 7 | 9 | "
     ]
    }
   ],
   "source": [
    "start = 1\n",
    "stop = 10 + 1\n",
    "step = 2\n",
    "\n",
    "ar10b = np.arange(start, stop, step)\n",
    "array_properties(ar10b)\n",
    "\n",
    "for n in ar10b:\n",
    "    print(n, end=' | ')"
   ]
  },
  {
   "cell_type": "code",
   "execution_count": 23,
   "metadata": {},
   "outputs": [
    {
     "name": "stdout",
     "output_type": "stream",
     "text": [
      "a = \n",
      " [1 3 5 7 9]\n",
      "dim =  1\n",
      "shape =  (5,)\n",
      "datatype =  uint8\n",
      "size =  5\n",
      "\n",
      "1 | 3 | 5 | 7 | 9 | \n",
      "\n",
      "a = \n",
      " [1. 3. 5. 7. 9.]\n",
      "dim =  1\n",
      "shape =  (5,)\n",
      "datatype =  float32\n",
      "size =  5\n",
      "\n"
     ]
    }
   ],
   "source": [
    "start = 1\n",
    "stop = 10 + 1\n",
    "step = 2\n",
    "\n",
    "ar10b = np.arange(start, stop, step)\n",
    "\n",
    "ar10b = np.uint8(ar10b)\n",
    "array_properties(ar10b)\n",
    "\n",
    "for n in ar10b:\n",
    "    print(n, end=' | ')\n",
    "\n",
    "print()\n",
    "print()\n",
    "\n",
    "ar10b = np.float32(ar10b)\n",
    "array_properties(ar10b)\n"
   ]
  },
  {
   "cell_type": "markdown",
   "metadata": {},
   "source": [
    "## Class Activity \n",
    "\n",
    "Create an array of integers [0, 5, 15, ..., 100]"
   ]
  },
  {
   "cell_type": "markdown",
   "metadata": {},
   "source": [
    "## linspace \n",
    "\n",
    "create array of floating point value of a specific size."
   ]
  },
  {
   "cell_type": "code",
   "execution_count": 24,
   "metadata": {},
   "outputs": [
    {
     "name": "stdout",
     "output_type": "stream",
     "text": [
      "a = \n",
      " [ 1.          1.64285714  2.28571429  2.92857143  3.57142857  4.21428571\n",
      "  4.85714286  5.5         6.14285714  6.78571429  7.42857143  8.07142857\n",
      "  8.71428571  9.35714286 10.        ]\n",
      "dim =  1\n",
      "shape =  (15,)\n",
      "datatype =  float64\n",
      "size =  15\n",
      "\n"
     ]
    }
   ],
   "source": [
    "import numpy as np\n",
    "\n",
    "seq_a2 = np.linspace(1, 10, 15)\n",
    "\n",
    "array_properties(seq_a2)"
   ]
  },
  {
   "cell_type": "markdown",
   "metadata": {},
   "source": [
    "\n",
    "|1|2|3|4|5|6|7|8|9|10|\n",
    "|---|---|---|---|---|---|---|---|---|---|\n",
    "|0|1|2|3|4|5|6|7|8|9|\n",
    "|0|x|x|x|x|x|x|x|x|10|"
   ]
  },
  {
   "cell_type": "markdown",
   "metadata": {},
   "source": [
    "0 --> 0   \n",
    "1 --> x  \n",
    "2 --> x  \n",
    "9 --> 10"
   ]
  },
  {
   "cell_type": "code",
   "execution_count": 25,
   "metadata": {},
   "outputs": [
    {
     "data": {
      "text/plain": [
       "10.0"
      ]
     },
     "execution_count": 25,
     "metadata": {},
     "output_type": "execute_result"
    }
   ],
   "source": [
    "x = 10/9 * 9\n",
    "x"
   ]
  },
  {
   "cell_type": "code",
   "execution_count": 26,
   "metadata": {},
   "outputs": [
    {
     "name": "stdout",
     "output_type": "stream",
     "text": [
      "a = \n",
      " [ 0.          1.11111111  2.22222222  3.33333333  4.44444444  5.55555556\n",
      "  6.66666667  7.77777778  8.88888889 10.        ]\n",
      "dim =  1\n",
      "shape =  (10,)\n",
      "datatype =  float64\n",
      "size =  10\n",
      "\n"
     ]
    }
   ],
   "source": [
    "import numpy as np\n",
    "\n",
    "start = 0\n",
    "stop = 10\n",
    "size = 10\n",
    "\n",
    "arls_0_10_10 = np.linspace(start, stop, size)\n",
    "\n",
    "array_properties(arls_0_10_10)"
   ]
  },
  {
   "cell_type": "code",
   "execution_count": 27,
   "metadata": {},
   "outputs": [
    {
     "name": "stdout",
     "output_type": "stream",
     "text": [
      "a = \n",
      " [ 0.  1.  2.  3.  4.  5.  6.  7.  8.  9. 10.]\n",
      "dim =  1\n",
      "shape =  (11,)\n",
      "datatype =  float64\n",
      "size =  11\n",
      "\n"
     ]
    }
   ],
   "source": [
    "import numpy as np\n",
    "\n",
    "start = 0\n",
    "stop = 10\n",
    "size = 11\n",
    "\n",
    "arls_0_10_11 = np.linspace(start, stop, size)\n",
    "\n",
    "array_properties(arls_0_10_11)"
   ]
  },
  {
   "cell_type": "markdown",
   "metadata": {},
   "source": [
    "## zeros\n",
    "\n",
    "create array of zeros"
   ]
  },
  {
   "cell_type": "code",
   "execution_count": 28,
   "metadata": {},
   "outputs": [
    {
     "name": "stdout",
     "output_type": "stream",
     "text": [
      "a = \n",
      " [[0. 0. 0. 0. 0. 0. 0. 0. 0. 0.]]\n",
      "dim =  2\n",
      "shape =  (1, 10)\n",
      "datatype =  float64\n",
      "size =  10\n",
      "\n"
     ]
    }
   ],
   "source": [
    "import numpy as np\n",
    "\n",
    "zer_10 = np.zeros((1,10))\n",
    "array_properties(zer_10)"
   ]
  },
  {
   "cell_type": "code",
   "execution_count": 29,
   "metadata": {},
   "outputs": [
    {
     "name": "stdout",
     "output_type": "stream",
     "text": [
      "a = \n",
      " [[0. 0. 0. 0. 0. 0. 0. 0. 0. 0.]]\n",
      "dim =  2\n",
      "shape =  (1, 10)\n",
      "datatype =  float32\n",
      "size =  10\n",
      "\n"
     ]
    }
   ],
   "source": [
    "import numpy as np\n",
    "\n",
    "zer_10a = np.zeros((1,10), dtype='float32')\n",
    "array_properties(zer_10a)"
   ]
  },
  {
   "cell_type": "code",
   "execution_count": 30,
   "metadata": {},
   "outputs": [
    {
     "name": "stdout",
     "output_type": "stream",
     "text": [
      "a = \n",
      " [[0. 0. 0. 0. 0. 0. 0. 0. 0. 0.]]\n",
      "dim =  2\n",
      "shape =  (1, 10)\n",
      "datatype =  float32\n",
      "size =  10\n",
      "\n"
     ]
    }
   ],
   "source": [
    "import numpy as np\n",
    "\n",
    "zer_10 = np.zeros((1,10), dtype=np.float32)\n",
    "array_properties(zer_10)"
   ]
  },
  {
   "cell_type": "code",
   "execution_count": 31,
   "metadata": {},
   "outputs": [
    {
     "name": "stdout",
     "output_type": "stream",
     "text": [
      "a = \n",
      " [[0 0 0 0 0 0 0 0 0 0]]\n",
      "dim =  2\n",
      "shape =  (1, 10)\n",
      "datatype =  int32\n",
      "size =  10\n",
      "\n"
     ]
    }
   ],
   "source": [
    "import numpy as np\n",
    "\n",
    "zer_10c = np.zeros((1,10), dtype='int')\n",
    "array_properties(zer_10c)"
   ]
  },
  {
   "cell_type": "code",
   "execution_count": 32,
   "metadata": {},
   "outputs": [
    {
     "name": "stdout",
     "output_type": "stream",
     "text": [
      "a = \n",
      " [[0 0 0 0 0 0 0 0 0 0]]\n",
      "dim =  2\n",
      "shape =  (1, 10)\n",
      "datatype =  uint8\n",
      "size =  10\n",
      "\n"
     ]
    }
   ],
   "source": [
    "import numpy as np\n",
    "\n",
    "zer_10 = np.zeros((1,10), dtype=np.uint8)\n",
    "array_properties(zer_10)"
   ]
  },
  {
   "cell_type": "code",
   "execution_count": 33,
   "metadata": {},
   "outputs": [
    {
     "name": "stdout",
     "output_type": "stream",
     "text": [
      "a = \n",
      " [[0. 0. 0. 0.]\n",
      " [0. 0. 0. 0.]]\n",
      "dim =  2\n",
      "shape =  (2, 4)\n",
      "datatype =  float64\n",
      "size =  8\n",
      "\n"
     ]
    }
   ],
   "source": [
    "import numpy as np\n",
    "\n",
    "zeros_arr = np.zeros((2, 4))\n",
    "\n",
    "array_properties(zeros_arr)"
   ]
  },
  {
   "cell_type": "code",
   "execution_count": 34,
   "metadata": {},
   "outputs": [
    {
     "name": "stdout",
     "output_type": "stream",
     "text": [
      "a = \n",
      " [[[0 0 0]\n",
      "  [0 0 0]\n",
      "  [0 0 0]\n",
      "  [0 0 0]\n",
      "  [0 0 0]]\n",
      "\n",
      " [[0 0 0]\n",
      "  [0 0 0]\n",
      "  [0 0 0]\n",
      "  [0 0 0]\n",
      "  [0 0 0]]\n",
      "\n",
      " [[0 0 0]\n",
      "  [0 0 0]\n",
      "  [0 0 0]\n",
      "  [0 0 0]\n",
      "  [0 0 0]]\n",
      "\n",
      " [[0 0 0]\n",
      "  [0 0 0]\n",
      "  [0 0 0]\n",
      "  [0 0 0]\n",
      "  [0 0 0]]]\n",
      "dim =  3\n",
      "shape =  (4, 5, 3)\n",
      "datatype =  uint8\n",
      "size =  60\n",
      "\n"
     ]
    }
   ],
   "source": [
    "import numpy as np\n",
    "\n",
    "zer_4_5_3 = np.zeros((4,5,3), dtype=np.uint8)\n",
    "array_properties(zer_4_5_3)"
   ]
  },
  {
   "cell_type": "code",
   "execution_count": 35,
   "metadata": {},
   "outputs": [
    {
     "name": "stdout",
     "output_type": "stream",
     "text": [
      "a = \n",
      " [[[[0 0]\n",
      "   [0 0]\n",
      "   [0 0]]\n",
      "\n",
      "  [[0 0]\n",
      "   [0 0]\n",
      "   [0 0]]\n",
      "\n",
      "  [[0 0]\n",
      "   [0 0]\n",
      "   [0 0]]\n",
      "\n",
      "  [[0 0]\n",
      "   [0 0]\n",
      "   [0 0]]\n",
      "\n",
      "  [[0 0]\n",
      "   [0 0]\n",
      "   [0 0]]]\n",
      "\n",
      "\n",
      " [[[0 0]\n",
      "   [0 0]\n",
      "   [0 0]]\n",
      "\n",
      "  [[0 0]\n",
      "   [0 0]\n",
      "   [0 0]]\n",
      "\n",
      "  [[0 0]\n",
      "   [0 0]\n",
      "   [0 0]]\n",
      "\n",
      "  [[0 0]\n",
      "   [0 0]\n",
      "   [0 0]]\n",
      "\n",
      "  [[0 0]\n",
      "   [0 0]\n",
      "   [0 0]]]\n",
      "\n",
      "\n",
      " [[[0 0]\n",
      "   [0 0]\n",
      "   [0 0]]\n",
      "\n",
      "  [[0 0]\n",
      "   [0 0]\n",
      "   [0 0]]\n",
      "\n",
      "  [[0 0]\n",
      "   [0 0]\n",
      "   [0 0]]\n",
      "\n",
      "  [[0 0]\n",
      "   [0 0]\n",
      "   [0 0]]\n",
      "\n",
      "  [[0 0]\n",
      "   [0 0]\n",
      "   [0 0]]]\n",
      "\n",
      "\n",
      " [[[0 0]\n",
      "   [0 0]\n",
      "   [0 0]]\n",
      "\n",
      "  [[0 0]\n",
      "   [0 0]\n",
      "   [0 0]]\n",
      "\n",
      "  [[0 0]\n",
      "   [0 0]\n",
      "   [0 0]]\n",
      "\n",
      "  [[0 0]\n",
      "   [0 0]\n",
      "   [0 0]]\n",
      "\n",
      "  [[0 0]\n",
      "   [0 0]\n",
      "   [0 0]]]]\n",
      "dim =  4\n",
      "shape =  (4, 5, 3, 2)\n",
      "datatype =  uint8\n",
      "size =  120\n",
      "\n"
     ]
    }
   ],
   "source": [
    "import numpy as np\n",
    "\n",
    "zer_4_5_3_2 = np.zeros((4,5,3,2), dtype=np.uint8)\n",
    "array_properties(zer_4_5_3_2)"
   ]
  },
  {
   "cell_type": "markdown",
   "metadata": {},
   "source": [
    "## ones\n",
    "\n",
    "Create array of ones"
   ]
  },
  {
   "cell_type": "code",
   "execution_count": 75,
   "metadata": {},
   "outputs": [
    {
     "name": "stdout",
     "output_type": "stream",
     "text": [
      "a = \n",
      " [[1. 1.]\n",
      " [1. 1.]\n",
      " [1. 1.]\n",
      " [1. 1.]]\n",
      "dim =  2\n",
      "shape =  (4, 2)\n",
      "datatype =  float64\n",
      "size =  8\n",
      "\n"
     ]
    }
   ],
   "source": [
    "import numpy as np\n",
    "\n",
    "# specify the shape of the array in the `np.ones` function.\n",
    "ones_arr = np.ones((4, 2))\n",
    "\n",
    "array_properties(ones_arr)"
   ]
  },
  {
   "cell_type": "code",
   "execution_count": 76,
   "metadata": {},
   "outputs": [
    {
     "name": "stdout",
     "output_type": "stream",
     "text": [
      "a = \n",
      " [[1. 1. 1. 1. 1. 1. 1. 1. 1. 1.]]\n",
      "dim =  2\n",
      "shape =  (1, 10)\n",
      "datatype =  float64\n",
      "size =  10\n",
      "\n"
     ]
    }
   ],
   "source": [
    "import numpy as np\n",
    "\n",
    "shape = (1,10)\n",
    "\n",
    "ones_10 = np.ones(shape)\n",
    "\n",
    "array_properties(ones_10)"
   ]
  },
  {
   "cell_type": "code",
   "execution_count": 77,
   "metadata": {},
   "outputs": [
    {
     "name": "stdout",
     "output_type": "stream",
     "text": [
      "a = \n",
      " [1. 1. 1. 1. 1. 1. 1. 1. 1. 1.]\n",
      "dim =  1\n",
      "shape =  (10,)\n",
      "datatype =  float64\n",
      "size =  10\n",
      "\n"
     ]
    }
   ],
   "source": [
    "import numpy as np\n",
    "\n",
    "shape = (10,)\n",
    "\n",
    "ones_10 = np.ones(shape)\n",
    "\n",
    "array_properties(ones_10)"
   ]
  },
  {
   "cell_type": "markdown",
   "metadata": {},
   "source": [
    "## Class Activity\n",
    "\n",
    "Create an array of dim 3 filled with ones."
   ]
  },
  {
   "cell_type": "markdown",
   "metadata": {},
   "source": [
    "# Recap"
   ]
  },
  {
   "cell_type": "markdown",
   "metadata": {},
   "source": [
    "1. Create array from list value\n",
    "2. convert list to array.\n",
    "3. Convert arrays of diffrent types (int32, int64, float64, float32, uint8, <U11)\n",
    "4. Create array of zeros\n",
    "5. Create array of ones"
   ]
  },
  {
   "cell_type": "code",
   "execution_count": 78,
   "metadata": {},
   "outputs": [
    {
     "name": "stdout",
     "output_type": "stream",
     "text": [
      "a = \n",
      " [[4.67296746e-307 1.69121096e-306 1.20161526e-306 8.34441742e-308]\n",
      " [1.78022342e-306 6.23058028e-307 9.79107872e-307 6.89807188e-307]\n",
      " [7.56594375e-307 6.23060065e-307 1.78021527e-306 8.34454050e-308]\n",
      " [1.11261027e-306 1.15706896e-306 1.33512173e-306 1.33504432e-306]]\n",
      "dim =  2\n",
      "shape =  (4, 4)\n",
      "datatype =  float64\n",
      "size =  16\n",
      "\n"
     ]
    }
   ],
   "source": [
    "import numpy as np\n",
    "\n",
    "emp_arr = np.empty((4, 4))\n",
    "\n",
    "array_properties(emp_arr)"
   ]
  },
  {
   "cell_type": "markdown",
   "metadata": {},
   "source": [
    "## Class Activity\n",
    "Create empty array of 1x10"
   ]
  },
  {
   "cell_type": "code",
   "execution_count": 79,
   "metadata": {},
   "outputs": [
    {
     "name": "stdout",
     "output_type": "stream",
     "text": [
      "a = \n",
      " [[1. 1. 1. 1. 1. 1. 1. 1. 1. 1.]]\n",
      "dim =  2\n",
      "shape =  (1, 10)\n",
      "datatype =  float64\n",
      "size =  10\n",
      "\n"
     ]
    }
   ],
   "source": [
    "import numpy as np\n",
    "\n",
    "emp_1x10 = np.empty((1, 10))\n",
    "\n",
    "array_properties(emp_1x10)"
   ]
  },
  {
   "cell_type": "markdown",
   "metadata": {},
   "source": [
    "## Reshape"
   ]
  },
  {
   "cell_type": "markdown",
   "metadata": {},
   "source": [
    "Create an array of 1x10 then reshape to 2x5"
   ]
  },
  {
   "cell_type": "code",
   "execution_count": 83,
   "metadata": {},
   "outputs": [
    {
     "name": "stdout",
     "output_type": "stream",
     "text": [
      "a = \n",
      " [ 1  2  3  4  5  6  7  8  9 10]\n",
      "dim =  1\n",
      "shape =  (10,)\n",
      "datatype =  int32\n",
      "size =  10\n",
      "\n",
      "a = \n",
      " [[ 1  2  3  4  5]\n",
      " [ 6  7  8  9 10]]\n",
      "dim =  2\n",
      "shape =  (2, 5)\n",
      "datatype =  int32\n",
      "size =  10\n",
      "\n",
      "a = \n",
      " [[ 1  2  3  4  5]\n",
      " [ 6  7  8  9 10]]\n",
      "dim =  2\n",
      "shape =  (2, 5)\n",
      "datatype =  int32\n",
      "size =  10\n",
      "\n"
     ]
    }
   ],
   "source": [
    "import numpy as np\n",
    "\n",
    "ar1x10 = np.arange(1, 11)\n",
    "array_properties(ar1x10)\n",
    "\n",
    "# reshape class method\n",
    "ar2x5 = ar1x10.reshape((2,5))\n",
    "array_properties(ar2x5)\n",
    "\n",
    "# reshape function of np\n",
    "ar2x5 = np.reshape(ar1x10, (2,5))\n",
    "array_properties(ar2x5)"
   ]
  },
  {
   "cell_type": "code",
   "execution_count": 85,
   "metadata": {},
   "outputs": [
    {
     "name": "stdout",
     "output_type": "stream",
     "text": [
      "a = \n",
      " [10. 15. 20. 25. 30. 35. 40. 45. 50. 55.]\n",
      "dim =  1\n",
      "shape =  (10,)\n",
      "datatype =  float64\n",
      "size =  10\n",
      "\n"
     ]
    },
    {
     "ename": "ValueError",
     "evalue": "cannot reshape array of size 10 into shape (3,3)",
     "output_type": "error",
     "traceback": [
      "\u001b[1;31m---------------------------------------------------------------------------\u001b[0m",
      "\u001b[1;31mValueError\u001b[0m                                Traceback (most recent call last)",
      "\u001b[1;32m~\\AppData\\Local\\Temp/ipykernel_11472/3689207214.py\u001b[0m in \u001b[0;36m<module>\u001b[1;34m\u001b[0m\n\u001b[0;32m      5\u001b[0m \u001b[1;33m\u001b[0m\u001b[0m\n\u001b[0;32m      6\u001b[0m \u001b[1;31m# reshape into wrong container\u001b[0m\u001b[1;33m\u001b[0m\u001b[1;33m\u001b[0m\u001b[1;33m\u001b[0m\u001b[0m\n\u001b[1;32m----> 7\u001b[1;33m \u001b[0mar3x3\u001b[0m \u001b[1;33m=\u001b[0m \u001b[0mar1x10\u001b[0m\u001b[1;33m.\u001b[0m\u001b[0mreshape\u001b[0m\u001b[1;33m(\u001b[0m\u001b[1;33m(\u001b[0m\u001b[1;36m3\u001b[0m\u001b[1;33m,\u001b[0m\u001b[1;36m3\u001b[0m\u001b[1;33m)\u001b[0m\u001b[1;33m)\u001b[0m\u001b[1;33m\u001b[0m\u001b[1;33m\u001b[0m\u001b[0m\n\u001b[0m\u001b[0;32m      8\u001b[0m \u001b[0marray_properties\u001b[0m\u001b[1;33m(\u001b[0m\u001b[0mar3x3\u001b[0m\u001b[1;33m)\u001b[0m\u001b[1;33m\u001b[0m\u001b[1;33m\u001b[0m\u001b[0m\n",
      "\u001b[1;31mValueError\u001b[0m: cannot reshape array of size 10 into shape (3,3)"
     ]
    }
   ],
   "source": [
    "import numpy as np\n",
    "\n",
    "arls10 = np.linspace(10, 55, 10)\n",
    "array_properties(arls10)\n",
    "\n",
    "# reshape into wrong container\n",
    "ar3x3 = ar1x10.reshape((3,3))\n",
    "array_properties(ar3x3)"
   ]
  },
  {
   "cell_type": "code",
   "execution_count": 87,
   "metadata": {},
   "outputs": [
    {
     "name": "stdout",
     "output_type": "stream",
     "text": [
      "a = \n",
      " [ 1  2  3  4  5  6  7  8  9 10 11 12]\n",
      "dim =  1\n",
      "shape =  (12,)\n",
      "datatype =  int32\n",
      "size =  12\n",
      "\n",
      "a = \n",
      " [[ 1  2  3  4]\n",
      " [ 5  6  7  8]\n",
      " [ 9 10 11 12]]\n",
      "dim =  2\n",
      "shape =  (3, 4)\n",
      "datatype =  int32\n",
      "size =  12\n",
      "\n"
     ]
    }
   ],
   "source": [
    "import numpy as np\n",
    "\n",
    "a1 = np.arange(1, 13)\n",
    "array_properties(a1)\n",
    "\n",
    "a2 = np.reshape(a1, (3, 4))\n",
    "array_properties(a2)"
   ]
  },
  {
   "cell_type": "markdown",
   "metadata": {},
   "source": [
    "Reshape knowing only one dim size."
   ]
  },
  {
   "cell_type": "code",
   "execution_count": 89,
   "metadata": {},
   "outputs": [
    {
     "name": "stdout",
     "output_type": "stream",
     "text": [
      "a = \n",
      " [10. 15. 20. 25. 30. 35. 40. 45. 50. 55.]\n",
      "dim =  1\n",
      "shape =  (10,)\n",
      "datatype =  float64\n",
      "size =  10\n",
      "\n",
      "a = \n",
      " [[ 1  2]\n",
      " [ 3  4]\n",
      " [ 5  6]\n",
      " [ 7  8]\n",
      " [ 9 10]]\n",
      "dim =  2\n",
      "shape =  (5, 2)\n",
      "datatype =  int32\n",
      "size =  10\n",
      "\n",
      "a = \n",
      " [[ 1  2  3  4  5]\n",
      " [ 6  7  8  9 10]]\n",
      "dim =  2\n",
      "shape =  (2, 5)\n",
      "datatype =  int32\n",
      "size =  10\n",
      "\n"
     ]
    }
   ],
   "source": [
    "import numpy as np\n",
    "\n",
    "arls10 = np.linspace(10, 55, 10)\n",
    "array_properties(arls10)\n",
    "\n",
    "# reshape into 5xunknown\n",
    "ar5x_ = ar1x10.reshape((5,-1))\n",
    "array_properties(ar5x_)\n",
    "\n",
    "# reshape into unknown x5\n",
    "ar_x5 = ar1x10.reshape((-1,5))\n",
    "array_properties(ar_x5)"
   ]
  },
  {
   "cell_type": "code",
   "execution_count": 91,
   "metadata": {},
   "outputs": [
    {
     "name": "stdout",
     "output_type": "stream",
     "text": [
      "a = \n",
      " [10. 15. 20. 25. 30. 35. 40. 45. 50. 55.]\n",
      "dim =  1\n",
      "shape =  (10,)\n",
      "datatype =  float64\n",
      "size =  10\n",
      "\n"
     ]
    },
    {
     "ename": "ValueError",
     "evalue": "cannot reshape array of size 10 into shape (3,newaxis)",
     "output_type": "error",
     "traceback": [
      "\u001b[1;31m---------------------------------------------------------------------------\u001b[0m",
      "\u001b[1;31mValueError\u001b[0m                                Traceback (most recent call last)",
      "\u001b[1;32m~\\AppData\\Local\\Temp/ipykernel_11472/3167820116.py\u001b[0m in \u001b[0;36m<module>\u001b[1;34m\u001b[0m\n\u001b[0;32m      5\u001b[0m \u001b[1;33m\u001b[0m\u001b[0m\n\u001b[0;32m      6\u001b[0m \u001b[1;31m# reshape into 3xunknown\u001b[0m\u001b[1;33m\u001b[0m\u001b[1;33m\u001b[0m\u001b[1;33m\u001b[0m\u001b[0m\n\u001b[1;32m----> 7\u001b[1;33m \u001b[0mar3x_\u001b[0m \u001b[1;33m=\u001b[0m \u001b[0mar1x10\u001b[0m\u001b[1;33m.\u001b[0m\u001b[0mreshape\u001b[0m\u001b[1;33m(\u001b[0m\u001b[1;33m(\u001b[0m\u001b[1;36m3\u001b[0m\u001b[1;33m,\u001b[0m\u001b[1;33m-\u001b[0m\u001b[1;36m1\u001b[0m\u001b[1;33m)\u001b[0m\u001b[1;33m)\u001b[0m\u001b[1;33m\u001b[0m\u001b[1;33m\u001b[0m\u001b[0m\n\u001b[0m\u001b[0;32m      8\u001b[0m \u001b[0marray_properties\u001b[0m\u001b[1;33m(\u001b[0m\u001b[0mar3x_\u001b[0m\u001b[1;33m)\u001b[0m\u001b[1;33m\u001b[0m\u001b[1;33m\u001b[0m\u001b[0m\n",
      "\u001b[1;31mValueError\u001b[0m: cannot reshape array of size 10 into shape (3,newaxis)"
     ]
    }
   ],
   "source": [
    "import numpy as np\n",
    "\n",
    "arls10 = np.linspace(10, 55, 10)\n",
    "array_properties(arls10)\n",
    "\n",
    "# reshape into 3xunknown\n",
    "ar3x_ = ar1x10.reshape((3,-1))\n",
    "array_properties(ar3x_)"
   ]
  },
  {
   "cell_type": "code",
   "execution_count": 92,
   "metadata": {},
   "outputs": [
    {
     "name": "stdout",
     "output_type": "stream",
     "text": [
      "a = \n",
      " [ 1.   2.5  4.   5.5  7.   8.5 10.  11.5]\n",
      "dim =  1\n",
      "shape =  (8,)\n",
      "datatype =  float64\n",
      "size =  8\n",
      "\n",
      "a = \n",
      " [[ 1.   2.5]\n",
      " [ 4.   5.5]\n",
      " [ 7.   8.5]\n",
      " [10.  11.5]]\n",
      "dim =  2\n",
      "shape =  (4, 2)\n",
      "datatype =  float64\n",
      "size =  8\n",
      "\n"
     ]
    }
   ],
   "source": [
    "import numpy as np\n",
    "\n",
    "a1 = np.arange(1, 13, 1.5)\n",
    "array_properties(a1)\n",
    "\n",
    "a2 = np.reshape(a1, (4, -1))\n",
    "array_properties(a2)"
   ]
  },
  {
   "cell_type": "code",
   "execution_count": 40,
   "metadata": {},
   "outputs": [
    {
     "name": "stdout",
     "output_type": "stream",
     "text": [
      "a = \n",
      " [[ 1.          1.64285714  2.28571429]\n",
      " [ 2.92857143  3.57142857  4.21428571]\n",
      " [ 4.85714286  5.5         6.14285714]\n",
      " [ 6.78571429  7.42857143  8.07142857]\n",
      " [ 8.71428571  9.35714286 10.        ]]\n",
      "dim =  2\n",
      "shape =  (5, 3)\n",
      "datatype =  float64\n",
      "size =  15\n",
      "\n"
     ]
    }
   ],
   "source": [
    "import numpy as np\n",
    "\n",
    "a1 = np.linspace(1, 10, 15).reshape(5, -1)\n",
    "\n",
    "array_properties(a1)"
   ]
  },
  {
   "cell_type": "markdown",
   "metadata": {},
   "source": [
    "## Class Activity\n",
    "\n",
    "Create an array of shape 4x5 and reshape into 2x-1."
   ]
  },
  {
   "cell_type": "code",
   "execution_count": 94,
   "metadata": {},
   "outputs": [
    {
     "name": "stdout",
     "output_type": "stream",
     "text": [
      "a = \n",
      " [ 1.          2.05263158  3.10526316  4.15789474  5.21052632  6.26315789\n",
      "  7.31578947  8.36842105  9.42105263 10.47368421 11.52631579 12.57894737\n",
      " 13.63157895 14.68421053 15.73684211 16.78947368 17.84210526 18.89473684\n",
      " 19.94736842 21.        ]\n",
      "dim =  1\n",
      "shape =  (20,)\n",
      "datatype =  float64\n",
      "size =  20\n",
      "\n",
      "a = \n",
      " [[ 1.          2.05263158  3.10526316  4.15789474  5.21052632]\n",
      " [ 6.26315789  7.31578947  8.36842105  9.42105263 10.47368421]\n",
      " [11.52631579 12.57894737 13.63157895 14.68421053 15.73684211]\n",
      " [16.78947368 17.84210526 18.89473684 19.94736842 21.        ]]\n",
      "dim =  2\n",
      "shape =  (4, 5)\n",
      "datatype =  float64\n",
      "size =  20\n",
      "\n",
      "a = \n",
      " [[ 1.          2.05263158  3.10526316  4.15789474  5.21052632  6.26315789\n",
      "   7.31578947  8.36842105  9.42105263 10.47368421]\n",
      " [11.52631579 12.57894737 13.63157895 14.68421053 15.73684211 16.78947368\n",
      "  17.84210526 18.89473684 19.94736842 21.        ]]\n",
      "dim =  2\n",
      "shape =  (2, 10)\n",
      "datatype =  float64\n",
      "size =  20\n",
      "\n"
     ]
    }
   ],
   "source": [
    "import numpy as np \n",
    "\n",
    "ar20 = np.linspace(1,21,20)\n",
    "array_properties(ar20)\n",
    "\n",
    "ar4x5 = ar20.reshape((4,5))\n",
    "array_properties(ar4x5)\n",
    "\n",
    "ar2x_ = ar4x5.reshape((2,-1))\n",
    "array_properties(ar2x_)\n"
   ]
  },
  {
   "cell_type": "markdown",
   "metadata": {},
   "source": [
    "## Class Activity\n",
    "\n",
    "Create an array of 24 elements or size.\n",
    "Reshape into multiples of 3 and 4 in row dimension.\n"
   ]
  },
  {
   "cell_type": "code",
   "execution_count": null,
   "metadata": {},
   "outputs": [],
   "source": [
    "import numpy as np\n",
    "\n",
    "# create a 1 dim array of size 24\n",
    "\n",
    "\n",
    "# reshape into array o 3x-1\n",
    "\n",
    "\n",
    "# reshape into array of 4x-1"
   ]
  },
  {
   "cell_type": "markdown",
   "metadata": {},
   "source": [
    "## Class Activity \n",
    "\n",
    "Create an array of unsugned integer 8 bits of size 300 and reshape into (10,10,-1)."
   ]
  },
  {
   "cell_type": "code",
   "execution_count": 97,
   "metadata": {},
   "outputs": [
    {
     "name": "stdout",
     "output_type": "stream",
     "text": [
      "(300,)\n",
      "(10, 10, 3)\n"
     ]
    }
   ],
   "source": [
    "ar300 = np.arange(0,300,dtype='uint8')\n",
    "print(ar300.shape)\n",
    "\n",
    "ar10x10x_ = ar300.reshape((10,10,-1))\n",
    "print(ar10x10x_.shape)\n"
   ]
  },
  {
   "cell_type": "code",
   "execution_count": 101,
   "metadata": {},
   "outputs": [
    {
     "name": "stdout",
     "output_type": "stream",
     "text": [
      "(10, 10, 3)\n",
      "(10, 10, 3)\n"
     ]
    }
   ],
   "source": [
    "# 10,-1,3\n",
    "ar10x_x3 = ar300.reshape((10,-1,3))\n",
    "print(ar10x_x3.shape)\n",
    "\n",
    "# -1,10,3\n",
    "ar_x10x3 = ar300.reshape((-1,10,3))\n",
    "print(ar_x10x3.shape)\n",
    "\n",
    "\n",
    "\n"
   ]
  },
  {
   "cell_type": "code",
   "execution_count": 102,
   "metadata": {},
   "outputs": [
    {
     "ename": "ValueError",
     "evalue": "can only specify one unknown dimension",
     "output_type": "error",
     "traceback": [
      "\u001b[1;31m---------------------------------------------------------------------------\u001b[0m",
      "\u001b[1;31mValueError\u001b[0m                                Traceback (most recent call last)",
      "\u001b[1;32m~\\AppData\\Local\\Temp/ipykernel_11472/935193855.py\u001b[0m in \u001b[0;36m<module>\u001b[1;34m\u001b[0m\n\u001b[0;32m      1\u001b[0m \u001b[1;31m# -1,10,3\u001b[0m\u001b[1;33m\u001b[0m\u001b[1;33m\u001b[0m\u001b[1;33m\u001b[0m\u001b[0m\n\u001b[1;32m----> 2\u001b[1;33m \u001b[0mar_x_x3\u001b[0m \u001b[1;33m=\u001b[0m \u001b[0mar300\u001b[0m\u001b[1;33m.\u001b[0m\u001b[0mreshape\u001b[0m\u001b[1;33m(\u001b[0m\u001b[1;33m(\u001b[0m\u001b[1;33m-\u001b[0m\u001b[1;36m1\u001b[0m\u001b[1;33m,\u001b[0m\u001b[1;33m-\u001b[0m\u001b[1;36m1\u001b[0m\u001b[1;33m,\u001b[0m\u001b[1;36m3\u001b[0m\u001b[1;33m)\u001b[0m\u001b[1;33m)\u001b[0m\u001b[1;33m\u001b[0m\u001b[1;33m\u001b[0m\u001b[0m\n\u001b[0m\u001b[0;32m      3\u001b[0m \u001b[0mprint\u001b[0m\u001b[1;33m(\u001b[0m\u001b[0mar_x_x3\u001b[0m\u001b[1;33m.\u001b[0m\u001b[0mshape\u001b[0m\u001b[1;33m)\u001b[0m\u001b[1;33m\u001b[0m\u001b[1;33m\u001b[0m\u001b[0m\n",
      "\u001b[1;31mValueError\u001b[0m: can only specify one unknown dimension"
     ]
    }
   ],
   "source": [
    "# -1,10,3\n",
    "ar_x_x3 = ar300.reshape((-1,-1,3))\n",
    "print(ar_x_x3.shape)"
   ]
  },
  {
   "cell_type": "markdown",
   "metadata": {},
   "source": [
    "## random"
   ]
  },
  {
   "cell_type": "markdown",
   "metadata": {},
   "source": [
    "`rand` will geneartion random values between 0 - 1. It accepts the shape of the array to be created."
   ]
  },
  {
   "cell_type": "code",
   "execution_count": 106,
   "metadata": {},
   "outputs": [
    {
     "name": "stdout",
     "output_type": "stream",
     "text": [
      "a = \n",
      " [[0.79355467 0.02398627 0.54799052 0.71533769 0.49971466]\n",
      " [0.6456805  0.19082646 0.58991645 0.0107417  0.53653781]\n",
      " [0.50731978 0.26904773 0.03908328 0.68412245 0.89308668]\n",
      " [0.93382234 0.10272734 0.67082097 0.19888379 0.72827832]]\n",
      "dim =  2\n",
      "shape =  (4, 5)\n",
      "datatype =  float64\n",
      "size =  20\n",
      "\n"
     ]
    }
   ],
   "source": [
    "import numpy as np\n",
    "\n",
    "# random array between 0-1 with shape (4,5)\n",
    "a1 = np.random.rand(4, 5)\n",
    "\n",
    "array_properties(a1)"
   ]
  },
  {
   "cell_type": "markdown",
   "metadata": {},
   "source": [
    "Class Activity\n",
    "\n",
    "Create an array with shape (3,7) of values between 0-1."
   ]
  },
  {
   "cell_type": "code",
   "execution_count": null,
   "metadata": {},
   "outputs": [],
   "source": []
  },
  {
   "cell_type": "markdown",
   "metadata": {},
   "source": [
    "## randint  \n",
    "\n",
    "Creates an array of integer.   \n",
    "It accepts start, stop and shape.  \n",
    "`randint(start, stop, shape)`"
   ]
  },
  {
   "cell_type": "code",
   "execution_count": 107,
   "metadata": {},
   "outputs": [
    {
     "name": "stdout",
     "output_type": "stream",
     "text": [
      "a = \n",
      " [[2 1 5 8 3]\n",
      " [4 8 4 5 1]\n",
      " [9 8 4 5 2]\n",
      " [1 7 2 3 0]]\n",
      "dim =  2\n",
      "shape =  (4, 5)\n",
      "datatype =  int32\n",
      "size =  20\n",
      "\n"
     ]
    }
   ],
   "source": [
    "import numpy as np\n",
    "\n",
    "a1 = np.random.randint(0, 10, (4,5))\n",
    "\n",
    "array_properties(a1)"
   ]
  },
  {
   "cell_type": "markdown",
   "metadata": {},
   "source": [
    "## Class Activity\n",
    "\n",
    "Create an array of unsigned integer of 8 bits with shape (100, 100, 3) and filled with random integer values."
   ]
  },
  {
   "cell_type": "markdown",
   "metadata": {},
   "source": [
    "## Accessing an array element\n",
    "\n",
    "\n",
    "\n",
    "\n"
   ]
  },
  {
   "cell_type": "code",
   "execution_count": null,
   "metadata": {},
   "outputs": [],
   "source": []
  },
  {
   "cell_type": "markdown",
   "metadata": {},
   "source": [
    "### 1 D Array\n"
   ]
  },
  {
   "cell_type": "code",
   "execution_count": 108,
   "metadata": {},
   "outputs": [
    {
     "name": "stdout",
     "output_type": "stream",
     "text": [
      "a = \n",
      " [ 1  2  3  4  5  6  7  8  9 10 11 12]\n",
      "dim =  1\n",
      "shape =  (12,)\n",
      "datatype =  int32\n",
      "size =  12\n",
      "\n"
     ]
    }
   ],
   "source": [
    "import numpy as np\n",
    "\n",
    "a1 = np.arange(1, 13)\n",
    "array_properties(a1)\n"
   ]
  },
  {
   "cell_type": "markdown",
   "metadata": {},
   "source": [
    "|index|0|1|2|3|4|5|6|7|8|9|10|11|\n",
    "|---|---|---|---|---|---|---|---|---|---|---|---|---|\n",
    "|value|1|2|3|4|5|6|7|8|9|10|11|12|\n",
    "|special index|-12|-11|-10|-9|-8|-7|-6|-5|-4|-3|-2|-1|"
   ]
  },
  {
   "cell_type": "code",
   "execution_count": 110,
   "metadata": {},
   "outputs": [
    {
     "name": "stdout",
     "output_type": "stream",
     "text": [
      "first:  1\n",
      "second:  2\n",
      "third:  3\n"
     ]
    }
   ],
   "source": [
    "print('first: ', a1[0])\n",
    "print('second: ', a1[1])\n",
    "print('third: ', a1[2])\n"
   ]
  },
  {
   "cell_type": "code",
   "execution_count": 45,
   "metadata": {},
   "outputs": [
    {
     "name": "stdout",
     "output_type": "stream",
     "text": [
      "ninth:  9\n",
      "last:  12\n",
      "last:  12\n"
     ]
    }
   ],
   "source": [
    "print('ninth: ', a1[9-1])\n",
    "print('last: ', a1[11])\n",
    "print('last: ', a1[-1])\n"
   ]
  },
  {
   "cell_type": "code",
   "execution_count": 112,
   "metadata": {},
   "outputs": [
    {
     "name": "stdout",
     "output_type": "stream",
     "text": [
      "index 0 to 4:  [1 2 3 4]\n"
     ]
    }
   ],
   "source": [
    "# a1[istart:istop]\n",
    "# stop or istop excluded\n",
    "print('index 0 to 4: ', a1[0:4])\n"
   ]
  },
  {
   "cell_type": "code",
   "execution_count": 113,
   "metadata": {},
   "outputs": [
    {
     "name": "stdout",
     "output_type": "stream",
     "text": [
      "index 0 to 4:  [1 2 3 4]\n"
     ]
    }
   ],
   "source": [
    "# omitte the istart\n",
    "print('index 0 to 4: ', a1[:4])\n"
   ]
  },
  {
   "cell_type": "code",
   "execution_count": 48,
   "metadata": {},
   "outputs": [
    {
     "name": "stdout",
     "output_type": "stream",
     "text": [
      "index 3 to 6:  [4 5 6]\n"
     ]
    }
   ],
   "source": [
    "print('index 3 to 6: ', a1[3:6])\n"
   ]
  },
  {
   "cell_type": "code",
   "execution_count": 49,
   "metadata": {},
   "outputs": [
    {
     "name": "stdout",
     "output_type": "stream",
     "text": [
      "index  0 to 10:  [ 1  2  3  4  5  6  7  8  9 10]\n",
      "index  0 to 10:  [ 1  2  3  4  5  6  7  8  9 10]\n"
     ]
    }
   ],
   "source": [
    "print('index  0 to 10: ', a1[0:10])\n",
    "print('index  0 to 10: ', a1[:10])\n"
   ]
  },
  {
   "cell_type": "code",
   "execution_count": 50,
   "metadata": {},
   "outputs": [
    {
     "name": "stdout",
     "output_type": "stream",
     "text": [
      "index 3 to last:  [ 4  5  6  7  8  9 10 11 12]\n",
      "index 3 to last:  [ 4  5  6  7  8  9 10 11 12]\n"
     ]
    }
   ],
   "source": [
    "# omitt istop equal last index\n",
    "print('index 3 to last: ', a1[3:12])\n",
    "print('index 3 to last: ', a1[3:])\n"
   ]
  },
  {
   "cell_type": "code",
   "execution_count": 51,
   "metadata": {},
   "outputs": [
    {
     "name": "stdout",
     "output_type": "stream",
     "text": [
      "index 3 to second to the last:  [ 4  5  6  7  8  9 10 11]\n"
     ]
    }
   ],
   "source": [
    "# from istart to second to the last value\n",
    "# index -1 equal last index.\n",
    "print('index 3 to second to the last: ', a1[3:-1])\n"
   ]
  },
  {
   "cell_type": "code",
   "execution_count": 52,
   "metadata": {},
   "outputs": [
    {
     "name": "stdout",
     "output_type": "stream",
     "text": [
      "last 2 numbers:  [11 12]\n",
      "last 2 numbers:  [11 12]\n"
     ]
    }
   ],
   "source": [
    "print('last 2 numbers: ', a1[10:])\n",
    "print('last 2 numbers: ', a1[-2:])\n"
   ]
  },
  {
   "cell_type": "code",
   "execution_count": 114,
   "metadata": {},
   "outputs": [
    {
     "name": "stdout",
     "output_type": "stream",
     "text": [
      "odd positions:  [ 1  3  5  7  9 11]\n"
     ]
    }
   ],
   "source": [
    "# get odd positions\n",
    "# a1[istart : istop : istep]\n",
    "print('odd positions: ', a1[0::2])\n"
   ]
  },
  {
   "cell_type": "code",
   "execution_count": 54,
   "metadata": {},
   "outputs": [
    {
     "name": "stdout",
     "output_type": "stream",
     "text": [
      "even positions:  [ 2  4  6  8 10 12]\n"
     ]
    }
   ],
   "source": [
    "print('even positions: ', a1[1::2])\n"
   ]
  },
  {
   "cell_type": "code",
   "execution_count": 55,
   "metadata": {},
   "outputs": [
    {
     "name": "stdout",
     "output_type": "stream",
     "text": [
      "a = \n",
      " [ 0  1  2  3  4  5  6  7  8  9 10 11 12]\n",
      "dim =  1\n",
      "shape =  (13,)\n",
      "datatype =  int32\n",
      "size =  13\n",
      "\n"
     ]
    }
   ],
   "source": [
    "import numpy as np\n",
    "\n",
    "N = 12\n",
    "a1 = np.arange(N+1)\n",
    "\n",
    "array_properties(a1)\n"
   ]
  },
  {
   "cell_type": "markdown",
   "metadata": {},
   "source": [
    "Use for loop on array."
   ]
  },
  {
   "cell_type": "code",
   "execution_count": 56,
   "metadata": {},
   "outputs": [
    {
     "name": "stdout",
     "output_type": "stream",
     "text": [
      "0: 0\n",
      "1: 1\n",
      "2: 2\n",
      "3: 3\n",
      "4: 4\n",
      "5: 5\n",
      "6: 6\n",
      "7: 7\n",
      "8: 8\n",
      "9: 9\n",
      "10: 10\n",
      "11: 11\n",
      "12: 12\n"
     ]
    }
   ],
   "source": [
    "\n",
    "for i in range(N+1):\n",
    "    print(f'{i}: {a1[i]}')"
   ]
  },
  {
   "cell_type": "markdown",
   "metadata": {},
   "source": [
    "# Assignment\n",
    "\n",
    "1. Create an array of shape (10, 10) with uint8 random values.\n",
    "2. print the shape, size and dimension, \n",
    "3. Compute the sum of the third row to the last.\n",
    "4. Compute the average of the columns\n"
   ]
  },
  {
   "cell_type": "markdown",
   "metadata": {},
   "source": [
    "### 2 D Array\n"
   ]
  },
  {
   "cell_type": "code",
   "execution_count": 14,
   "metadata": {},
   "outputs": [
    {
     "name": "stdout",
     "output_type": "stream",
     "text": [
      "size of a14= 15\n"
     ]
    }
   ],
   "source": [
    "import numpy as np\n",
    "\n",
    "a14 = np.arange(14+1)\n",
    "print('size of a14=', a14.size)\n",
    "\n",
    "if (a14.size % 4) == 0:\n",
    "    reshape_a = a14.reshape((4,-1))\n",
    "    print(reshape_a.shape)"
   ]
  },
  {
   "cell_type": "code",
   "execution_count": 13,
   "metadata": {},
   "outputs": [
    {
     "name": "stdout",
     "output_type": "stream",
     "text": [
      "16 / 3= 5.333333333333333\n",
      "16 % 3= 1\n",
      "16 // 3=5\n",
      "16 / 4= 4.0\n",
      "16 % 4= 0\n",
      "16 // 4= 4\n"
     ]
    }
   ],
   "source": [
    "# divide result in float\n",
    "print('16 / 3=', 16 / 3)\n",
    "# remainder \n",
    "print('16 % 3=', 16 % 3)\n",
    "# whole or integer\n",
    "print('16 // 3', 16 // 3, sep='=')\n",
    "\n",
    "print('16 / 4=', 16 / 4)\n",
    "print('16 % 4=', 16 % 4)\n",
    "print('16 // 4=', 16 // 4)\n"
   ]
  },
  {
   "cell_type": "code",
   "execution_count": 15,
   "metadata": {},
   "outputs": [
    {
     "name": "stdout",
     "output_type": "stream",
     "text": [
      "a = \n",
      " [[ 1  2  3  4]\n",
      " [ 5  6  7  8]\n",
      " [ 9 10 11 12]\n",
      " [13 14 15 16]]\n",
      "dim =  2\n",
      "shape =  (4, 4)\n",
      "datatype =  int32\n",
      "size =  16\n",
      "\n"
     ]
    }
   ],
   "source": [
    "import numpy as np\n",
    "\n",
    "a1 = np.arange(1, 17)\n",
    "\n",
    "a2 = np.resize(a1, (4,4))\n",
    "array_properties(a2)\n"
   ]
  },
  {
   "cell_type": "code",
   "execution_count": 16,
   "metadata": {},
   "outputs": [
    {
     "name": "stdout",
     "output_type": "stream",
     "text": [
      "Element in row=1, column=1:  1\n",
      "Element in row=3, column=1:  9\n",
      "Element in row=2, column=3:  7\n"
     ]
    }
   ],
   "source": [
    "print('Element in row=1, column=1: ', a2[0,0])\n",
    "print('Element in row=3, column=1: ', a2[2,0])\n",
    "print('Element in row=2, column=3: ', a2[1,2])\n"
   ]
  },
  {
   "cell_type": "code",
   "execution_count": 21,
   "metadata": {},
   "outputs": [
    {
     "name": "stdout",
     "output_type": "stream",
     "text": [
      "a = \n",
      " [[ 1  2  3  4]\n",
      " [ 5  6  7  8]\n",
      " [ 9 10 11 12]\n",
      " [13 14 15 16]]\n",
      "dim =  2\n",
      "shape =  (4, 4)\n",
      "datatype =  int32\n",
      "size =  16\n",
      "\n",
      "Element in row=1, column=2: 2\n"
     ]
    }
   ],
   "source": [
    "array_properties(a2)\n",
    "\n",
    "# row & index\n",
    "row = 1\n",
    "i = row - 1\n",
    "# column & index\n",
    "col = 2\n",
    "j = col - 1\n",
    "\n",
    "print(f'Element in row={row}, column={col}: {a2[i,j]}')\n"
   ]
  },
  {
   "cell_type": "code",
   "execution_count": 22,
   "metadata": {},
   "outputs": [
    {
     "name": "stdout",
     "output_type": "stream",
     "text": [
      "Elements in row= 2: [5 6 7 8]\n"
     ]
    }
   ],
   "source": [
    "# get all elements in row 2\n",
    "print(f'Elements in row= 2: {a2[1,:]}')\n"
   ]
  },
  {
   "cell_type": "code",
   "execution_count": 23,
   "metadata": {},
   "outputs": [
    {
     "name": "stdout",
     "output_type": "stream",
     "text": [
      "Elements in row= 2: [5 6 7 8]\n"
     ]
    }
   ],
   "source": [
    "# alternative: get all elements in row 2 or dimension 1\n",
    "print(f'Elements in row= 2: {a2[1]}')\n"
   ]
  },
  {
   "cell_type": "code",
   "execution_count": 25,
   "metadata": {},
   "outputs": [
    {
     "name": "stdout",
     "output_type": "stream",
     "text": [
      "Elements in col= 2:  [ 2  6 10 14]\n"
     ]
    }
   ],
   "source": [
    "# get all value in column 2 or dimension\n",
    "print('Elements in col= 2: ', a2[:,1])\n"
   ]
  },
  {
   "cell_type": "code",
   "execution_count": 28,
   "metadata": {},
   "outputs": [
    {
     "ename": "SyntaxError",
     "evalue": "invalid syntax (Temp/ipykernel_13660/1118262007.py, line 2)",
     "output_type": "error",
     "traceback": [
      "\u001b[1;36m  File \u001b[1;32m\"C:\\Users\\gokel\\AppData\\Local\\Temp/ipykernel_13660/1118262007.py\"\u001b[1;36m, line \u001b[1;32m2\u001b[0m\n\u001b[1;33m    print('Elements in col= 2: ', a2[,1])\u001b[0m\n\u001b[1;37m                                     ^\u001b[0m\n\u001b[1;31mSyntaxError\u001b[0m\u001b[1;31m:\u001b[0m invalid syntax\n"
     ]
    }
   ],
   "source": [
    "# alternative: wrong get all value in column 2 or dimension 2\n",
    "print('Elements in col= 2: ', a2[,1])\n"
   ]
  },
  {
   "cell_type": "code",
   "execution_count": 62,
   "metadata": {},
   "outputs": [
    {
     "name": "stdout",
     "output_type": "stream",
     "text": [
      "Elements in rows= 1 to 3 and columns= 2 to 4: \n",
      " [[ 2  3]\n",
      " [ 6  7]\n",
      " [10 11]]\n",
      "\n",
      "Elements in row index= 0 to 2 and column index= 1 to 2: \n",
      " [[ 2  3]\n",
      " [ 6  7]\n",
      " [10 11]]\n"
     ]
    }
   ],
   "source": [
    "print(f'Elements in rows= 1 to 3 and columns= 2 to 4: \\n', a2[0:3,1:3])\n",
    "print()\n",
    "print(f'Elements in row index= 0 to 2 and column index= 1 to 2: \\n', a2[0:3,1:3])\n"
   ]
  },
  {
   "cell_type": "code",
   "execution_count": 63,
   "metadata": {},
   "outputs": [
    {
     "name": "stdout",
     "output_type": "stream",
     "text": [
      "a = \n",
      " [[ 1  2  3  4]\n",
      " [ 5  6  7  8]\n",
      " [ 9 10 11 12]\n",
      " [13 14 15 16]]\n",
      "dim =  2\n",
      "shape =  (4, 4)\n",
      "datatype =  int32\n",
      "size =  16\n",
      "\n",
      "0,0: 1, 0,1: 2, 0,2: 3, 0,3: 4, \n",
      "1,0: 5, 1,1: 6, 1,2: 7, 1,3: 8, \n",
      "2,0: 9, 2,1: 10, 2,2: 11, 2,3: 12, \n",
      "3,0: 13, 3,1: 14, 3,2: 15, 3,3: 16, \n",
      "\n",
      "1, 2, 3, 4, \n",
      "5, 6, 7, 8, \n",
      "9, 10, 11, 12, \n",
      "13, 14, 15, 16, \n"
     ]
    }
   ],
   "source": [
    "array_properties(a2)\n",
    "\n",
    "rows, columns = a2.shape\n",
    "for i in range(rows):\n",
    "    for j in range(columns):\n",
    "        print(f'{i},{j}: {a2[i,j]}', end=', ')\n",
    "    print()\n",
    "\n",
    "print()\n",
    "\n",
    "rows, columns = a2.shape\n",
    "for i in range(rows):\n",
    "    for j in range(columns):\n",
    "        print(a2[i,j], end=', ')\n",
    "    print()"
   ]
  },
  {
   "cell_type": "markdown",
   "metadata": {},
   "source": [
    "### 3D Array"
   ]
  },
  {
   "cell_type": "code",
   "execution_count": 30,
   "metadata": {},
   "outputs": [
    {
     "name": "stdout",
     "output_type": "stream",
     "text": [
      "a = \n",
      " [[[1 2]\n",
      "  [3 4]]\n",
      "\n",
      " [[5 6]\n",
      "  [7 8]]]\n",
      "dim =  3\n",
      "shape =  (2, 2, 2)\n",
      "datatype =  int32\n",
      "size =  8\n",
      "\n"
     ]
    }
   ],
   "source": [
    "import numpy as np\n",
    "\n",
    "a3 = np.arange(1, 9).reshape((2,2,2))\n",
    "array_properties(a3)\n"
   ]
  },
  {
   "cell_type": "code",
   "execution_count": 32,
   "metadata": {},
   "outputs": [
    {
     "name": "stdout",
     "output_type": "stream",
     "text": [
      "4\n",
      "[3 4]\n",
      "[3 4]\n",
      "[2 4]\n",
      "[4 8]\n"
     ]
    }
   ],
   "source": [
    "\n",
    "print(a3[0,1,1])\n",
    "# \n",
    "print(a3[0,1,:])\n",
    "print(a3[0,1])\n",
    "# \n",
    "print(a3[0,:,1])\n",
    "print(a3[:,1,1])\n"
   ]
  },
  {
   "cell_type": "code",
   "execution_count": 66,
   "metadata": {},
   "outputs": [
    {
     "name": "stdout",
     "output_type": "stream",
     "text": [
      "a = \n",
      " [[[111 112 113]\n",
      "  [121 122 123]]\n",
      "\n",
      " [[211 212 213]\n",
      "  [221 222 223]]]\n",
      "dim =  3\n",
      "shape =  (2, 2, 3)\n",
      "datatype =  int32\n",
      "size =  12\n",
      "\n"
     ]
    }
   ],
   "source": [
    "\n",
    "a3D = np.array([\n",
    "    [\n",
    "        [111,112,113],\n",
    "        [121,122,123],\n",
    "    ],\n",
    "    [\n",
    "        [211,212,213],\n",
    "        [221,222,223],\n",
    "    ]\n",
    "])\n",
    "\n",
    "array_properties(a3D)\n"
   ]
  },
  {
   "cell_type": "code",
   "execution_count": 67,
   "metadata": {},
   "outputs": [
    {
     "name": "stdout",
     "output_type": "stream",
     "text": [
      "Element 1,2,2:  122\n"
     ]
    }
   ],
   "source": [
    "print('Element 1,2,2: ', a3D[0,1,1])"
   ]
  },
  {
   "cell_type": "code",
   "execution_count": 68,
   "metadata": {},
   "outputs": [
    {
     "name": "stdout",
     "output_type": "stream",
     "text": [
      "a = \n",
      " [[[1 2]\n",
      "  [3 4]]\n",
      "\n",
      " [[5 6]\n",
      "  [7 8]]]\n",
      "dim =  3\n",
      "shape =  (2, 2, 2)\n",
      "datatype =  int32\n",
      "size =  8\n",
      "\n",
      "0,0,0: 1, 0,0,1: 2, \n",
      "0,1,0: 3, 0,1,1: 4, \n",
      "\n",
      "1,0,0: 5, 1,0,1: 6, \n",
      "1,1,0: 7, 1,1,1: 8, \n",
      "\n",
      "\n",
      "1, 2, \n",
      "3, 4, \n",
      "\n",
      "5, 6, \n",
      "7, 8, \n",
      "\n"
     ]
    }
   ],
   "source": [
    "array_properties(a3)\n",
    "\n",
    "rows_3d, rows, columns = a3.shape\n",
    "for i in range(rows_3d):\n",
    "    for j in range(rows):\n",
    "        for k in range(columns):\n",
    "            print(f'{i},{j},{k}: {a3[i,j,k]}', end=', ')\n",
    "        print()\n",
    "    print()\n",
    "\n",
    "print()\n",
    "\n",
    "rows_3d, rows, columns = a3.shape\n",
    "for i in range(rows_3d):\n",
    "    for j in range(rows):\n",
    "        for k in range(columns):\n",
    "            print(a3[i,j,k], end=', ')\n",
    "        print()\n",
    "    print()"
   ]
  },
  {
   "cell_type": "markdown",
   "metadata": {},
   "source": [
    "## Changing Array Element"
   ]
  },
  {
   "cell_type": "code",
   "execution_count": 33,
   "metadata": {},
   "outputs": [
    {
     "name": "stdout",
     "output_type": "stream",
     "text": [
      "[[1 2 3]\n",
      " [4 5 6]\n",
      " [7 8 9]]\n"
     ]
    }
   ],
   "source": [
    "import numpy as np\n",
    "\n",
    "a3x3 = np.arange(1,10).reshape((3,-1))\n",
    "\n",
    "print(a3x3)"
   ]
  },
  {
   "cell_type": "markdown",
   "metadata": {},
   "source": [
    "||0|1|2|\n",
    "|---|---|---|--|\n",
    "|0|1|2|3|\n",
    "|1|4|5|6|\n",
    "|2|7|8|9|"
   ]
  },
  {
   "cell_type": "code",
   "execution_count": 34,
   "metadata": {},
   "outputs": [
    {
     "name": "stdout",
     "output_type": "stream",
     "text": [
      "6\n"
     ]
    }
   ],
   "source": [
    "# print value 6\n",
    "print(a3x3[1,2])"
   ]
  },
  {
   "cell_type": "code",
   "execution_count": 38,
   "metadata": {},
   "outputs": [
    {
     "name": "stdout",
     "output_type": "stream",
     "text": [
      "3\n",
      "[[ 1  2 33]\n",
      " [ 4  5  6]\n",
      " [ 7 18  9]]\n"
     ]
    }
   ],
   "source": [
    "# print 3\n",
    "print(a3x3[0,2])\n",
    "\n",
    "# change 3 to 33\n",
    "a3x3[0,2] = 33\n",
    "\n",
    "print(a3x3)"
   ]
  },
  {
   "cell_type": "markdown",
   "metadata": {},
   "source": [
    "||0|1|2|\n",
    "|---|---|---|--|\n",
    "|0|1|2|33|\n",
    "|1|4|5|6|\n",
    "|2|7|8|9|"
   ]
  },
  {
   "cell_type": "code",
   "execution_count": 36,
   "metadata": {},
   "outputs": [
    {
     "name": "stdout",
     "output_type": "stream",
     "text": [
      "8\n",
      "[[ 1  2  3]\n",
      " [ 4  5  6]\n",
      " [ 7 18  9]]\n"
     ]
    }
   ],
   "source": [
    "# change value 8 to 18\n",
    "print(a3x3[2,1])\n",
    "a3x3[2,1] = 18\n",
    "\n",
    "print(a3x3)\n"
   ]
  },
  {
   "cell_type": "code",
   "execution_count": 39,
   "metadata": {},
   "outputs": [
    {
     "name": "stdout",
     "output_type": "stream",
     "text": [
      "a = \n",
      " [0 1 2 3 4 5 6 7 8]\n",
      "dim =  1\n",
      "shape =  (9,)\n",
      "datatype =  int32\n",
      "size =  9\n",
      "\n",
      "Third element:  2\n",
      "Third element squared:  4\n"
     ]
    }
   ],
   "source": [
    "import numpy as np\n",
    "\n",
    "a1 = np.arange(9)\n",
    "array_properties(a1)\n",
    "\n",
    "\n",
    "print('Third element: ', a1[2])\n",
    "\n",
    "a1[2] = a1[2] ** 2\n",
    "print('Third element squared: ', a1[2])\n"
   ]
  },
  {
   "cell_type": "markdown",
   "metadata": {},
   "source": [
    "||0|1|2|3|4|5|6|7|8|\n",
    "|---|---|---|---|---|---|---|---|---|---|\n",
    "|0|0|1|2|3|4|5|6|7|8|"
   ]
  },
  {
   "cell_type": "code",
   "execution_count": 40,
   "metadata": {},
   "outputs": [
    {
     "data": {
      "text/plain": [
       "9"
      ]
     },
     "execution_count": 40,
     "metadata": {},
     "output_type": "execute_result"
    }
   ],
   "source": [
    "# 3 ^ 2 = 9\n",
    "\n",
    "3 ** 2"
   ]
  },
  {
   "cell_type": "code",
   "execution_count": 43,
   "metadata": {},
   "outputs": [
    {
     "name": "stdout",
     "output_type": "stream",
     "text": [
      "a = \n",
      " [[1 2 3]\n",
      " [4 5 6]\n",
      " [7 8 9]]\n",
      "dim =  2\n",
      "shape =  (3, 3)\n",
      "datatype =  int32\n",
      "size =  9\n",
      "\n",
      "2nd row, 2nd column element:  5\n",
      "2nd row, 2nd column element squared:  25\n",
      "[[ 1  2  3]\n",
      " [ 4 25  6]\n",
      " [ 7  8  9]]\n"
     ]
    }
   ],
   "source": [
    "import numpy as np\n",
    "\n",
    "a2 = np.arange(1,10).reshape(3,3)\n",
    "array_properties(a2)\n",
    "\n",
    "\n",
    "print('2nd row, 2nd column element: ', a2[1,1])\n",
    "a2[1,1] = a2[1,1] ** 2\n",
    "print('2nd row, 2nd column element squared: ', a2[1,1])\n",
    "\n",
    "print(a2)\n"
   ]
  },
  {
   "cell_type": "code",
   "execution_count": 44,
   "metadata": {},
   "outputs": [
    {
     "name": "stdout",
     "output_type": "stream",
     "text": [
      "Third row:  [7 8 9]\n",
      "Third row doubled:  [14 16 18]\n",
      "[[ 1  2  3]\n",
      " [ 4 25  6]\n",
      " [14 16 18]]\n"
     ]
    }
   ],
   "source": [
    "\n",
    "print('Third row: ', a2[2,:])\n",
    "a2[2] = a2[2,:] * 2\n",
    "print('Third row doubled: ', a2[2,:])\n",
    "\n",
    "print(a2)\n"
   ]
  },
  {
   "cell_type": "code",
   "execution_count": 45,
   "metadata": {},
   "outputs": [
    {
     "name": "stdout",
     "output_type": "stream",
     "text": [
      "First row:  [1 2 3]\n",
      "First row increased by second row:  [ 5 27  9]\n",
      "[[ 5 27  9]\n",
      " [ 4 25  6]\n",
      " [14 16 18]]\n"
     ]
    }
   ],
   "source": [
    "\n",
    "print('First row: ', a2[0,:])\n",
    "a2[0] = a2[0,:] + a2[1,:]\n",
    "print('First row increased by second row: ', a2[0,:])\n",
    "\n",
    "print(a2)\n"
   ]
  },
  {
   "cell_type": "code",
   "execution_count": 46,
   "metadata": {},
   "outputs": [
    {
     "name": "stdout",
     "output_type": "stream",
     "text": [
      "Second row:  [ 4 25  6]\n",
      "Second row decreased by third row:  [-10   9 -12]\n",
      "[[  5  27   9]\n",
      " [-10   9 -12]\n",
      " [ 14  16  18]]\n"
     ]
    }
   ],
   "source": [
    "\n",
    "print('Second row: ', a2[1,:])\n",
    "a2[1] = a2[1,:] - a2[2,:]\n",
    "print('Second row decreased by third row: ', a2[1,:])\n",
    "\n",
    "print(a2)\n"
   ]
  },
  {
   "cell_type": "code",
   "execution_count": 42,
   "metadata": {},
   "outputs": [
    {
     "name": "stdout",
     "output_type": "stream",
     "text": [
      "x= 3 y= 4\n",
      "x= -1 y= 4\n"
     ]
    }
   ],
   "source": [
    "x = 3\n",
    "y=4\n",
    "print('x=', x, 'y=', y)\n",
    "x = x - y\n",
    "print('x=', x, 'y=', y)\n",
    "\n"
   ]
  },
  {
   "cell_type": "markdown",
   "metadata": {},
   "source": [
    "## Class Activity\n",
    "\n",
    "1. Create an array a of shape (2, 5) and another array b of shape (3, 5).\n",
    "2. Create another array c = a\n",
    "3. Change array c row 2 to the sum of array a row 2 and array b row 2."
   ]
  }
 ],
 "metadata": {
  "interpreter": {
   "hash": "6f7c4d44365b28014734406e4d617c1e1f76ea196def854c7b951a230f6e24f1"
  },
  "kernelspec": {
   "display_name": "Python 3.9.5 64-bit",
   "name": "python3"
  },
  "language_info": {
   "codemirror_mode": {
    "name": "ipython",
    "version": 3
   },
   "file_extension": ".py",
   "mimetype": "text/x-python",
   "name": "python",
   "nbconvert_exporter": "python",
   "pygments_lexer": "ipython3",
   "version": "3.9.5"
  }
 },
 "nbformat": 4,
 "nbformat_minor": 4
}
