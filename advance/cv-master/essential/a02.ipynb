{
 "cells": [
  {
   "cell_type": "markdown",
   "metadata": {},
   "source": [
    "# Assignment 2"
   ]
  },
  {
   "cell_type": "markdown",
   "metadata": {},
   "source": [
    "1. Collect the name, year of birth and salary of a user. Then output the following : \n",
    "\n",
    "-   \"Goodday {name}!, your year of birth is {year of birth} and your age in the year 2030 will be {Age}. From your salary of {salary} the computed tax of 12.3% is {tax}.\n",
    "\n",
    "2. Collect a list of names and scores and find the average of the scores.\n",
    "\n",
    "3. Use python to write an application letter for job to Perantis apply text wrap with line width of 50.  \n"
   ]
  }
 ],
 "metadata": {
  "language_info": {
   "name": "python"
  },
  "orig_nbformat": 4
 },
 "nbformat": 4,
 "nbformat_minor": 2
}
