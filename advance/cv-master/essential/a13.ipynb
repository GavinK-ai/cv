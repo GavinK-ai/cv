{
 "cells": [
  {
   "cell_type": "markdown",
   "metadata": {},
   "source": [
    "# Assignment 13\n",
    "1. Remove the blue color component from image ca(.ext) and display.\n",
    "2. Remove the green color component from image ca(.ext) and display.\n",
    "3. Remove the red color component from image ca(.ext) and display.\n",
    "4. Apply all the edge detection to ca.[ext] and display."
   ]
  },
  {
   "cell_type": "code",
   "execution_count": null,
   "metadata": {},
   "outputs": [],
   "source": []
  }
 ],
 "metadata": {
  "language_info": {
   "name": "python"
  },
  "orig_nbformat": 4
 },
 "nbformat": 4,
 "nbformat_minor": 2
}
