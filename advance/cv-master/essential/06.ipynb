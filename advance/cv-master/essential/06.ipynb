{
 "cells": [
  {
   "cell_type": "code",
   "execution_count": null,
   "metadata": {},
   "outputs": [],
   "source": []
  },
  {
   "cell_type": "markdown",
   "metadata": {},
   "source": [
    "# Chapter 6  \n"
   ]
  },
  {
   "cell_type": "markdown",
   "metadata": {},
   "source": [
    "# Advance Indexing and Numpy IO Operation  \n"
   ]
  },
  {
   "cell_type": "code",
   "execution_count": 1,
   "metadata": {},
   "outputs": [],
   "source": [
    "!pip install -q numpy "
   ]
  },
  {
   "cell_type": "code",
   "execution_count": 14,
   "metadata": {},
   "outputs": [],
   "source": [
    "def array_properties(a):\n",
    "    print(\"a = \\n\", a)\n",
    "    print(\"dim = \", a.ndim)\n",
    "    print(\"shape = \", a.shape)\n",
    "    print(\"datatype = \", a.dtype)\n",
    "    print(\"size = \", a.size)\n",
    "    print()"
   ]
  },
  {
   "cell_type": "markdown",
   "metadata": {},
   "source": [
    "## Array slicing  \n"
   ]
  },
  {
   "cell_type": "code",
   "execution_count": 2,
   "metadata": {},
   "outputs": [
    {
     "name": "stdout",
     "output_type": "stream",
     "text": [
      "a = \n",
      " [[431 229 448]\n",
      " [272 360 888]\n",
      " [578 239 950]\n",
      " [734  32 561]\n",
      " [570 494 511]]\n",
      "dim =  2\n",
      "shape =  (5, 3)\n",
      "datatype =  int32\n",
      "size =  15\n",
      "\n"
     ]
    }
   ],
   "source": [
    "import numpy as np\n",
    "\n",
    "a5x3 = np.random.randint(0,1000,(5,3))\n",
    "\n",
    "array_properties(a5x3)"
   ]
  },
  {
   "cell_type": "code",
   "execution_count": 3,
   "metadata": {},
   "outputs": [
    {
     "name": "stdout",
     "output_type": "stream",
     "text": [
      "32\n"
     ]
    }
   ],
   "source": [
    "# print 32\n",
    "\n",
    "print(a5x3[3,1])"
   ]
  },
  {
   "cell_type": "code",
   "execution_count": 5,
   "metadata": {},
   "outputs": [
    {
     "name": "stdout",
     "output_type": "stream",
     "text": [
      "a = \n",
      " [[431]\n",
      " [229]\n",
      " [448]\n",
      " [272]\n",
      " [360]\n",
      " [888]\n",
      " [578]\n",
      " [239]\n",
      " [950]\n",
      " [734]\n",
      " [ 32]\n",
      " [561]\n",
      " [570]\n",
      " [494]\n",
      " [511]]\n",
      "dim =  2\n",
      "shape =  (15, 1)\n",
      "datatype =  int32\n",
      "size =  15\n",
      "\n"
     ]
    }
   ],
   "source": [
    "# reshape to 15x-1\n",
    "a15x_ = a5x3.reshape((15,-1))\n",
    "\n",
    "array_properties(a15x_)"
   ]
  },
  {
   "cell_type": "code",
   "execution_count": 6,
   "metadata": {},
   "outputs": [
    {
     "name": "stdout",
     "output_type": "stream",
     "text": [
      "a = \n",
      " [[431 229 448 272 360 888 578 239 950 734  32 561 570 494 511]]\n",
      "dim =  2\n",
      "shape =  (1, 15)\n",
      "datatype =  int32\n",
      "size =  15\n",
      "\n"
     ]
    }
   ],
   "source": [
    "# reshape to -1x15\n",
    "a_x15 = a5x3.reshape((-1,15))\n",
    "\n",
    "array_properties(a_x15)"
   ]
  },
  {
   "cell_type": "code",
   "execution_count": 7,
   "metadata": {},
   "outputs": [
    {
     "name": "stdout",
     "output_type": "stream",
     "text": [
      "a = \n",
      " [431 229 448 272 360 888 578 239 950 734  32 561 570 494 511]\n",
      "dim =  1\n",
      "shape =  (15,)\n",
      "datatype =  int32\n",
      "size =  15\n",
      "\n"
     ]
    }
   ],
   "source": [
    "# change a5x3 to 1 dimension\n",
    "a53 = a5x3.flatten()\n",
    "\n",
    "array_properties(a53)"
   ]
  },
  {
   "cell_type": "code",
   "execution_count": 8,
   "metadata": {},
   "outputs": [
    {
     "name": "stdout",
     "output_type": "stream",
     "text": [
      "a = \n",
      " [431 229 448 272 360 888 578 239 950 734  32 561 570 494 511]\n",
      "dim =  1\n",
      "shape =  (15,)\n",
      "datatype =  int32\n",
      "size =  15\n",
      "\n"
     ]
    }
   ],
   "source": [
    "# change a5x3 to 1 dimension\n",
    "# using ravel\n",
    "a53b = a5x3.ravel()\n",
    "\n",
    "array_properties(a53b)"
   ]
  },
  {
   "cell_type": "markdown",
   "metadata": {},
   "source": [
    "## Class activity\n",
    "\n",
    "1. Create an array a, of shape (5,5,3) of data type float32.\n",
    "2. Create an array c, of 1 dimension from array a."
   ]
  },
  {
   "cell_type": "code",
   "execution_count": 19,
   "metadata": {},
   "outputs": [
    {
     "name": "stdout",
     "output_type": "stream",
     "text": [
      "a = \n",
      " [1. 2. 3. 4. 5.]\n",
      "dim =  1\n",
      "shape =  (5,)\n",
      "datatype =  float32\n",
      "size =  5\n",
      "\n",
      "a = \n",
      " [[1. 2. 3. 4. 5.]\n",
      " [1. 2. 3. 4. 5.]\n",
      " [1. 2. 3. 4. 5.]\n",
      " [1. 2. 3. 4. 5.]\n",
      " [1. 2. 3. 4. 5.]]\n",
      "dim =  2\n",
      "shape =  (5, 5)\n",
      "datatype =  float32\n",
      "size =  25\n",
      "\n"
     ]
    }
   ],
   "source": [
    "import numpy as np\n",
    "\n",
    "a5 = np.arange(1,(5+1), dtype=np.float32)\n",
    "array_properties(a5)\n",
    "\n",
    "a5x5 = np.resize(a5,(5,5))\n",
    "\n",
    "array_properties(a5x5)"
   ]
  },
  {
   "cell_type": "code",
   "execution_count": 21,
   "metadata": {},
   "outputs": [
    {
     "name": "stdout",
     "output_type": "stream",
     "text": [
      "a = \n",
      " [1. 2. 3.]\n",
      "dim =  1\n",
      "shape =  (3,)\n",
      "datatype =  float32\n",
      "size =  3\n",
      "\n",
      "a = \n",
      " [[[1. 2. 3.]\n",
      "  [1. 2. 3.]\n",
      "  [1. 2. 3.]\n",
      "  [1. 2. 3.]\n",
      "  [1. 2. 3.]]\n",
      "\n",
      " [[1. 2. 3.]\n",
      "  [1. 2. 3.]\n",
      "  [1. 2. 3.]\n",
      "  [1. 2. 3.]\n",
      "  [1. 2. 3.]]\n",
      "\n",
      " [[1. 2. 3.]\n",
      "  [1. 2. 3.]\n",
      "  [1. 2. 3.]\n",
      "  [1. 2. 3.]\n",
      "  [1. 2. 3.]]\n",
      "\n",
      " [[1. 2. 3.]\n",
      "  [1. 2. 3.]\n",
      "  [1. 2. 3.]\n",
      "  [1. 2. 3.]\n",
      "  [1. 2. 3.]]\n",
      "\n",
      " [[1. 2. 3.]\n",
      "  [1. 2. 3.]\n",
      "  [1. 2. 3.]\n",
      "  [1. 2. 3.]\n",
      "  [1. 2. 3.]]]\n",
      "dim =  3\n",
      "shape =  (5, 5, 3)\n",
      "datatype =  float32\n",
      "size =  75\n",
      "\n"
     ]
    }
   ],
   "source": [
    "import numpy as np\n",
    "\n",
    "start =1\n",
    "stop =4\n",
    "a3 = np.arange(start,(stop), dtype=np.float32)\n",
    "array_properties(a3)\n",
    "\n",
    "a5x5x3 = np.resize(a3,(5,5,3))\n",
    "\n",
    "array_properties(a5x5x3)"
   ]
  },
  {
   "cell_type": "markdown",
   "metadata": {},
   "source": [
    "### 1D"
   ]
  },
  {
   "cell_type": "code",
   "execution_count": 24,
   "metadata": {},
   "outputs": [
    {
     "name": "stdout",
     "output_type": "stream",
     "text": [
      "a = \n",
      " [0 1 2 3 4 5 6 7 8]\n",
      "dim =  1\n",
      "shape =  (9,)\n",
      "datatype =  int32\n",
      "size =  9\n",
      "\n",
      "Elements from first: 0\n",
      "Elements from first: 0\n",
      "Elements from last: 8\n",
      "Elements from last: 8\n"
     ]
    }
   ],
   "source": [
    "import numpy as np\n",
    "\n",
    "stop = 9\n",
    "a1 = np.arange(stop) \n",
    "\n",
    "array_properties(a1)\n",
    "\n",
    "print('Elements from first:', a1[0])\n",
    "print('Elements from first:', a1[-9])\n",
    "print('Elements from last:', a1[-1])\n",
    "print('Elements from last:', a1[8])\n"
   ]
  },
  {
   "cell_type": "code",
   "execution_count": 25,
   "metadata": {},
   "outputs": [
    {
     "name": "stdout",
     "output_type": "stream",
     "text": [
      "Elements from first to last: [0 1 2 3 4 5 6 7 8]\n",
      "Elements from first to last: [0 1 2 3 4 5 6 7 8]\n",
      "Elements from first to last: [0 1 2 3 4 5 6 7 8]\n"
     ]
    }
   ],
   "source": [
    "\n",
    "print('Elements from first to last:', a1[0:9])\n",
    "print('Elements from first to last:', a1[0:])\n",
    "print('Elements from first to last:', a1[:])\n"
   ]
  },
  {
   "cell_type": "code",
   "execution_count": 26,
   "metadata": {},
   "outputs": [
    {
     "name": "stdout",
     "output_type": "stream",
     "text": [
      "Elements from index 1 to 6: [1 2 3 4 5]\n",
      "Elements from index 1 to 6: [1 2 3 4 5]\n",
      "Elements from index 1 to 6: [1 2 3 4 5]\n"
     ]
    }
   ],
   "source": [
    "print('Elements from index 1 to 6:', a1[1:6])\n",
    "print('Elements from index 1 to 6:', a1[1:-3])\n",
    "print('Elements from index 1 to 6:', a1[-8:-3])\n"
   ]
  },
  {
   "cell_type": "code",
   "execution_count": 28,
   "metadata": {},
   "outputs": [
    {
     "name": "stdout",
     "output_type": "stream",
     "text": [
      "Even index Elements: [0 2 4 6 8]\n",
      "Odd index Elements: [1 3 5 7]\n"
     ]
    }
   ],
   "source": [
    "print('Even index Elements:', a1[::2])\n",
    "print('Odd index Elements:', a1[1::2])\n"
   ]
  },
  {
   "cell_type": "markdown",
   "metadata": {},
   "source": [
    "### 2D"
   ]
  },
  {
   "cell_type": "code",
   "execution_count": 34,
   "metadata": {},
   "outputs": [
    {
     "name": "stdout",
     "output_type": "stream",
     "text": [
      "a = \n",
      " [[ 1  2  3  4]\n",
      " [ 5  6  7  8]\n",
      " [ 9 10 11 12]\n",
      " [13 14 15 16]]\n",
      "dim =  2\n",
      "shape =  (4, 4)\n",
      "datatype =  int32\n",
      "size =  16\n",
      "\n",
      "Elements from first: 1\n",
      "Elements from last: 16\n"
     ]
    }
   ],
   "source": [
    "import numpy as np\n",
    "\n",
    "a2 = np.arange(1,17).reshape(4,4) \n",
    "\n",
    "array_properties(a2)\n",
    "\n",
    "print('Elements from first:', a2[0,0])\n",
    "print('Elements from last:', a2[3,3])\n"
   ]
  },
  {
   "cell_type": "code",
   "execution_count": 37,
   "metadata": {},
   "outputs": [
    {
     "name": "stdout",
     "output_type": "stream",
     "text": [
      "Elements in first row: [1 2 3 4]\n",
      "Elements in first row: [1 2 3 4]\n",
      "Elements in first row: [1 2 3 4]\n",
      "Elements in first row: [1 2 3 4]\n",
      "Elements in first row: [1 2 3 4]\n"
     ]
    }
   ],
   "source": [
    "print('Elements in first row:', a2[0,0:4])\n",
    "print('Elements in first row:', a2[0,:4])\n",
    "print('Elements in first row:', a2[0,0:])\n",
    "print('Elements in first row:', a2[0,:])\n",
    "print('Elements in first row:', a2[0])"
   ]
  },
  {
   "cell_type": "code",
   "execution_count": 38,
   "metadata": {},
   "outputs": [
    {
     "name": "stdout",
     "output_type": "stream",
     "text": [
      "Elements in last row: [13 14 15 16]\n",
      "Elements in first row: [13 14 15 16]\n",
      "Elements in first row: [13 14 15 16]\n",
      "Elements in first row: [13 14 15 16]\n",
      "Elements in first row: [13 14 15 16]\n"
     ]
    }
   ],
   "source": [
    "print('Elements in last row:', a2[3,0:4])\n",
    "print('Elements in first row:', a2[3,:4])\n",
    "print('Elements in first row:', a2[3,0:])\n",
    "print('Elements in first row:', a2[3,:])\n",
    "print('Elements in first row:', a2[3])"
   ]
  },
  {
   "cell_type": "code",
   "execution_count": 43,
   "metadata": {},
   "outputs": [
    {
     "name": "stdout",
     "output_type": "stream",
     "text": [
      "a = \n",
      " [[ 1  2  3  4]\n",
      " [ 5  6  7  8]\n",
      " [ 9 10 11 12]\n",
      " [13 14 15 16]]\n",
      "dim =  2\n",
      "shape =  (4, 4)\n",
      "datatype =  int32\n",
      "size =  16\n",
      "\n",
      "Elements in rows 2 to 3 and columns 2 to 3:\n",
      " [[ 6  7]\n",
      " [10 11]]\n"
     ]
    }
   ],
   "source": [
    "array_properties(a2)\n",
    "\n",
    "print('Elements in rows 2 to 3 and columns 2 to 3:\\n', a2[1:3,1:3])"
   ]
  },
  {
   "cell_type": "code",
   "execution_count": 22,
   "metadata": {},
   "outputs": [
    {
     "name": "stdout",
     "output_type": "stream",
     "text": [
      "a = \n",
      " [0 1 2 3 4 5 6 7 8 9]\n",
      "dim =  1\n",
      "shape =  (10,)\n",
      "datatype =  int32\n",
      "size =  10\n",
      "\n"
     ]
    }
   ],
   "source": [
    "import numpy as np\n",
    "\n",
    "a1D = np.arange(10)\n",
    "\n",
    "array_properties(a1D)"
   ]
  },
  {
   "cell_type": "code",
   "execution_count": 27,
   "metadata": {},
   "outputs": [
    {
     "name": "stdout",
     "output_type": "stream",
     "text": [
      "[2 3 4 5 6 7]\n"
     ]
    }
   ],
   "source": [
    "# get 2 to 7\n",
    "a2i = a1D[2]\n",
    "a3i = a1D[3]\n",
    "a4i = a1D[4]\n",
    "a5i = a1D[5]\n",
    "a6i = a1D[6]\n",
    "a7i = a1D[7]\n",
    "\n",
    "result = np.array([a2i,a3i,a4i,a5i,a6i,a7i])\n",
    "print(result)"
   ]
  },
  {
   "cell_type": "code",
   "execution_count": 28,
   "metadata": {},
   "outputs": [
    {
     "name": "stdout",
     "output_type": "stream",
     "text": [
      "a = \n",
      " [2 3 4 5 6 7]\n",
      "dim =  1\n",
      "shape =  (6,)\n",
      "datatype =  int32\n",
      "size =  6\n",
      "\n"
     ]
    }
   ],
   "source": [
    "# get 2 to 7 using slicing\n",
    "a2to7 = a1D[2:8]\n",
    "\n",
    "\n",
    "array_properties(a2to7)"
   ]
  },
  {
   "cell_type": "code",
   "execution_count": 30,
   "metadata": {},
   "outputs": [
    {
     "name": "stdout",
     "output_type": "stream",
     "text": [
      "a = \n",
      " [[ 1  2  3  4  5]\n",
      " [ 6  7  8  9 10]\n",
      " [11 12 13 14 15]\n",
      " [16 17 18 19 20]\n",
      " [21 22 23 24 25]]\n",
      "dim =  2\n",
      "shape =  (5, 5)\n",
      "datatype =  int32\n",
      "size =  25\n",
      "\n"
     ]
    }
   ],
   "source": [
    "import numpy as np\n",
    "\n",
    "a2D = np.arange(1,26)\n",
    "a2D = np.resize(a2D, (5,5))\n",
    "\n",
    "array_properties(a2D)"
   ]
  },
  {
   "cell_type": "code",
   "execution_count": 31,
   "metadata": {},
   "outputs": [
    {
     "name": "stdout",
     "output_type": "stream",
     "text": [
      "[ 6  7  8  9 10]\n"
     ]
    }
   ],
   "source": [
    "#  what are the values on row 2 or row index 1\n",
    "# [6, 7, 8, 9, 10]\n",
    "\n",
    "print(a2D[1,:])"
   ]
  },
  {
   "cell_type": "code",
   "execution_count": 33,
   "metadata": {},
   "outputs": [
    {
     "name": "stdout",
     "output_type": "stream",
     "text": [
      "a = \n",
      " [[ 6  7  8  9 10]\n",
      " [11 12 13 14 15]\n",
      " [16 17 18 19 20]]\n",
      "dim =  2\n",
      "shape =  (3, 5)\n",
      "datatype =  int32\n",
      "size =  15\n",
      "\n"
     ]
    }
   ],
   "source": [
    "# what are the values in rows 2 to 4\n",
    "\n",
    "rows_2_to_4 = a2D[1:-1,:]\n",
    "\n",
    "array_properties(rows_2_to_4)"
   ]
  },
  {
   "cell_type": "markdown",
   "metadata": {},
   "source": [
    "||0|1|2|3|4|\n",
    "|---|---|---|---|---|---|\n",
    "|0|1|2|3|4|5|\n",
    "|1|6|7|8|9|10|\n",
    "|2|11|12|13|14|15|\n",
    "|3|16|17|18|19|20|\n",
    "|4|21|22|23|24|25|"
   ]
  },
  {
   "cell_type": "code",
   "execution_count": 37,
   "metadata": {},
   "outputs": [
    {
     "name": "stdout",
     "output_type": "stream",
     "text": [
      "[[ 7  8  9]\n",
      " [12 13 14]\n",
      " [17 18 19]]\n"
     ]
    }
   ],
   "source": [
    "# get these values\n",
    "# [7, 8, 9]\n",
    "# [12, 13, 14]\n",
    "# [17, 18, 19]\n",
    "\n",
    "result = a2D[1:4,1:4]\n",
    "print(result)"
   ]
  },
  {
   "cell_type": "code",
   "execution_count": 38,
   "metadata": {},
   "outputs": [
    {
     "name": "stdout",
     "output_type": "stream",
     "text": [
      "[[ 1  3  5]\n",
      " [11 13 15]\n",
      " [21 23 25]]\n"
     ]
    }
   ],
   "source": [
    "# indexing format is [start : stop : step] \n",
    "# default indexing format is [start=0 : stop=last : step=1] \n",
    "result = a2D[::2,::2]\n",
    "print(result)"
   ]
  },
  {
   "cell_type": "code",
   "execution_count": 40,
   "metadata": {},
   "outputs": [
    {
     "name": "stdout",
     "output_type": "stream",
     "text": [
      "[[ 1  3  5]\n",
      " [16 18 20]]\n"
     ]
    }
   ],
   "source": [
    "# indexing format is [start : stop : step] \n",
    "# default indexing format is [start=0 : stop=last : step=1] \n",
    "result = a2D[::3,::2]\n",
    "print(result)"
   ]
  },
  {
   "cell_type": "code",
   "execution_count": 41,
   "metadata": {},
   "outputs": [
    {
     "name": "stdout",
     "output_type": "stream",
     "text": [
      "[[ 6  8 10]\n",
      " [21 23 25]]\n"
     ]
    }
   ],
   "source": [
    "# indexing format is [start : stop : step] \n",
    "# default indexing format is [start=0 : stop=last : step=1] \n",
    "result = a2D[1::3,::2]\n",
    "print(result)"
   ]
  },
  {
   "cell_type": "markdown",
   "metadata": {},
   "source": [
    "## Boolen and integer indexing \n",
    "\n"
   ]
  },
  {
   "cell_type": "markdown",
   "metadata": {},
   "source": [
    "We have been using integer for indexing all along in a particular format as [start, stop, step].  \n",
    "However we can make use of array of integer and boolean (True or False) values as direct indexing value."
   ]
  },
  {
   "cell_type": "code",
   "execution_count": 43,
   "metadata": {},
   "outputs": [
    {
     "name": "stdout",
     "output_type": "stream",
     "text": [
      "a = \n",
      " [0 1 2 3 4 5 6 7 8]\n",
      "dim =  1\n",
      "shape =  (9,)\n",
      "datatype =  int32\n",
      "size =  9\n",
      "\n",
      "Odd index Elements: [1 3 5 7]\n",
      "Even index Elements: [0 2 4 6 8]\n"
     ]
    }
   ],
   "source": [
    "# normal indexing for obtaing the odd and even index of an array\n",
    "\n",
    "import numpy as np\n",
    "\n",
    "a1 = np.arange(9) \n",
    "\n",
    "array_properties(a1)\n",
    "\n",
    "print('Odd index Elements:', a1[1::2])\n",
    "print('Even index Elements:', a1[::2])"
   ]
  },
  {
   "cell_type": "markdown",
   "metadata": {},
   "source": [
    "|0|1|2|3|4|5|6|7|8|\n",
    "|---|---|---|---|---|---|---|---|--|\n",
    "|0|1|2|3|4|5|6|7|8|"
   ]
  },
  {
   "cell_type": "markdown",
   "metadata": {},
   "source": [
    "In other to use integer or boolean index the array of integer and array of boolean must have similar dimension to the original array to be accessed."
   ]
  },
  {
   "cell_type": "markdown",
   "metadata": {},
   "source": [
    "Using array of integer indexing"
   ]
  },
  {
   "cell_type": "code",
   "execution_count": 44,
   "metadata": {},
   "outputs": [
    {
     "name": "stdout",
     "output_type": "stream",
     "text": [
      "Odd index Elements: [1 3 5 7]\n",
      "Odd index Elements: [1 3 5 7]\n",
      "Odd index Elements: [1 3 5 7]\n"
     ]
    }
   ],
   "source": [
    "i_odd = np.array([1,3,5,7])\n",
    "\n",
    "bool_odd = np.array([False, True,False, True,False, True,False, True,False])\n",
    "\n",
    "print('Odd index Elements:', a1[1::2])\n",
    "print('Odd index Elements:', a1[i_odd])\n",
    "print('Odd index Elements:', a1[bool_odd])\n"
   ]
  },
  {
   "cell_type": "markdown",
   "metadata": {},
   "source": [
    "## Class Activity\n",
    "\n",
    "1. Create an array of 1D from 1 to 9\n",
    "2. Print the odd values using normal, integer and boolean indexing.\n",
    "3. Print the even values using normal, integer and boolean indexing."
   ]
  },
  {
   "cell_type": "code",
   "execution_count": 47,
   "metadata": {},
   "outputs": [
    {
     "name": "stdout",
     "output_type": "stream",
     "text": [
      "a = \n",
      " [1 2 3 4 5 6 7 8 9]\n",
      "dim =  1\n",
      "shape =  (9,)\n",
      "datatype =  int32\n",
      "size =  9\n",
      "\n"
     ]
    }
   ],
   "source": [
    "import numpy as np\n",
    "\n",
    "a9 = np.arange(1,10)\n",
    "\n",
    "array_properties(a9)\n"
   ]
  },
  {
   "cell_type": "code",
   "execution_count": 48,
   "metadata": {},
   "outputs": [
    {
     "name": "stdout",
     "output_type": "stream",
     "text": [
      "a = \n",
      " [1 3 5 7 9]\n",
      "dim =  1\n",
      "shape =  (5,)\n",
      "datatype =  int32\n",
      "size =  5\n",
      "\n"
     ]
    }
   ],
   "source": [
    "\n",
    "iodd = np.array([0,2,4,6,8])\n",
    "\n",
    "a_odd = a9[iodd]\n",
    "array_properties(a_odd)"
   ]
  },
  {
   "cell_type": "code",
   "execution_count": 49,
   "metadata": {},
   "outputs": [
    {
     "name": "stdout",
     "output_type": "stream",
     "text": [
      "a = \n",
      " [2 4 6 8]\n",
      "dim =  1\n",
      "shape =  (4,)\n",
      "datatype =  int32\n",
      "size =  4\n",
      "\n"
     ]
    }
   ],
   "source": [
    "\n",
    "ieven = np.array([1,3,5,7])\n",
    "\n",
    "a_even = a9[ieven]\n",
    "array_properties(a_even)"
   ]
  },
  {
   "cell_type": "code",
   "execution_count": null,
   "metadata": {},
   "outputs": [],
   "source": [
    "# get odd value from array of 1 to 9\n",
    "# using boolean indexing\n",
    "\n",
    "# create array a, of 1 to 9\n",
    "\n",
    "# create array of boolean of same shape as array a, with desired index equal to True\n"
   ]
  },
  {
   "cell_type": "markdown",
   "metadata": {},
   "source": [
    "Class Activity\n",
    "\n",
    "1. Write the index for the even number contain in the array (my_arr) below.\n",
    "   - 28 = [0,1], 22 = [0,5]\n",
    "    -   50 = [1,0], 66=[1,2], 92=[1,1], 98=[1,3], 74=[1,6] \n",
    "    -   44, 60, 98\n",
    "    -   96, 38\n",
    "    -   8, 66, 92, 62\n",
    "2. Write the index for the number divisible by 5 contain in the array (my_arr) below.\n",
    "   - 75 = [0,0]\n",
    "   - 50 = [1,0]\n",
    "   - 85=[2,2], 35=[2,3], 60=[2,4]\n",
    "   - 55=[3,2]\n",
    "   - \n"
   ]
  },
  {
   "cell_type": "code",
   "execution_count": 50,
   "metadata": {},
   "outputs": [
    {
     "name": "stdout",
     "output_type": "stream",
     "text": [
      "a = \n",
      " [[75 28 47 61 69 22 93]\n",
      " [50 92 66 98  1 67 74]\n",
      " [44 67 85 35 43 60 98]\n",
      " [96 38 55 37 93 47 33]\n",
      " [37 59 27  8 66 92 62]]\n",
      "dim =  2\n",
      "shape =  (5, 7)\n",
      "datatype =  int32\n",
      "size =  35\n",
      "\n"
     ]
    }
   ],
   "source": [
    "import numpy as np\n",
    "\n",
    "my_arr = np.random.randint(1, 100, (5,7))\n",
    "array_properties(my_arr)"
   ]
  },
  {
   "cell_type": "code",
   "execution_count": 51,
   "metadata": {},
   "outputs": [
    {
     "name": "stdout",
     "output_type": "stream",
     "text": [
      "a = \n",
      " [[[75 28 47 61 69 22 93]\n",
      "  [75 28 47 61 69 22 93]]\n",
      "\n",
      " [[50 92 66 98  1 67 74]\n",
      "  [75 28 47 61 69 22 93]]\n",
      "\n",
      " [[44 67 85 35 43 60 98]\n",
      "  [44 67 85 35 43 60 98]]\n",
      "\n",
      " [[44 67 85 35 43 60 98]\n",
      "  [96 38 55 37 93 47 33]]\n",
      "\n",
      " [[44 67 85 35 43 60 98]\n",
      "  [37 59 27  8 66 92 62]]\n",
      "\n",
      " [[96 38 55 37 93 47 33]\n",
      "  [44 67 85 35 43 60 98]]]\n",
      "dim =  3\n",
      "shape =  (6, 2, 7)\n",
      "datatype =  int32\n",
      "size =  84\n",
      "\n"
     ]
    }
   ],
   "source": [
    "idiv5 = np.array([\n",
    "    # - 75 = \n",
    "    [0,0],\n",
    "    #    - 50 = \n",
    "    [1,0],\n",
    "    #    - 85=\n",
    "    [2,2], \n",
    "    # 35=\n",
    "    [2,3], \n",
    "    # 60=\n",
    "    [2,4],\n",
    "    #    - 55=\n",
    "    [3,2]\n",
    "   \n",
    "])\n",
    "\n",
    "result = my_arr[idiv5]\n",
    "\n",
    "array_properties(result)"
   ]
  },
  {
   "cell_type": "code",
   "execution_count": 57,
   "metadata": {},
   "outputs": [
    {
     "name": "stdout",
     "output_type": "stream",
     "text": [
      "a = \n",
      " [[0 3 2 1 4 2 3]\n",
      " [0 2 1 3 1 2 4]\n",
      " [4 2 0 0 3 0 3]\n",
      " [1 3 0 2 3 2 3]\n",
      " [2 4 2 3 1 2 2]]\n",
      "dim =  2\n",
      "shape =  (5, 7)\n",
      "datatype =  int32\n",
      "size =  35\n",
      "\n"
     ]
    }
   ],
   "source": [
    "# find modulus of my_arr\n",
    "# the values divisible by 5 will be equal to zero\n",
    "\n",
    "ibooldiv5 = my_arr % 5\n",
    "array_properties(ibooldiv5)\n"
   ]
  },
  {
   "cell_type": "code",
   "execution_count": 54,
   "metadata": {},
   "outputs": [
    {
     "name": "stdout",
     "output_type": "stream",
     "text": [
      "a = \n",
      " [[ True False False False False False False]\n",
      " [ True False False False False False False]\n",
      " [False False  True  True False  True False]\n",
      " [False False  True False False False False]\n",
      " [False False False False False False False]]\n",
      "dim =  2\n",
      "shape =  (5, 7)\n",
      "datatype =  bool\n",
      "size =  35\n",
      "\n"
     ]
    }
   ],
   "source": [
    "# compare each values with zero to and assign back to ibooldiv5 for array element to be in boolean datatype\n",
    "ibooldiv5 = ibooldiv5 == 0\n",
    "array_properties(ibooldiv5)"
   ]
  },
  {
   "cell_type": "code",
   "execution_count": 56,
   "metadata": {},
   "outputs": [
    {
     "name": "stdout",
     "output_type": "stream",
     "text": [
      "a = \n",
      " [75 50 85 35 60 55]\n",
      "dim =  1\n",
      "shape =  (6,)\n",
      "datatype =  int32\n",
      "size =  6\n",
      "\n"
     ]
    }
   ],
   "source": [
    "# use the new boolean array for indexing\n",
    "result = my_arr[ibooldiv5]\n",
    "array_properties(result)"
   ]
  },
  {
   "cell_type": "code",
   "execution_count": 145,
   "metadata": {},
   "outputs": [
    {
     "name": "stdout",
     "output_type": "stream",
     "text": [
      "a = \n",
      " [[ 1  2  3  4]\n",
      " [ 5  6  7  8]\n",
      " [ 9 10 11 12]\n",
      " [13 14 15 16]]\n",
      "dim =  2\n",
      "shape =  (4, 4)\n",
      "datatype =  int32\n",
      "size =  16\n",
      "\n",
      "Elements in rows 2 to 3 and columns 2 to 3:\n",
      " [[ 6  7]\n",
      " [10 11]]\n"
     ]
    }
   ],
   "source": [
    "import numpy as np\n",
    "\n",
    "a2 = np.arange(1,17).reshape(4,4) \n",
    "\n",
    "array_properties(a2)\n",
    "\n",
    "print('Elements in rows 2 to 3 and columns 2 to 3:\\n', a2[1:3,1:3])\n"
   ]
  },
  {
   "cell_type": "code",
   "execution_count": 152,
   "metadata": {},
   "outputs": [
    {
     "name": "stdout",
     "output_type": "stream",
     "text": [
      "Elements in i:\n",
      " [[[ 5  6  7  8]\n",
      "  [ 5  6  7  8]]\n",
      "\n",
      " [[ 9 10 11 12]\n",
      "  [ 9 10 11 12]]]\n",
      "Elements in j:\n",
      " [[[ 2  3]\n",
      "  [ 2  3]]\n",
      "\n",
      " [[ 6  7]\n",
      "  [ 6  7]]\n",
      "\n",
      " [[10 11]\n",
      "  [10 11]]\n",
      "\n",
      " [[14 15]\n",
      "  [14 15]]]\n",
      "Elements in rows 2 to 3 and columns 2 to 3:\n",
      " [[ 6  7]\n",
      " [10 11]]\n"
     ]
    }
   ],
   "source": [
    "i = np.array([[1,1],[2,2]])\n",
    "j = np.array([[1,2],[1,2]])\n",
    "print('Elements in i:\\n', a2[i])\n",
    "print('Elements in j:\\n', a2[:,j])\n",
    "print('Elements in rows 2 to 3 and columns 2 to 3:\\n', a2[i,j])\n"
   ]
  },
  {
   "cell_type": "code",
   "execution_count": 153,
   "metadata": {},
   "outputs": [
    {
     "name": "stdout",
     "output_type": "stream",
     "text": [
      "Elements in i:\n",
      " [[[ 5  6  7  8]]\n",
      "\n",
      " [[ 9 10 11 12]]]\n",
      "Elements in j:\n",
      " [[[ 2  3]]\n",
      "\n",
      " [[ 6  7]]\n",
      "\n",
      " [[10 11]]\n",
      "\n",
      " [[14 15]]]\n",
      "Elements in rows 2 to 3 and columns 2 to 3:\n",
      " [[ 6  7]\n",
      " [10 11]]\n"
     ]
    }
   ],
   "source": [
    "\n",
    "i = np.array([[1],[2]])\n",
    "j = np.array([[1,2]])\n",
    "print('Elements in i:\\n', a2[i])\n",
    "print('Elements in j:\\n', a2[:,j])\n",
    "print('Elements in rows 2 to 3 and columns 2 to 3:\\n', a2[i,j])\n",
    "\n"
   ]
  },
  {
   "cell_type": "code",
   "execution_count": 154,
   "metadata": {},
   "outputs": [
    {
     "name": "stdout",
     "output_type": "stream",
     "text": [
      "a = \n",
      " [[-100 -100 -100 -100]\n",
      " [-100 -100 -100 -100]\n",
      " [-100 -100 -100 -100]\n",
      " [-100 -100 -100 -100]]\n",
      "dim =  2\n",
      "shape =  (4, 4)\n",
      "datatype =  int32\n",
      "size =  16\n",
      "\n",
      "[[-100 -100 -100 -100]\n",
      " [-100    6    7 -100]\n",
      " [-100   10   11 -100]\n",
      " [-100 -100 -100 -100]]\n",
      "\n",
      "[[False False False False]\n",
      " [False  True  True False]\n",
      " [False  True  True False]\n",
      " [False False False False]]\n",
      "Elements in rows 2 to 3 and columns 2 to 3:\n",
      " [ 6  7 10 11]\n"
     ]
    }
   ],
   "source": [
    "a2_c = np.full_like(a2,-100)\n",
    "array_properties(a2_c)\n",
    "\n",
    "a2_c[1:3,1:3] = a2[1:3,1:3]\n",
    "print(a2_c)\n",
    "\n",
    "print()\n",
    "\n",
    "a2_bool = a2_c == a2\n",
    "print(a2_bool)\n",
    "\n",
    "print('Elements in rows 2 to 3 and columns 2 to 3:\\n', a2[a2_bool])\n"
   ]
  },
  {
   "cell_type": "code",
   "execution_count": 161,
   "metadata": {},
   "outputs": [
    {
     "name": "stdout",
     "output_type": "stream",
     "text": [
      "Elements in b1:\n",
      " [[ 5  6  7  8]\n",
      " [ 9 10 11 12]]\n",
      "Elements in b2:\n",
      " [[ 2  3]\n",
      " [ 6  7]\n",
      " [10 11]\n",
      " [14 15]]\n",
      "Elements in b1,b2:\n",
      " [ 6 11]\n"
     ]
    }
   ],
   "source": [
    "b1 = np.array([False, True, True, False])\n",
    "b2 = np.array([False, True, True, False])\n",
    "\n",
    "print('Elements in b1:\\n', a2[b1])\n",
    "print('Elements in b2:\\n', a2[:,b2])\n",
    "print('Elements in b1,b2:\\n', a2[b1,b2])\n"
   ]
  },
  {
   "cell_type": "markdown",
   "metadata": {},
   "source": [
    "## Class Activity\n",
    "\n",
    "1. Create an array of shape (5,6), range of int betweeon 0 and 2000 and \n",
    "2. print the even numbers\n",
    "3. print the odd numbers\n",
    "4. print number divisible by 11.\n",
    "5. Seed of randon 12345"
   ]
  },
  {
   "cell_type": "code",
   "execution_count": 60,
   "metadata": {},
   "outputs": [
    {
     "name": "stdout",
     "output_type": "stream",
     "text": [
      "a = \n",
      " [[ 482 1509 1309  129 1444 1449]\n",
      " [ 382 1381  546 1565  769 1142]\n",
      " [1393 1339  654  105 1115  759]\n",
      " [1398 1232  882  713  267 1101]\n",
      " [1674   81 1746  166  263   43]]\n",
      "dim =  2\n",
      "shape =  (5, 6)\n",
      "datatype =  int32\n",
      "size =  30\n",
      "\n"
     ]
    }
   ],
   "source": [
    "# 1. Create an array of shape (5,6), range of int betweeon 0 and 2000 and \n",
    "\n",
    "import numpy as np \n",
    "\n",
    "np.random.seed(12345)\n",
    "\n",
    "a5x6 = np.random.randint(0, 2000, (5,6))\n",
    "array_properties(a5x6)\n"
   ]
  },
  {
   "cell_type": "code",
   "execution_count": 61,
   "metadata": {},
   "outputs": [
    {
     "name": "stdout",
     "output_type": "stream",
     "text": [
      "a = \n",
      " [ 482 1444  382  546 1142  654 1398 1232  882 1674 1746  166]\n",
      "dim =  1\n",
      "shape =  (12,)\n",
      "datatype =  int32\n",
      "size =  12\n",
      "\n"
     ]
    }
   ],
   "source": [
    "# 2. print the even numbers\n",
    "ibool_even = (a5x6 % 2) == 0\n",
    "\n",
    "array_properties(a5x6[ibool_even])"
   ]
  },
  {
   "cell_type": "code",
   "execution_count": 63,
   "metadata": {},
   "outputs": [
    {
     "name": "stdout",
     "output_type": "stream",
     "text": [
      "a = \n",
      " [1509 1309  129 1449 1381 1565  769 1393 1339  105 1115  759  713  267\n",
      " 1101   81  263   43]\n",
      "dim =  1\n",
      "shape =  (18,)\n",
      "datatype =  int32\n",
      "size =  18\n",
      "\n"
     ]
    }
   ],
   "source": [
    "# 3. print the odd numbers\n",
    "ibool_odd = ibool_even == False\n",
    "\n",
    "array_properties(a5x6[ibool_odd])"
   ]
  },
  {
   "cell_type": "code",
   "execution_count": null,
   "metadata": {},
   "outputs": [],
   "source": [
    "# 4. print number divisible by 11.\n"
   ]
  },
  {
   "cell_type": "code",
   "execution_count": null,
   "metadata": {},
   "outputs": [],
   "source": [
    "# 5. Seed of randon 12345"
   ]
  },
  {
   "cell_type": "markdown",
   "metadata": {},
   "source": [
    "## Working with 3D"
   ]
  },
  {
   "cell_type": "code",
   "execution_count": 162,
   "metadata": {},
   "outputs": [
    {
     "name": "stdout",
     "output_type": "stream",
     "text": [
      "a = \n",
      " [[[130  51  97]\n",
      "  [227 225 100]\n",
      "  [ 86 186 248]\n",
      "  [141 232 255]\n",
      "  [112  99  34]\n",
      "  [ 32 126  50]\n",
      "  [236 113 243]\n",
      "  [211 129  15]\n",
      "  [144  97 154]\n",
      "  [179  55  38]]\n",
      "\n",
      " [[155 168  61]\n",
      "  [223 225 114]\n",
      "  [ 26 195 234]\n",
      "  [ 62 100 125]\n",
      "  [ 30 249  52]\n",
      "  [111 255  12]\n",
      "  [158 124   5]\n",
      "  [  6  74 139]\n",
      "  [ 85  13  28]\n",
      "  [113 145 114]]\n",
      "\n",
      " [[175 185  71]\n",
      "  [168 184  21]\n",
      "  [ 41 249  19]\n",
      "  [130  57  83]\n",
      "  [182 194  32]\n",
      "  [110 208   8]\n",
      "  [115  54 250]\n",
      "  [235 144 197]\n",
      "  [ 55  79  38]\n",
      "  [121  82  64]]\n",
      "\n",
      " [[234  63  94]\n",
      "  [242 103 185]\n",
      "  [244 239 239]\n",
      "  [ 21  13  93]\n",
      "  [ 77   0 184]\n",
      "  [ 98  32 135]\n",
      "  [ 67  37  88]\n",
      "  [ 66  17  57]\n",
      "  [101  68 130]\n",
      "  [117 138 125]]\n",
      "\n",
      " [[ 26 107 190]\n",
      "  [120 120 141]\n",
      "  [135 117 208]\n",
      "  [ 92  81   1]\n",
      "  [104 119 158]\n",
      "  [190 250  90]\n",
      "  [ 37  15 119]\n",
      "  [193  64  87]\n",
      "  [195  24 216]\n",
      "  [150 117 143]]\n",
      "\n",
      " [[ 73 171  72]\n",
      "  [225 171 113]\n",
      "  [158 105  16]\n",
      "  [239 243 165]\n",
      "  [128 137 203]\n",
      "  [163   1 215]\n",
      "  [253  17 215]\n",
      "  [206 210  82]\n",
      "  [154  65  46]\n",
      "  [231  24 107]]\n",
      "\n",
      " [[170 175 130]\n",
      "  [ 51 131 194]\n",
      "  [206  71 220]\n",
      "  [143 227  95]\n",
      "  [ 82  33 255]\n",
      "  [201 116 246]\n",
      "  [ 76 165 111]\n",
      "  [ 63 130 178]\n",
      "  [148 154 228]\n",
      "  [114  57 120]]\n",
      "\n",
      " [[ 44  47 189]\n",
      "  [ 41 198 145]\n",
      "  [ 64  89 173]\n",
      "  [178 150 146]\n",
      "  [194  60 209]\n",
      "  [153 242   7]\n",
      "  [214 132 252]\n",
      "  [129 173 222]\n",
      "  [ 16 179 104]\n",
      "  [218 140 112]]\n",
      "\n",
      " [[  0  74 128]\n",
      "  [102 240 126]\n",
      "  [131 217 216]\n",
      "  [ 44   9 117]\n",
      "  [202 203 107]\n",
      "  [116  12  87]\n",
      "  [232 151 227]\n",
      "  [216 105  95]\n",
      "  [ 99 136 107]\n",
      "  [ 12  69 219]]\n",
      "\n",
      " [[247  64  95]\n",
      "  [188 120 154]\n",
      "  [ 77 199 104]\n",
      "  [237 232 249]\n",
      "  [102 185  37]\n",
      "  [210 186  84]\n",
      "  [213  45 144]\n",
      "  [162 217 128]\n",
      "  [ 76  16 140]\n",
      "  [249 189   9]]]\n",
      "dim =  3\n",
      "shape =  (10, 10, 3)\n",
      "datatype =  uint8\n",
      "size =  300\n",
      "\n"
     ]
    }
   ],
   "source": [
    "import numpy as np\n",
    "\n",
    "a3 = np.random.randint(0,256,(10,10,3),dtype=np.uint8)\n",
    "array_properties(a3)"
   ]
  },
  {
   "cell_type": "code",
   "execution_count": 169,
   "metadata": {},
   "outputs": [
    {
     "name": "stdout",
     "output_type": "stream",
     "text": [
      "a = \n",
      " [[130 227  86 141 112  32 236 211 144 179]\n",
      " [155 223  26  62  30 111 158   6  85 113]\n",
      " [175 168  41 130 182 110 115 235  55 121]\n",
      " [234 242 244  21  77  98  67  66 101 117]\n",
      " [ 26 120 135  92 104 190  37 193 195 150]\n",
      " [ 73 225 158 239 128 163 253 206 154 231]\n",
      " [170  51 206 143  82 201  76  63 148 114]\n",
      " [ 44  41  64 178 194 153 214 129  16 218]\n",
      " [  0 102 131  44 202 116 232 216  99  12]\n",
      " [247 188  77 237 102 210 213 162  76 249]]\n",
      "dim =  2\n",
      "shape =  (10, 10)\n",
      "datatype =  uint8\n",
      "size =  100\n",
      "\n"
     ]
    }
   ],
   "source": [
    "b = a3[:,:,0]\n",
    "array_properties(b)"
   ]
  },
  {
   "cell_type": "code",
   "execution_count": 170,
   "metadata": {},
   "outputs": [
    {
     "name": "stdout",
     "output_type": "stream",
     "text": [
      "a = \n",
      " [[ 51 225 186 232  99 126 113 129  97  55]\n",
      " [168 225 195 100 249 255 124  74  13 145]\n",
      " [185 184 249  57 194 208  54 144  79  82]\n",
      " [ 63 103 239  13   0  32  37  17  68 138]\n",
      " [107 120 117  81 119 250  15  64  24 117]\n",
      " [171 171 105 243 137   1  17 210  65  24]\n",
      " [175 131  71 227  33 116 165 130 154  57]\n",
      " [ 47 198  89 150  60 242 132 173 179 140]\n",
      " [ 74 240 217   9 203  12 151 105 136  69]\n",
      " [ 64 120 199 232 185 186  45 217  16 189]]\n",
      "dim =  2\n",
      "shape =  (10, 10)\n",
      "datatype =  uint8\n",
      "size =  100\n",
      "\n"
     ]
    }
   ],
   "source": [
    "g = a3[:,:,1]\n",
    "array_properties(g)"
   ]
  },
  {
   "cell_type": "code",
   "execution_count": 171,
   "metadata": {},
   "outputs": [
    {
     "name": "stdout",
     "output_type": "stream",
     "text": [
      "a = \n",
      " [[ 97 100 248 255  34  50 243  15 154  38]\n",
      " [ 61 114 234 125  52  12   5 139  28 114]\n",
      " [ 71  21  19  83  32   8 250 197  38  64]\n",
      " [ 94 185 239  93 184 135  88  57 130 125]\n",
      " [190 141 208   1 158  90 119  87 216 143]\n",
      " [ 72 113  16 165 203 215 215  82  46 107]\n",
      " [130 194 220  95 255 246 111 178 228 120]\n",
      " [189 145 173 146 209   7 252 222 104 112]\n",
      " [128 126 216 117 107  87 227  95 107 219]\n",
      " [ 95 154 104 249  37  84 144 128 140   9]]\n",
      "dim =  2\n",
      "shape =  (10, 10)\n",
      "datatype =  uint8\n",
      "size =  100\n",
      "\n"
     ]
    }
   ],
   "source": [
    "r = a3[:,:,2]\n",
    "array_properties(r)"
   ]
  },
  {
   "cell_type": "markdown",
   "metadata": {},
   "source": [
    "### Ravel"
   ]
  },
  {
   "cell_type": "code",
   "execution_count": 172,
   "metadata": {},
   "outputs": [
    {
     "name": "stdout",
     "output_type": "stream",
     "text": [
      "a = \n",
      " [130  51  97 227 225 100  86 186 248 141 232 255 112  99  34  32 126  50\n",
      " 236 113 243 211 129  15 144  97 154 179  55  38 155 168  61 223 225 114\n",
      "  26 195 234  62 100 125  30 249  52 111 255  12 158 124   5   6  74 139\n",
      "  85  13  28 113 145 114 175 185  71 168 184  21  41 249  19 130  57  83\n",
      " 182 194  32 110 208   8 115  54 250 235 144 197  55  79  38 121  82  64\n",
      " 234  63  94 242 103 185 244 239 239  21  13  93  77   0 184  98  32 135\n",
      "  67  37  88  66  17  57 101  68 130 117 138 125  26 107 190 120 120 141\n",
      " 135 117 208  92  81   1 104 119 158 190 250  90  37  15 119 193  64  87\n",
      " 195  24 216 150 117 143  73 171  72 225 171 113 158 105  16 239 243 165\n",
      " 128 137 203 163   1 215 253  17 215 206 210  82 154  65  46 231  24 107\n",
      " 170 175 130  51 131 194 206  71 220 143 227  95  82  33 255 201 116 246\n",
      "  76 165 111  63 130 178 148 154 228 114  57 120  44  47 189  41 198 145\n",
      "  64  89 173 178 150 146 194  60 209 153 242   7 214 132 252 129 173 222\n",
      "  16 179 104 218 140 112   0  74 128 102 240 126 131 217 216  44   9 117\n",
      " 202 203 107 116  12  87 232 151 227 216 105  95  99 136 107  12  69 219\n",
      " 247  64  95 188 120 154  77 199 104 237 232 249 102 185  37 210 186  84\n",
      " 213  45 144 162 217 128  76  16 140 249 189   9]\n",
      "dim =  1\n",
      "shape =  (300,)\n",
      "datatype =  uint8\n",
      "size =  300\n",
      "\n"
     ]
    }
   ],
   "source": [
    "a3_rav = np.ravel(a3)\n",
    "\n",
    "array_properties(a3_rav)"
   ]
  },
  {
   "cell_type": "markdown",
   "metadata": {},
   "source": [
    "### Reshape"
   ]
  },
  {
   "cell_type": "code",
   "execution_count": 174,
   "metadata": {},
   "outputs": [
    {
     "name": "stdout",
     "output_type": "stream",
     "text": [
      "a = \n",
      " [[[130  51  97]\n",
      "  [227 225 100]\n",
      "  [ 86 186 248]\n",
      "  [141 232 255]\n",
      "  [112  99  34]\n",
      "  [ 32 126  50]\n",
      "  [236 113 243]\n",
      "  [211 129  15]\n",
      "  [144  97 154]\n",
      "  [179  55  38]]\n",
      "\n",
      " [[155 168  61]\n",
      "  [223 225 114]\n",
      "  [ 26 195 234]\n",
      "  [ 62 100 125]\n",
      "  [ 30 249  52]\n",
      "  [111 255  12]\n",
      "  [158 124   5]\n",
      "  [  6  74 139]\n",
      "  [ 85  13  28]\n",
      "  [113 145 114]]\n",
      "\n",
      " [[175 185  71]\n",
      "  [168 184  21]\n",
      "  [ 41 249  19]\n",
      "  [130  57  83]\n",
      "  [182 194  32]\n",
      "  [110 208   8]\n",
      "  [115  54 250]\n",
      "  [235 144 197]\n",
      "  [ 55  79  38]\n",
      "  [121  82  64]]\n",
      "\n",
      " [[234  63  94]\n",
      "  [242 103 185]\n",
      "  [244 239 239]\n",
      "  [ 21  13  93]\n",
      "  [ 77   0 184]\n",
      "  [ 98  32 135]\n",
      "  [ 67  37  88]\n",
      "  [ 66  17  57]\n",
      "  [101  68 130]\n",
      "  [117 138 125]]\n",
      "\n",
      " [[ 26 107 190]\n",
      "  [120 120 141]\n",
      "  [135 117 208]\n",
      "  [ 92  81   1]\n",
      "  [104 119 158]\n",
      "  [190 250  90]\n",
      "  [ 37  15 119]\n",
      "  [193  64  87]\n",
      "  [195  24 216]\n",
      "  [150 117 143]]\n",
      "\n",
      " [[ 73 171  72]\n",
      "  [225 171 113]\n",
      "  [158 105  16]\n",
      "  [239 243 165]\n",
      "  [128 137 203]\n",
      "  [163   1 215]\n",
      "  [253  17 215]\n",
      "  [206 210  82]\n",
      "  [154  65  46]\n",
      "  [231  24 107]]\n",
      "\n",
      " [[170 175 130]\n",
      "  [ 51 131 194]\n",
      "  [206  71 220]\n",
      "  [143 227  95]\n",
      "  [ 82  33 255]\n",
      "  [201 116 246]\n",
      "  [ 76 165 111]\n",
      "  [ 63 130 178]\n",
      "  [148 154 228]\n",
      "  [114  57 120]]\n",
      "\n",
      " [[ 44  47 189]\n",
      "  [ 41 198 145]\n",
      "  [ 64  89 173]\n",
      "  [178 150 146]\n",
      "  [194  60 209]\n",
      "  [153 242   7]\n",
      "  [214 132 252]\n",
      "  [129 173 222]\n",
      "  [ 16 179 104]\n",
      "  [218 140 112]]\n",
      "\n",
      " [[  0  74 128]\n",
      "  [102 240 126]\n",
      "  [131 217 216]\n",
      "  [ 44   9 117]\n",
      "  [202 203 107]\n",
      "  [116  12  87]\n",
      "  [232 151 227]\n",
      "  [216 105  95]\n",
      "  [ 99 136 107]\n",
      "  [ 12  69 219]]\n",
      "\n",
      " [[247  64  95]\n",
      "  [188 120 154]\n",
      "  [ 77 199 104]\n",
      "  [237 232 249]\n",
      "  [102 185  37]\n",
      "  [210 186  84]\n",
      "  [213  45 144]\n",
      "  [162 217 128]\n",
      "  [ 76  16 140]\n",
      "  [249 189   9]]]\n",
      "dim =  3\n",
      "shape =  (10, 10, 3)\n",
      "datatype =  uint8\n",
      "size =  300\n",
      "\n"
     ]
    }
   ],
   "source": [
    "a3_shp = a3_rav.reshape(10,10,3)\n",
    "\n",
    "array_properties(a3_shp)"
   ]
  },
  {
   "cell_type": "code",
   "execution_count": 175,
   "metadata": {},
   "outputs": [
    {
     "name": "stdout",
     "output_type": "stream",
     "text": [
      "a = \n",
      " [[[130  51  97]\n",
      "  [227 225 100]\n",
      "  [ 86 186 248]\n",
      "  [141 232 255]\n",
      "  [112  99  34]\n",
      "  [ 32 126  50]\n",
      "  [236 113 243]\n",
      "  [211 129  15]\n",
      "  [144  97 154]\n",
      "  [179  55  38]]\n",
      "\n",
      " [[155 168  61]\n",
      "  [223 225 114]\n",
      "  [ 26 195 234]\n",
      "  [ 62 100 125]\n",
      "  [ 30 249  52]\n",
      "  [111 255  12]\n",
      "  [158 124   5]\n",
      "  [  6  74 139]\n",
      "  [ 85  13  28]\n",
      "  [113 145 114]]\n",
      "\n",
      " [[175 185  71]\n",
      "  [168 184  21]\n",
      "  [ 41 249  19]\n",
      "  [130  57  83]\n",
      "  [182 194  32]\n",
      "  [110 208   8]\n",
      "  [115  54 250]\n",
      "  [235 144 197]\n",
      "  [ 55  79  38]\n",
      "  [121  82  64]]\n",
      "\n",
      " [[234  63  94]\n",
      "  [242 103 185]\n",
      "  [244 239 239]\n",
      "  [ 21  13  93]\n",
      "  [ 77   0 184]\n",
      "  [ 98  32 135]\n",
      "  [ 67  37  88]\n",
      "  [ 66  17  57]\n",
      "  [101  68 130]\n",
      "  [117 138 125]]\n",
      "\n",
      " [[ 26 107 190]\n",
      "  [120 120 141]\n",
      "  [135 117 208]\n",
      "  [ 92  81   1]\n",
      "  [104 119 158]\n",
      "  [190 250  90]\n",
      "  [ 37  15 119]\n",
      "  [193  64  87]\n",
      "  [195  24 216]\n",
      "  [150 117 143]]\n",
      "\n",
      " [[ 73 171  72]\n",
      "  [225 171 113]\n",
      "  [158 105  16]\n",
      "  [239 243 165]\n",
      "  [128 137 203]\n",
      "  [163   1 215]\n",
      "  [253  17 215]\n",
      "  [206 210  82]\n",
      "  [154  65  46]\n",
      "  [231  24 107]]\n",
      "\n",
      " [[170 175 130]\n",
      "  [ 51 131 194]\n",
      "  [206  71 220]\n",
      "  [143 227  95]\n",
      "  [ 82  33 255]\n",
      "  [201 116 246]\n",
      "  [ 76 165 111]\n",
      "  [ 63 130 178]\n",
      "  [148 154 228]\n",
      "  [114  57 120]]\n",
      "\n",
      " [[ 44  47 189]\n",
      "  [ 41 198 145]\n",
      "  [ 64  89 173]\n",
      "  [178 150 146]\n",
      "  [194  60 209]\n",
      "  [153 242   7]\n",
      "  [214 132 252]\n",
      "  [129 173 222]\n",
      "  [ 16 179 104]\n",
      "  [218 140 112]]\n",
      "\n",
      " [[  0  74 128]\n",
      "  [102 240 126]\n",
      "  [131 217 216]\n",
      "  [ 44   9 117]\n",
      "  [202 203 107]\n",
      "  [116  12  87]\n",
      "  [232 151 227]\n",
      "  [216 105  95]\n",
      "  [ 99 136 107]\n",
      "  [ 12  69 219]]\n",
      "\n",
      " [[247  64  95]\n",
      "  [188 120 154]\n",
      "  [ 77 199 104]\n",
      "  [237 232 249]\n",
      "  [102 185  37]\n",
      "  [210 186  84]\n",
      "  [213  45 144]\n",
      "  [162 217 128]\n",
      "  [ 76  16 140]\n",
      "  [249 189   9]]]\n",
      "dim =  3\n",
      "shape =  (10, 10, 3)\n",
      "datatype =  uint8\n",
      "size =  300\n",
      "\n"
     ]
    }
   ],
   "source": [
    "a3_shp = a3_rav.reshape(10,-1,3)\n",
    "\n",
    "array_properties(a3_shp)"
   ]
  },
  {
   "cell_type": "code",
   "execution_count": 176,
   "metadata": {},
   "outputs": [
    {
     "name": "stdout",
     "output_type": "stream",
     "text": [
      "a = \n",
      " [[[130  51  97]\n",
      "  [227 225 100]\n",
      "  [ 86 186 248]\n",
      "  [141 232 255]\n",
      "  [112  99  34]\n",
      "  [ 32 126  50]\n",
      "  [236 113 243]\n",
      "  [211 129  15]\n",
      "  [144  97 154]\n",
      "  [179  55  38]]\n",
      "\n",
      " [[155 168  61]\n",
      "  [223 225 114]\n",
      "  [ 26 195 234]\n",
      "  [ 62 100 125]\n",
      "  [ 30 249  52]\n",
      "  [111 255  12]\n",
      "  [158 124   5]\n",
      "  [  6  74 139]\n",
      "  [ 85  13  28]\n",
      "  [113 145 114]]\n",
      "\n",
      " [[175 185  71]\n",
      "  [168 184  21]\n",
      "  [ 41 249  19]\n",
      "  [130  57  83]\n",
      "  [182 194  32]\n",
      "  [110 208   8]\n",
      "  [115  54 250]\n",
      "  [235 144 197]\n",
      "  [ 55  79  38]\n",
      "  [121  82  64]]\n",
      "\n",
      " [[234  63  94]\n",
      "  [242 103 185]\n",
      "  [244 239 239]\n",
      "  [ 21  13  93]\n",
      "  [ 77   0 184]\n",
      "  [ 98  32 135]\n",
      "  [ 67  37  88]\n",
      "  [ 66  17  57]\n",
      "  [101  68 130]\n",
      "  [117 138 125]]\n",
      "\n",
      " [[ 26 107 190]\n",
      "  [120 120 141]\n",
      "  [135 117 208]\n",
      "  [ 92  81   1]\n",
      "  [104 119 158]\n",
      "  [190 250  90]\n",
      "  [ 37  15 119]\n",
      "  [193  64  87]\n",
      "  [195  24 216]\n",
      "  [150 117 143]]\n",
      "\n",
      " [[ 73 171  72]\n",
      "  [225 171 113]\n",
      "  [158 105  16]\n",
      "  [239 243 165]\n",
      "  [128 137 203]\n",
      "  [163   1 215]\n",
      "  [253  17 215]\n",
      "  [206 210  82]\n",
      "  [154  65  46]\n",
      "  [231  24 107]]\n",
      "\n",
      " [[170 175 130]\n",
      "  [ 51 131 194]\n",
      "  [206  71 220]\n",
      "  [143 227  95]\n",
      "  [ 82  33 255]\n",
      "  [201 116 246]\n",
      "  [ 76 165 111]\n",
      "  [ 63 130 178]\n",
      "  [148 154 228]\n",
      "  [114  57 120]]\n",
      "\n",
      " [[ 44  47 189]\n",
      "  [ 41 198 145]\n",
      "  [ 64  89 173]\n",
      "  [178 150 146]\n",
      "  [194  60 209]\n",
      "  [153 242   7]\n",
      "  [214 132 252]\n",
      "  [129 173 222]\n",
      "  [ 16 179 104]\n",
      "  [218 140 112]]\n",
      "\n",
      " [[  0  74 128]\n",
      "  [102 240 126]\n",
      "  [131 217 216]\n",
      "  [ 44   9 117]\n",
      "  [202 203 107]\n",
      "  [116  12  87]\n",
      "  [232 151 227]\n",
      "  [216 105  95]\n",
      "  [ 99 136 107]\n",
      "  [ 12  69 219]]\n",
      "\n",
      " [[247  64  95]\n",
      "  [188 120 154]\n",
      "  [ 77 199 104]\n",
      "  [237 232 249]\n",
      "  [102 185  37]\n",
      "  [210 186  84]\n",
      "  [213  45 144]\n",
      "  [162 217 128]\n",
      "  [ 76  16 140]\n",
      "  [249 189   9]]]\n",
      "dim =  3\n",
      "shape =  (10, 10, 3)\n",
      "datatype =  uint8\n",
      "size =  300\n",
      "\n"
     ]
    }
   ],
   "source": [
    "a3_shp = a3_rav.reshape(-1,10,3)\n",
    "\n",
    "array_properties(a3_shp)"
   ]
  },
  {
   "cell_type": "markdown",
   "metadata": {},
   "source": [
    "## Stacking"
   ]
  },
  {
   "cell_type": "markdown",
   "metadata": {},
   "source": [
    "Joining array together is stacking. \n",
    "Array can be joined horizontally (attach to the right or left) or vertically (attach to the bottom ot top)"
   ]
  },
  {
   "cell_type": "code",
   "execution_count": 65,
   "metadata": {},
   "outputs": [
    {
     "name": "stdout",
     "output_type": "stream",
     "text": [
      "a = \n",
      " [[0.62709433 0.9079249  0.5563973  0.83991925]\n",
      " [0.05048796 0.80623485 0.93081569 0.36402958]\n",
      " [0.69094792 0.12931457 0.8326864  0.31835373]]\n",
      "dim =  2\n",
      "shape =  (3, 4)\n",
      "datatype =  float64\n",
      "size =  12\n",
      "\n"
     ]
    }
   ],
   "source": [
    "import numpy as np\n",
    "\n",
    "a21 = np.random.random((3,4))\n",
    "array_properties(a21)\n"
   ]
  },
  {
   "cell_type": "code",
   "execution_count": 66,
   "metadata": {},
   "outputs": [
    {
     "name": "stdout",
     "output_type": "stream",
     "text": [
      "a = \n",
      " [[0.73720226]\n",
      " [0.59676964]\n",
      " [0.36370684]]\n",
      "dim =  2\n",
      "shape =  (3, 1)\n",
      "datatype =  float64\n",
      "size =  3\n",
      "\n"
     ]
    }
   ],
   "source": [
    "\n",
    "a22 = np.random.random((3,1))\n",
    "array_properties(a22)\n"
   ]
  },
  {
   "cell_type": "code",
   "execution_count": 67,
   "metadata": {},
   "outputs": [
    {
     "name": "stdout",
     "output_type": "stream",
     "text": [
      "a = \n",
      " [[0.79497057 0.69848115 0.82187893 0.89946589]\n",
      " [0.8318993  0.90995772 0.97491359 0.65611959]]\n",
      "dim =  2\n",
      "shape =  (2, 4)\n",
      "datatype =  float64\n",
      "size =  8\n",
      "\n"
     ]
    }
   ],
   "source": [
    "\n",
    "a23 = np.random.random((2,4))\n",
    "array_properties(a23)\n"
   ]
  },
  {
   "cell_type": "code",
   "execution_count": 68,
   "metadata": {},
   "outputs": [
    {
     "name": "stdout",
     "output_type": "stream",
     "text": [
      "a21 (3, 4)\n",
      "a22 (3, 1)\n",
      "a23 (2, 4)\n"
     ]
    }
   ],
   "source": [
    "print('a21', a21.shape)\n",
    "print('a22', a22.shape)\n",
    "print('a23', a23.shape)\n"
   ]
  },
  {
   "cell_type": "code",
   "execution_count": 69,
   "metadata": {},
   "outputs": [
    {
     "name": "stdout",
     "output_type": "stream",
     "text": [
      "a21 (3, 4)\n",
      "a22 (3, 1)\n",
      "a = \n",
      " [[0.62709433 0.9079249  0.5563973  0.83991925 0.73720226]\n",
      " [0.05048796 0.80623485 0.93081569 0.36402958 0.59676964]\n",
      " [0.69094792 0.12931457 0.8326864  0.31835373 0.36370684]]\n",
      "dim =  2\n",
      "shape =  (3, 5)\n",
      "datatype =  float64\n",
      "size =  15\n",
      "\n"
     ]
    }
   ],
   "source": [
    "# both a21 and a22 have same number of rows or there dimension 1 is thesame(3)\n",
    "# threfore they can be horizontally joined.\n",
    "\n",
    "print('a21', a21.shape)\n",
    "print('a22', a22.shape)\n",
    "\n",
    "a2h = np.hstack((a21, a22))\n",
    "array_properties(a2h)"
   ]
  },
  {
   "cell_type": "code",
   "execution_count": 70,
   "metadata": {},
   "outputs": [
    {
     "name": "stdout",
     "output_type": "stream",
     "text": [
      "a21 (3, 4)\n",
      "a23 (2, 4)\n",
      "a = \n",
      " [[0.62709433 0.9079249  0.5563973  0.83991925]\n",
      " [0.05048796 0.80623485 0.93081569 0.36402958]\n",
      " [0.69094792 0.12931457 0.8326864  0.31835373]\n",
      " [0.79497057 0.69848115 0.82187893 0.89946589]\n",
      " [0.8318993  0.90995772 0.97491359 0.65611959]]\n",
      "dim =  2\n",
      "shape =  (5, 4)\n",
      "datatype =  float64\n",
      "size =  20\n",
      "\n"
     ]
    }
   ],
   "source": [
    "# both a21 and a23 have same number of columns or there dimension 2 is thesame(4)\n",
    "# threfore they can be vertically joined.\n",
    "\n",
    "print('a21', a21.shape)\n",
    "print('a23', a23.shape)\n",
    "\n",
    "a2v = np.vstack((a21, a23))\n",
    "array_properties(a2v)"
   ]
  },
  {
   "cell_type": "markdown",
   "metadata": {},
   "source": [
    "### `np.concatenate` alternative to hstack \n",
    "operates along axis=1"
   ]
  },
  {
   "cell_type": "code",
   "execution_count": 73,
   "metadata": {},
   "outputs": [
    {
     "name": "stdout",
     "output_type": "stream",
     "text": [
      "a21 (3, 4)\n",
      "a22 (3, 1)\n",
      "a = \n",
      " [[0.62709433 0.9079249  0.5563973  0.83991925 0.73720226]\n",
      " [0.05048796 0.80623485 0.93081569 0.36402958 0.59676964]\n",
      " [0.69094792 0.12931457 0.8326864  0.31835373 0.36370684]]\n",
      "dim =  2\n",
      "shape =  (3, 5)\n",
      "datatype =  float64\n",
      "size =  15\n",
      "\n"
     ]
    }
   ],
   "source": [
    "# alternative to hstack\n",
    "# oth a21 and a22 have same number of rows or there dimension 1 is thesame(3)\n",
    "# threfore they can be horizontally joined.\n",
    "\n",
    "print('a21', a21.shape)\n",
    "print('a22', a22.shape)\n",
    "\n",
    "a2h_a = np.concatenate((a21, a22), axis=1)\n",
    "array_properties(a2h_a)"
   ]
  },
  {
   "cell_type": "markdown",
   "metadata": {},
   "source": [
    "### `np.concatenate` alternative to vstack \n",
    "operates along axis=0 the default"
   ]
  },
  {
   "cell_type": "code",
   "execution_count": 74,
   "metadata": {},
   "outputs": [
    {
     "name": "stdout",
     "output_type": "stream",
     "text": [
      "a21 (3, 4)\n",
      "a23 (2, 4)\n",
      "a = \n",
      " [[0.62709433 0.9079249  0.5563973  0.83991925]\n",
      " [0.05048796 0.80623485 0.93081569 0.36402958]\n",
      " [0.69094792 0.12931457 0.8326864  0.31835373]\n",
      " [0.79497057 0.69848115 0.82187893 0.89946589]\n",
      " [0.8318993  0.90995772 0.97491359 0.65611959]]\n",
      "dim =  2\n",
      "shape =  (5, 4)\n",
      "datatype =  float64\n",
      "size =  20\n",
      "\n"
     ]
    }
   ],
   "source": [
    "# alternative to vstack\n",
    "# both a21 and a23 have same number of columns or there dimension 2 is thesame(4)\n",
    "# threfore they can be vertically joined.\n",
    "\n",
    "print('a21', a21.shape)\n",
    "print('a23', a23.shape)\n",
    "\n",
    "a2v_a = np.concatenate((a21, a23))\n",
    "array_properties(a2v_a)"
   ]
  },
  {
   "cell_type": "markdown",
   "metadata": {},
   "source": [
    "## Splitting"
   ]
  },
  {
   "cell_type": "code",
   "execution_count": 75,
   "metadata": {},
   "outputs": [
    {
     "name": "stdout",
     "output_type": "stream",
     "text": [
      "a = \n",
      " [ 0  1  2  3  4  5  6  7  8  9 10 11 12 13 14 15 16 17 18 19 20 21 22 23]\n",
      "dim =  1\n",
      "shape =  (24,)\n",
      "datatype =  int32\n",
      "size =  24\n",
      "\n",
      "[array([0, 1, 2, 3, 4, 5, 6, 7]), array([ 8,  9, 10, 11, 12, 13, 14, 15]), array([16, 17, 18, 19, 20, 21, 22, 23])]\n"
     ]
    }
   ],
   "source": [
    "# horizontal splitting\n",
    "\n",
    "a1 = np.arange(24) \n",
    "\n",
    "array_properties(a1)\n",
    "\n",
    "# split into 3 equal parts.\n",
    "# make sure the array can be splitted into 3 parts, that is multple of three.\n",
    "a1h = np.hsplit(a1,3)\n",
    "print(a1h)\n"
   ]
  },
  {
   "cell_type": "code",
   "execution_count": 77,
   "metadata": {},
   "outputs": [
    {
     "name": "stdout",
     "output_type": "stream",
     "text": [
      "[array([0, 1, 2, 3]), array([4, 5, 6, 7, 8, 9]), array([10, 11, 12, 13, 14, 15, 16, 17, 18, 19, 20, 21, 22, 23])]\n"
     ]
    }
   ],
   "source": [
    "# split into according to size or shape.\n",
    "# the shape take the number of items in each division.\n",
    "# if after the horizontal splitting has been done, the remaining elements are grouped into another array.\n",
    "\n",
    "a1e = np.hsplit(a1,(4,10))\n",
    "print(a1e)\n"
   ]
  },
  {
   "cell_type": "markdown",
   "metadata": {},
   "source": [
    "## 2D Splitting"
   ]
  },
  {
   "cell_type": "code",
   "execution_count": 78,
   "metadata": {},
   "outputs": [
    {
     "name": "stdout",
     "output_type": "stream",
     "text": [
      "a = \n",
      " [[ 0  1  2  3  4  5  6  7  8  9 10 11]\n",
      " [12 13 14 15 16 17 18 19 20 21 22 23]]\n",
      "dim =  2\n",
      "shape =  (2, 12)\n",
      "datatype =  int32\n",
      "size =  24\n",
      "\n",
      "[array([[ 0,  1,  2,  3],\n",
      "       [12, 13, 14, 15]]), array([[ 4,  5,  6,  7],\n",
      "       [16, 17, 18, 19]]), array([[ 8,  9, 10, 11],\n",
      "       [20, 21, 22, 23]])]\n",
      "\n",
      "[array([[ 0,  1,  2,  3],\n",
      "       [12, 13, 14, 15]]), array([[ 4,  5,  6,  7,  8,  9],\n",
      "       [16, 17, 18, 19, 20, 21]]), array([[10, 11],\n",
      "       [22, 23]])]\n"
     ]
    }
   ],
   "source": [
    "# 2D splitting\n",
    "\n",
    "a2 = np.arange(24).reshape(2,-1)\n",
    "\n",
    "array_properties(a2)\n",
    "\n",
    "a1h = np.hsplit(a2,3)\n",
    "print(a1h)\n",
    "\n",
    "print()\n",
    "a1e = np.hsplit(a2,(4,10))\n",
    "print(a1e)\n"
   ]
  },
  {
   "cell_type": "code",
   "execution_count": 79,
   "metadata": {},
   "outputs": [
    {
     "name": "stdout",
     "output_type": "stream",
     "text": [
      "a = \n",
      " [[ 0  1  2  3  4  5]\n",
      " [ 6  7  8  9 10 11]\n",
      " [12 13 14 15 16 17]\n",
      " [18 19 20 21 22 23]]\n",
      "dim =  2\n",
      "shape =  (4, 6)\n",
      "datatype =  int32\n",
      "size =  24\n",
      "\n",
      "[array([[ 0,  1,  2,  3,  4,  5],\n",
      "       [ 6,  7,  8,  9, 10, 11]]), array([[12, 13, 14, 15, 16, 17],\n",
      "       [18, 19, 20, 21, 22, 23]])]\n",
      "\n",
      "[array([[0, 1, 2, 3, 4, 5]]), array([[ 6,  7,  8,  9, 10, 11],\n",
      "       [12, 13, 14, 15, 16, 17]]), array([[18, 19, 20, 21, 22, 23]])]\n"
     ]
    }
   ],
   "source": [
    "# vertical splitting\n",
    "\n",
    "a2 = np.arange(24).reshape(4,-1)\n",
    "\n",
    "array_properties(a2)\n",
    "\n",
    "a1h = np.vsplit(a2,2)\n",
    "print(a1h)\n",
    "\n",
    "print()\n",
    "a1e = np.vsplit(a2,(1,3))\n",
    "print(a1e)\n"
   ]
  },
  {
   "cell_type": "code",
   "execution_count": 80,
   "metadata": {},
   "outputs": [
    {
     "data": {
      "text/plain": [
       "array([[0, 1, 2, 3, 4, 5]])"
      ]
     },
     "execution_count": 80,
     "metadata": {},
     "output_type": "execute_result"
    }
   ],
   "source": [
    "a1e[0]"
   ]
  },
  {
   "cell_type": "code",
   "execution_count": 82,
   "metadata": {},
   "outputs": [
    {
     "data": {
      "text/plain": [
       "array([[ 6,  7,  8,  9, 10, 11],\n",
       "       [12, 13, 14, 15, 16, 17]])"
      ]
     },
     "execution_count": 82,
     "metadata": {},
     "output_type": "execute_result"
    }
   ],
   "source": [
    "a1e[1]"
   ]
  },
  {
   "cell_type": "markdown",
   "metadata": {},
   "source": [
    "## Saving and reading numpy data\n"
   ]
  },
  {
   "cell_type": "code",
   "execution_count": 219,
   "metadata": {},
   "outputs": [],
   "source": [
    "import numpy as np\n",
    "\n",
    "img1 = np.random.randint(0,256,(10,10,3),dtype='uint8')\n",
    "img2 = np.random.randint(0,256,(10,10,3),dtype='uint8')\n",
    "img3 = np.random.randint(0,256,(10,10,3),dtype='uint8')\n",
    "\n",
    "dataset = [img1, img2, img3]\n",
    "dataLabel = ['img1', 'img2', 'img3']\n"
   ]
  },
  {
   "cell_type": "code",
   "execution_count": 220,
   "metadata": {},
   "outputs": [],
   "source": [
    "np.savez_compressed('dataset.npz', images=dataset, labels=dataLabel)"
   ]
  },
  {
   "cell_type": "code",
   "execution_count": 224,
   "metadata": {},
   "outputs": [
    {
     "data": {
      "image/png": "[encoded data removed]",
      "text/plain": [
       "<Figure size 720x576 with 3 Axes>"
      ]
     },
     "metadata": {
      "needs_background": "light"
     },
     "output_type": "display_data"
    }
   ],
   "source": [
    "import matplotlib.pyplot as plt\n",
    "\n",
    "plt.figure(figsize=(10,8))\n",
    "plt.subplot(1,3,1)\n",
    "plt.imshow(img1)\n",
    "plt.subplot(1,3,2)\n",
    "plt.imshow(img2)\n",
    "plt.subplot(1,3,3)\n",
    "plt.imshow(img3)\n",
    "\n",
    "plt.show()"
   ]
  },
  {
   "cell_type": "code",
   "execution_count": 226,
   "metadata": {},
   "outputs": [
    {
     "name": "stdout",
     "output_type": "stream",
     "text": [
      "3\n",
      "3\n"
     ]
    }
   ],
   "source": [
    "data = np.load('dataset.npz')\n",
    "\n",
    "imgs = data['images']\n",
    "labels = data['labels']\n",
    "print(len(imgs))\n",
    "print(len(labels))\n"
   ]
  },
  {
   "cell_type": "code",
   "execution_count": 227,
   "metadata": {},
   "outputs": [
    {
     "data": {
      "image/png": "[encoded data removed]",
      "text/plain": [
       "<Figure size 720x576 with 3 Axes>"
      ]
     },
     "metadata": {
      "needs_background": "light"
     },
     "output_type": "display_data"
    }
   ],
   "source": [
    "import matplotlib.pyplot as plt\n",
    "\n",
    "plt.figure(figsize=(10,8))\n",
    "plt.subplot(1,3,1)\n",
    "plt.imshow(imgs[0])\n",
    "plt.subplot(1,3,2)\n",
    "plt.imshow(imgs[1])\n",
    "plt.subplot(1,3,3)\n",
    "plt.imshow(imgs[2])\n",
    "\n",
    "plt.show()"
   ]
  },
  {
   "cell_type": "markdown",
   "metadata": {},
   "source": []
  }
 ],
 "metadata": {
  "interpreter": {
   "hash": "6f7c4d44365b28014734406e4d617c1e1f76ea196def854c7b951a230f6e24f1"
  },
  "kernelspec": {
   "display_name": "Python 3.9.5 64-bit",
   "name": "python3"
  },
  "language_info": {
   "codemirror_mode": {
    "name": "ipython",
    "version": 3
   },
   "file_extension": ".py",
   "mimetype": "text/x-python",
   "name": "python",
   "nbconvert_exporter": "python",
   "pygments_lexer": "ipython3",
   "version": "3.9.5"
  },
  "orig_nbformat": 4
 },
 "nbformat": 4,
 "nbformat_minor": 2
}
