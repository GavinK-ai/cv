{
 "cells": [
  {
   "cell_type": "code",
   "execution_count": null,
   "metadata": {},
   "outputs": [],
   "source": []
  },
  {
   "cell_type": "markdown",
   "metadata": {},
   "source": [
    "# Assignment\n",
    "\n",
    "1. Apply the following threshold method to image ca[.ext].\n",
    "- Binary inverse\n",
    "- Truncate\n",
    "- Tozero\n",
    "- Tozero inverse\n",
    "\n",
    "2. Apply the two adaptive threshold method to image ca[.ext].\n",
    "3. Apply the bilateral filter before applying the two adaptive threshold method to image ca[.ext].\n"
   ]
  },
  {
   "cell_type": "markdown",
   "metadata": {},
   "source": []
  }
 ],
 "metadata": {
  "language_info": {
   "name": "python"
  },
  "orig_nbformat": 4
 },
 "nbformat": 4,
 "nbformat_minor": 2
}
