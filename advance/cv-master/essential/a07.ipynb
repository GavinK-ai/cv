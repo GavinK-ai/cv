{
 "cells": [
  {
   "cell_type": "markdown",
   "metadata": {},
   "source": [
    "# Assignment \n",
    "\n",
    "1. Create a 3D data of shape 10x5x3 with values equal zero.  \n",
    "2. Create another array woth values 255 and shape 10x5x3.\n",
    "3. Join the 2 array horizontally\n",
    "4. Create an array of random unsigned integer 8 bits with shape (50x50x3)\n",
    "5. Convert the array from question 4, top part to red and bottom part to green \n",
    "6. Seed value is 11\n",
    "7. Display or show each data"
   ]
  },
  {
   "cell_type": "code",
   "execution_count": null,
   "metadata": {},
   "outputs": [],
   "source": []
  }
 ],
 "metadata": {
  "language_info": {
   "name": "python"
  },
  "orig_nbformat": 4
 },
 "nbformat": 4,
 "nbformat_minor": 2
}
