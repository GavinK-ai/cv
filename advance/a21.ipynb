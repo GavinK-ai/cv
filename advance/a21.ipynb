{
 "cells": [
  {
   "cell_type": "code",
   "execution_count": null,
   "metadata": {},
   "outputs": [],
   "source": []
  },
  {
   "cell_type": "markdown",
   "metadata": {},
   "source": [
    "# Assignment\n",
    "\n",
    "Using visual studio code (or alternative) develop the codes in separate .py file for the questions below:\n",
    "(put the files in my_project folder)\n",
    "\n",
    "1. Use the python interpreter to solve the following system of linear equation.   \n",
    "$$\n",
    "2x + y + z = 2 \\\\ \n",
    "x + y = 2 \\\\ \n",
    "y - 3z = 1\n",
    "$$\n",
    "\n",
    "2.  Read and display an image using opencv. "
   ]
  },
  {
   "cell_type": "markdown",
   "metadata": {},
   "source": []
  }
 ],
 "metadata": {
  "language_info": {
   "name": "python"
  },
  "orig_nbformat": 4
 },
 "nbformat": 4,
 "nbformat_minor": 2
}
