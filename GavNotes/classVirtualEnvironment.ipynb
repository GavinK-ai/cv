{
 "cells": [
  {
   "cell_type": "markdown",
   "metadata": {},
   "source": [
    "##using virtual environment\n",
    "##for the packages to not change and effect the current project"
   ]
  },
  {
   "cell_type": "markdown",
   "metadata": {},
   "source": [
    "#in terminal\n",
    "#create new environment\n",
    "##\n",
    "python -m venv env"
   ]
  },
  {
   "cell_type": "markdown",
   "metadata": {},
   "source": [
    "#activating virtual environment\n",
    "##\n",
    "cv-env\\Scripts\\activate\n",
    "##"
   ]
  },
  {
   "cell_type": "code",
   "execution_count": null,
   "metadata": {},
   "outputs": [],
   "source": []
  },
  {
   "cell_type": "code",
   "execution_count": null,
   "metadata": {},
   "outputs": [],
   "source": []
  }
 ],
 "metadata": {
  "language_info": {
   "name": "python"
  },
  "orig_nbformat": 4
 },
 "nbformat": 4,
 "nbformat_minor": 2
}
