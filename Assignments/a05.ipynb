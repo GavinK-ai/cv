{
 "cells": [
  {
   "cell_type": "markdown",
   "metadata": {},
   "source": [
    "# Assignment\n",
    "\n",
    "1. Create an array of shape (10, 10) with uint8 random values.\n",
    "2. print the shape, size and dimension, \n",
    "3. Compute the sum of the third row to the last.\n",
    "4. Compute the average of the columns"
   ]
  },
  {
   "cell_type": "code",
   "execution_count": 1,
   "metadata": {},
   "outputs": [],
   "source": [
    "# 1. Create an array of shape (10,10) with uint8 random values\n"
   ]
  },
  {
   "cell_type": "code",
   "execution_count": 3,
   "metadata": {},
   "outputs": [
    {
     "data": {
      "text/plain": [
       "array([[141, 136, 184,  22, 217, 170,  95, 132, 122, 142],\n",
       "       [127, 177,  40,   6, 128, 245, 192,  69, 244, 152],\n",
       "       [105, 118, 139, 134, 118, 197, 170, 140, 194, 245],\n",
       "       [248,  21, 178, 164, 234,  26, 101,  95,  26,  99],\n",
       "       [238,  53, 153,  20, 103, 175, 208,  76, 204,  22],\n",
       "       [ 90, 193, 130,  88, 202,  84, 127, 189, 123, 217],\n",
       "       [113,  60, 117,  30, 244, 109, 226, 142,  70, 156],\n",
       "       [  3, 156,  53, 109,  87, 190,  83,  10, 213, 143],\n",
       "       [ 78, 133, 134, 104,  53, 104, 126, 166, 138, 131],\n",
       "       [207, 131, 158, 222, 247, 167, 239, 213, 192, 198]], dtype=uint8)"
      ]
     },
     "execution_count": 3,
     "metadata": {},
     "output_type": "execute_result"
    }
   ],
   "source": [
    "import numpy as np\n",
    "ar10x10 = np.random.randint(0, 255, (10, 10), dtype='uint8')\n",
    "ar10x10\n"
   ]
  },
  {
   "cell_type": "code",
   "execution_count": 8,
   "metadata": {},
   "outputs": [
    {
     "data": {
      "text/plain": [
       "(10, 10)"
      ]
     },
     "execution_count": 8,
     "metadata": {},
     "output_type": "execute_result"
    }
   ],
   "source": [
    "# 2. print the shape, size and dimension\n",
    "shape = ar10x10.shape\n",
    "shape\n"
   ]
  },
  {
   "cell_type": "code",
   "execution_count": 9,
   "metadata": {},
   "outputs": [
    {
     "data": {
      "text/plain": [
       "100"
      ]
     },
     "execution_count": 9,
     "metadata": {},
     "output_type": "execute_result"
    }
   ],
   "source": [
    "size = ar10x10.size\n",
    "size\n"
   ]
  },
  {
   "cell_type": "code",
   "execution_count": 10,
   "metadata": {},
   "outputs": [
    {
     "data": {
      "text/plain": [
       "2"
      ]
     },
     "execution_count": 10,
     "metadata": {},
     "output_type": "execute_result"
    }
   ],
   "source": [
    "ndim = ar10x10.ndim\n",
    "ndim\n"
   ]
  },
  {
   "cell_type": "code",
   "execution_count": 14,
   "metadata": {},
   "outputs": [
    {
     "name": "stdout",
     "output_type": "stream",
     "text": [
      "Shape is (10, 10)\n",
      "Size is 100\n",
      "Dimension is 2\n"
     ]
    }
   ],
   "source": [
    "print(\"Shape is {0}\\nSize is {1}\\nDimension is {2}\".format(\n",
    "    shape, size, ndim))\n"
   ]
  },
  {
   "cell_type": "code",
   "execution_count": 15,
   "metadata": {},
   "outputs": [
    {
     "name": "stdout",
     "output_type": "stream",
     "text": [
      "Shape is (10, 10)\n",
      "Size is 100\n",
      "Dimension is 2\n"
     ]
    }
   ],
   "source": [
    "print(f\"Shape is {shape}\\nSize is {size}\\nDimension is {ndim}\")"
   ]
  },
  {
   "cell_type": "code",
   "execution_count": 16,
   "metadata": {},
   "outputs": [],
   "source": [
    "#3. compute the sum of third row to last"
   ]
  },
  {
   "cell_type": "code",
   "execution_count": 17,
   "metadata": {},
   "outputs": [
    {
     "data": {
      "text/plain": [
       "array([  3, 156,  53, 109,  87, 190,  83,  10, 213, 143], dtype=uint8)"
      ]
     },
     "execution_count": 17,
     "metadata": {},
     "output_type": "execute_result"
    }
   ],
   "source": [
    "row3fromlast = ar10x10[-3]\n",
    "row3fromlast"
   ]
  },
  {
   "cell_type": "code",
   "execution_count": 18,
   "metadata": {},
   "outputs": [
    {
     "data": {
      "text/plain": [
       "array([[248,  21, 178, 164, 234,  26, 101,  95,  26,  99],\n",
       "       [238,  53, 153,  20, 103, 175, 208,  76, 204,  22],\n",
       "       [ 90, 193, 130,  88, 202,  84, 127, 189, 123, 217],\n",
       "       [113,  60, 117,  30, 244, 109, 226, 142,  70, 156],\n",
       "       [  3, 156,  53, 109,  87, 190,  83,  10, 213, 143],\n",
       "       [ 78, 133, 134, 104,  53, 104, 126, 166, 138, 131],\n",
       "       [207, 131, 158, 222, 247, 167, 239, 213, 192, 198]], dtype=uint8)"
      ]
     },
     "execution_count": 18,
     "metadata": {},
     "output_type": "execute_result"
    }
   ],
   "source": [
    "row3tolast = ar10x10[3:]\n",
    "row3tolast"
   ]
  },
  {
   "cell_type": "code",
   "execution_count": null,
   "metadata": {},
   "outputs": [],
   "source": []
  }
 ],
 "metadata": {
  "interpreter": {
   "hash": "b5572384fec6d310c574784c4ff4f3df12c5eb2938d77a1833302b0cb155924f"
  },
  "kernelspec": {
   "display_name": "Python 3.9.8 64-bit",
   "language": "python",
   "name": "python3"
  },
  "language_info": {
   "codemirror_mode": {
    "name": "ipython",
    "version": 3
   },
   "file_extension": ".py",
   "mimetype": "text/x-python",
   "name": "python",
   "nbconvert_exporter": "python",
   "pygments_lexer": "ipython3",
   "version": "3.9.8"
  },
  "orig_nbformat": 4
 },
 "nbformat": 4,
 "nbformat_minor": 2
}
