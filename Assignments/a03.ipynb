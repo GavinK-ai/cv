{
 "cells": [
  {
   "cell_type": "markdown",
   "metadata": {},
   "source": [
    "# Assignment 3\n",
    "\n",
    "1.  Get an integer value from user (n). Calculate this series: S = 1+2+...+n\n",
    "\n",
    "2.  Print the S result\n",
    "    Example: n=4, S=10 (1+2+3+4=10) // n=0, S=0 // n=1, S=1\n",
    "\n",
    "3.  Write this program with both while and for instructions"
   ]
  },
  {
   "cell_type": "code",
   "execution_count": 39,
   "metadata": {},
   "outputs": [],
   "source": [
    "n=int(input(\"Enter an integer:\"))"
   ]
  },
  {
   "cell_type": "code",
   "execution_count": 40,
   "metadata": {},
   "outputs": [
    {
     "name": "stdout",
     "output_type": "stream",
     "text": [
      "Sum for first 10 in for loop series is 55\n"
     ]
    }
   ],
   "source": [
    "lsFor = []\n",
    "\n",
    "for i in range(n+1):\n",
    "    lsFor.append(i)\n",
    "    totalFor = sum(lsFor)\n",
    "    \n",
    "print(lsFor)   \n",
    "print(f\"Sum for first {n} in for loop series is {totalFor}\")"
   ]
  },
  {
   "cell_type": "code",
   "execution_count": 41,
   "metadata": {},
   "outputs": [],
   "source": [
    "m=int(input(\"Enter an integer:\"))"
   ]
  },
  {
   "cell_type": "code",
   "execution_count": 42,
   "metadata": {},
   "outputs": [
    {
     "name": "stdout",
     "output_type": "stream",
     "text": [
      "[0, 1, 2, 3, 4, 5, 6, 7, 8, 9, 10]\n",
      "Sum for first 10 in while loop series is 55\n"
     ]
    }
   ],
   "source": [
    "lsWhile = []\n",
    "\n",
    "j=0\n",
    "\n",
    "while j <= m:\n",
    "    lsWhile.append(j)\n",
    "    totalWhile = sum(lsWhile)\n",
    "    j+=1\n",
    "\n",
    "print(lsWhile)   \n",
    "print(f\"Sum for first {m} in while loop series is {totalWhile}\")\n",
    "\n"
   ]
  },
  {
   "cell_type": "markdown",
   "metadata": {},
   "source": [
    "# Class Activities\n",
    "\n",
    "## Activity 1-List\n",
    "1. Define list of food\n",
    "2. Print the list\n",
    "3. Print from the last item to the first\n",
    "4. Add \"Rice\" to the list\n",
    "5. Index of Rice\n",
    "6. Sort list\n",
    "7. Number of occurance\n",
    "8. Clear the list\n",
    "\n"
   ]
  },
  {
   "cell_type": "code",
   "execution_count": 75,
   "metadata": {},
   "outputs": [
    {
     "name": "stdout",
     "output_type": "stream",
     "text": [
      "['pizza', 'ramyeon', 'sushi', 'nasi goreng', 'mixed rice', 'maggi']\n"
     ]
    }
   ],
   "source": [
    "# Insert Food list\n",
    "food = ['pizza','ramyeon','sushi','nasi goreng','mixed rice','maggi']\n",
    "\n",
    "print(food)"
   ]
  },
  {
   "cell_type": "code",
   "execution_count": 81,
   "metadata": {},
   "outputs": [
    {
     "name": "stdout",
     "output_type": "stream",
     "text": [
      "maggi\n",
      "mixed rice\n",
      "nasi goreng\n",
      "sushi\n",
      "ramyeon\n",
      "pizza\n"
     ]
    }
   ],
   "source": [
    "for i in range(len(food)):\n",
    "\n",
    "    i+=1\n",
    "    print(food[-i])\n"
   ]
  },
  {
   "cell_type": "code",
   "execution_count": 146,
   "metadata": {},
   "outputs": [
    {
     "name": "stdout",
     "output_type": "stream",
     "text": [
      "['maggi', 'mixed rice', 'nasi goreng', 'pizza', 'ramyeon', 'rice', 'rice', 'sushi', 'maggi']\n"
     ]
    }
   ],
   "source": [
    "food.append('maggi')\n",
    "    \n",
    "print(food)\n"
   ]
  },
  {
   "cell_type": "code",
   "execution_count": 147,
   "metadata": {},
   "outputs": [
    {
     "data": {
      "text/plain": [
       "5"
      ]
     },
     "execution_count": 147,
     "metadata": {},
     "output_type": "execute_result"
    }
   ],
   "source": [
    "food.index('rice')"
   ]
  },
  {
   "cell_type": "code",
   "execution_count": 148,
   "metadata": {},
   "outputs": [
    {
     "data": {
      "text/plain": [
       "['maggi',\n",
       " 'maggi',\n",
       " 'mixed rice',\n",
       " 'nasi goreng',\n",
       " 'pizza',\n",
       " 'ramyeon',\n",
       " 'rice',\n",
       " 'rice',\n",
       " 'sushi']"
      ]
     },
     "execution_count": 148,
     "metadata": {},
     "output_type": "execute_result"
    }
   ],
   "source": [
    "food.sort()\n",
    "food"
   ]
  },
  {
   "cell_type": "code",
   "execution_count": 149,
   "metadata": {},
   "outputs": [],
   "source": [
    "lsFood = []\n",
    "\n",
    "for i in range(len(food)):\n",
    "\n",
    "    noOfFood = food.count(food[i])\n",
    "    lsFood.append(noOfFood)\n",
    "\n"
   ]
  },
  {
   "cell_type": "code",
   "execution_count": 150,
   "metadata": {},
   "outputs": [
    {
     "data": {
      "text/plain": [
       "['maggi',\n",
       " 'maggi',\n",
       " 'mixed rice',\n",
       " 'nasi goreng',\n",
       " 'pizza',\n",
       " 'ramyeon',\n",
       " 'rice',\n",
       " 'rice',\n",
       " 'sushi']"
      ]
     },
     "execution_count": 150,
     "metadata": {},
     "output_type": "execute_result"
    }
   ],
   "source": [
    "food"
   ]
  },
  {
   "cell_type": "code",
   "execution_count": 151,
   "metadata": {},
   "outputs": [
    {
     "data": {
      "text/plain": [
       "[2, 2, 1, 1, 1, 1, 2, 2, 1]"
      ]
     },
     "execution_count": 151,
     "metadata": {},
     "output_type": "execute_result"
    }
   ],
   "source": [
    "lsFood"
   ]
  },
  {
   "cell_type": "code",
   "execution_count": 153,
   "metadata": {},
   "outputs": [
    {
     "name": "stdout",
     "output_type": "stream",
     "text": [
      "Number of maggi occurance = 2\n",
      "Number of maggi occurance = 2\n",
      "Number of mixed rice occurance = 1\n",
      "Number of nasi goreng occurance = 1\n",
      "Number of pizza occurance = 1\n",
      "Number of ramyeon occurance = 1\n",
      "Number of rice occurance = 2\n",
      "Number of rice occurance = 2\n",
      "Number of sushi occurance = 1\n"
     ]
    }
   ],
   "source": [
    "for i in range (len(food)):\n",
    "    print(f\"Number of {food[i]} occurance = {lsFood[i]}\")"
   ]
  },
  {
   "cell_type": "code",
   "execution_count": 157,
   "metadata": {},
   "outputs": [
    {
     "name": "stdout",
     "output_type": "stream",
     "text": [
      "Number of maggi occurance is 2\n",
      "Number of mixed rice occurance is 1\n",
      "Number of nasi goreng occurance is 1\n",
      "Number of pizza occurance is 1\n",
      "Number of ramyeon occurance is 1\n",
      "Number of rice occurance is 2\n",
      "Number of sushi occurance is 1\n"
     ]
    }
   ],
   "source": [
    "zipTable = zip(food,lsFood)\n",
    "\n",
    "for(o,p)in dict(zipTable).items():\n",
    "    print(f\"Number of {o} occurance is {p}\")"
   ]
  },
  {
   "cell_type": "markdown",
   "metadata": {},
   "source": [
    "# Question 2 - Tuple and List\n",
    "\n",
    "1.  Enter siblings name\n",
    "\n",
    "2.  Print the tuple"
   ]
  },
  {
   "cell_type": "code",
   "execution_count": 160,
   "metadata": {},
   "outputs": [
    {
     "name": "stdout",
     "output_type": "stream",
     "text": [
      "['aa', 'bb']\n",
      "('aa', 'bb')\n"
     ]
    }
   ],
   "source": [
    "lsSiblings = []\n",
    "\n",
    "numSiblings =  int(input(\"Enter number of siblings:\"))\n",
    "\n",
    "for a in range(numSiblings):\n",
    "    name = input(\"Enter sibling name:\")\n",
    "    lsSiblings.append(name)\n",
    "\n",
    "print(lsSiblings)\n",
    "\n",
    "print(tuple(lsSiblings))"
   ]
  },
  {
   "cell_type": "markdown",
   "metadata": {},
   "source": [
    "# Question 3 - Sets\n",
    "\n",
    "1.  Define a set for all courses in your major (4)\n",
    "2.  Define courses that you pass\n",
    "3.  Find out which courses you haven't passed yet\n",
    "4.  Define a set of all courses you take\n",
    "5.  Find out the courses you take previously"
   ]
  },
  {
   "cell_type": "code",
   "execution_count": 161,
   "metadata": {},
   "outputs": [
    {
     "name": "stdout",
     "output_type": "stream",
     "text": [
      "All subjects: \n",
      " {'Matlab', 'Electricity', 'Optics', 'Statistics', 'Mechanics', 'Calculus', 'Management', 'Python', 'Philosophy', 'Math Method', 'Data Analysis', 'Ethics', 'Algebra'}\n",
      "\n",
      "Subjects not taken yet: \n",
      " {'Statistics', 'Python'}\n",
      "\n",
      "Subjects have taken: \n",
      " {'Matlab', 'Electricity', 'Optics', 'Mechanics', 'Calculus', 'Management', 'Philosophy', 'Math Method', 'Data Analysis', 'Ethics', 'Algebra'}\n"
     ]
    }
   ],
   "source": [
    "major = {'Python', 'Matlab', 'Statistics', 'Electricity'}\n",
    "passed = {'Mechanics', 'Algebra', 'Calculus', 'Data Analysis', 'Optics', 'Matlab'}\n",
    "failed = {'Math Method', 'Electricity'}\n",
    "\n",
    "# Note: Matlab passed in Major, Electricity failed in Major\n",
    "\n",
    "\n",
    "# 4. Define a set of all courses you take \n",
    "# add other taken courses that are not included above\n",
    "other = {'Management', 'Ethics', 'Philosophy'}\n",
    "all_course = major.union(passed, failed, other)\n",
    "print('All subjects: \\n', all_course)\n",
    "\n",
    "\n",
    "# 5. Find out the courses you take previously\n",
    "taken = all_course.difference(passed, failed, other)\n",
    "\n",
    "print('\\nSubjects not taken yet: \\n', taken)\n",
    "print('\\nSubjects have taken: \\n', all_course.difference(taken))"
   ]
  },
  {
   "cell_type": "markdown",
   "metadata": {},
   "source": [
    "## Question 4 - Dictionary\n",
    "\n",
    "1. Define a malay/english dict for numbers 0 to 5\n",
    "2. Take out the Malay words you defined in your dictionary\n",
    "3. Define a set of numbers from zero to ten\n",
    "4. Find out which numbers are not defined in your dictionary\n",
    "5. Ask from user input to add them to the dictionary"
   ]
  },
  {
   "cell_type": "code",
   "execution_count": 169,
   "metadata": {},
   "outputs": [
    {
     "name": "stdout",
     "output_type": "stream",
     "text": [
      "dict_keys(['satu', 'dua', 'tiga', 'empat', 'lima'])\n",
      "\n",
      "\n",
      "Please translate the missing numbers from the dictionary.\n",
      "The missing numbers are: \n",
      " ['enam', 'tujuh', 'lapan', 'sembilan', 'sepuluh'] \n",
      "\n",
      "\n",
      "Does the new added keys-values matches the full 1-10 dictionary?  True\n"
     ]
    }
   ],
   "source": [
    "# 1. Define a malay/english dict for numbers 0 to 5\n",
    "numbers = dict(satu = 'one', \n",
    "             dua = 'two', \n",
    "             tiga = 'three', \n",
    "             empat = 'four', \n",
    "             lima = 'five')\n",
    "\n",
    "# 2. Take out the Malay words you defined in your dictionary\n",
    "print(numbers.keys())\n",
    "\n",
    "# 3. Define a set of numbers from zero to ten \n",
    "numbers_full = dict(satu = 'one', dua = 'two', tiga = 'three', empat = 'four', lima = 'five',\n",
    "            enam = 'six', tujuh = 'seven', lapan = 'eight', sembilan = 'nine', sepuluh = 'ten')\n",
    "\n",
    "\n",
    "# 4. Find out which numbers are not defined in your dictionary\n",
    "numbers_full_ls = [i for i in numbers_full.keys()]\n",
    "numbers_ls = [i for i in numbers.keys()]\n",
    "missing_ls = [i for i in numbers_full_ls if i not in numbers_ls]\n",
    "\n",
    "\n",
    "# 5. Ask from user input to add them to the dictionary\n",
    "print('\\n\\nPlease translate the missing numbers from the dictionary.')\n",
    "print('The missing numbers are: \\n', missing_ls,'\\n')\n",
    "\n",
    "for i in range (len(missing_ls)):\n",
    "    new_key = missing_ls[i]\n",
    "    new_values = input(f'Translate \"{new_key}\" to English: ')\n",
    "    numbers[new_key] = new_values\n",
    "\n",
    "print('\\nDoes the new added keys-values matches the full 1-10 dictionary? ', numbers==numbers_full)\n"
   ]
  },
  {
   "cell_type": "code",
   "execution_count": null,
   "metadata": {},
   "outputs": [],
   "source": []
  }
 ],
 "metadata": {
  "interpreter": {
   "hash": "b5572384fec6d310c574784c4ff4f3df12c5eb2938d77a1833302b0cb155924f"
  },
  "kernelspec": {
   "display_name": "Python 3.9.8 64-bit",
   "language": "python",
   "name": "python3"
  },
  "language_info": {
   "codemirror_mode": {
    "name": "ipython",
    "version": 3
   },
   "file_extension": ".py",
   "mimetype": "text/x-python",
   "name": "python",
   "nbconvert_exporter": "python",
   "pygments_lexer": "ipython3",
   "version": "3.9.8"
  },
  "orig_nbformat": 4
 },
 "nbformat": 4,
 "nbformat_minor": 2
}
