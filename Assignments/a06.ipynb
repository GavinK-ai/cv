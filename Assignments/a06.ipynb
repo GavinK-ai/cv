{
 "cells": [
  {
   "cell_type": "markdown",
   "metadata": {},
   "source": [
    "# Assignment\n",
    "\n",
    "1. Create an array of shape (10, 10) with uint8 random values.\n",
    "2. print the shape, size and dimension, \n",
    "3. Compute the sum of the third row to the last.\n",
    "4. Compute the average of the columns"
   ]
  },
  {
   "cell_type": "code",
   "execution_count": 2,
   "metadata": {},
   "outputs": [],
   "source": [
    "# 1. Create an array of shape (10,10) with uint8 random values\n"
   ]
  },
  {
   "cell_type": "code",
   "execution_count": 3,
   "metadata": {},
   "outputs": [
    {
     "data": {
      "text/plain": [
       "array([[235, 249, 216, 249,  80, 122, 150, 147, 136,  24],\n",
       "       [182,  89, 233, 253, 244,  85, 184, 251, 175, 229],\n",
       "       [ 35,  94, 211,  10, 158, 160, 137,  31,  51,  38],\n",
       "       [ 73, 226, 247, 159,  83,   7, 235, 192, 124, 156],\n",
       "       [207, 228,  94,  39, 192, 150, 224, 149,  17,  84],\n",
       "       [ 73, 233,  96,  92,  85,  66, 186, 192, 219,   9],\n",
       "       [196,   3,  94,  30, 135, 228, 247,  65, 218, 141],\n",
       "       [192, 185, 205,  24,  63, 104, 229, 171, 110, 155],\n",
       "       [192, 157, 140, 171, 156, 225, 188, 140,  31,  67],\n",
       "       [224, 165,  79, 161,  17, 208,   9,  37, 164, 114]], dtype=uint8)"
      ]
     },
     "execution_count": 3,
     "metadata": {},
     "output_type": "execute_result"
    }
   ],
   "source": [
    "import numpy as np\n",
    "ar10x10 = np.random.randint(0, 255, (10, 10), dtype='uint8')\n",
    "ar10x10\n"
   ]
  },
  {
   "cell_type": "code",
   "execution_count": 4,
   "metadata": {},
   "outputs": [
    {
     "data": {
      "text/plain": [
       "(10, 10)"
      ]
     },
     "execution_count": 4,
     "metadata": {},
     "output_type": "execute_result"
    }
   ],
   "source": [
    "# 2. print the shape, size and dimension\n",
    "shape = ar10x10.shape\n",
    "shape\n"
   ]
  },
  {
   "cell_type": "code",
   "execution_count": 5,
   "metadata": {},
   "outputs": [
    {
     "data": {
      "text/plain": [
       "100"
      ]
     },
     "execution_count": 5,
     "metadata": {},
     "output_type": "execute_result"
    }
   ],
   "source": [
    "size = ar10x10.size\n",
    "size\n"
   ]
  },
  {
   "cell_type": "code",
   "execution_count": 6,
   "metadata": {},
   "outputs": [
    {
     "data": {
      "text/plain": [
       "2"
      ]
     },
     "execution_count": 6,
     "metadata": {},
     "output_type": "execute_result"
    }
   ],
   "source": [
    "ndim = ar10x10.ndim\n",
    "ndim\n"
   ]
  },
  {
   "cell_type": "code",
   "execution_count": 7,
   "metadata": {},
   "outputs": [
    {
     "name": "stdout",
     "output_type": "stream",
     "text": [
      "Shape is (10, 10)\n",
      "Size is 100\n",
      "Dimension is 2\n"
     ]
    }
   ],
   "source": [
    "print(\"Shape is {0}\\nSize is {1}\\nDimension is {2}\".format(\n",
    "    shape, size, ndim))\n"
   ]
  },
  {
   "cell_type": "code",
   "execution_count": 8,
   "metadata": {},
   "outputs": [
    {
     "name": "stdout",
     "output_type": "stream",
     "text": [
      "Shape is (10, 10)\n",
      "Size is 100\n",
      "Dimension is 2\n"
     ]
    }
   ],
   "source": [
    "print(f\"Shape is {shape}\\nSize is {size}\\nDimension is {ndim}\")"
   ]
  },
  {
   "cell_type": "code",
   "execution_count": 9,
   "metadata": {},
   "outputs": [],
   "source": [
    "#3. compute the sum of third row to last"
   ]
  },
  {
   "cell_type": "code",
   "execution_count": 10,
   "metadata": {},
   "outputs": [
    {
     "data": {
      "text/plain": [
       "array([192, 185, 205,  24,  63, 104, 229, 171, 110, 155], dtype=uint8)"
      ]
     },
     "execution_count": 10,
     "metadata": {},
     "output_type": "execute_result"
    }
   ],
   "source": [
    "row3fromlast = ar10x10[-3]\n",
    "row3fromlast"
   ]
  },
  {
   "cell_type": "code",
   "execution_count": 11,
   "metadata": {},
   "outputs": [
    {
     "data": {
      "text/plain": [
       "array([[ 73, 226, 247, 159,  83,   7, 235, 192, 124, 156],\n",
       "       [207, 228,  94,  39, 192, 150, 224, 149,  17,  84],\n",
       "       [ 73, 233,  96,  92,  85,  66, 186, 192, 219,   9],\n",
       "       [196,   3,  94,  30, 135, 228, 247,  65, 218, 141],\n",
       "       [192, 185, 205,  24,  63, 104, 229, 171, 110, 155],\n",
       "       [192, 157, 140, 171, 156, 225, 188, 140,  31,  67],\n",
       "       [224, 165,  79, 161,  17, 208,   9,  37, 164, 114]], dtype=uint8)"
      ]
     },
     "execution_count": 11,
     "metadata": {},
     "output_type": "execute_result"
    }
   ],
   "source": [
    "row3tolast = ar10x10[3:]\n",
    "row3tolast"
   ]
  },
  {
   "cell_type": "code",
   "execution_count": 12,
   "metadata": {},
   "outputs": [
    {
     "data": {
      "text/plain": [
       "array([160.9, 162.9, 161.5, 118.8, 121.3, 135.5, 178.9, 137.5, 124.5,\n",
       "       101.7])"
      ]
     },
     "execution_count": 12,
     "metadata": {},
     "output_type": "execute_result"
    }
   ],
   "source": [
    "ar10x10.mean(axis=0)"
   ]
  },
  {
   "cell_type": "code",
   "execution_count": 13,
   "metadata": {},
   "outputs": [
    {
     "data": {
      "text/plain": [
       "140.35"
      ]
     },
     "execution_count": 13,
     "metadata": {},
     "output_type": "execute_result"
    }
   ],
   "source": [
    "ar10x10.mean()"
   ]
  },
  {
   "cell_type": "code",
   "execution_count": null,
   "metadata": {},
   "outputs": [],
   "source": []
  }
 ],
 "metadata": {
  "interpreter": {
   "hash": "b5572384fec6d310c574784c4ff4f3df12c5eb2938d77a1833302b0cb155924f"
  },
  "kernelspec": {
   "display_name": "Python 3.9.8 64-bit",
   "language": "python",
   "name": "python3"
  },
  "language_info": {
   "codemirror_mode": {
    "name": "ipython",
    "version": 3
   },
   "file_extension": ".py",
   "mimetype": "text/x-python",
   "name": "python",
   "nbconvert_exporter": "python",
   "pygments_lexer": "ipython3",
   "version": "3.9.8"
  },
  "orig_nbformat": 4
 },
 "nbformat": 4,
 "nbformat_minor": 2
}
