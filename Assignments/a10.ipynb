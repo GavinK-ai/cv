{
 "cells": [
  {
   "cell_type": "code",
   "execution_count": 9,
   "metadata": {},
   "outputs": [
    {
     "name": "stdout",
     "output_type": "stream",
     "text": [
      "Shape: (640, 480, 3)\n",
      "Size: 921600\n",
      "Border row size: 64\n",
      "Border column size: 48\n"
     ]
    },
    {
     "data": {
      "text/plain": [
       "True"
      ]
     },
     "execution_count": 9,
     "metadata": {},
     "output_type": "execute_result"
    }
   ],
   "source": [
    "import cv2 as cv\n",
    "import sys\n",
    "\n",
    "filePath = 'assets/dog.png'\n",
    "img = cv.imread(filePath, cv.IMREAD_REDUCED_COLOR_2)\n",
    "\n",
    "if img is None:\n",
    "    sys.exit(\"Could not read the image.\")\n",
    "\n",
    "# Check image shape and size\n",
    "imgShape = img.shape\n",
    "imgSize = img.size\n",
    "\n",
    "print('Shape:', imgShape)\n",
    "print('Size:', imgSize)\n",
    "\n",
    "# Define border size\n",
    "bsize_row = int(imgShape[0]*0.1)\n",
    "bsize_col = int(imgShape[1]*0.1)\n",
    "\n",
    "# Define the centre of image\n",
    "middle_row = int(imgShape[0]/2)\n",
    "middle_col = int(imgShape[1]/2)\n",
    "\n",
    "print(f'Border row size: {bsize_row}\\nBorder column size: {bsize_col}')\n",
    "\n",
    "# To make the border equal in size\n",
    "if bsize_row < bsize_col: # Just change < or > if needed\n",
    "    bsize_col = bsize_row\n",
    "else:\n",
    "    bsize_row = bsize_col\n",
    "\n",
    "# Display before edit\n",
    "cv.imshow(\"Display window\", img)\n",
    "k = cv.waitKey(0)\n",
    "\n",
    "# Make a copy of the original image\n",
    "imgWithBorder = img.copy()\n",
    "\n",
    "# Color the border\n",
    "imgWithBorder[:bsize_row,:] = [244, 133, 66] # Top border\n",
    "imgWithBorder[:,-bsize_col:] = [88, 157, 15] # Right border\n",
    "imgWithBorder[-bsize_row:,:] = [0, 230, 230] # Bottom border\n",
    "imgWithBorder[bsize_row:,:bsize_col] = [55, 68, 219] # Left border\n",
    "\n",
    "# Middle square\n",
    "imgWithBorder[middle_row - bsize_row : middle_row + bsize_row, \n",
    "                middle_col - bsize_col : middle_col + bsize_col] = [0,255,255] \n",
    "\n",
    "\n",
    "# Display after edit\n",
    "cv.imshow('Image with border and square centre', imgWithBorder)\n",
    "cv.waitKey(0)\n",
    "\n",
    "# Save image\n",
    "cv.imwrite(\"assets/dog_bordered.png\", imgWithBorder)"
   ]
  },
  {
   "cell_type": "code",
   "execution_count": 10,
   "metadata": {},
   "outputs": [
    {
     "name": "stdout",
     "output_type": "stream",
     "text": [
      "Shape: (640, 480)\n",
      "Size: 307200\n",
      "Border row size: 64\n",
      "Border column size: 48\n"
     ]
    },
    {
     "data": {
      "text/plain": [
       "True"
      ]
     },
     "execution_count": 10,
     "metadata": {},
     "output_type": "execute_result"
    }
   ],
   "source": [
    "filePath = 'assets/dog.png'\n",
    "img = cv.imread(filePath, cv.IMREAD_REDUCED_GRAYSCALE_2)\n",
    "# Check image shape and size\n",
    "imgShape = img.shape\n",
    "imgSize = img.size\n",
    "\n",
    "print('Shape:', imgShape)\n",
    "print('Size:', imgSize)\n",
    "\n",
    "# Define border size\n",
    "bsize_row = int(imgShape[0]*0.1)\n",
    "bsize_col = int(imgShape[1]*0.1)\n",
    "\n",
    "print(f'Border row size: {bsize_row}\\nBorder column size: {bsize_col}')\n",
    "\n",
    "# To make the border equal in size\n",
    "if bsize_row < bsize_col: # Just change < or > if needed\n",
    "    bsize_col = bsize_row\n",
    "else:\n",
    "    bsize_row = bsize_col\n",
    "\n",
    "# Display before edit\n",
    "cv.imshow(\"Display window\", img)\n",
    "k = cv.waitKey(0)\n",
    "\n",
    "\n",
    "# Make a copy of the original image\n",
    "imgWithBorder = img.copy()\n",
    "\n",
    "# Color the corner\n",
    "imgWithBorder[:bsize_row,-bsize_col:] = 255 # Top right\n",
    "imgWithBorder[:bsize_row,:bsize_col] = 255 # Top left\n",
    "imgWithBorder[-bsize_row:,-bsize_col:] = 255 # Bottom right\n",
    "imgWithBorder[-bsize_row:,:bsize_col] = 255 # Bottom left\n",
    "\n",
    "# Display after edit\n",
    "cv.imshow('Grayed and white cornered image', imgWithBorder)\n",
    "cv.waitKey(0)\n",
    "\n",
    "# Save image\n",
    "cv.imwrite(\"assets/dog_grayed.png\", imgWithBorder)"
   ]
  }
 ],
 "metadata": {
  "interpreter": {
   "hash": "b5572384fec6d310c574784c4ff4f3df12c5eb2938d77a1833302b0cb155924f"
  },
  "kernelspec": {
   "display_name": "Python 3.9.8 64-bit",
   "language": "python",
   "name": "python3"
  },
  "language_info": {
   "codemirror_mode": {
    "name": "ipython",
    "version": 3
   },
   "file_extension": ".py",
   "mimetype": "text/x-python",
   "name": "python",
   "nbconvert_exporter": "python",
   "pygments_lexer": "ipython3",
   "version": "3.9.8"
  },
  "orig_nbformat": 4
 },
 "nbformat": 4,
 "nbformat_minor": 2
}
