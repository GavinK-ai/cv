{
 "cells": [
  {
   "cell_type": "markdown",
   "metadata": {},
   "source": [
    "# Assignment 2.1\n",
    "\n",
    "1. Collect the name, year of birth and salary of a user. Then output the following : \n",
    "\n",
    "-   \"Goodday {name}!, your year of birth is {year of birth} and your age in the year 2030 will be {Age}. From your salary of {salary} the computed tax of 12.3% is {tax}."
   ]
  },
  {
   "cell_type": "code",
   "execution_count": 3,
   "metadata": {},
   "outputs": [],
   "source": [
    "name=input(\"Please Enter Your Name:\")"
   ]
  },
  {
   "cell_type": "code",
   "execution_count": 4,
   "metadata": {},
   "outputs": [],
   "source": [
    "k=input(\"Enter Your Birthyear:\")\n",
    "yob=int(k)\n",
    "age=2021-yob"
   ]
  },
  {
   "cell_type": "code",
   "execution_count": 5,
   "metadata": {},
   "outputs": [],
   "source": [
    "slry=input(\"Enter Your Salary:\")\n",
    "salary=int(slry)"
   ]
  },
  {
   "cell_type": "code",
   "execution_count": 6,
   "metadata": {},
   "outputs": [
    {
     "name": "stdout",
     "output_type": "stream",
     "text": [
      "Your name is Gavin.\n",
      "Your age is 25 and your year of birth is 1996.Your age in 2030 will be 34.\n",
      "\n",
      "From yor salary of RM3000, the computed tax of 12.3% is RM369.00\n"
     ]
    }
   ],
   "source": [
    "print(f\"Your name is {name}.\\nYour age is {age} and your year of birth is {yob}.Your age in 2030 will be {2030-2021+age}.\\n\")\n",
    "print(f\"From yor salary of RM{salary}, the computed tax of 12.3% is RM{salary*0.123:.2f}\")"
   ]
  },
  {
   "cell_type": "markdown",
   "metadata": {},
   "source": []
  },
  {
   "cell_type": "markdown",
   "metadata": {},
   "source": [
    "# Assignment 2.1\n",
    "\n",
    "2. Collect a list of names and scores and find the average of the scores."
   ]
  },
  {
   "cell_type": "code",
   "execution_count": 18,
   "metadata": {},
   "outputs": [
    {
     "data": {
      "text/plain": [
       "(('Ali', 'Ben', 'Calli', 'Dan', 'Edwin'), (70, 75, 80, 88, 90))"
      ]
     },
     "execution_count": 18,
     "metadata": {},
     "output_type": "execute_result"
    }
   ],
   "source": [
    "name = (\"Ali\",\"Ben\",\"Calli\",\"Dan\",\"Edwin\")\n",
    "scores =(70,75,80,88,90)\n",
    "\n",
    "scoresTable = (name,scores)\n",
    "scoresTable"
   ]
  },
  {
   "cell_type": "code",
   "execution_count": 26,
   "metadata": {},
   "outputs": [
    {
     "data": {
      "text/plain": [
       "tuple"
      ]
     },
     "execution_count": 26,
     "metadata": {},
     "output_type": "execute_result"
    }
   ],
   "source": [
    "type(scoresTable[1])"
   ]
  },
  {
   "cell_type": "code",
   "execution_count": 25,
   "metadata": {},
   "outputs": [
    {
     "name": "stdout",
     "output_type": "stream",
     "text": [
      "The average score in 80.6\n"
     ]
    }
   ],
   "source": [
    "scoresAve = sum(scoresTable[1])/len(scores)\n",
    "print(f\"The average score in {scoresAve}\")"
   ]
  },
  {
   "cell_type": "markdown",
   "metadata": {},
   "source": [
    "# Assignment 2.3\n",
    "\n",
    "3.3. Use python to write an application letter for job to Perantis apply text wrap with line width of 50.  "
   ]
  },
  {
   "cell_type": "code",
   "execution_count": 31,
   "metadata": {},
   "outputs": [],
   "source": [
    "import textwrap\n",
    "\n",
    "sample_text = '''\n",
    "Greetings\n",
    "\n",
    "My name is Gavin and I wish to apply for the position of Computer Vision Engineer at Imagine AI.\n",
    "\n",
    "I have graduated from Universiti Malaysia Pahang with a Bachelor's Degree in Mechatronics Engineerring.\n",
    "I am current pursuing my Masters by research on a machine learning algorithm on collaborative robot vibration signals.\n",
    "\n",
    "I would like to talk to you in more details regarding the position and I hope to hear from you soon.\n",
    "'''\n",
    "receiverAdd = input(\"Enter Receiver Address:\")\n",
    "senderAdd = input(\"Enter Sender Address:\")\n",
    "receiverSalutations = input(\"Enter Receiver salution\")\n",
    "receiverNickName = input(\"Enter Receiver Nickname\")\n",
    "dateSend = input(\"Enter date:\")\n",
    "positionApplied =input (\"Enter Applied Position\")\n",
    "applicantName = input(\"Enter Applicant's Name\")\n",
    "applicantEmail = input(\"Enter Applicant's Email\")\n",
    "applicantPhNo = input (\"Enter Applicant's Phone Number\")\n"
   ]
  },
  {
   "cell_type": "code",
   "execution_count": 32,
   "metadata": {},
   "outputs": [
    {
     "name": "stdout",
     "output_type": "stream",
     "text": [
      "Imagine AI, Iskandar Puteri, Johor, Malaysia \n",
      "\n",
      "___________________________________________\n",
      "\n",
      "Seremban, NSDK, Malaysia\n",
      "\n",
      "Dear Mr Edwin \t\t\t 18.11.2021 \n",
      "\n",
      "\n",
      "Job Application for Computer Vision Engineer position\n",
      "\n",
      "\n",
      " Greetings  My name is Gavin and I wish to apply\n",
      "for the position of Computer Vision Engineer at\n",
      "Imagine AI.  I have graduated from Universiti\n",
      "Malaysia Pahang with a Bachelor's Degree in\n",
      "Mechatronics Engineerring. I am current pursuing\n",
      "my Masters by research on a machine learning\n",
      "algorithm on collaborative robot vibration\n",
      "signals.  I would like to talk to you in more\n",
      "details regarding the position and I hope to hear\n",
      "from you soon.\n",
      "\n",
      "Sincerely,\n",
      "\n",
      "Gavin Lim \n",
      "\n",
      "jiannkai@gmail.com\n",
      "0182739566\n"
     ]
    }
   ],
   "source": [
    "print(receiverAdd,\"\\n\")\n",
    "print(\"___________________________________________\\n\")\n",
    "print(senderAdd)\n",
    "print(\"\\nDear\",receiverSalutations,receiverNickName,\"\\t\\t\\t\",dateSend,\"\\n\\n\")\n",
    "\n",
    "print(\"Job Application for\", positionApplied, \"position\\n\\n\")\n",
    "print(textwrap.fill(sample_text,width=50))\n",
    "print(\"\\nSincerely,\\n\")\n",
    "print(applicantName,\"\\n\")\n",
    "print(applicantEmail)\n",
    "print(applicantPhNo)\n"
   ]
  }
 ],
 "metadata": {
  "interpreter": {
   "hash": "b5572384fec6d310c574784c4ff4f3df12c5eb2938d77a1833302b0cb155924f"
  },
  "kernelspec": {
   "display_name": "Python 3.9.8 64-bit",
   "language": "python",
   "name": "python3"
  },
  "language_info": {
   "codemirror_mode": {
    "name": "ipython",
    "version": 3
   },
   "file_extension": ".py",
   "mimetype": "text/x-python",
   "name": "python",
   "nbconvert_exporter": "python",
   "pygments_lexer": "ipython3",
   "version": "3.9.8"
  },
  "orig_nbformat": 4
 },
 "nbformat": 4,
 "nbformat_minor": 2
}
