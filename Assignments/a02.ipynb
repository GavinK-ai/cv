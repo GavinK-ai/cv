{
 "cells": [
  {
   "cell_type": "code",
   "execution_count": 13,
   "metadata": {},
   "outputs": [],
   "source": [
    "name=input(\"Please Enter Your Name:\")"
   ]
  },
  {
   "cell_type": "code",
   "execution_count": 14,
   "metadata": {},
   "outputs": [],
   "source": [
    "k=input(\"Enter Your Birthyear:\")\n",
    "yob=int(k)\n",
    "age=2021-yob"
   ]
  },
  {
   "cell_type": "code",
   "execution_count": 15,
   "metadata": {},
   "outputs": [],
   "source": [
    "slry=input(\"Enter Your Salary:\")\n",
    "salary=int(slry)"
   ]
  },
  {
   "cell_type": "code",
   "execution_count": 16,
   "metadata": {},
   "outputs": [
    {
     "name": "stdout",
     "output_type": "stream",
     "text": [
      "Your name is lim.\n",
      "Your age is 26 and your year of birth is 1995.Your age in 2030 will be 35.\n",
      "\n"
     ]
    }
   ],
   "source": [
    "print(f\"Your name is {name}.\\nYour age is {age} and your year of birth is {yob}.Your age in 2030 will be {2030-2021+age}.\\n\")"
   ]
  },
  {
   "cell_type": "code",
   "execution_count": 17,
   "metadata": {},
   "outputs": [
    {
     "name": "stdout",
     "output_type": "stream",
     "text": [
      "From yor salary of 2500, the computed tax of 12.3% is 307.50\n"
     ]
    }
   ],
   "source": [
    "print(f\"From yor salary of RM{salary}, the computed tax of 12.3% is RM{salary*0.123:.2f}\")"
   ]
  }
 ],
 "metadata": {
  "interpreter": {
   "hash": "b5572384fec6d310c574784c4ff4f3df12c5eb2938d77a1833302b0cb155924f"
  },
  "kernelspec": {
   "display_name": "Python 3.9.8 64-bit",
   "language": "python",
   "name": "python3"
  },
  "language_info": {
   "codemirror_mode": {
    "name": "ipython",
    "version": 3
   },
   "file_extension": ".py",
   "mimetype": "text/x-python",
   "name": "python",
   "nbconvert_exporter": "python",
   "pygments_lexer": "ipython3",
   "version": "3.9.8"
  },
  "orig_nbformat": 4
 },
 "nbformat": 4,
 "nbformat_minor": 2
}
